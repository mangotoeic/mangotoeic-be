{
 "metadata": {
  "language_info": {
   "codemirror_mode": {
    "name": "ipython",
    "version": 3
   },
   "file_extension": ".py",
   "mimetype": "text/x-python",
   "name": "python",
   "nbconvert_exporter": "python",
   "pygments_lexer": "ipython3",
   "version": "3.7.9-final"
  },
  "orig_nbformat": 2,
  "kernelspec": {
   "name": "python37964bitbigconda763582a213e34dc0ba9953047397ad13",
   "display_name": "Python 3.7.9 64-bit ('big': conda)"
  }
 },
 "nbformat": 4,
 "nbformat_minor": 2,
 "cells": [
  {
   "cell_type": "code",
   "execution_count": 1,
   "metadata": {},
   "outputs": [],
   "source": [
    "import pandas as pd"
   ]
  },
  {
   "cell_type": "code",
   "execution_count": 2,
   "metadata": {},
   "outputs": [],
   "source": [
    "df = pd.read_csv(\"./data/newreindex.csv\")"
   ]
  },
  {
   "cell_type": "code",
   "execution_count": 3,
   "metadata": {},
   "outputs": [
    {
     "output_type": "execute_result",
     "data": {
      "text/plain": [
       "         Unnamed: 0  user_id  content_id  answered_correctly\n",
       "0            203420        1           1                 0.5\n",
       "1            204974        1        1556                 0.0\n",
       "2            204975        1        1557                 0.0\n",
       "3            204976        1        1558                 0.0\n",
       "4            204977        1        1559                 0.0\n",
       "...             ...      ...         ...                 ...\n",
       "1137362    57082428      356        2118                 0.0\n",
       "1137363    57081698      356        1238                 1.0\n",
       "1137364    57080758      356         267                 1.0\n",
       "1137365    57080757      356         266                 0.0\n",
       "1137366    57081699      356        1239                 0.0\n",
       "\n",
       "[1137367 rows x 4 columns]"
      ],
      "text/html": "<div>\n<style scoped>\n    .dataframe tbody tr th:only-of-type {\n        vertical-align: middle;\n    }\n\n    .dataframe tbody tr th {\n        vertical-align: top;\n    }\n\n    .dataframe thead th {\n        text-align: right;\n    }\n</style>\n<table border=\"1\" class=\"dataframe\">\n  <thead>\n    <tr style=\"text-align: right;\">\n      <th></th>\n      <th>Unnamed: 0</th>\n      <th>user_id</th>\n      <th>content_id</th>\n      <th>answered_correctly</th>\n    </tr>\n  </thead>\n  <tbody>\n    <tr>\n      <th>0</th>\n      <td>203420</td>\n      <td>1</td>\n      <td>1</td>\n      <td>0.5</td>\n    </tr>\n    <tr>\n      <th>1</th>\n      <td>204974</td>\n      <td>1</td>\n      <td>1556</td>\n      <td>0.0</td>\n    </tr>\n    <tr>\n      <th>2</th>\n      <td>204975</td>\n      <td>1</td>\n      <td>1557</td>\n      <td>0.0</td>\n    </tr>\n    <tr>\n      <th>3</th>\n      <td>204976</td>\n      <td>1</td>\n      <td>1558</td>\n      <td>0.0</td>\n    </tr>\n    <tr>\n      <th>4</th>\n      <td>204977</td>\n      <td>1</td>\n      <td>1559</td>\n      <td>0.0</td>\n    </tr>\n    <tr>\n      <th>...</th>\n      <td>...</td>\n      <td>...</td>\n      <td>...</td>\n      <td>...</td>\n    </tr>\n    <tr>\n      <th>1137362</th>\n      <td>57082428</td>\n      <td>356</td>\n      <td>2118</td>\n      <td>0.0</td>\n    </tr>\n    <tr>\n      <th>1137363</th>\n      <td>57081698</td>\n      <td>356</td>\n      <td>1238</td>\n      <td>1.0</td>\n    </tr>\n    <tr>\n      <th>1137364</th>\n      <td>57080758</td>\n      <td>356</td>\n      <td>267</td>\n      <td>1.0</td>\n    </tr>\n    <tr>\n      <th>1137365</th>\n      <td>57080757</td>\n      <td>356</td>\n      <td>266</td>\n      <td>0.0</td>\n    </tr>\n    <tr>\n      <th>1137366</th>\n      <td>57081699</td>\n      <td>356</td>\n      <td>1239</td>\n      <td>0.0</td>\n    </tr>\n  </tbody>\n</table>\n<p>1137367 rows × 4 columns</p>\n</div>"
     },
     "metadata": {},
     "execution_count": 3
    }
   ],
   "source": [
    "df"
   ]
  },
  {
   "cell_type": "code",
   "execution_count": 4,
   "metadata": {},
   "outputs": [],
   "source": [
    "df2 = pd.read_csv(\"../corpus/data/problemcorpus.csv\")"
   ]
  },
  {
   "cell_type": "code",
   "execution_count": 5,
   "metadata": {},
   "outputs": [
    {
     "output_type": "execute_result",
     "data": {
      "text/plain": [
       "      CorId                                             corpus\n",
       "0         0  The assets of Marble Faun Publishing Company s...\n",
       "1         1  lndie film director Luke Steele will be in Lon...\n",
       "2         2  Laboratory employees are expected to wear a na...\n",
       "3         3  The latest training guide contains tips on tea...\n",
       "4         4  Once you have your resume with references and ...\n",
       "...     ...                                                ...\n",
       "3620   3620  All employees should back up crucial data befo...\n",
       "3621   3621  A label on each box should indicate the produc...\n",
       "3622   3622  Ms. Jha assured the client that she would deli...\n",
       "3623   3623  During negotiations, management appeared agree...\n",
       "3624   3624  Employees across several departments have been...\n",
       "\n",
       "[3625 rows x 2 columns]"
      ],
      "text/html": "<div>\n<style scoped>\n    .dataframe tbody tr th:only-of-type {\n        vertical-align: middle;\n    }\n\n    .dataframe tbody tr th {\n        vertical-align: top;\n    }\n\n    .dataframe thead th {\n        text-align: right;\n    }\n</style>\n<table border=\"1\" class=\"dataframe\">\n  <thead>\n    <tr style=\"text-align: right;\">\n      <th></th>\n      <th>CorId</th>\n      <th>corpus</th>\n    </tr>\n  </thead>\n  <tbody>\n    <tr>\n      <th>0</th>\n      <td>0</td>\n      <td>The assets of Marble Faun Publishing Company s...</td>\n    </tr>\n    <tr>\n      <th>1</th>\n      <td>1</td>\n      <td>lndie film director Luke Steele will be in Lon...</td>\n    </tr>\n    <tr>\n      <th>2</th>\n      <td>2</td>\n      <td>Laboratory employees are expected to wear a na...</td>\n    </tr>\n    <tr>\n      <th>3</th>\n      <td>3</td>\n      <td>The latest training guide contains tips on tea...</td>\n    </tr>\n    <tr>\n      <th>4</th>\n      <td>4</td>\n      <td>Once you have your resume with references and ...</td>\n    </tr>\n    <tr>\n      <th>...</th>\n      <td>...</td>\n      <td>...</td>\n    </tr>\n    <tr>\n      <th>3620</th>\n      <td>3620</td>\n      <td>All employees should back up crucial data befo...</td>\n    </tr>\n    <tr>\n      <th>3621</th>\n      <td>3621</td>\n      <td>A label on each box should indicate the produc...</td>\n    </tr>\n    <tr>\n      <th>3622</th>\n      <td>3622</td>\n      <td>Ms. Jha assured the client that she would deli...</td>\n    </tr>\n    <tr>\n      <th>3623</th>\n      <td>3623</td>\n      <td>During negotiations, management appeared agree...</td>\n    </tr>\n    <tr>\n      <th>3624</th>\n      <td>3624</td>\n      <td>Employees across several departments have been...</td>\n    </tr>\n  </tbody>\n</table>\n<p>3625 rows × 2 columns</p>\n</div>"
     },
     "metadata": {},
     "execution_count": 5
    }
   ],
   "source": [
    "df2"
   ]
  },
  {
   "cell_type": "code",
   "execution_count": 6,
   "metadata": {},
   "outputs": [],
   "source": [
    "df2['CorId']+=1"
   ]
  },
  {
   "cell_type": "code",
   "execution_count": 7,
   "metadata": {},
   "outputs": [
    {
     "output_type": "execute_result",
     "data": {
      "text/plain": [
       "      CorId                                             corpus\n",
       "0         1  The assets of Marble Faun Publishing Company s...\n",
       "1         2  lndie film director Luke Steele will be in Lon...\n",
       "2         3  Laboratory employees are expected to wear a na...\n",
       "3         4  The latest training guide contains tips on tea...\n",
       "4         5  Once you have your resume with references and ...\n",
       "...     ...                                                ...\n",
       "3620   3621  All employees should back up crucial data befo...\n",
       "3621   3622  A label on each box should indicate the produc...\n",
       "3622   3623  Ms. Jha assured the client that she would deli...\n",
       "3623   3624  During negotiations, management appeared agree...\n",
       "3624   3625  Employees across several departments have been...\n",
       "\n",
       "[3625 rows x 2 columns]"
      ],
      "text/html": "<div>\n<style scoped>\n    .dataframe tbody tr th:only-of-type {\n        vertical-align: middle;\n    }\n\n    .dataframe tbody tr th {\n        vertical-align: top;\n    }\n\n    .dataframe thead th {\n        text-align: right;\n    }\n</style>\n<table border=\"1\" class=\"dataframe\">\n  <thead>\n    <tr style=\"text-align: right;\">\n      <th></th>\n      <th>CorId</th>\n      <th>corpus</th>\n    </tr>\n  </thead>\n  <tbody>\n    <tr>\n      <th>0</th>\n      <td>1</td>\n      <td>The assets of Marble Faun Publishing Company s...</td>\n    </tr>\n    <tr>\n      <th>1</th>\n      <td>2</td>\n      <td>lndie film director Luke Steele will be in Lon...</td>\n    </tr>\n    <tr>\n      <th>2</th>\n      <td>3</td>\n      <td>Laboratory employees are expected to wear a na...</td>\n    </tr>\n    <tr>\n      <th>3</th>\n      <td>4</td>\n      <td>The latest training guide contains tips on tea...</td>\n    </tr>\n    <tr>\n      <th>4</th>\n      <td>5</td>\n      <td>Once you have your resume with references and ...</td>\n    </tr>\n    <tr>\n      <th>...</th>\n      <td>...</td>\n      <td>...</td>\n    </tr>\n    <tr>\n      <th>3620</th>\n      <td>3621</td>\n      <td>All employees should back up crucial data befo...</td>\n    </tr>\n    <tr>\n      <th>3621</th>\n      <td>3622</td>\n      <td>A label on each box should indicate the produc...</td>\n    </tr>\n    <tr>\n      <th>3622</th>\n      <td>3623</td>\n      <td>Ms. Jha assured the client that she would deli...</td>\n    </tr>\n    <tr>\n      <th>3623</th>\n      <td>3624</td>\n      <td>During negotiations, management appeared agree...</td>\n    </tr>\n    <tr>\n      <th>3624</th>\n      <td>3625</td>\n      <td>Employees across several departments have been...</td>\n    </tr>\n  </tbody>\n</table>\n<p>3625 rows × 2 columns</p>\n</div>"
     },
     "metadata": {},
     "execution_count": 7
    }
   ],
   "source": [
    "df2"
   ]
  },
  {
   "cell_type": "code",
   "execution_count": 8,
   "metadata": {},
   "outputs": [],
   "source": [
    "df3=df.merge(df2, left_on='content_id', right_on='CorId', how='outer')"
   ]
  },
  {
   "cell_type": "code",
   "execution_count": null,
   "metadata": {},
   "outputs": [],
   "source": []
  },
  {
   "cell_type": "code",
   "execution_count": 9,
   "metadata": {},
   "outputs": [
    {
     "output_type": "execute_result",
     "data": {
      "text/plain": [
       "         Unnamed: 0  user_id  content_id  answered_correctly  CorId  \\\n",
       "0          203420.0      1.0         1.0            0.500000      1   \n",
       "1          321577.0      2.0         1.0            1.000000      1   \n",
       "2         1073189.0      3.0         1.0            1.000000      1   \n",
       "3         1086443.0      4.0         1.0            0.750000      1   \n",
       "4         1764779.0      5.0         1.0            0.666667      1   \n",
       "...             ...      ...         ...                 ...    ...   \n",
       "1137413         NaN      NaN         NaN                 NaN   3621   \n",
       "1137414         NaN      NaN         NaN                 NaN   3622   \n",
       "1137415         NaN      NaN         NaN                 NaN   3623   \n",
       "1137416         NaN      NaN         NaN                 NaN   3624   \n",
       "1137417         NaN      NaN         NaN                 NaN   3625   \n",
       "\n",
       "                                                    corpus  \n",
       "0        The assets of Marble Faun Publishing Company s...  \n",
       "1        The assets of Marble Faun Publishing Company s...  \n",
       "2        The assets of Marble Faun Publishing Company s...  \n",
       "3        The assets of Marble Faun Publishing Company s...  \n",
       "4        The assets of Marble Faun Publishing Company s...  \n",
       "...                                                    ...  \n",
       "1137413  All employees should back up crucial data befo...  \n",
       "1137414  A label on each box should indicate the produc...  \n",
       "1137415  Ms. Jha assured the client that she would deli...  \n",
       "1137416  During negotiations, management appeared agree...  \n",
       "1137417  Employees across several departments have been...  \n",
       "\n",
       "[1137418 rows x 6 columns]"
      ],
      "text/html": "<div>\n<style scoped>\n    .dataframe tbody tr th:only-of-type {\n        vertical-align: middle;\n    }\n\n    .dataframe tbody tr th {\n        vertical-align: top;\n    }\n\n    .dataframe thead th {\n        text-align: right;\n    }\n</style>\n<table border=\"1\" class=\"dataframe\">\n  <thead>\n    <tr style=\"text-align: right;\">\n      <th></th>\n      <th>Unnamed: 0</th>\n      <th>user_id</th>\n      <th>content_id</th>\n      <th>answered_correctly</th>\n      <th>CorId</th>\n      <th>corpus</th>\n    </tr>\n  </thead>\n  <tbody>\n    <tr>\n      <th>0</th>\n      <td>203420.0</td>\n      <td>1.0</td>\n      <td>1.0</td>\n      <td>0.500000</td>\n      <td>1</td>\n      <td>The assets of Marble Faun Publishing Company s...</td>\n    </tr>\n    <tr>\n      <th>1</th>\n      <td>321577.0</td>\n      <td>2.0</td>\n      <td>1.0</td>\n      <td>1.000000</td>\n      <td>1</td>\n      <td>The assets of Marble Faun Publishing Company s...</td>\n    </tr>\n    <tr>\n      <th>2</th>\n      <td>1073189.0</td>\n      <td>3.0</td>\n      <td>1.0</td>\n      <td>1.000000</td>\n      <td>1</td>\n      <td>The assets of Marble Faun Publishing Company s...</td>\n    </tr>\n    <tr>\n      <th>3</th>\n      <td>1086443.0</td>\n      <td>4.0</td>\n      <td>1.0</td>\n      <td>0.750000</td>\n      <td>1</td>\n      <td>The assets of Marble Faun Publishing Company s...</td>\n    </tr>\n    <tr>\n      <th>4</th>\n      <td>1764779.0</td>\n      <td>5.0</td>\n      <td>1.0</td>\n      <td>0.666667</td>\n      <td>1</td>\n      <td>The assets of Marble Faun Publishing Company s...</td>\n    </tr>\n    <tr>\n      <th>...</th>\n      <td>...</td>\n      <td>...</td>\n      <td>...</td>\n      <td>...</td>\n      <td>...</td>\n      <td>...</td>\n    </tr>\n    <tr>\n      <th>1137413</th>\n      <td>NaN</td>\n      <td>NaN</td>\n      <td>NaN</td>\n      <td>NaN</td>\n      <td>3621</td>\n      <td>All employees should back up crucial data befo...</td>\n    </tr>\n    <tr>\n      <th>1137414</th>\n      <td>NaN</td>\n      <td>NaN</td>\n      <td>NaN</td>\n      <td>NaN</td>\n      <td>3622</td>\n      <td>A label on each box should indicate the produc...</td>\n    </tr>\n    <tr>\n      <th>1137415</th>\n      <td>NaN</td>\n      <td>NaN</td>\n      <td>NaN</td>\n      <td>NaN</td>\n      <td>3623</td>\n      <td>Ms. Jha assured the client that she would deli...</td>\n    </tr>\n    <tr>\n      <th>1137416</th>\n      <td>NaN</td>\n      <td>NaN</td>\n      <td>NaN</td>\n      <td>NaN</td>\n      <td>3624</td>\n      <td>During negotiations, management appeared agree...</td>\n    </tr>\n    <tr>\n      <th>1137417</th>\n      <td>NaN</td>\n      <td>NaN</td>\n      <td>NaN</td>\n      <td>NaN</td>\n      <td>3625</td>\n      <td>Employees across several departments have been...</td>\n    </tr>\n  </tbody>\n</table>\n<p>1137418 rows × 6 columns</p>\n</div>"
     },
     "metadata": {},
     "execution_count": 9
    }
   ],
   "source": [
    "df3"
   ]
  },
  {
   "cell_type": "code",
   "execution_count": 10,
   "metadata": {},
   "outputs": [
    {
     "output_type": "execute_result",
     "data": {
      "text/plain": [
       "         Unnamed: 0  user_id  content_id  answered_correctly  CorId  \\\n",
       "0          203420.0      1.0         1.0            0.500000      1   \n",
       "1          321577.0      2.0         1.0            1.000000      1   \n",
       "2         1073189.0      3.0         1.0            1.000000      1   \n",
       "3         1086443.0      4.0         1.0            0.750000      1   \n",
       "4         1764779.0      5.0         1.0            0.666667      1   \n",
       "...             ...      ...         ...                 ...    ...   \n",
       "1137362  48248104.0    290.0      3106.0           -0.333333   3106   \n",
       "1137363  48444037.0    294.0      3106.0            0.000000   3106   \n",
       "1137364  49987576.0    305.0      3106.0            0.000000   3106   \n",
       "1137365  51991540.0    320.0      3106.0            1.000000   3106   \n",
       "1137366  52369729.0    323.0      3106.0            1.000000   3106   \n",
       "\n",
       "                                                    corpus  \n",
       "0        The assets of Marble Faun Publishing Company s...  \n",
       "1        The assets of Marble Faun Publishing Company s...  \n",
       "2        The assets of Marble Faun Publishing Company s...  \n",
       "3        The assets of Marble Faun Publishing Company s...  \n",
       "4        The assets of Marble Faun Publishing Company s...  \n",
       "...                                                    ...  \n",
       "1137362  The production of tim ore in the United States...  \n",
       "1137363  The production of tim ore in the United States...  \n",
       "1137364  The production of tim ore in the United States...  \n",
       "1137365  The production of tim ore in the United States...  \n",
       "1137366  The production of tim ore in the United States...  \n",
       "\n",
       "[1137367 rows x 6 columns]"
      ],
      "text/html": "<div>\n<style scoped>\n    .dataframe tbody tr th:only-of-type {\n        vertical-align: middle;\n    }\n\n    .dataframe tbody tr th {\n        vertical-align: top;\n    }\n\n    .dataframe thead th {\n        text-align: right;\n    }\n</style>\n<table border=\"1\" class=\"dataframe\">\n  <thead>\n    <tr style=\"text-align: right;\">\n      <th></th>\n      <th>Unnamed: 0</th>\n      <th>user_id</th>\n      <th>content_id</th>\n      <th>answered_correctly</th>\n      <th>CorId</th>\n      <th>corpus</th>\n    </tr>\n  </thead>\n  <tbody>\n    <tr>\n      <th>0</th>\n      <td>203420.0</td>\n      <td>1.0</td>\n      <td>1.0</td>\n      <td>0.500000</td>\n      <td>1</td>\n      <td>The assets of Marble Faun Publishing Company s...</td>\n    </tr>\n    <tr>\n      <th>1</th>\n      <td>321577.0</td>\n      <td>2.0</td>\n      <td>1.0</td>\n      <td>1.000000</td>\n      <td>1</td>\n      <td>The assets of Marble Faun Publishing Company s...</td>\n    </tr>\n    <tr>\n      <th>2</th>\n      <td>1073189.0</td>\n      <td>3.0</td>\n      <td>1.0</td>\n      <td>1.000000</td>\n      <td>1</td>\n      <td>The assets of Marble Faun Publishing Company s...</td>\n    </tr>\n    <tr>\n      <th>3</th>\n      <td>1086443.0</td>\n      <td>4.0</td>\n      <td>1.0</td>\n      <td>0.750000</td>\n      <td>1</td>\n      <td>The assets of Marble Faun Publishing Company s...</td>\n    </tr>\n    <tr>\n      <th>4</th>\n      <td>1764779.0</td>\n      <td>5.0</td>\n      <td>1.0</td>\n      <td>0.666667</td>\n      <td>1</td>\n      <td>The assets of Marble Faun Publishing Company s...</td>\n    </tr>\n    <tr>\n      <th>...</th>\n      <td>...</td>\n      <td>...</td>\n      <td>...</td>\n      <td>...</td>\n      <td>...</td>\n      <td>...</td>\n    </tr>\n    <tr>\n      <th>1137362</th>\n      <td>48248104.0</td>\n      <td>290.0</td>\n      <td>3106.0</td>\n      <td>-0.333333</td>\n      <td>3106</td>\n      <td>The production of tim ore in the United States...</td>\n    </tr>\n    <tr>\n      <th>1137363</th>\n      <td>48444037.0</td>\n      <td>294.0</td>\n      <td>3106.0</td>\n      <td>0.000000</td>\n      <td>3106</td>\n      <td>The production of tim ore in the United States...</td>\n    </tr>\n    <tr>\n      <th>1137364</th>\n      <td>49987576.0</td>\n      <td>305.0</td>\n      <td>3106.0</td>\n      <td>0.000000</td>\n      <td>3106</td>\n      <td>The production of tim ore in the United States...</td>\n    </tr>\n    <tr>\n      <th>1137365</th>\n      <td>51991540.0</td>\n      <td>320.0</td>\n      <td>3106.0</td>\n      <td>1.000000</td>\n      <td>3106</td>\n      <td>The production of tim ore in the United States...</td>\n    </tr>\n    <tr>\n      <th>1137366</th>\n      <td>52369729.0</td>\n      <td>323.0</td>\n      <td>3106.0</td>\n      <td>1.000000</td>\n      <td>3106</td>\n      <td>The production of tim ore in the United States...</td>\n    </tr>\n  </tbody>\n</table>\n<p>1137367 rows × 6 columns</p>\n</div>"
     },
     "metadata": {},
     "execution_count": 10
    }
   ],
   "source": [
    "df3=df3.dropna()\n",
    "df3"
   ]
  },
  {
   "cell_type": "code",
   "execution_count": null,
   "metadata": {},
   "outputs": [],
   "source": []
  },
  {
   "cell_type": "code",
   "execution_count": 14,
   "metadata": {},
   "outputs": [
    {
     "output_type": "error",
     "ename": "KeyError",
     "evalue": "\"['CorId'] not found in axis\"",
     "traceback": [
      "\u001b[0;31m---------------------------------------------------------------------------\u001b[0m",
      "\u001b[0;31mKeyError\u001b[0m                                  Traceback (most recent call last)",
      "\u001b[0;32m<ipython-input-14-24244edfeb10>\u001b[0m in \u001b[0;36m<module>\u001b[0;34m\u001b[0m\n\u001b[0;32m----> 1\u001b[0;31m \u001b[0mdf3\u001b[0m\u001b[0;34m=\u001b[0m\u001b[0mdf3\u001b[0m\u001b[0;34m.\u001b[0m\u001b[0mdrop\u001b[0m\u001b[0;34m(\u001b[0m\u001b[0;34m[\u001b[0m\u001b[0;34m'CorId'\u001b[0m\u001b[0;34m]\u001b[0m\u001b[0;34m,\u001b[0m\u001b[0maxis\u001b[0m\u001b[0;34m=\u001b[0m\u001b[0;36m1\u001b[0m\u001b[0;34m)\u001b[0m\u001b[0;34m\u001b[0m\u001b[0;34m\u001b[0m\u001b[0m\n\u001b[0m\u001b[1;32m      2\u001b[0m \u001b[0mdf3\u001b[0m\u001b[0;34m=\u001b[0m\u001b[0mdf3\u001b[0m\u001b[0;34m.\u001b[0m\u001b[0mdrop\u001b[0m\u001b[0;34m(\u001b[0m\u001b[0;34m[\u001b[0m\u001b[0;34m'Unnamed: 0'\u001b[0m\u001b[0;34m]\u001b[0m\u001b[0;34m,\u001b[0m\u001b[0maxis\u001b[0m\u001b[0;34m=\u001b[0m\u001b[0;36m1\u001b[0m\u001b[0;34m)\u001b[0m\u001b[0;34m\u001b[0m\u001b[0;34m\u001b[0m\u001b[0m\n\u001b[1;32m      3\u001b[0m \u001b[0mdf3\u001b[0m\u001b[0;34m\u001b[0m\u001b[0;34m\u001b[0m\u001b[0m\n",
      "\u001b[0;32m~/anaconda3/envs/big/lib/python3.7/site-packages/pandas/core/frame.py\u001b[0m in \u001b[0;36mdrop\u001b[0;34m(self, labels, axis, index, columns, level, inplace, errors)\u001b[0m\n\u001b[1;32m   4168\u001b[0m             \u001b[0mlevel\u001b[0m\u001b[0;34m=\u001b[0m\u001b[0mlevel\u001b[0m\u001b[0;34m,\u001b[0m\u001b[0;34m\u001b[0m\u001b[0;34m\u001b[0m\u001b[0m\n\u001b[1;32m   4169\u001b[0m             \u001b[0minplace\u001b[0m\u001b[0;34m=\u001b[0m\u001b[0minplace\u001b[0m\u001b[0;34m,\u001b[0m\u001b[0;34m\u001b[0m\u001b[0;34m\u001b[0m\u001b[0m\n\u001b[0;32m-> 4170\u001b[0;31m             \u001b[0merrors\u001b[0m\u001b[0;34m=\u001b[0m\u001b[0merrors\u001b[0m\u001b[0;34m,\u001b[0m\u001b[0;34m\u001b[0m\u001b[0;34m\u001b[0m\u001b[0m\n\u001b[0m\u001b[1;32m   4171\u001b[0m         )\n\u001b[1;32m   4172\u001b[0m \u001b[0;34m\u001b[0m\u001b[0m\n",
      "\u001b[0;32m~/anaconda3/envs/big/lib/python3.7/site-packages/pandas/core/generic.py\u001b[0m in \u001b[0;36mdrop\u001b[0;34m(self, labels, axis, index, columns, level, inplace, errors)\u001b[0m\n\u001b[1;32m   3885\u001b[0m         \u001b[0;32mfor\u001b[0m \u001b[0maxis\u001b[0m\u001b[0;34m,\u001b[0m \u001b[0mlabels\u001b[0m \u001b[0;32min\u001b[0m \u001b[0maxes\u001b[0m\u001b[0;34m.\u001b[0m\u001b[0mitems\u001b[0m\u001b[0;34m(\u001b[0m\u001b[0;34m)\u001b[0m\u001b[0;34m:\u001b[0m\u001b[0;34m\u001b[0m\u001b[0;34m\u001b[0m\u001b[0m\n\u001b[1;32m   3886\u001b[0m             \u001b[0;32mif\u001b[0m \u001b[0mlabels\u001b[0m \u001b[0;32mis\u001b[0m \u001b[0;32mnot\u001b[0m \u001b[0;32mNone\u001b[0m\u001b[0;34m:\u001b[0m\u001b[0;34m\u001b[0m\u001b[0;34m\u001b[0m\u001b[0m\n\u001b[0;32m-> 3887\u001b[0;31m                 \u001b[0mobj\u001b[0m \u001b[0;34m=\u001b[0m \u001b[0mobj\u001b[0m\u001b[0;34m.\u001b[0m\u001b[0m_drop_axis\u001b[0m\u001b[0;34m(\u001b[0m\u001b[0mlabels\u001b[0m\u001b[0;34m,\u001b[0m \u001b[0maxis\u001b[0m\u001b[0;34m,\u001b[0m \u001b[0mlevel\u001b[0m\u001b[0;34m=\u001b[0m\u001b[0mlevel\u001b[0m\u001b[0;34m,\u001b[0m \u001b[0merrors\u001b[0m\u001b[0;34m=\u001b[0m\u001b[0merrors\u001b[0m\u001b[0;34m)\u001b[0m\u001b[0;34m\u001b[0m\u001b[0;34m\u001b[0m\u001b[0m\n\u001b[0m\u001b[1;32m   3888\u001b[0m \u001b[0;34m\u001b[0m\u001b[0m\n\u001b[1;32m   3889\u001b[0m         \u001b[0;32mif\u001b[0m \u001b[0minplace\u001b[0m\u001b[0;34m:\u001b[0m\u001b[0;34m\u001b[0m\u001b[0;34m\u001b[0m\u001b[0m\n",
      "\u001b[0;32m~/anaconda3/envs/big/lib/python3.7/site-packages/pandas/core/generic.py\u001b[0m in \u001b[0;36m_drop_axis\u001b[0;34m(self, labels, axis, level, errors)\u001b[0m\n\u001b[1;32m   3919\u001b[0m                 \u001b[0mnew_axis\u001b[0m \u001b[0;34m=\u001b[0m \u001b[0maxis\u001b[0m\u001b[0;34m.\u001b[0m\u001b[0mdrop\u001b[0m\u001b[0;34m(\u001b[0m\u001b[0mlabels\u001b[0m\u001b[0;34m,\u001b[0m \u001b[0mlevel\u001b[0m\u001b[0;34m=\u001b[0m\u001b[0mlevel\u001b[0m\u001b[0;34m,\u001b[0m \u001b[0merrors\u001b[0m\u001b[0;34m=\u001b[0m\u001b[0merrors\u001b[0m\u001b[0;34m)\u001b[0m\u001b[0;34m\u001b[0m\u001b[0;34m\u001b[0m\u001b[0m\n\u001b[1;32m   3920\u001b[0m             \u001b[0;32melse\u001b[0m\u001b[0;34m:\u001b[0m\u001b[0;34m\u001b[0m\u001b[0;34m\u001b[0m\u001b[0m\n\u001b[0;32m-> 3921\u001b[0;31m                 \u001b[0mnew_axis\u001b[0m \u001b[0;34m=\u001b[0m \u001b[0maxis\u001b[0m\u001b[0;34m.\u001b[0m\u001b[0mdrop\u001b[0m\u001b[0;34m(\u001b[0m\u001b[0mlabels\u001b[0m\u001b[0;34m,\u001b[0m \u001b[0merrors\u001b[0m\u001b[0;34m=\u001b[0m\u001b[0merrors\u001b[0m\u001b[0;34m)\u001b[0m\u001b[0;34m\u001b[0m\u001b[0;34m\u001b[0m\u001b[0m\n\u001b[0m\u001b[1;32m   3922\u001b[0m             \u001b[0mresult\u001b[0m \u001b[0;34m=\u001b[0m \u001b[0mself\u001b[0m\u001b[0;34m.\u001b[0m\u001b[0mreindex\u001b[0m\u001b[0;34m(\u001b[0m\u001b[0;34m**\u001b[0m\u001b[0;34m{\u001b[0m\u001b[0maxis_name\u001b[0m\u001b[0;34m:\u001b[0m \u001b[0mnew_axis\u001b[0m\u001b[0;34m}\u001b[0m\u001b[0;34m)\u001b[0m\u001b[0;34m\u001b[0m\u001b[0;34m\u001b[0m\u001b[0m\n\u001b[1;32m   3923\u001b[0m \u001b[0;34m\u001b[0m\u001b[0m\n",
      "\u001b[0;32m~/anaconda3/envs/big/lib/python3.7/site-packages/pandas/core/indexes/base.py\u001b[0m in \u001b[0;36mdrop\u001b[0;34m(self, labels, errors)\u001b[0m\n\u001b[1;32m   5280\u001b[0m         \u001b[0;32mif\u001b[0m \u001b[0mmask\u001b[0m\u001b[0;34m.\u001b[0m\u001b[0many\u001b[0m\u001b[0;34m(\u001b[0m\u001b[0;34m)\u001b[0m\u001b[0;34m:\u001b[0m\u001b[0;34m\u001b[0m\u001b[0;34m\u001b[0m\u001b[0m\n\u001b[1;32m   5281\u001b[0m             \u001b[0;32mif\u001b[0m \u001b[0merrors\u001b[0m \u001b[0;34m!=\u001b[0m \u001b[0;34m\"ignore\"\u001b[0m\u001b[0;34m:\u001b[0m\u001b[0;34m\u001b[0m\u001b[0;34m\u001b[0m\u001b[0m\n\u001b[0;32m-> 5282\u001b[0;31m                 \u001b[0;32mraise\u001b[0m \u001b[0mKeyError\u001b[0m\u001b[0;34m(\u001b[0m\u001b[0;34mf\"{labels[mask]} not found in axis\"\u001b[0m\u001b[0;34m)\u001b[0m\u001b[0;34m\u001b[0m\u001b[0;34m\u001b[0m\u001b[0m\n\u001b[0m\u001b[1;32m   5283\u001b[0m             \u001b[0mindexer\u001b[0m \u001b[0;34m=\u001b[0m \u001b[0mindexer\u001b[0m\u001b[0;34m[\u001b[0m\u001b[0;34m~\u001b[0m\u001b[0mmask\u001b[0m\u001b[0;34m]\u001b[0m\u001b[0;34m\u001b[0m\u001b[0;34m\u001b[0m\u001b[0m\n\u001b[1;32m   5284\u001b[0m         \u001b[0;32mreturn\u001b[0m \u001b[0mself\u001b[0m\u001b[0;34m.\u001b[0m\u001b[0mdelete\u001b[0m\u001b[0;34m(\u001b[0m\u001b[0mindexer\u001b[0m\u001b[0;34m)\u001b[0m\u001b[0;34m\u001b[0m\u001b[0;34m\u001b[0m\u001b[0m\n",
      "\u001b[0;31mKeyError\u001b[0m: \"['CorId'] not found in axis\""
     ]
    }
   ],
   "source": [
    "df3=df3.drop(['CorId'],axis=1)\n"
   ]
  },
  {
   "cell_type": "code",
   "execution_count": 15,
   "metadata": {},
   "outputs": [
    {
     "output_type": "execute_result",
     "data": {
      "text/plain": [
       "         user_id  content_id  answered_correctly  \\\n",
       "0            1.0         1.0            0.500000   \n",
       "1            2.0         1.0            1.000000   \n",
       "2            3.0         1.0            1.000000   \n",
       "3            4.0         1.0            0.750000   \n",
       "4            5.0         1.0            0.666667   \n",
       "...          ...         ...                 ...   \n",
       "1137362    290.0      3106.0           -0.333333   \n",
       "1137363    294.0      3106.0            0.000000   \n",
       "1137364    305.0      3106.0            0.000000   \n",
       "1137365    320.0      3106.0            1.000000   \n",
       "1137366    323.0      3106.0            1.000000   \n",
       "\n",
       "                                                    corpus  \n",
       "0        The assets of Marble Faun Publishing Company s...  \n",
       "1        The assets of Marble Faun Publishing Company s...  \n",
       "2        The assets of Marble Faun Publishing Company s...  \n",
       "3        The assets of Marble Faun Publishing Company s...  \n",
       "4        The assets of Marble Faun Publishing Company s...  \n",
       "...                                                    ...  \n",
       "1137362  The production of tim ore in the United States...  \n",
       "1137363  The production of tim ore in the United States...  \n",
       "1137364  The production of tim ore in the United States...  \n",
       "1137365  The production of tim ore in the United States...  \n",
       "1137366  The production of tim ore in the United States...  \n",
       "\n",
       "[1137367 rows x 4 columns]"
      ],
      "text/html": "<div>\n<style scoped>\n    .dataframe tbody tr th:only-of-type {\n        vertical-align: middle;\n    }\n\n    .dataframe tbody tr th {\n        vertical-align: top;\n    }\n\n    .dataframe thead th {\n        text-align: right;\n    }\n</style>\n<table border=\"1\" class=\"dataframe\">\n  <thead>\n    <tr style=\"text-align: right;\">\n      <th></th>\n      <th>user_id</th>\n      <th>content_id</th>\n      <th>answered_correctly</th>\n      <th>corpus</th>\n    </tr>\n  </thead>\n  <tbody>\n    <tr>\n      <th>0</th>\n      <td>1.0</td>\n      <td>1.0</td>\n      <td>0.500000</td>\n      <td>The assets of Marble Faun Publishing Company s...</td>\n    </tr>\n    <tr>\n      <th>1</th>\n      <td>2.0</td>\n      <td>1.0</td>\n      <td>1.000000</td>\n      <td>The assets of Marble Faun Publishing Company s...</td>\n    </tr>\n    <tr>\n      <th>2</th>\n      <td>3.0</td>\n      <td>1.0</td>\n      <td>1.000000</td>\n      <td>The assets of Marble Faun Publishing Company s...</td>\n    </tr>\n    <tr>\n      <th>3</th>\n      <td>4.0</td>\n      <td>1.0</td>\n      <td>0.750000</td>\n      <td>The assets of Marble Faun Publishing Company s...</td>\n    </tr>\n    <tr>\n      <th>4</th>\n      <td>5.0</td>\n      <td>1.0</td>\n      <td>0.666667</td>\n      <td>The assets of Marble Faun Publishing Company s...</td>\n    </tr>\n    <tr>\n      <th>...</th>\n      <td>...</td>\n      <td>...</td>\n      <td>...</td>\n      <td>...</td>\n    </tr>\n    <tr>\n      <th>1137362</th>\n      <td>290.0</td>\n      <td>3106.0</td>\n      <td>-0.333333</td>\n      <td>The production of tim ore in the United States...</td>\n    </tr>\n    <tr>\n      <th>1137363</th>\n      <td>294.0</td>\n      <td>3106.0</td>\n      <td>0.000000</td>\n      <td>The production of tim ore in the United States...</td>\n    </tr>\n    <tr>\n      <th>1137364</th>\n      <td>305.0</td>\n      <td>3106.0</td>\n      <td>0.000000</td>\n      <td>The production of tim ore in the United States...</td>\n    </tr>\n    <tr>\n      <th>1137365</th>\n      <td>320.0</td>\n      <td>3106.0</td>\n      <td>1.000000</td>\n      <td>The production of tim ore in the United States...</td>\n    </tr>\n    <tr>\n      <th>1137366</th>\n      <td>323.0</td>\n      <td>3106.0</td>\n      <td>1.000000</td>\n      <td>The production of tim ore in the United States...</td>\n    </tr>\n  </tbody>\n</table>\n<p>1137367 rows × 4 columns</p>\n</div>"
     },
     "metadata": {},
     "execution_count": 15
    }
   ],
   "source": [
    "df3=df3.drop(['Unnamed: 0'],axis=1)\n",
    "df3"
   ]
  },
  {
   "cell_type": "code",
   "execution_count": null,
   "metadata": {},
   "outputs": [],
   "source": []
  }
 ]
}