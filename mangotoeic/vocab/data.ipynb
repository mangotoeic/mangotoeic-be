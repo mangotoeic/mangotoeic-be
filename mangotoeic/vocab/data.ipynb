{
 "metadata": {
  "language_info": {
   "codemirror_mode": {
    "name": "ipython",
    "version": 3
   },
   "file_extension": ".py",
   "mimetype": "text/x-python",
   "name": "python",
   "nbconvert_exporter": "python",
   "pygments_lexer": "ipython3",
   "version": "3.7.9-final"
  },
  "orig_nbformat": 2,
  "kernelspec": {
   "name": "Python 3.7.9 64-bit ('tensorflow': conda)",
   "display_name": "Python 3.7.9 64-bit ('tensorflow': conda)",
   "metadata": {
    "interpreter": {
     "hash": "ed7fb1a9089e51b94c3f66373a50b3827dbdd44ce40eab79e5dcfa0117f8cb7d"
    }
   }
  }
 },
 "nbformat": 4,
 "nbformat_minor": 2,
 "cells": [
  {
   "cell_type": "code",
   "execution_count": 80,
   "metadata": {},
   "outputs": [],
   "source": [
    "import pandas as pd\n",
    "import pickle\n",
    "import numpy as np"
   ]
  },
  {
   "cell_type": "code",
   "execution_count": 81,
   "metadata": {},
   "outputs": [],
   "source": [
    "df = pd.read_csv(\"./realdata.csv\")\n",
    "df2 = pd.read_csv('./problemcorpus.csv')"
   ]
  },
  {
   "cell_type": "code",
   "execution_count": 82,
   "metadata": {},
   "outputs": [],
   "source": [
    "df.drop('Unnamed: 0', axis=1, inplace=True)"
   ]
  },
  {
   "cell_type": "code",
   "execution_count": 83,
   "metadata": {},
   "outputs": [],
   "source": [
    "df2 = df2[:150]\n",
    "df2['Unnamed: 0']+=1"
   ]
  },
  {
   "cell_type": "code",
   "execution_count": 84,
   "metadata": {},
   "outputs": [],
   "source": [
    "df3 = df.merge(df2, left_on='qId', right_on='Unnamed: 0', how='outer')"
   ]
  },
  {
   "cell_type": "code",
   "execution_count": 85,
   "metadata": {},
   "outputs": [],
   "source": [
    "df3.drop('Unnamed: 0', axis=1, inplace=True)"
   ]
  },
  {
   "cell_type": "code",
   "execution_count": 86,
   "metadata": {},
   "outputs": [],
   "source": [
    "df3.to_csv('problem_id.csv')"
   ]
  },
  {
   "cell_type": "code",
   "execution_count": 87,
   "metadata": {},
   "outputs": [],
   "source": [
    "df3 = pd.read_csv('./problem_id.csv')"
   ]
  },
  {
   "cell_type": "code",
   "execution_count": 88,
   "metadata": {},
   "outputs": [
    {
     "output_type": "execute_result",
     "data": {
      "text/plain": [
       "      Unnamed: 0  user_id  qId  answered_correctly  \\\n",
       "0              0        1    1            0.250000   \n",
       "1              1        4    1            1.000000   \n",
       "2              2        6    1            0.500000   \n",
       "3              3        8    1            0.750000   \n",
       "4              4       13    1            0.750000   \n",
       "...          ...      ...  ...                 ...   \n",
       "1928        1928       10  148            0.027778   \n",
       "1929        1929       11  148            1.000000   \n",
       "1930        1930       12  148            1.000000   \n",
       "1931        1931       13  148            0.857143   \n",
       "1932        1932       14  148            1.000000   \n",
       "\n",
       "                                                problem  \n",
       "0     The assets of Marble Faun Publishing Company  ...  \n",
       "1     The assets of Marble Faun Publishing Company  ...  \n",
       "2     The assets of Marble Faun Publishing Company  ...  \n",
       "3     The assets of Marble Faun Publishing Company  ...  \n",
       "4     The assets of Marble Faun Publishing Company  ...  \n",
       "...                                                 ...  \n",
       "1928  In celebration of National Volunteer Appreciat...  \n",
       "1929  In celebration of National Volunteer Appreciat...  \n",
       "1930  In celebration of National Volunteer Appreciat...  \n",
       "1931  In celebration of National Volunteer Appreciat...  \n",
       "1932  In celebration of National Volunteer Appreciat...  \n",
       "\n",
       "[1933 rows x 5 columns]"
      ],
      "text/html": "<div>\n<style scoped>\n    .dataframe tbody tr th:only-of-type {\n        vertical-align: middle;\n    }\n\n    .dataframe tbody tr th {\n        vertical-align: top;\n    }\n\n    .dataframe thead th {\n        text-align: right;\n    }\n</style>\n<table border=\"1\" class=\"dataframe\">\n  <thead>\n    <tr style=\"text-align: right;\">\n      <th></th>\n      <th>Unnamed: 0</th>\n      <th>user_id</th>\n      <th>qId</th>\n      <th>answered_correctly</th>\n      <th>problem</th>\n    </tr>\n  </thead>\n  <tbody>\n    <tr>\n      <th>0</th>\n      <td>0</td>\n      <td>1</td>\n      <td>1</td>\n      <td>0.250000</td>\n      <td>The assets of Marble Faun Publishing Company  ...</td>\n    </tr>\n    <tr>\n      <th>1</th>\n      <td>1</td>\n      <td>4</td>\n      <td>1</td>\n      <td>1.000000</td>\n      <td>The assets of Marble Faun Publishing Company  ...</td>\n    </tr>\n    <tr>\n      <th>2</th>\n      <td>2</td>\n      <td>6</td>\n      <td>1</td>\n      <td>0.500000</td>\n      <td>The assets of Marble Faun Publishing Company  ...</td>\n    </tr>\n    <tr>\n      <th>3</th>\n      <td>3</td>\n      <td>8</td>\n      <td>1</td>\n      <td>0.750000</td>\n      <td>The assets of Marble Faun Publishing Company  ...</td>\n    </tr>\n    <tr>\n      <th>4</th>\n      <td>4</td>\n      <td>13</td>\n      <td>1</td>\n      <td>0.750000</td>\n      <td>The assets of Marble Faun Publishing Company  ...</td>\n    </tr>\n    <tr>\n      <th>...</th>\n      <td>...</td>\n      <td>...</td>\n      <td>...</td>\n      <td>...</td>\n      <td>...</td>\n    </tr>\n    <tr>\n      <th>1928</th>\n      <td>1928</td>\n      <td>10</td>\n      <td>148</td>\n      <td>0.027778</td>\n      <td>In celebration of National Volunteer Appreciat...</td>\n    </tr>\n    <tr>\n      <th>1929</th>\n      <td>1929</td>\n      <td>11</td>\n      <td>148</td>\n      <td>1.000000</td>\n      <td>In celebration of National Volunteer Appreciat...</td>\n    </tr>\n    <tr>\n      <th>1930</th>\n      <td>1930</td>\n      <td>12</td>\n      <td>148</td>\n      <td>1.000000</td>\n      <td>In celebration of National Volunteer Appreciat...</td>\n    </tr>\n    <tr>\n      <th>1931</th>\n      <td>1931</td>\n      <td>13</td>\n      <td>148</td>\n      <td>0.857143</td>\n      <td>In celebration of National Volunteer Appreciat...</td>\n    </tr>\n    <tr>\n      <th>1932</th>\n      <td>1932</td>\n      <td>14</td>\n      <td>148</td>\n      <td>1.000000</td>\n      <td>In celebration of National Volunteer Appreciat...</td>\n    </tr>\n  </tbody>\n</table>\n<p>1933 rows × 5 columns</p>\n</div>"
     },
     "metadata": {},
     "execution_count": 88
    }
   ],
   "source": [
    "df3"
   ]
  },
  {
   "cell_type": "code",
   "execution_count": 89,
   "metadata": {},
   "outputs": [],
   "source": [
    "df3['problem'] = df3['problem'].str.lower()"
   ]
  },
  {
   "cell_type": "code",
   "execution_count": 90,
   "metadata": {},
   "outputs": [
    {
     "output_type": "execute_result",
     "data": {
      "text/plain": [
       "      Unnamed: 0  user_id  qId  answered_correctly  \\\n",
       "0              0        1    1            0.250000   \n",
       "1              1        4    1            1.000000   \n",
       "2              2        6    1            0.500000   \n",
       "3              3        8    1            0.750000   \n",
       "4              4       13    1            0.750000   \n",
       "...          ...      ...  ...                 ...   \n",
       "1928        1928       10  148            0.027778   \n",
       "1929        1929       11  148            1.000000   \n",
       "1930        1930       12  148            1.000000   \n",
       "1931        1931       13  148            0.857143   \n",
       "1932        1932       14  148            1.000000   \n",
       "\n",
       "                                                problem  \n",
       "0     the assets of marble faun publishing company  ...  \n",
       "1     the assets of marble faun publishing company  ...  \n",
       "2     the assets of marble faun publishing company  ...  \n",
       "3     the assets of marble faun publishing company  ...  \n",
       "4     the assets of marble faun publishing company  ...  \n",
       "...                                                 ...  \n",
       "1928  in celebration of national volunteer appreciat...  \n",
       "1929  in celebration of national volunteer appreciat...  \n",
       "1930  in celebration of national volunteer appreciat...  \n",
       "1931  in celebration of national volunteer appreciat...  \n",
       "1932  in celebration of national volunteer appreciat...  \n",
       "\n",
       "[1933 rows x 5 columns]"
      ],
      "text/html": "<div>\n<style scoped>\n    .dataframe tbody tr th:only-of-type {\n        vertical-align: middle;\n    }\n\n    .dataframe tbody tr th {\n        vertical-align: top;\n    }\n\n    .dataframe thead th {\n        text-align: right;\n    }\n</style>\n<table border=\"1\" class=\"dataframe\">\n  <thead>\n    <tr style=\"text-align: right;\">\n      <th></th>\n      <th>Unnamed: 0</th>\n      <th>user_id</th>\n      <th>qId</th>\n      <th>answered_correctly</th>\n      <th>problem</th>\n    </tr>\n  </thead>\n  <tbody>\n    <tr>\n      <th>0</th>\n      <td>0</td>\n      <td>1</td>\n      <td>1</td>\n      <td>0.250000</td>\n      <td>the assets of marble faun publishing company  ...</td>\n    </tr>\n    <tr>\n      <th>1</th>\n      <td>1</td>\n      <td>4</td>\n      <td>1</td>\n      <td>1.000000</td>\n      <td>the assets of marble faun publishing company  ...</td>\n    </tr>\n    <tr>\n      <th>2</th>\n      <td>2</td>\n      <td>6</td>\n      <td>1</td>\n      <td>0.500000</td>\n      <td>the assets of marble faun publishing company  ...</td>\n    </tr>\n    <tr>\n      <th>3</th>\n      <td>3</td>\n      <td>8</td>\n      <td>1</td>\n      <td>0.750000</td>\n      <td>the assets of marble faun publishing company  ...</td>\n    </tr>\n    <tr>\n      <th>4</th>\n      <td>4</td>\n      <td>13</td>\n      <td>1</td>\n      <td>0.750000</td>\n      <td>the assets of marble faun publishing company  ...</td>\n    </tr>\n    <tr>\n      <th>...</th>\n      <td>...</td>\n      <td>...</td>\n      <td>...</td>\n      <td>...</td>\n      <td>...</td>\n    </tr>\n    <tr>\n      <th>1928</th>\n      <td>1928</td>\n      <td>10</td>\n      <td>148</td>\n      <td>0.027778</td>\n      <td>in celebration of national volunteer appreciat...</td>\n    </tr>\n    <tr>\n      <th>1929</th>\n      <td>1929</td>\n      <td>11</td>\n      <td>148</td>\n      <td>1.000000</td>\n      <td>in celebration of national volunteer appreciat...</td>\n    </tr>\n    <tr>\n      <th>1930</th>\n      <td>1930</td>\n      <td>12</td>\n      <td>148</td>\n      <td>1.000000</td>\n      <td>in celebration of national volunteer appreciat...</td>\n    </tr>\n    <tr>\n      <th>1931</th>\n      <td>1931</td>\n      <td>13</td>\n      <td>148</td>\n      <td>0.857143</td>\n      <td>in celebration of national volunteer appreciat...</td>\n    </tr>\n    <tr>\n      <th>1932</th>\n      <td>1932</td>\n      <td>14</td>\n      <td>148</td>\n      <td>1.000000</td>\n      <td>in celebration of national volunteer appreciat...</td>\n    </tr>\n  </tbody>\n</table>\n<p>1933 rows × 5 columns</p>\n</div>"
     },
     "metadata": {},
     "execution_count": 90
    }
   ],
   "source": [
    "df3"
   ]
  },
  {
   "cell_type": "code",
   "execution_count": 91,
   "metadata": {},
   "outputs": [
    {
     "output_type": "execute_result",
     "data": {
      "text/plain": [
       "      Unnamed: 0  user_id  qId  answered_correctly  \\\n",
       "0              0        1    1            0.250000   \n",
       "1              1        4    1            1.000000   \n",
       "2              2        6    1            0.500000   \n",
       "3              3        8    1            0.750000   \n",
       "4              4       13    1            0.750000   \n",
       "...          ...      ...  ...                 ...   \n",
       "1928        1928       10  148            0.027778   \n",
       "1929        1929       11  148            1.000000   \n",
       "1930        1930       12  148            1.000000   \n",
       "1931        1931       13  148            0.857143   \n",
       "1932        1932       14  148            1.000000   \n",
       "\n",
       "                                                problem  \n",
       "0     the assets of marble faun publishing company  ...  \n",
       "1     the assets of marble faun publishing company  ...  \n",
       "2     the assets of marble faun publishing company  ...  \n",
       "3     the assets of marble faun publishing company  ...  \n",
       "4     the assets of marble faun publishing company  ...  \n",
       "...                                                 ...  \n",
       "1928  in celebration of national volunteer appreciat...  \n",
       "1929  in celebration of national volunteer appreciat...  \n",
       "1930  in celebration of national volunteer appreciat...  \n",
       "1931  in celebration of national volunteer appreciat...  \n",
       "1932  in celebration of national volunteer appreciat...  \n",
       "\n",
       "[1933 rows x 5 columns]"
      ],
      "text/html": "<div>\n<style scoped>\n    .dataframe tbody tr th:only-of-type {\n        vertical-align: middle;\n    }\n\n    .dataframe tbody tr th {\n        vertical-align: top;\n    }\n\n    .dataframe thead th {\n        text-align: right;\n    }\n</style>\n<table border=\"1\" class=\"dataframe\">\n  <thead>\n    <tr style=\"text-align: right;\">\n      <th></th>\n      <th>Unnamed: 0</th>\n      <th>user_id</th>\n      <th>qId</th>\n      <th>answered_correctly</th>\n      <th>problem</th>\n    </tr>\n  </thead>\n  <tbody>\n    <tr>\n      <th>0</th>\n      <td>0</td>\n      <td>1</td>\n      <td>1</td>\n      <td>0.250000</td>\n      <td>the assets of marble faun publishing company  ...</td>\n    </tr>\n    <tr>\n      <th>1</th>\n      <td>1</td>\n      <td>4</td>\n      <td>1</td>\n      <td>1.000000</td>\n      <td>the assets of marble faun publishing company  ...</td>\n    </tr>\n    <tr>\n      <th>2</th>\n      <td>2</td>\n      <td>6</td>\n      <td>1</td>\n      <td>0.500000</td>\n      <td>the assets of marble faun publishing company  ...</td>\n    </tr>\n    <tr>\n      <th>3</th>\n      <td>3</td>\n      <td>8</td>\n      <td>1</td>\n      <td>0.750000</td>\n      <td>the assets of marble faun publishing company  ...</td>\n    </tr>\n    <tr>\n      <th>4</th>\n      <td>4</td>\n      <td>13</td>\n      <td>1</td>\n      <td>0.750000</td>\n      <td>the assets of marble faun publishing company  ...</td>\n    </tr>\n    <tr>\n      <th>...</th>\n      <td>...</td>\n      <td>...</td>\n      <td>...</td>\n      <td>...</td>\n      <td>...</td>\n    </tr>\n    <tr>\n      <th>1928</th>\n      <td>1928</td>\n      <td>10</td>\n      <td>148</td>\n      <td>0.027778</td>\n      <td>in celebration of national volunteer appreciat...</td>\n    </tr>\n    <tr>\n      <th>1929</th>\n      <td>1929</td>\n      <td>11</td>\n      <td>148</td>\n      <td>1.000000</td>\n      <td>in celebration of national volunteer appreciat...</td>\n    </tr>\n    <tr>\n      <th>1930</th>\n      <td>1930</td>\n      <td>12</td>\n      <td>148</td>\n      <td>1.000000</td>\n      <td>in celebration of national volunteer appreciat...</td>\n    </tr>\n    <tr>\n      <th>1931</th>\n      <td>1931</td>\n      <td>13</td>\n      <td>148</td>\n      <td>0.857143</td>\n      <td>in celebration of national volunteer appreciat...</td>\n    </tr>\n    <tr>\n      <th>1932</th>\n      <td>1932</td>\n      <td>14</td>\n      <td>148</td>\n      <td>1.000000</td>\n      <td>in celebration of national volunteer appreciat...</td>\n    </tr>\n  </tbody>\n</table>\n<p>1933 rows × 5 columns</p>\n</div>"
     },
     "metadata": {},
     "execution_count": 91
    }
   ],
   "source": [
    "df3['problem'] = df3['problem'].str.replace(r'[!?\\.\\'\\\"\\-\\_\\=\\+\\,\\@\\:\\;\\`\\[\\]\\(\\)\\{\\}\\~\\<\\>\\$0-9]',' ')\n",
    "df3"
   ]
  },
  {
   "cell_type": "code",
   "execution_count": 92,
   "metadata": {},
   "outputs": [],
   "source": [
    "df3.to_csv('./no특수.csv')"
   ]
  },
  {
   "cell_type": "code",
   "execution_count": 93,
   "metadata": {},
   "outputs": [
    {
     "output_type": "execute_result",
     "data": {
      "text/plain": [
       "      Unnamed: 0  user_id  qId  answered_correctly  \\\n",
       "0              0        1    1            0.250000   \n",
       "1              1        4    1            1.000000   \n",
       "2              2        6    1            0.500000   \n",
       "3              3        8    1            0.750000   \n",
       "4              4       13    1            0.750000   \n",
       "...          ...      ...  ...                 ...   \n",
       "1928        1928       10  148            0.027778   \n",
       "1929        1929       11  148            1.000000   \n",
       "1930        1930       12  148            1.000000   \n",
       "1931        1931       13  148            0.857143   \n",
       "1932        1932       14  148            1.000000   \n",
       "\n",
       "                                                problem  \n",
       "0     the assets of marble faun publishing company  ...  \n",
       "1     the assets of marble faun publishing company  ...  \n",
       "2     the assets of marble faun publishing company  ...  \n",
       "3     the assets of marble faun publishing company  ...  \n",
       "4     the assets of marble faun publishing company  ...  \n",
       "...                                                 ...  \n",
       "1928  in celebration of national volunteer appreciat...  \n",
       "1929  in celebration of national volunteer appreciat...  \n",
       "1930  in celebration of national volunteer appreciat...  \n",
       "1931  in celebration of national volunteer appreciat...  \n",
       "1932  in celebration of national volunteer appreciat...  \n",
       "\n",
       "[1933 rows x 5 columns]"
      ],
      "text/html": "<div>\n<style scoped>\n    .dataframe tbody tr th:only-of-type {\n        vertical-align: middle;\n    }\n\n    .dataframe tbody tr th {\n        vertical-align: top;\n    }\n\n    .dataframe thead th {\n        text-align: right;\n    }\n</style>\n<table border=\"1\" class=\"dataframe\">\n  <thead>\n    <tr style=\"text-align: right;\">\n      <th></th>\n      <th>Unnamed: 0</th>\n      <th>user_id</th>\n      <th>qId</th>\n      <th>answered_correctly</th>\n      <th>problem</th>\n    </tr>\n  </thead>\n  <tbody>\n    <tr>\n      <th>0</th>\n      <td>0</td>\n      <td>1</td>\n      <td>1</td>\n      <td>0.250000</td>\n      <td>the assets of marble faun publishing company  ...</td>\n    </tr>\n    <tr>\n      <th>1</th>\n      <td>1</td>\n      <td>4</td>\n      <td>1</td>\n      <td>1.000000</td>\n      <td>the assets of marble faun publishing company  ...</td>\n    </tr>\n    <tr>\n      <th>2</th>\n      <td>2</td>\n      <td>6</td>\n      <td>1</td>\n      <td>0.500000</td>\n      <td>the assets of marble faun publishing company  ...</td>\n    </tr>\n    <tr>\n      <th>3</th>\n      <td>3</td>\n      <td>8</td>\n      <td>1</td>\n      <td>0.750000</td>\n      <td>the assets of marble faun publishing company  ...</td>\n    </tr>\n    <tr>\n      <th>4</th>\n      <td>4</td>\n      <td>13</td>\n      <td>1</td>\n      <td>0.750000</td>\n      <td>the assets of marble faun publishing company  ...</td>\n    </tr>\n    <tr>\n      <th>...</th>\n      <td>...</td>\n      <td>...</td>\n      <td>...</td>\n      <td>...</td>\n      <td>...</td>\n    </tr>\n    <tr>\n      <th>1928</th>\n      <td>1928</td>\n      <td>10</td>\n      <td>148</td>\n      <td>0.027778</td>\n      <td>in celebration of national volunteer appreciat...</td>\n    </tr>\n    <tr>\n      <th>1929</th>\n      <td>1929</td>\n      <td>11</td>\n      <td>148</td>\n      <td>1.000000</td>\n      <td>in celebration of national volunteer appreciat...</td>\n    </tr>\n    <tr>\n      <th>1930</th>\n      <td>1930</td>\n      <td>12</td>\n      <td>148</td>\n      <td>1.000000</td>\n      <td>in celebration of national volunteer appreciat...</td>\n    </tr>\n    <tr>\n      <th>1931</th>\n      <td>1931</td>\n      <td>13</td>\n      <td>148</td>\n      <td>0.857143</td>\n      <td>in celebration of national volunteer appreciat...</td>\n    </tr>\n    <tr>\n      <th>1932</th>\n      <td>1932</td>\n      <td>14</td>\n      <td>148</td>\n      <td>1.000000</td>\n      <td>in celebration of national volunteer appreciat...</td>\n    </tr>\n  </tbody>\n</table>\n<p>1933 rows × 5 columns</p>\n</div>"
     },
     "metadata": {},
     "execution_count": 93
    }
   ],
   "source": [
    "df3"
   ]
  },
  {
   "cell_type": "code",
   "execution_count": 94,
   "metadata": {},
   "outputs": [],
   "source": [
    "import nltk\n",
    "import string\n",
    "import fasttext\n",
    "import contractions\n",
    "from nltk.tokenize import word_tokenize\n",
    "from nltk.corpus import stopwords, wordnet\n",
    "from nltk.stem import WordNetLemmatizer"
   ]
  },
  {
   "cell_type": "code",
   "execution_count": 95,
   "metadata": {},
   "outputs": [],
   "source": [
    "stop_words = nltk.corpus.stopwords.words('english')\n",
    "new_words = ['one', 'two', 'three', 'four', 'five', 'six', 'seven', 'eight', 'nine', 'ten', 'mr', 'ms', 'new', 'old', 'u', 'st', 'nd', 'rd', 'th']\n",
    "stop_words.extend(new_words)"
   ]
  },
  {
   "cell_type": "code",
   "execution_count": 96,
   "metadata": {},
   "outputs": [],
   "source": [
    "df3['problem'] = df3['problem'].apply(lambda x: [contractions.fix(word) for word in x.split()])"
   ]
  },
  {
   "cell_type": "code",
   "execution_count": 98,
   "metadata": {},
   "outputs": [
    {
     "output_type": "execute_result",
     "data": {
      "text/plain": [
       "   Unnamed: 0  user_id  qId  answered_correctly  \\\n",
       "0           0        1    1                0.25   \n",
       "1           1        4    1                1.00   \n",
       "2           2        6    1                0.50   \n",
       "3           3        8    1                0.75   \n",
       "4           4       13    1                0.75   \n",
       "\n",
       "                                             problem  \n",
       "0  the assets of marble faun publishing company s...  \n",
       "1  the assets of marble faun publishing company s...  \n",
       "2  the assets of marble faun publishing company s...  \n",
       "3  the assets of marble faun publishing company s...  \n",
       "4  the assets of marble faun publishing company s...  "
      ],
      "text/html": "<div>\n<style scoped>\n    .dataframe tbody tr th:only-of-type {\n        vertical-align: middle;\n    }\n\n    .dataframe tbody tr th {\n        vertical-align: top;\n    }\n\n    .dataframe thead th {\n        text-align: right;\n    }\n</style>\n<table border=\"1\" class=\"dataframe\">\n  <thead>\n    <tr style=\"text-align: right;\">\n      <th></th>\n      <th>Unnamed: 0</th>\n      <th>user_id</th>\n      <th>qId</th>\n      <th>answered_correctly</th>\n      <th>problem</th>\n    </tr>\n  </thead>\n  <tbody>\n    <tr>\n      <th>0</th>\n      <td>0</td>\n      <td>1</td>\n      <td>1</td>\n      <td>0.25</td>\n      <td>the assets of marble faun publishing company s...</td>\n    </tr>\n    <tr>\n      <th>1</th>\n      <td>1</td>\n      <td>4</td>\n      <td>1</td>\n      <td>1.00</td>\n      <td>the assets of marble faun publishing company s...</td>\n    </tr>\n    <tr>\n      <th>2</th>\n      <td>2</td>\n      <td>6</td>\n      <td>1</td>\n      <td>0.50</td>\n      <td>the assets of marble faun publishing company s...</td>\n    </tr>\n    <tr>\n      <th>3</th>\n      <td>3</td>\n      <td>8</td>\n      <td>1</td>\n      <td>0.75</td>\n      <td>the assets of marble faun publishing company s...</td>\n    </tr>\n    <tr>\n      <th>4</th>\n      <td>4</td>\n      <td>13</td>\n      <td>1</td>\n      <td>0.75</td>\n      <td>the assets of marble faun publishing company s...</td>\n    </tr>\n  </tbody>\n</table>\n</div>"
     },
     "metadata": {},
     "execution_count": 98
    }
   ],
   "source": [
    "df3['problem'] = [' '.join(map(str, l)) for l in df3['problem']]\n",
    "df3.head()"
   ]
  },
  {
   "cell_type": "code",
   "execution_count": 99,
   "metadata": {},
   "outputs": [
    {
     "output_type": "execute_result",
     "data": {
      "text/plain": [
       "   Unnamed: 0  user_id  qId  answered_correctly  \\\n",
       "0           0        1    1                0.25   \n",
       "1           1        4    1                1.00   \n",
       "2           2        6    1                0.50   \n",
       "3           3        8    1                0.75   \n",
       "4           4       13    1                0.75   \n",
       "\n",
       "                                             problem  \n",
       "0  [the, assets, of, marble, faun, publishing, co...  \n",
       "1  [the, assets, of, marble, faun, publishing, co...  \n",
       "2  [the, assets, of, marble, faun, publishing, co...  \n",
       "3  [the, assets, of, marble, faun, publishing, co...  \n",
       "4  [the, assets, of, marble, faun, publishing, co...  "
      ],
      "text/html": "<div>\n<style scoped>\n    .dataframe tbody tr th:only-of-type {\n        vertical-align: middle;\n    }\n\n    .dataframe tbody tr th {\n        vertical-align: top;\n    }\n\n    .dataframe thead th {\n        text-align: right;\n    }\n</style>\n<table border=\"1\" class=\"dataframe\">\n  <thead>\n    <tr style=\"text-align: right;\">\n      <th></th>\n      <th>Unnamed: 0</th>\n      <th>user_id</th>\n      <th>qId</th>\n      <th>answered_correctly</th>\n      <th>problem</th>\n    </tr>\n  </thead>\n  <tbody>\n    <tr>\n      <th>0</th>\n      <td>0</td>\n      <td>1</td>\n      <td>1</td>\n      <td>0.25</td>\n      <td>[the, assets, of, marble, faun, publishing, co...</td>\n    </tr>\n    <tr>\n      <th>1</th>\n      <td>1</td>\n      <td>4</td>\n      <td>1</td>\n      <td>1.00</td>\n      <td>[the, assets, of, marble, faun, publishing, co...</td>\n    </tr>\n    <tr>\n      <th>2</th>\n      <td>2</td>\n      <td>6</td>\n      <td>1</td>\n      <td>0.50</td>\n      <td>[the, assets, of, marble, faun, publishing, co...</td>\n    </tr>\n    <tr>\n      <th>3</th>\n      <td>3</td>\n      <td>8</td>\n      <td>1</td>\n      <td>0.75</td>\n      <td>[the, assets, of, marble, faun, publishing, co...</td>\n    </tr>\n    <tr>\n      <th>4</th>\n      <td>4</td>\n      <td>13</td>\n      <td>1</td>\n      <td>0.75</td>\n      <td>[the, assets, of, marble, faun, publishing, co...</td>\n    </tr>\n  </tbody>\n</table>\n</div>"
     },
     "metadata": {},
     "execution_count": 99
    }
   ],
   "source": [
    "df3['problem'] = df3['problem'].apply(word_tokenize)\n",
    "df3.head()"
   ]
  },
  {
   "cell_type": "code",
   "execution_count": 100,
   "metadata": {},
   "outputs": [
    {
     "output_type": "execute_result",
     "data": {
      "text/plain": [
       "   Unnamed: 0  user_id  qId  answered_correctly  \\\n",
       "0           0        1    1                0.25   \n",
       "1           1        4    1                1.00   \n",
       "2           2        6    1                0.50   \n",
       "3           3        8    1                0.75   \n",
       "4           4       13    1                0.75   \n",
       "\n",
       "                                             problem  \n",
       "0  [assets, marble, faun, publishing, company, su...  \n",
       "1  [assets, marble, faun, publishing, company, su...  \n",
       "2  [assets, marble, faun, publishing, company, su...  \n",
       "3  [assets, marble, faun, publishing, company, su...  \n",
       "4  [assets, marble, faun, publishing, company, su...  "
      ],
      "text/html": "<div>\n<style scoped>\n    .dataframe tbody tr th:only-of-type {\n        vertical-align: middle;\n    }\n\n    .dataframe tbody tr th {\n        vertical-align: top;\n    }\n\n    .dataframe thead th {\n        text-align: right;\n    }\n</style>\n<table border=\"1\" class=\"dataframe\">\n  <thead>\n    <tr style=\"text-align: right;\">\n      <th></th>\n      <th>Unnamed: 0</th>\n      <th>user_id</th>\n      <th>qId</th>\n      <th>answered_correctly</th>\n      <th>problem</th>\n    </tr>\n  </thead>\n  <tbody>\n    <tr>\n      <th>0</th>\n      <td>0</td>\n      <td>1</td>\n      <td>1</td>\n      <td>0.25</td>\n      <td>[assets, marble, faun, publishing, company, su...</td>\n    </tr>\n    <tr>\n      <th>1</th>\n      <td>1</td>\n      <td>4</td>\n      <td>1</td>\n      <td>1.00</td>\n      <td>[assets, marble, faun, publishing, company, su...</td>\n    </tr>\n    <tr>\n      <th>2</th>\n      <td>2</td>\n      <td>6</td>\n      <td>1</td>\n      <td>0.50</td>\n      <td>[assets, marble, faun, publishing, company, su...</td>\n    </tr>\n    <tr>\n      <th>3</th>\n      <td>3</td>\n      <td>8</td>\n      <td>1</td>\n      <td>0.75</td>\n      <td>[assets, marble, faun, publishing, company, su...</td>\n    </tr>\n    <tr>\n      <th>4</th>\n      <td>4</td>\n      <td>13</td>\n      <td>1</td>\n      <td>0.75</td>\n      <td>[assets, marble, faun, publishing, company, su...</td>\n    </tr>\n  </tbody>\n</table>\n</div>"
     },
     "metadata": {},
     "execution_count": 100
    }
   ],
   "source": [
    "df3['problem'] = df3['problem'].apply(lambda x: [word for word in x if word not in stop_words])\n",
    "df3.head()"
   ]
  },
  {
   "cell_type": "code",
   "execution_count": 101,
   "metadata": {},
   "outputs": [
    {
     "output_type": "execute_result",
     "data": {
      "text/plain": [
       "   Unnamed: 0  user_id  qId  answered_correctly  \\\n",
       "0           0        1    1                0.25   \n",
       "1           1        4    1                1.00   \n",
       "2           2        6    1                0.50   \n",
       "3           3        8    1                0.75   \n",
       "4           4       13    1                0.75   \n",
       "\n",
       "                                             problem  \n",
       "0  [(assets, NNS), (marble, JJ), (faun, JJ), (pub...  \n",
       "1  [(assets, NNS), (marble, JJ), (faun, JJ), (pub...  \n",
       "2  [(assets, NNS), (marble, JJ), (faun, JJ), (pub...  \n",
       "3  [(assets, NNS), (marble, JJ), (faun, JJ), (pub...  \n",
       "4  [(assets, NNS), (marble, JJ), (faun, JJ), (pub...  "
      ],
      "text/html": "<div>\n<style scoped>\n    .dataframe tbody tr th:only-of-type {\n        vertical-align: middle;\n    }\n\n    .dataframe tbody tr th {\n        vertical-align: top;\n    }\n\n    .dataframe thead th {\n        text-align: right;\n    }\n</style>\n<table border=\"1\" class=\"dataframe\">\n  <thead>\n    <tr style=\"text-align: right;\">\n      <th></th>\n      <th>Unnamed: 0</th>\n      <th>user_id</th>\n      <th>qId</th>\n      <th>answered_correctly</th>\n      <th>problem</th>\n    </tr>\n  </thead>\n  <tbody>\n    <tr>\n      <th>0</th>\n      <td>0</td>\n      <td>1</td>\n      <td>1</td>\n      <td>0.25</td>\n      <td>[(assets, NNS), (marble, JJ), (faun, JJ), (pub...</td>\n    </tr>\n    <tr>\n      <th>1</th>\n      <td>1</td>\n      <td>4</td>\n      <td>1</td>\n      <td>1.00</td>\n      <td>[(assets, NNS), (marble, JJ), (faun, JJ), (pub...</td>\n    </tr>\n    <tr>\n      <th>2</th>\n      <td>2</td>\n      <td>6</td>\n      <td>1</td>\n      <td>0.50</td>\n      <td>[(assets, NNS), (marble, JJ), (faun, JJ), (pub...</td>\n    </tr>\n    <tr>\n      <th>3</th>\n      <td>3</td>\n      <td>8</td>\n      <td>1</td>\n      <td>0.75</td>\n      <td>[(assets, NNS), (marble, JJ), (faun, JJ), (pub...</td>\n    </tr>\n    <tr>\n      <th>4</th>\n      <td>4</td>\n      <td>13</td>\n      <td>1</td>\n      <td>0.75</td>\n      <td>[(assets, NNS), (marble, JJ), (faun, JJ), (pub...</td>\n    </tr>\n  </tbody>\n</table>\n</div>"
     },
     "metadata": {},
     "execution_count": 101
    }
   ],
   "source": [
    "df3['problem'] = df3['problem'].apply(nltk.tag.pos_tag)\n",
    "df3.head()"
   ]
  },
  {
   "cell_type": "code",
   "execution_count": 102,
   "metadata": {},
   "outputs": [
    {
     "output_type": "execute_result",
     "data": {
      "text/plain": [
       "   Unnamed: 0  user_id  qId  answered_correctly  \\\n",
       "0           0        1    1                0.25   \n",
       "1           1        4    1                1.00   \n",
       "2           2        6    1                0.50   \n",
       "3           3        8    1                0.75   \n",
       "4           4       13    1                0.75   \n",
       "\n",
       "                                             problem  \n",
       "0  [(assets, NNS), (marble, JJ), (faun, JJ), (pub...  \n",
       "1  [(assets, NNS), (marble, JJ), (faun, JJ), (pub...  \n",
       "2  [(assets, NNS), (marble, JJ), (faun, JJ), (pub...  \n",
       "3  [(assets, NNS), (marble, JJ), (faun, JJ), (pub...  \n",
       "4  [(assets, NNS), (marble, JJ), (faun, JJ), (pub...  "
      ],
      "text/html": "<div>\n<style scoped>\n    .dataframe tbody tr th:only-of-type {\n        vertical-align: middle;\n    }\n\n    .dataframe tbody tr th {\n        vertical-align: top;\n    }\n\n    .dataframe thead th {\n        text-align: right;\n    }\n</style>\n<table border=\"1\" class=\"dataframe\">\n  <thead>\n    <tr style=\"text-align: right;\">\n      <th></th>\n      <th>Unnamed: 0</th>\n      <th>user_id</th>\n      <th>qId</th>\n      <th>answered_correctly</th>\n      <th>problem</th>\n    </tr>\n  </thead>\n  <tbody>\n    <tr>\n      <th>0</th>\n      <td>0</td>\n      <td>1</td>\n      <td>1</td>\n      <td>0.25</td>\n      <td>[(assets, NNS), (marble, JJ), (faun, JJ), (pub...</td>\n    </tr>\n    <tr>\n      <th>1</th>\n      <td>1</td>\n      <td>4</td>\n      <td>1</td>\n      <td>1.00</td>\n      <td>[(assets, NNS), (marble, JJ), (faun, JJ), (pub...</td>\n    </tr>\n    <tr>\n      <th>2</th>\n      <td>2</td>\n      <td>6</td>\n      <td>1</td>\n      <td>0.50</td>\n      <td>[(assets, NNS), (marble, JJ), (faun, JJ), (pub...</td>\n    </tr>\n    <tr>\n      <th>3</th>\n      <td>3</td>\n      <td>8</td>\n      <td>1</td>\n      <td>0.75</td>\n      <td>[(assets, NNS), (marble, JJ), (faun, JJ), (pub...</td>\n    </tr>\n    <tr>\n      <th>4</th>\n      <td>4</td>\n      <td>13</td>\n      <td>1</td>\n      <td>0.75</td>\n      <td>[(assets, NNS), (marble, JJ), (faun, JJ), (pub...</td>\n    </tr>\n  </tbody>\n</table>\n</div>"
     },
     "metadata": {},
     "execution_count": 102
    }
   ],
   "source": [
    "df3['problem'] = df3['problem'].apply(lambda x: [(word, pos_tag) for word, pos_tag in x if pos_tag != 'NNP' and pos_tag != 'NNPS'])\n",
    "df3.head()"
   ]
  },
  {
   "cell_type": "code",
   "execution_count": 104,
   "metadata": {},
   "outputs": [
    {
     "output_type": "execute_result",
     "data": {
      "text/plain": [
       "   Unnamed: 0  user_id  qId  answered_correctly  \\\n",
       "0           0        1    1                0.25   \n",
       "1           1        4    1                1.00   \n",
       "2           2        6    1                0.50   \n",
       "3           3        8    1                0.75   \n",
       "4           4       13    1                0.75   \n",
       "\n",
       "                                             problem  \n",
       "0  [(assets, n), (marble, a), (faun, a), (publish...  \n",
       "1  [(assets, n), (marble, a), (faun, a), (publish...  \n",
       "2  [(assets, n), (marble, a), (faun, a), (publish...  \n",
       "3  [(assets, n), (marble, a), (faun, a), (publish...  \n",
       "4  [(assets, n), (marble, a), (faun, a), (publish...  "
      ],
      "text/html": "<div>\n<style scoped>\n    .dataframe tbody tr th:only-of-type {\n        vertical-align: middle;\n    }\n\n    .dataframe tbody tr th {\n        vertical-align: top;\n    }\n\n    .dataframe thead th {\n        text-align: right;\n    }\n</style>\n<table border=\"1\" class=\"dataframe\">\n  <thead>\n    <tr style=\"text-align: right;\">\n      <th></th>\n      <th>Unnamed: 0</th>\n      <th>user_id</th>\n      <th>qId</th>\n      <th>answered_correctly</th>\n      <th>problem</th>\n    </tr>\n  </thead>\n  <tbody>\n    <tr>\n      <th>0</th>\n      <td>0</td>\n      <td>1</td>\n      <td>1</td>\n      <td>0.25</td>\n      <td>[(assets, n), (marble, a), (faun, a), (publish...</td>\n    </tr>\n    <tr>\n      <th>1</th>\n      <td>1</td>\n      <td>4</td>\n      <td>1</td>\n      <td>1.00</td>\n      <td>[(assets, n), (marble, a), (faun, a), (publish...</td>\n    </tr>\n    <tr>\n      <th>2</th>\n      <td>2</td>\n      <td>6</td>\n      <td>1</td>\n      <td>0.50</td>\n      <td>[(assets, n), (marble, a), (faun, a), (publish...</td>\n    </tr>\n    <tr>\n      <th>3</th>\n      <td>3</td>\n      <td>8</td>\n      <td>1</td>\n      <td>0.75</td>\n      <td>[(assets, n), (marble, a), (faun, a), (publish...</td>\n    </tr>\n    <tr>\n      <th>4</th>\n      <td>4</td>\n      <td>13</td>\n      <td>1</td>\n      <td>0.75</td>\n      <td>[(assets, n), (marble, a), (faun, a), (publish...</td>\n    </tr>\n  </tbody>\n</table>\n</div>"
     },
     "metadata": {},
     "execution_count": 104
    }
   ],
   "source": [
    "def get_wordnet_pos(tag):\n",
    "    if tag.startswith('J'):\n",
    "        return wordnet.ADJ\n",
    "    elif tag.startswith('V'):\n",
    "        return wordnet.VERB\n",
    "    elif tag.startswith('N'):\n",
    "        return wordnet.NOUN\n",
    "    elif tag.startswith('R'):\n",
    "        return wordnet.ADV\n",
    "    else:\n",
    "        return wordnet.NOUN\n",
    "df3['problem'] = df3['problem'].apply(lambda x: [(word, get_wordnet_pos(pos_tag)) for (word, pos_tag) in x])\n",
    "df3.head()"
   ]
  },
  {
   "cell_type": "code",
   "execution_count": 105,
   "metadata": {},
   "outputs": [
    {
     "output_type": "execute_result",
     "data": {
      "text/plain": [
       "   Unnamed: 0  user_id  qId  answered_correctly  \\\n",
       "0           0        1    1                0.25   \n",
       "1           1        4    1                1.00   \n",
       "2           2        6    1                0.50   \n",
       "3           3        8    1                0.75   \n",
       "4           4       13    1                0.75   \n",
       "\n",
       "                                             problem  \n",
       "0  [asset, marble, faun, publishing, company, suf...  \n",
       "1  [asset, marble, faun, publishing, company, suf...  \n",
       "2  [asset, marble, faun, publishing, company, suf...  \n",
       "3  [asset, marble, faun, publishing, company, suf...  \n",
       "4  [asset, marble, faun, publishing, company, suf...  "
      ],
      "text/html": "<div>\n<style scoped>\n    .dataframe tbody tr th:only-of-type {\n        vertical-align: middle;\n    }\n\n    .dataframe tbody tr th {\n        vertical-align: top;\n    }\n\n    .dataframe thead th {\n        text-align: right;\n    }\n</style>\n<table border=\"1\" class=\"dataframe\">\n  <thead>\n    <tr style=\"text-align: right;\">\n      <th></th>\n      <th>Unnamed: 0</th>\n      <th>user_id</th>\n      <th>qId</th>\n      <th>answered_correctly</th>\n      <th>problem</th>\n    </tr>\n  </thead>\n  <tbody>\n    <tr>\n      <th>0</th>\n      <td>0</td>\n      <td>1</td>\n      <td>1</td>\n      <td>0.25</td>\n      <td>[asset, marble, faun, publishing, company, suf...</td>\n    </tr>\n    <tr>\n      <th>1</th>\n      <td>1</td>\n      <td>4</td>\n      <td>1</td>\n      <td>1.00</td>\n      <td>[asset, marble, faun, publishing, company, suf...</td>\n    </tr>\n    <tr>\n      <th>2</th>\n      <td>2</td>\n      <td>6</td>\n      <td>1</td>\n      <td>0.50</td>\n      <td>[asset, marble, faun, publishing, company, suf...</td>\n    </tr>\n    <tr>\n      <th>3</th>\n      <td>3</td>\n      <td>8</td>\n      <td>1</td>\n      <td>0.75</td>\n      <td>[asset, marble, faun, publishing, company, suf...</td>\n    </tr>\n    <tr>\n      <th>4</th>\n      <td>4</td>\n      <td>13</td>\n      <td>1</td>\n      <td>0.75</td>\n      <td>[asset, marble, faun, publishing, company, suf...</td>\n    </tr>\n  </tbody>\n</table>\n</div>"
     },
     "metadata": {},
     "execution_count": 105
    }
   ],
   "source": [
    "wnl = WordNetLemmatizer()\n",
    "df3['problem'] = df3['problem'].apply(lambda x: [wnl.lemmatize(word, tag) for word, tag in x])\n",
    "df3.head()"
   ]
  },
  {
   "cell_type": "code",
   "execution_count": 106,
   "metadata": {},
   "outputs": [],
   "source": [
    "df3.to_csv('problemlemmatized.csv')"
   ]
  },
  {
   "cell_type": "code",
   "execution_count": 111,
   "metadata": {},
   "outputs": [],
   "source": [
    "df3 = pd.read_csv('problemlemmatized.csv')"
   ]
  },
  {
   "cell_type": "code",
   "execution_count": 112,
   "metadata": {},
   "outputs": [],
   "source": [
    "df3.drop('Unnamed: 0', axis=1, inplace=True)"
   ]
  },
  {
   "cell_type": "code",
   "execution_count": 113,
   "metadata": {},
   "outputs": [],
   "source": [
    "df3['problem']=df3['problem'].apply(lambda x: x.rstrip(\"]\"))"
   ]
  },
  {
   "cell_type": "code",
   "execution_count": 114,
   "metadata": {},
   "outputs": [],
   "source": [
    "df3['problem']=df3['problem'].apply(lambda x: x.lstrip(\"[\"))"
   ]
  },
  {
   "cell_type": "code",
   "execution_count": 116,
   "metadata": {},
   "outputs": [],
   "source": [
    "df3['problem'] = df3['problem'].apply(lambda x: x.split(\",\"))"
   ]
  },
  {
   "cell_type": "code",
   "execution_count": 117,
   "metadata": {},
   "outputs": [],
   "source": [
    "df3['problem']= df3['problem'].apply(lambda x:[ i.strip(\" \") for i in x])\n",
    "df3['problem']= df3['problem'].apply(lambda x:[ i.strip(\"'\") for i in x])"
   ]
  },
  {
   "cell_type": "code",
   "execution_count": 118,
   "metadata": {},
   "outputs": [
    {
     "output_type": "execute_result",
     "data": {
      "text/plain": [
       "      Unnamed: 0.1  user_id  qId  answered_correctly  \\\n",
       "0                0        1    1            0.250000   \n",
       "1                1        4    1            1.000000   \n",
       "2                2        6    1            0.500000   \n",
       "3                3        8    1            0.750000   \n",
       "4                4       13    1            0.750000   \n",
       "...            ...      ...  ...                 ...   \n",
       "1928          1928       10  148            0.027778   \n",
       "1929          1929       11  148            1.000000   \n",
       "1930          1930       12  148            1.000000   \n",
       "1931          1931       13  148            0.857143   \n",
       "1932          1932       14  148            1.000000   \n",
       "\n",
       "                                                problem  \n",
       "0     [asset, marble, faun, publishing, company, suf...  \n",
       "1     [asset, marble, faun, publishing, company, suf...  \n",
       "2     [asset, marble, faun, publishing, company, suf...  \n",
       "3     [asset, marble, faun, publishing, company, suf...  \n",
       "4     [asset, marble, faun, publishing, company, suf...  \n",
       "...                                                 ...  \n",
       "1928  [celebration, national, volunteer, appreciatio...  \n",
       "1929  [celebration, national, volunteer, appreciatio...  \n",
       "1930  [celebration, national, volunteer, appreciatio...  \n",
       "1931  [celebration, national, volunteer, appreciatio...  \n",
       "1932  [celebration, national, volunteer, appreciatio...  \n",
       "\n",
       "[1933 rows x 5 columns]"
      ],
      "text/html": "<div>\n<style scoped>\n    .dataframe tbody tr th:only-of-type {\n        vertical-align: middle;\n    }\n\n    .dataframe tbody tr th {\n        vertical-align: top;\n    }\n\n    .dataframe thead th {\n        text-align: right;\n    }\n</style>\n<table border=\"1\" class=\"dataframe\">\n  <thead>\n    <tr style=\"text-align: right;\">\n      <th></th>\n      <th>Unnamed: 0.1</th>\n      <th>user_id</th>\n      <th>qId</th>\n      <th>answered_correctly</th>\n      <th>problem</th>\n    </tr>\n  </thead>\n  <tbody>\n    <tr>\n      <th>0</th>\n      <td>0</td>\n      <td>1</td>\n      <td>1</td>\n      <td>0.250000</td>\n      <td>[asset, marble, faun, publishing, company, suf...</td>\n    </tr>\n    <tr>\n      <th>1</th>\n      <td>1</td>\n      <td>4</td>\n      <td>1</td>\n      <td>1.000000</td>\n      <td>[asset, marble, faun, publishing, company, suf...</td>\n    </tr>\n    <tr>\n      <th>2</th>\n      <td>2</td>\n      <td>6</td>\n      <td>1</td>\n      <td>0.500000</td>\n      <td>[asset, marble, faun, publishing, company, suf...</td>\n    </tr>\n    <tr>\n      <th>3</th>\n      <td>3</td>\n      <td>8</td>\n      <td>1</td>\n      <td>0.750000</td>\n      <td>[asset, marble, faun, publishing, company, suf...</td>\n    </tr>\n    <tr>\n      <th>4</th>\n      <td>4</td>\n      <td>13</td>\n      <td>1</td>\n      <td>0.750000</td>\n      <td>[asset, marble, faun, publishing, company, suf...</td>\n    </tr>\n    <tr>\n      <th>...</th>\n      <td>...</td>\n      <td>...</td>\n      <td>...</td>\n      <td>...</td>\n      <td>...</td>\n    </tr>\n    <tr>\n      <th>1928</th>\n      <td>1928</td>\n      <td>10</td>\n      <td>148</td>\n      <td>0.027778</td>\n      <td>[celebration, national, volunteer, appreciatio...</td>\n    </tr>\n    <tr>\n      <th>1929</th>\n      <td>1929</td>\n      <td>11</td>\n      <td>148</td>\n      <td>1.000000</td>\n      <td>[celebration, national, volunteer, appreciatio...</td>\n    </tr>\n    <tr>\n      <th>1930</th>\n      <td>1930</td>\n      <td>12</td>\n      <td>148</td>\n      <td>1.000000</td>\n      <td>[celebration, national, volunteer, appreciatio...</td>\n    </tr>\n    <tr>\n      <th>1931</th>\n      <td>1931</td>\n      <td>13</td>\n      <td>148</td>\n      <td>0.857143</td>\n      <td>[celebration, national, volunteer, appreciatio...</td>\n    </tr>\n    <tr>\n      <th>1932</th>\n      <td>1932</td>\n      <td>14</td>\n      <td>148</td>\n      <td>1.000000</td>\n      <td>[celebration, national, volunteer, appreciatio...</td>\n    </tr>\n  </tbody>\n</table>\n<p>1933 rows × 5 columns</p>\n</div>"
     },
     "metadata": {},
     "execution_count": 118
    }
   ],
   "source": [
    "mylist = []\n",
    "df3['problem']=df3['problem'].to_frame()\n",
    "df3"
   ]
  },
  {
   "cell_type": "code",
   "execution_count": 124,
   "metadata": {},
   "outputs": [],
   "source": [
    "df3.drop('Unnamed: 0.1', axis=1, inplace=True)"
   ]
  },
  {
   "cell_type": "code",
   "execution_count": 125,
   "metadata": {},
   "outputs": [],
   "source": [
    "df3.to_csv('data.csv')"
   ]
  },
  {
   "cell_type": "code",
   "execution_count": null,
   "metadata": {},
   "outputs": [],
   "source": []
  }
 ]
}