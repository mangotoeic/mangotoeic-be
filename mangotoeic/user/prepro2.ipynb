{
 "cells": [
  {
   "cell_type": "code",
   "execution_count": 1,
   "metadata": {},
   "outputs": [],
   "source": [
    "import pandas as pd"
   ]
  },
  {
   "cell_type": "code",
   "execution_count": 2,
   "metadata": {},
   "outputs": [
    {
     "output_type": "execute_result",
     "data": {
      "text/plain": [
       "             user_id  content_id    timestamp  user_answer  \\\n",
       "0                115           4     490100.0          1.0   \n",
       "1                115           6     621464.0          2.0   \n",
       "2                115          25     398020.0          1.0   \n",
       "3                115          45     534187.0          2.0   \n",
       "4                115          50     194190.0          3.0   \n",
       "...              ...         ...          ...          ...   \n",
       "56425299  2147482888        6147          0.0          0.0   \n",
       "56425300  2147482888        6341  428585000.0          3.0   \n",
       "56425301  2147482888        6435     152682.0          0.0   \n",
       "56425302  2147482888        7956     109739.0          0.0   \n",
       "56425303  2147482888        9283  253883847.0          0.0   \n",
       "\n",
       "          answered_correctly  prior_question_elapsed_time  \n",
       "0                        0.0                      29000.0  \n",
       "1                        1.0                      20000.0  \n",
       "2                        1.0                      21000.0  \n",
       "3                        0.0                      19000.0  \n",
       "4                        1.0                      17000.0  \n",
       "...                      ...                          ...  \n",
       "56425299                 1.0                          NaN  \n",
       "56425300                 1.0                      14000.0  \n",
       "56425301                 0.0                      20000.0  \n",
       "56425302                 1.0                      16000.0  \n",
       "56425303                 0.0                      41000.0  \n",
       "\n",
       "[56425304 rows x 6 columns]"
      ],
      "text/html": "<div>\n<style scoped>\n    .dataframe tbody tr th:only-of-type {\n        vertical-align: middle;\n    }\n\n    .dataframe tbody tr th {\n        vertical-align: top;\n    }\n\n    .dataframe thead th {\n        text-align: right;\n    }\n</style>\n<table border=\"1\" class=\"dataframe\">\n  <thead>\n    <tr style=\"text-align: right;\">\n      <th></th>\n      <th>user_id</th>\n      <th>content_id</th>\n      <th>timestamp</th>\n      <th>user_answer</th>\n      <th>answered_correctly</th>\n      <th>prior_question_elapsed_time</th>\n    </tr>\n  </thead>\n  <tbody>\n    <tr>\n      <th>0</th>\n      <td>115</td>\n      <td>4</td>\n      <td>490100.0</td>\n      <td>1.0</td>\n      <td>0.0</td>\n      <td>29000.0</td>\n    </tr>\n    <tr>\n      <th>1</th>\n      <td>115</td>\n      <td>6</td>\n      <td>621464.0</td>\n      <td>2.0</td>\n      <td>1.0</td>\n      <td>20000.0</td>\n    </tr>\n    <tr>\n      <th>2</th>\n      <td>115</td>\n      <td>25</td>\n      <td>398020.0</td>\n      <td>1.0</td>\n      <td>1.0</td>\n      <td>21000.0</td>\n    </tr>\n    <tr>\n      <th>3</th>\n      <td>115</td>\n      <td>45</td>\n      <td>534187.0</td>\n      <td>2.0</td>\n      <td>0.0</td>\n      <td>19000.0</td>\n    </tr>\n    <tr>\n      <th>4</th>\n      <td>115</td>\n      <td>50</td>\n      <td>194190.0</td>\n      <td>3.0</td>\n      <td>1.0</td>\n      <td>17000.0</td>\n    </tr>\n    <tr>\n      <th>...</th>\n      <td>...</td>\n      <td>...</td>\n      <td>...</td>\n      <td>...</td>\n      <td>...</td>\n      <td>...</td>\n    </tr>\n    <tr>\n      <th>56425299</th>\n      <td>2147482888</td>\n      <td>6147</td>\n      <td>0.0</td>\n      <td>0.0</td>\n      <td>1.0</td>\n      <td>NaN</td>\n    </tr>\n    <tr>\n      <th>56425300</th>\n      <td>2147482888</td>\n      <td>6341</td>\n      <td>428585000.0</td>\n      <td>3.0</td>\n      <td>1.0</td>\n      <td>14000.0</td>\n    </tr>\n    <tr>\n      <th>56425301</th>\n      <td>2147482888</td>\n      <td>6435</td>\n      <td>152682.0</td>\n      <td>0.0</td>\n      <td>0.0</td>\n      <td>20000.0</td>\n    </tr>\n    <tr>\n      <th>56425302</th>\n      <td>2147482888</td>\n      <td>7956</td>\n      <td>109739.0</td>\n      <td>0.0</td>\n      <td>1.0</td>\n      <td>16000.0</td>\n    </tr>\n    <tr>\n      <th>56425303</th>\n      <td>2147482888</td>\n      <td>9283</td>\n      <td>253883847.0</td>\n      <td>0.0</td>\n      <td>0.0</td>\n      <td>41000.0</td>\n    </tr>\n  </tbody>\n</table>\n<p>56425304 rows × 6 columns</p>\n</div>"
     },
     "metadata": {},
     "execution_count": 2
    }
   ],
   "source": [
    "df = pd.read_csv('./data/groupbyuser.csv')\n",
    "df"
   ]
  },
  {
   "cell_type": "code",
   "execution_count": 3,
   "metadata": {},
   "outputs": [
    {
     "output_type": "execute_result",
     "data": {
      "text/plain": [
       "40224694      3620\n",
       "7171715       3612\n",
       "1703582144    3611\n",
       "1950855874    3607\n",
       "314180295     3605\n",
       "              ... \n",
       "1573152469    3003\n",
       "761195752     3003\n",
       "1695578664    3002\n",
       "1412926620    3001\n",
       "1392734491    3001\n",
       "Name: user_id, Length: 363, dtype: int64"
      ]
     },
     "metadata": {},
     "execution_count": 3
    }
   ],
   "source": [
    "df2=df.user_id.value_counts()\n",
    "df2\n",
    "df2=df2[df2>3000]\n",
    "df2\n",
    "df2_list=df2.index.tolist()\n",
    "df2"
   ]
  },
  {
   "cell_type": "code",
   "execution_count": 4,
   "metadata": {},
   "outputs": [
    {
     "output_type": "execute_result",
     "data": {
      "text/plain": [
       "0           False\n",
       "1           False\n",
       "2           False\n",
       "3           False\n",
       "4           False\n",
       "            ...  \n",
       "56425299    False\n",
       "56425300    False\n",
       "56425301    False\n",
       "56425302    False\n",
       "56425303    False\n",
       "Name: user_id, Length: 56425304, dtype: bool"
      ]
     },
     "metadata": {},
     "execution_count": 4
    }
   ],
   "source": [
    "df.user_id.isin(df2_list)"
   ]
  },
  {
   "cell_type": "code",
   "execution_count": 5,
   "metadata": {},
   "outputs": [
    {
     "output_type": "execute_result",
     "data": {
      "text/plain": [
       "             user_id  content_id     timestamp  user_answer  \\\n",
       "200841       7171715           2  1.049494e+08          1.5   \n",
       "200842       7171715           3  1.081720e+06          0.0   \n",
       "200843       7171715           4  6.551641e+06          2.0   \n",
       "200844       7171715           5  7.164126e+06          3.0   \n",
       "200845       7171715           6  1.049930e+08          1.0   \n",
       "...              ...         ...           ...          ...   \n",
       "56348825  2144901781       10726  2.311947e+09          0.0   \n",
       "56348826  2144901781       10727  2.311947e+09          2.0   \n",
       "56348827  2144901781       11231  3.981166e+09          0.0   \n",
       "56348828  2144901781       11254  4.462140e+09          2.0   \n",
       "56348829  2144901781       11386  5.361148e+09          2.0   \n",
       "\n",
       "          answered_correctly  prior_question_elapsed_time  \n",
       "200841                   0.5                      12500.0  \n",
       "200842                   1.0                       1000.0  \n",
       "200843                   0.0                       2000.0  \n",
       "200844                   0.0                       5000.0  \n",
       "200845                   0.5                      13500.0  \n",
       "...                      ...                          ...  \n",
       "56348825                 0.0                      24666.0  \n",
       "56348826                 0.0                      24666.0  \n",
       "56348827                 0.0                      21000.0  \n",
       "56348828                 0.0                      28000.0  \n",
       "56348829                 1.0                      20000.0  \n",
       "\n",
       "[1176193 rows x 6 columns]"
      ],
      "text/html": "<div>\n<style scoped>\n    .dataframe tbody tr th:only-of-type {\n        vertical-align: middle;\n    }\n\n    .dataframe tbody tr th {\n        vertical-align: top;\n    }\n\n    .dataframe thead th {\n        text-align: right;\n    }\n</style>\n<table border=\"1\" class=\"dataframe\">\n  <thead>\n    <tr style=\"text-align: right;\">\n      <th></th>\n      <th>user_id</th>\n      <th>content_id</th>\n      <th>timestamp</th>\n      <th>user_answer</th>\n      <th>answered_correctly</th>\n      <th>prior_question_elapsed_time</th>\n    </tr>\n  </thead>\n  <tbody>\n    <tr>\n      <th>200841</th>\n      <td>7171715</td>\n      <td>2</td>\n      <td>1.049494e+08</td>\n      <td>1.5</td>\n      <td>0.5</td>\n      <td>12500.0</td>\n    </tr>\n    <tr>\n      <th>200842</th>\n      <td>7171715</td>\n      <td>3</td>\n      <td>1.081720e+06</td>\n      <td>0.0</td>\n      <td>1.0</td>\n      <td>1000.0</td>\n    </tr>\n    <tr>\n      <th>200843</th>\n      <td>7171715</td>\n      <td>4</td>\n      <td>6.551641e+06</td>\n      <td>2.0</td>\n      <td>0.0</td>\n      <td>2000.0</td>\n    </tr>\n    <tr>\n      <th>200844</th>\n      <td>7171715</td>\n      <td>5</td>\n      <td>7.164126e+06</td>\n      <td>3.0</td>\n      <td>0.0</td>\n      <td>5000.0</td>\n    </tr>\n    <tr>\n      <th>200845</th>\n      <td>7171715</td>\n      <td>6</td>\n      <td>1.049930e+08</td>\n      <td>1.0</td>\n      <td>0.5</td>\n      <td>13500.0</td>\n    </tr>\n    <tr>\n      <th>...</th>\n      <td>...</td>\n      <td>...</td>\n      <td>...</td>\n      <td>...</td>\n      <td>...</td>\n      <td>...</td>\n    </tr>\n    <tr>\n      <th>56348825</th>\n      <td>2144901781</td>\n      <td>10726</td>\n      <td>2.311947e+09</td>\n      <td>0.0</td>\n      <td>0.0</td>\n      <td>24666.0</td>\n    </tr>\n    <tr>\n      <th>56348826</th>\n      <td>2144901781</td>\n      <td>10727</td>\n      <td>2.311947e+09</td>\n      <td>2.0</td>\n      <td>0.0</td>\n      <td>24666.0</td>\n    </tr>\n    <tr>\n      <th>56348827</th>\n      <td>2144901781</td>\n      <td>11231</td>\n      <td>3.981166e+09</td>\n      <td>0.0</td>\n      <td>0.0</td>\n      <td>21000.0</td>\n    </tr>\n    <tr>\n      <th>56348828</th>\n      <td>2144901781</td>\n      <td>11254</td>\n      <td>4.462140e+09</td>\n      <td>2.0</td>\n      <td>0.0</td>\n      <td>28000.0</td>\n    </tr>\n    <tr>\n      <th>56348829</th>\n      <td>2144901781</td>\n      <td>11386</td>\n      <td>5.361148e+09</td>\n      <td>2.0</td>\n      <td>1.0</td>\n      <td>20000.0</td>\n    </tr>\n  </tbody>\n</table>\n<p>1176193 rows × 6 columns</p>\n</div>"
     },
     "metadata": {},
     "execution_count": 5
    }
   ],
   "source": [
    "df.user_id.isin(df2_list)\n",
    "df2 = df.loc[df.user_id.isin(df2_list)]\n",
    "df2"
   ]
  },
  {
   "cell_type": "code",
   "execution_count": 6,
   "metadata": {},
   "outputs": [],
   "source": [
    "df2 = df2.sort_values('content_id')  "
   ]
  },
  {
   "cell_type": "code",
   "execution_count": 7,
   "metadata": {},
   "outputs": [
    {
     "output_type": "execute_result",
     "data": {
      "text/plain": [
       "             user_id  content_id     timestamp  user_answer  \\\n",
       "200841       7171715           2  1.049494e+08     1.500000   \n",
       "44562436  1701923186           2  1.253318e+09     2.000000   \n",
       "44390042  1695578664           2  1.756751e+08     1.000000   \n",
       "6921626    269828787           2  2.280706e+10     0.666667   \n",
       "44386433  1695568554           2  1.465653e+09     0.000000   \n",
       "...              ...         ...           ...          ...   \n",
       "9357784    360996504       11426  2.894916e+10     0.000000   \n",
       "46843129  1789370835       11426  5.168481e+10     3.000000   \n",
       "35800468  1365217602       11426  3.492548e+10     1.000000   \n",
       "17943630   689295320       11426  2.315946e+09     1.000000   \n",
       "47528754  1815478584       11426  1.866148e+10     0.000000   \n",
       "\n",
       "          answered_correctly  prior_question_elapsed_time  \n",
       "200841              0.500000                 12500.000000  \n",
       "44562436            0.000000                 16000.000000  \n",
       "44390042            0.000000                     0.000000  \n",
       "6921626             0.666667                 24666.666667  \n",
       "44386433            1.000000                 31000.000000  \n",
       "...                      ...                          ...  \n",
       "9357784             0.000000                 37000.000000  \n",
       "46843129            1.000000                 33000.000000  \n",
       "35800468            0.000000                 12500.000000  \n",
       "17943630            0.000000                  8000.000000  \n",
       "47528754            0.000000                 10000.000000  \n",
       "\n",
       "[1176193 rows x 6 columns]"
      ],
      "text/html": "<div>\n<style scoped>\n    .dataframe tbody tr th:only-of-type {\n        vertical-align: middle;\n    }\n\n    .dataframe tbody tr th {\n        vertical-align: top;\n    }\n\n    .dataframe thead th {\n        text-align: right;\n    }\n</style>\n<table border=\"1\" class=\"dataframe\">\n  <thead>\n    <tr style=\"text-align: right;\">\n      <th></th>\n      <th>user_id</th>\n      <th>content_id</th>\n      <th>timestamp</th>\n      <th>user_answer</th>\n      <th>answered_correctly</th>\n      <th>prior_question_elapsed_time</th>\n    </tr>\n  </thead>\n  <tbody>\n    <tr>\n      <th>200841</th>\n      <td>7171715</td>\n      <td>2</td>\n      <td>1.049494e+08</td>\n      <td>1.500000</td>\n      <td>0.500000</td>\n      <td>12500.000000</td>\n    </tr>\n    <tr>\n      <th>44562436</th>\n      <td>1701923186</td>\n      <td>2</td>\n      <td>1.253318e+09</td>\n      <td>2.000000</td>\n      <td>0.000000</td>\n      <td>16000.000000</td>\n    </tr>\n    <tr>\n      <th>44390042</th>\n      <td>1695578664</td>\n      <td>2</td>\n      <td>1.756751e+08</td>\n      <td>1.000000</td>\n      <td>0.000000</td>\n      <td>0.000000</td>\n    </tr>\n    <tr>\n      <th>6921626</th>\n      <td>269828787</td>\n      <td>2</td>\n      <td>2.280706e+10</td>\n      <td>0.666667</td>\n      <td>0.666667</td>\n      <td>24666.666667</td>\n    </tr>\n    <tr>\n      <th>44386433</th>\n      <td>1695568554</td>\n      <td>2</td>\n      <td>1.465653e+09</td>\n      <td>0.000000</td>\n      <td>1.000000</td>\n      <td>31000.000000</td>\n    </tr>\n    <tr>\n      <th>...</th>\n      <td>...</td>\n      <td>...</td>\n      <td>...</td>\n      <td>...</td>\n      <td>...</td>\n      <td>...</td>\n    </tr>\n    <tr>\n      <th>9357784</th>\n      <td>360996504</td>\n      <td>11426</td>\n      <td>2.894916e+10</td>\n      <td>0.000000</td>\n      <td>0.000000</td>\n      <td>37000.000000</td>\n    </tr>\n    <tr>\n      <th>46843129</th>\n      <td>1789370835</td>\n      <td>11426</td>\n      <td>5.168481e+10</td>\n      <td>3.000000</td>\n      <td>1.000000</td>\n      <td>33000.000000</td>\n    </tr>\n    <tr>\n      <th>35800468</th>\n      <td>1365217602</td>\n      <td>11426</td>\n      <td>3.492548e+10</td>\n      <td>1.000000</td>\n      <td>0.000000</td>\n      <td>12500.000000</td>\n    </tr>\n    <tr>\n      <th>17943630</th>\n      <td>689295320</td>\n      <td>11426</td>\n      <td>2.315946e+09</td>\n      <td>1.000000</td>\n      <td>0.000000</td>\n      <td>8000.000000</td>\n    </tr>\n    <tr>\n      <th>47528754</th>\n      <td>1815478584</td>\n      <td>11426</td>\n      <td>1.866148e+10</td>\n      <td>0.000000</td>\n      <td>0.000000</td>\n      <td>10000.000000</td>\n    </tr>\n  </tbody>\n</table>\n<p>1176193 rows × 6 columns</p>\n</div>"
     },
     "metadata": {},
     "execution_count": 7
    }
   ],
   "source": [
    "df2"
   ]
  },
  {
   "cell_type": "code",
   "execution_count": 8,
   "metadata": {},
   "outputs": [
    {
     "output_type": "execute_result",
     "data": {
      "text/plain": [
       "200841         1\n",
       "44562436       1\n",
       "44390042       1\n",
       "6921626        1\n",
       "44386433       1\n",
       "            ... \n",
       "9357784     3624\n",
       "46843129    3624\n",
       "35800468    3624\n",
       "17943630    3624\n",
       "47528754    3624\n",
       "Name: content_id, Length: 1176193, dtype: int64"
      ]
     },
     "metadata": {},
     "execution_count": 8
    }
   ],
   "source": [
    "n= len(df2['content_id'].unique())\n",
    "series1=df2['content_id'].replace([x for x in df2['content_id'].unique()],[x for x in range(1,n+1)])\n",
    "series1"
   ]
  },
  {
   "cell_type": "code",
   "execution_count": 9,
   "metadata": {},
   "outputs": [
    {
     "output_type": "execute_result",
     "data": {
      "text/plain": [
       "pandas.core.series.Series"
      ]
     },
     "metadata": {},
     "execution_count": 9
    }
   ],
   "source": [
    "type(series1)"
   ]
  },
  {
   "cell_type": "code",
   "execution_count": 10,
   "metadata": {},
   "outputs": [],
   "source": [
    "s_to_d=series1.to_frame()"
   ]
  },
  {
   "cell_type": "code",
   "execution_count": 11,
   "metadata": {},
   "outputs": [
    {
     "output_type": "execute_result",
     "data": {
      "text/plain": [
       "             user_id     timestamp  user_answer  answered_correctly  \\\n",
       "200841       7171715  1.049494e+08     1.500000            0.500000   \n",
       "44562436  1701923186  1.253318e+09     2.000000            0.000000   \n",
       "44390042  1695578664  1.756751e+08     1.000000            0.000000   \n",
       "6921626    269828787  2.280706e+10     0.666667            0.666667   \n",
       "44386433  1695568554  1.465653e+09     0.000000            1.000000   \n",
       "...              ...           ...          ...                 ...   \n",
       "9357784    360996504  2.894916e+10     0.000000            0.000000   \n",
       "46843129  1789370835  5.168481e+10     3.000000            1.000000   \n",
       "35800468  1365217602  3.492548e+10     1.000000            0.000000   \n",
       "17943630   689295320  2.315946e+09     1.000000            0.000000   \n",
       "47528754  1815478584  1.866148e+10     0.000000            0.000000   \n",
       "\n",
       "          prior_question_elapsed_time  \n",
       "200841                   12500.000000  \n",
       "44562436                 16000.000000  \n",
       "44390042                     0.000000  \n",
       "6921626                  24666.666667  \n",
       "44386433                 31000.000000  \n",
       "...                               ...  \n",
       "9357784                  37000.000000  \n",
       "46843129                 33000.000000  \n",
       "35800468                 12500.000000  \n",
       "17943630                  8000.000000  \n",
       "47528754                 10000.000000  \n",
       "\n",
       "[1176193 rows x 5 columns]"
      ],
      "text/html": "<div>\n<style scoped>\n    .dataframe tbody tr th:only-of-type {\n        vertical-align: middle;\n    }\n\n    .dataframe tbody tr th {\n        vertical-align: top;\n    }\n\n    .dataframe thead th {\n        text-align: right;\n    }\n</style>\n<table border=\"1\" class=\"dataframe\">\n  <thead>\n    <tr style=\"text-align: right;\">\n      <th></th>\n      <th>user_id</th>\n      <th>timestamp</th>\n      <th>user_answer</th>\n      <th>answered_correctly</th>\n      <th>prior_question_elapsed_time</th>\n    </tr>\n  </thead>\n  <tbody>\n    <tr>\n      <th>200841</th>\n      <td>7171715</td>\n      <td>1.049494e+08</td>\n      <td>1.500000</td>\n      <td>0.500000</td>\n      <td>12500.000000</td>\n    </tr>\n    <tr>\n      <th>44562436</th>\n      <td>1701923186</td>\n      <td>1.253318e+09</td>\n      <td>2.000000</td>\n      <td>0.000000</td>\n      <td>16000.000000</td>\n    </tr>\n    <tr>\n      <th>44390042</th>\n      <td>1695578664</td>\n      <td>1.756751e+08</td>\n      <td>1.000000</td>\n      <td>0.000000</td>\n      <td>0.000000</td>\n    </tr>\n    <tr>\n      <th>6921626</th>\n      <td>269828787</td>\n      <td>2.280706e+10</td>\n      <td>0.666667</td>\n      <td>0.666667</td>\n      <td>24666.666667</td>\n    </tr>\n    <tr>\n      <th>44386433</th>\n      <td>1695568554</td>\n      <td>1.465653e+09</td>\n      <td>0.000000</td>\n      <td>1.000000</td>\n      <td>31000.000000</td>\n    </tr>\n    <tr>\n      <th>...</th>\n      <td>...</td>\n      <td>...</td>\n      <td>...</td>\n      <td>...</td>\n      <td>...</td>\n    </tr>\n    <tr>\n      <th>9357784</th>\n      <td>360996504</td>\n      <td>2.894916e+10</td>\n      <td>0.000000</td>\n      <td>0.000000</td>\n      <td>37000.000000</td>\n    </tr>\n    <tr>\n      <th>46843129</th>\n      <td>1789370835</td>\n      <td>5.168481e+10</td>\n      <td>3.000000</td>\n      <td>1.000000</td>\n      <td>33000.000000</td>\n    </tr>\n    <tr>\n      <th>35800468</th>\n      <td>1365217602</td>\n      <td>3.492548e+10</td>\n      <td>1.000000</td>\n      <td>0.000000</td>\n      <td>12500.000000</td>\n    </tr>\n    <tr>\n      <th>17943630</th>\n      <td>689295320</td>\n      <td>2.315946e+09</td>\n      <td>1.000000</td>\n      <td>0.000000</td>\n      <td>8000.000000</td>\n    </tr>\n    <tr>\n      <th>47528754</th>\n      <td>1815478584</td>\n      <td>1.866148e+10</td>\n      <td>0.000000</td>\n      <td>0.000000</td>\n      <td>10000.000000</td>\n    </tr>\n  </tbody>\n</table>\n<p>1176193 rows × 5 columns</p>\n</div>"
     },
     "metadata": {},
     "execution_count": 11
    }
   ],
   "source": [
    "df2=df2.drop(['content_id'], axis=1)\n",
    "df2"
   ]
  },
  {
   "cell_type": "code",
   "execution_count": 12,
   "metadata": {},
   "outputs": [],
   "source": [
    "newdf=pd.merge(s_to_d,df2, left_index=True , right_index=True ,how='left')"
   ]
  },
  {
   "cell_type": "code",
   "execution_count": 13,
   "metadata": {},
   "outputs": [
    {
     "output_type": "execute_result",
     "data": {
      "text/plain": [
       "          content_id     user_id     timestamp  user_answer  \\\n",
       "200841             1     7171715  1.049494e+08     1.500000   \n",
       "44562436           1  1701923186  1.253318e+09     2.000000   \n",
       "44390042           1  1695578664  1.756751e+08     1.000000   \n",
       "6921626            1   269828787  2.280706e+10     0.666667   \n",
       "44386433           1  1695568554  1.465653e+09     0.000000   \n",
       "...              ...         ...           ...          ...   \n",
       "9357784         3624   360996504  2.894916e+10     0.000000   \n",
       "46843129        3624  1789370835  5.168481e+10     3.000000   \n",
       "35800468        3624  1365217602  3.492548e+10     1.000000   \n",
       "17943630        3624   689295320  2.315946e+09     1.000000   \n",
       "47528754        3624  1815478584  1.866148e+10     0.000000   \n",
       "\n",
       "          answered_correctly  prior_question_elapsed_time  \n",
       "200841              0.500000                 12500.000000  \n",
       "44562436            0.000000                 16000.000000  \n",
       "44390042            0.000000                     0.000000  \n",
       "6921626             0.666667                 24666.666667  \n",
       "44386433            1.000000                 31000.000000  \n",
       "...                      ...                          ...  \n",
       "9357784             0.000000                 37000.000000  \n",
       "46843129            1.000000                 33000.000000  \n",
       "35800468            0.000000                 12500.000000  \n",
       "17943630            0.000000                  8000.000000  \n",
       "47528754            0.000000                 10000.000000  \n",
       "\n",
       "[1176193 rows x 6 columns]"
      ],
      "text/html": "<div>\n<style scoped>\n    .dataframe tbody tr th:only-of-type {\n        vertical-align: middle;\n    }\n\n    .dataframe tbody tr th {\n        vertical-align: top;\n    }\n\n    .dataframe thead th {\n        text-align: right;\n    }\n</style>\n<table border=\"1\" class=\"dataframe\">\n  <thead>\n    <tr style=\"text-align: right;\">\n      <th></th>\n      <th>content_id</th>\n      <th>user_id</th>\n      <th>timestamp</th>\n      <th>user_answer</th>\n      <th>answered_correctly</th>\n      <th>prior_question_elapsed_time</th>\n    </tr>\n  </thead>\n  <tbody>\n    <tr>\n      <th>200841</th>\n      <td>1</td>\n      <td>7171715</td>\n      <td>1.049494e+08</td>\n      <td>1.500000</td>\n      <td>0.500000</td>\n      <td>12500.000000</td>\n    </tr>\n    <tr>\n      <th>44562436</th>\n      <td>1</td>\n      <td>1701923186</td>\n      <td>1.253318e+09</td>\n      <td>2.000000</td>\n      <td>0.000000</td>\n      <td>16000.000000</td>\n    </tr>\n    <tr>\n      <th>44390042</th>\n      <td>1</td>\n      <td>1695578664</td>\n      <td>1.756751e+08</td>\n      <td>1.000000</td>\n      <td>0.000000</td>\n      <td>0.000000</td>\n    </tr>\n    <tr>\n      <th>6921626</th>\n      <td>1</td>\n      <td>269828787</td>\n      <td>2.280706e+10</td>\n      <td>0.666667</td>\n      <td>0.666667</td>\n      <td>24666.666667</td>\n    </tr>\n    <tr>\n      <th>44386433</th>\n      <td>1</td>\n      <td>1695568554</td>\n      <td>1.465653e+09</td>\n      <td>0.000000</td>\n      <td>1.000000</td>\n      <td>31000.000000</td>\n    </tr>\n    <tr>\n      <th>...</th>\n      <td>...</td>\n      <td>...</td>\n      <td>...</td>\n      <td>...</td>\n      <td>...</td>\n      <td>...</td>\n    </tr>\n    <tr>\n      <th>9357784</th>\n      <td>3624</td>\n      <td>360996504</td>\n      <td>2.894916e+10</td>\n      <td>0.000000</td>\n      <td>0.000000</td>\n      <td>37000.000000</td>\n    </tr>\n    <tr>\n      <th>46843129</th>\n      <td>3624</td>\n      <td>1789370835</td>\n      <td>5.168481e+10</td>\n      <td>3.000000</td>\n      <td>1.000000</td>\n      <td>33000.000000</td>\n    </tr>\n    <tr>\n      <th>35800468</th>\n      <td>3624</td>\n      <td>1365217602</td>\n      <td>3.492548e+10</td>\n      <td>1.000000</td>\n      <td>0.000000</td>\n      <td>12500.000000</td>\n    </tr>\n    <tr>\n      <th>17943630</th>\n      <td>3624</td>\n      <td>689295320</td>\n      <td>2.315946e+09</td>\n      <td>1.000000</td>\n      <td>0.000000</td>\n      <td>8000.000000</td>\n    </tr>\n    <tr>\n      <th>47528754</th>\n      <td>3624</td>\n      <td>1815478584</td>\n      <td>1.866148e+10</td>\n      <td>0.000000</td>\n      <td>0.000000</td>\n      <td>10000.000000</td>\n    </tr>\n  </tbody>\n</table>\n<p>1176193 rows × 6 columns</p>\n</div>"
     },
     "metadata": {},
     "execution_count": 13
    }
   ],
   "source": [
    "newdf"
   ]
  },
  {
   "cell_type": "code",
   "execution_count": 14,
   "metadata": {},
   "outputs": [
    {
     "output_type": "execute_result",
     "data": {
      "text/plain": [
       "          content_id     user_id     timestamp  user_answer  \\\n",
       "200841             1     7171715  1.049494e+08          1.5   \n",
       "203403          2564     7171715  1.265955e+08          2.0   \n",
       "202526          1687     7171715  1.382894e+08          2.0   \n",
       "201714           875     7171715  7.387363e+06          3.0   \n",
       "202915          2076     7171715  4.049406e+07          3.0   \n",
       "...              ...         ...           ...          ...   \n",
       "56346673        1051  2144901781  3.640163e+09          1.0   \n",
       "56348308        2880  2144901781  3.075743e+09          0.0   \n",
       "56347863        2427  2144901781  2.309024e+09          2.0   \n",
       "56347434        1988  2144901781  1.891488e+09          3.0   \n",
       "56346349         727  2144901781  4.329190e+09          3.0   \n",
       "\n",
       "          answered_correctly  prior_question_elapsed_time  \n",
       "200841                   0.5                      12500.0  \n",
       "203403                   0.0                          0.0  \n",
       "202526                   1.0                       2000.0  \n",
       "201714                   1.0                       9000.0  \n",
       "202915                   0.0                          0.0  \n",
       "...                      ...                          ...  \n",
       "56346673                 0.0                      15000.0  \n",
       "56348308                 0.0                      40750.0  \n",
       "56347863                 0.0                      19000.0  \n",
       "56347434                 0.0                      17000.0  \n",
       "56346349                 1.0                      15000.0  \n",
       "\n",
       "[1176193 rows x 6 columns]"
      ],
      "text/html": "<div>\n<style scoped>\n    .dataframe tbody tr th:only-of-type {\n        vertical-align: middle;\n    }\n\n    .dataframe tbody tr th {\n        vertical-align: top;\n    }\n\n    .dataframe thead th {\n        text-align: right;\n    }\n</style>\n<table border=\"1\" class=\"dataframe\">\n  <thead>\n    <tr style=\"text-align: right;\">\n      <th></th>\n      <th>content_id</th>\n      <th>user_id</th>\n      <th>timestamp</th>\n      <th>user_answer</th>\n      <th>answered_correctly</th>\n      <th>prior_question_elapsed_time</th>\n    </tr>\n  </thead>\n  <tbody>\n    <tr>\n      <th>200841</th>\n      <td>1</td>\n      <td>7171715</td>\n      <td>1.049494e+08</td>\n      <td>1.5</td>\n      <td>0.5</td>\n      <td>12500.0</td>\n    </tr>\n    <tr>\n      <th>203403</th>\n      <td>2564</td>\n      <td>7171715</td>\n      <td>1.265955e+08</td>\n      <td>2.0</td>\n      <td>0.0</td>\n      <td>0.0</td>\n    </tr>\n    <tr>\n      <th>202526</th>\n      <td>1687</td>\n      <td>7171715</td>\n      <td>1.382894e+08</td>\n      <td>2.0</td>\n      <td>1.0</td>\n      <td>2000.0</td>\n    </tr>\n    <tr>\n      <th>201714</th>\n      <td>875</td>\n      <td>7171715</td>\n      <td>7.387363e+06</td>\n      <td>3.0</td>\n      <td>1.0</td>\n      <td>9000.0</td>\n    </tr>\n    <tr>\n      <th>202915</th>\n      <td>2076</td>\n      <td>7171715</td>\n      <td>4.049406e+07</td>\n      <td>3.0</td>\n      <td>0.0</td>\n      <td>0.0</td>\n    </tr>\n    <tr>\n      <th>...</th>\n      <td>...</td>\n      <td>...</td>\n      <td>...</td>\n      <td>...</td>\n      <td>...</td>\n      <td>...</td>\n    </tr>\n    <tr>\n      <th>56346673</th>\n      <td>1051</td>\n      <td>2144901781</td>\n      <td>3.640163e+09</td>\n      <td>1.0</td>\n      <td>0.0</td>\n      <td>15000.0</td>\n    </tr>\n    <tr>\n      <th>56348308</th>\n      <td>2880</td>\n      <td>2144901781</td>\n      <td>3.075743e+09</td>\n      <td>0.0</td>\n      <td>0.0</td>\n      <td>40750.0</td>\n    </tr>\n    <tr>\n      <th>56347863</th>\n      <td>2427</td>\n      <td>2144901781</td>\n      <td>2.309024e+09</td>\n      <td>2.0</td>\n      <td>0.0</td>\n      <td>19000.0</td>\n    </tr>\n    <tr>\n      <th>56347434</th>\n      <td>1988</td>\n      <td>2144901781</td>\n      <td>1.891488e+09</td>\n      <td>3.0</td>\n      <td>0.0</td>\n      <td>17000.0</td>\n    </tr>\n    <tr>\n      <th>56346349</th>\n      <td>727</td>\n      <td>2144901781</td>\n      <td>4.329190e+09</td>\n      <td>3.0</td>\n      <td>1.0</td>\n      <td>15000.0</td>\n    </tr>\n  </tbody>\n</table>\n<p>1176193 rows × 6 columns</p>\n</div>"
     },
     "metadata": {},
     "execution_count": 14
    }
   ],
   "source": [
    "df2 = newdf.sort_values('user_id')  \n",
    "df2"
   ]
  },
  {
   "cell_type": "code",
   "execution_count": 15,
   "metadata": {},
   "outputs": [
    {
     "output_type": "execute_result",
     "data": {
      "text/plain": [
       "200841        1\n",
       "203403        1\n",
       "202526        1\n",
       "201714        1\n",
       "202915        1\n",
       "           ... \n",
       "56346673    363\n",
       "56348308    363\n",
       "56347863    363\n",
       "56347434    363\n",
       "56346349    363\n",
       "Name: user_id, Length: 1176193, dtype: int64"
      ]
     },
     "metadata": {},
     "execution_count": 15
    }
   ],
   "source": [
    "n= len(df2['user_id'].unique())\n",
    "series2=df2['user_id'].replace([x for x in df2['user_id'].unique()],[x for x in range(1,n+1)])\n",
    "series2"
   ]
  },
  {
   "cell_type": "code",
   "execution_count": 16,
   "metadata": {},
   "outputs": [],
   "source": [
    "s_to_d2=series2.to_frame()"
   ]
  },
  {
   "cell_type": "code",
   "execution_count": 17,
   "metadata": {},
   "outputs": [],
   "source": [
    "df2=df2.drop(['user_id'],axis=1)"
   ]
  },
  {
   "cell_type": "code",
   "execution_count": 18,
   "metadata": {},
   "outputs": [],
   "source": [
    "newdf=pd.merge(s_to_d2,df2, left_index=True , right_index=True ,how='left')"
   ]
  },
  {
   "cell_type": "code",
   "execution_count": 19,
   "metadata": {},
   "outputs": [
    {
     "output_type": "execute_result",
     "data": {
      "text/plain": [
       "          user_id  content_id     timestamp  user_answer  answered_correctly  \\\n",
       "200841          1           1  1.049494e+08          1.5                 0.5   \n",
       "203403          1        2564  1.265955e+08          2.0                 0.0   \n",
       "202526          1        1687  1.382894e+08          2.0                 1.0   \n",
       "201714          1         875  7.387363e+06          3.0                 1.0   \n",
       "202915          1        2076  4.049406e+07          3.0                 0.0   \n",
       "...           ...         ...           ...          ...                 ...   \n",
       "56346673      363        1051  3.640163e+09          1.0                 0.0   \n",
       "56348308      363        2880  3.075743e+09          0.0                 0.0   \n",
       "56347863      363        2427  2.309024e+09          2.0                 0.0   \n",
       "56347434      363        1988  1.891488e+09          3.0                 0.0   \n",
       "56346349      363         727  4.329190e+09          3.0                 1.0   \n",
       "\n",
       "          prior_question_elapsed_time  \n",
       "200841                        12500.0  \n",
       "203403                            0.0  \n",
       "202526                         2000.0  \n",
       "201714                         9000.0  \n",
       "202915                            0.0  \n",
       "...                               ...  \n",
       "56346673                      15000.0  \n",
       "56348308                      40750.0  \n",
       "56347863                      19000.0  \n",
       "56347434                      17000.0  \n",
       "56346349                      15000.0  \n",
       "\n",
       "[1176193 rows x 6 columns]"
      ],
      "text/html": "<div>\n<style scoped>\n    .dataframe tbody tr th:only-of-type {\n        vertical-align: middle;\n    }\n\n    .dataframe tbody tr th {\n        vertical-align: top;\n    }\n\n    .dataframe thead th {\n        text-align: right;\n    }\n</style>\n<table border=\"1\" class=\"dataframe\">\n  <thead>\n    <tr style=\"text-align: right;\">\n      <th></th>\n      <th>user_id</th>\n      <th>content_id</th>\n      <th>timestamp</th>\n      <th>user_answer</th>\n      <th>answered_correctly</th>\n      <th>prior_question_elapsed_time</th>\n    </tr>\n  </thead>\n  <tbody>\n    <tr>\n      <th>200841</th>\n      <td>1</td>\n      <td>1</td>\n      <td>1.049494e+08</td>\n      <td>1.5</td>\n      <td>0.5</td>\n      <td>12500.0</td>\n    </tr>\n    <tr>\n      <th>203403</th>\n      <td>1</td>\n      <td>2564</td>\n      <td>1.265955e+08</td>\n      <td>2.0</td>\n      <td>0.0</td>\n      <td>0.0</td>\n    </tr>\n    <tr>\n      <th>202526</th>\n      <td>1</td>\n      <td>1687</td>\n      <td>1.382894e+08</td>\n      <td>2.0</td>\n      <td>1.0</td>\n      <td>2000.0</td>\n    </tr>\n    <tr>\n      <th>201714</th>\n      <td>1</td>\n      <td>875</td>\n      <td>7.387363e+06</td>\n      <td>3.0</td>\n      <td>1.0</td>\n      <td>9000.0</td>\n    </tr>\n    <tr>\n      <th>202915</th>\n      <td>1</td>\n      <td>2076</td>\n      <td>4.049406e+07</td>\n      <td>3.0</td>\n      <td>0.0</td>\n      <td>0.0</td>\n    </tr>\n    <tr>\n      <th>...</th>\n      <td>...</td>\n      <td>...</td>\n      <td>...</td>\n      <td>...</td>\n      <td>...</td>\n      <td>...</td>\n    </tr>\n    <tr>\n      <th>56346673</th>\n      <td>363</td>\n      <td>1051</td>\n      <td>3.640163e+09</td>\n      <td>1.0</td>\n      <td>0.0</td>\n      <td>15000.0</td>\n    </tr>\n    <tr>\n      <th>56348308</th>\n      <td>363</td>\n      <td>2880</td>\n      <td>3.075743e+09</td>\n      <td>0.0</td>\n      <td>0.0</td>\n      <td>40750.0</td>\n    </tr>\n    <tr>\n      <th>56347863</th>\n      <td>363</td>\n      <td>2427</td>\n      <td>2.309024e+09</td>\n      <td>2.0</td>\n      <td>0.0</td>\n      <td>19000.0</td>\n    </tr>\n    <tr>\n      <th>56347434</th>\n      <td>363</td>\n      <td>1988</td>\n      <td>1.891488e+09</td>\n      <td>3.0</td>\n      <td>0.0</td>\n      <td>17000.0</td>\n    </tr>\n    <tr>\n      <th>56346349</th>\n      <td>363</td>\n      <td>727</td>\n      <td>4.329190e+09</td>\n      <td>3.0</td>\n      <td>1.0</td>\n      <td>15000.0</td>\n    </tr>\n  </tbody>\n</table>\n<p>1176193 rows × 6 columns</p>\n</div>"
     },
     "metadata": {},
     "execution_count": 19
    }
   ],
   "source": [
    "\n",
    "newdf"
   ]
  },
  {
   "cell_type": "code",
   "execution_count": 20,
   "metadata": {},
   "outputs": [],
   "source": [
    "newdf.to_csv('./data/newreindex.csv')"
   ]
  }
 ],
 "metadata": {
  "kernelspec": {
   "display_name": "Python 3",
   "language": "python",
   "name": "python3"
  },
  "language_info": {
   "codemirror_mode": {
    "name": "ipython",
    "version": 3
   },
   "file_extension": ".py",
   "mimetype": "text/x-python",
   "name": "python",
   "nbconvert_exporter": "python",
   "pygments_lexer": "ipython3",
   "version": "3.8.3-final"
  }
 },
 "nbformat": 4,
 "nbformat_minor": 4
}