{
 "cells": [
  {
   "cell_type": "code",
   "execution_count": 1,
   "metadata": {},
   "outputs": [
    {
     "output_type": "execute_result",
     "data": {
      "text/plain": [
       "              row_id  timestamp     user_id  content_id  content_type_id  \\\n",
       "0                  0          0         115        5692                0   \n",
       "1                  1      56943         115        5716                0   \n",
       "2                  2     118363         115         128                0   \n",
       "3                  3     131167         115        7860                0   \n",
       "4                  4     137965         115        7922                0   \n",
       "...              ...        ...         ...         ...              ...   \n",
       "101230327  101230327  428564420  2147482888        3586                0   \n",
       "101230328  101230328  428585000  2147482888        6341                0   \n",
       "101230329  101230329  428613475  2147482888        4212                0   \n",
       "101230330  101230330  428649406  2147482888        6343                0   \n",
       "101230331  101230331  428692118  2147482888        7995                0   \n",
       "\n",
       "           task_container_id  user_answer  answered_correctly  \\\n",
       "0                          1            3                   1   \n",
       "1                          2            2                   1   \n",
       "2                          0            0                   1   \n",
       "3                          3            0                   1   \n",
       "4                          4            1                   1   \n",
       "...                      ...          ...                 ...   \n",
       "101230327                 22            0                   1   \n",
       "101230328                 23            3                   1   \n",
       "101230329                 24            3                   1   \n",
       "101230330                 25            1                   0   \n",
       "101230331                 26            3                   1   \n",
       "\n",
       "           prior_question_elapsed_time prior_question_had_explanation  \n",
       "0                                  NaN                            NaN  \n",
       "1                              37000.0                          False  \n",
       "2                              55000.0                          False  \n",
       "3                              19000.0                          False  \n",
       "4                              11000.0                          False  \n",
       "...                                ...                            ...  \n",
       "101230327                      18000.0                           True  \n",
       "101230328                      14000.0                           True  \n",
       "101230329                      14000.0                           True  \n",
       "101230330                      22000.0                           True  \n",
       "101230331                      29000.0                           True  \n",
       "\n",
       "[101230332 rows x 10 columns]"
      ],
      "text/html": "<div>\n<style scoped>\n    .dataframe tbody tr th:only-of-type {\n        vertical-align: middle;\n    }\n\n    .dataframe tbody tr th {\n        vertical-align: top;\n    }\n\n    .dataframe thead th {\n        text-align: right;\n    }\n</style>\n<table border=\"1\" class=\"dataframe\">\n  <thead>\n    <tr style=\"text-align: right;\">\n      <th></th>\n      <th>row_id</th>\n      <th>timestamp</th>\n      <th>user_id</th>\n      <th>content_id</th>\n      <th>content_type_id</th>\n      <th>task_container_id</th>\n      <th>user_answer</th>\n      <th>answered_correctly</th>\n      <th>prior_question_elapsed_time</th>\n      <th>prior_question_had_explanation</th>\n    </tr>\n  </thead>\n  <tbody>\n    <tr>\n      <th>0</th>\n      <td>0</td>\n      <td>0</td>\n      <td>115</td>\n      <td>5692</td>\n      <td>0</td>\n      <td>1</td>\n      <td>3</td>\n      <td>1</td>\n      <td>NaN</td>\n      <td>NaN</td>\n    </tr>\n    <tr>\n      <th>1</th>\n      <td>1</td>\n      <td>56943</td>\n      <td>115</td>\n      <td>5716</td>\n      <td>0</td>\n      <td>2</td>\n      <td>2</td>\n      <td>1</td>\n      <td>37000.0</td>\n      <td>False</td>\n    </tr>\n    <tr>\n      <th>2</th>\n      <td>2</td>\n      <td>118363</td>\n      <td>115</td>\n      <td>128</td>\n      <td>0</td>\n      <td>0</td>\n      <td>0</td>\n      <td>1</td>\n      <td>55000.0</td>\n      <td>False</td>\n    </tr>\n    <tr>\n      <th>3</th>\n      <td>3</td>\n      <td>131167</td>\n      <td>115</td>\n      <td>7860</td>\n      <td>0</td>\n      <td>3</td>\n      <td>0</td>\n      <td>1</td>\n      <td>19000.0</td>\n      <td>False</td>\n    </tr>\n    <tr>\n      <th>4</th>\n      <td>4</td>\n      <td>137965</td>\n      <td>115</td>\n      <td>7922</td>\n      <td>0</td>\n      <td>4</td>\n      <td>1</td>\n      <td>1</td>\n      <td>11000.0</td>\n      <td>False</td>\n    </tr>\n    <tr>\n      <th>...</th>\n      <td>...</td>\n      <td>...</td>\n      <td>...</td>\n      <td>...</td>\n      <td>...</td>\n      <td>...</td>\n      <td>...</td>\n      <td>...</td>\n      <td>...</td>\n      <td>...</td>\n    </tr>\n    <tr>\n      <th>101230327</th>\n      <td>101230327</td>\n      <td>428564420</td>\n      <td>2147482888</td>\n      <td>3586</td>\n      <td>0</td>\n      <td>22</td>\n      <td>0</td>\n      <td>1</td>\n      <td>18000.0</td>\n      <td>True</td>\n    </tr>\n    <tr>\n      <th>101230328</th>\n      <td>101230328</td>\n      <td>428585000</td>\n      <td>2147482888</td>\n      <td>6341</td>\n      <td>0</td>\n      <td>23</td>\n      <td>3</td>\n      <td>1</td>\n      <td>14000.0</td>\n      <td>True</td>\n    </tr>\n    <tr>\n      <th>101230329</th>\n      <td>101230329</td>\n      <td>428613475</td>\n      <td>2147482888</td>\n      <td>4212</td>\n      <td>0</td>\n      <td>24</td>\n      <td>3</td>\n      <td>1</td>\n      <td>14000.0</td>\n      <td>True</td>\n    </tr>\n    <tr>\n      <th>101230330</th>\n      <td>101230330</td>\n      <td>428649406</td>\n      <td>2147482888</td>\n      <td>6343</td>\n      <td>0</td>\n      <td>25</td>\n      <td>1</td>\n      <td>0</td>\n      <td>22000.0</td>\n      <td>True</td>\n    </tr>\n    <tr>\n      <th>101230331</th>\n      <td>101230331</td>\n      <td>428692118</td>\n      <td>2147482888</td>\n      <td>7995</td>\n      <td>0</td>\n      <td>26</td>\n      <td>3</td>\n      <td>1</td>\n      <td>29000.0</td>\n      <td>True</td>\n    </tr>\n  </tbody>\n</table>\n<p>101230332 rows × 10 columns</p>\n</div>"
     },
     "metadata": {},
     "execution_count": 1
    }
   ],
   "source": [
    "import pandas as pd\n",
    "data_path = './data/train.csv'\n",
    "df = pd.read_csv(data_path)\n",
    "df\n"
   ]
  },
  {
   "cell_type": "code",
   "execution_count": 2,
   "metadata": {},
   "outputs": [
    {
     "output_type": "execute_result",
     "data": {
      "text/plain": [
       "           timestamp     user_id  content_id  user_answer  answered_correctly  \\\n",
       "0                  0         115        5692            3                   1   \n",
       "1              56943         115        5716            2                   1   \n",
       "2             118363         115         128            0                   1   \n",
       "3             131167         115        7860            0                   1   \n",
       "4             137965         115        7922            1                   1   \n",
       "...              ...         ...         ...          ...                 ...   \n",
       "101230327  428564420  2147482888        3586            0                   1   \n",
       "101230328  428585000  2147482888        6341            3                   1   \n",
       "101230329  428613475  2147482888        4212            3                   1   \n",
       "101230330  428649406  2147482888        6343            1                   0   \n",
       "101230331  428692118  2147482888        7995            3                   1   \n",
       "\n",
       "           prior_question_elapsed_time  \n",
       "0                                  NaN  \n",
       "1                              37000.0  \n",
       "2                              55000.0  \n",
       "3                              19000.0  \n",
       "4                              11000.0  \n",
       "...                                ...  \n",
       "101230327                      18000.0  \n",
       "101230328                      14000.0  \n",
       "101230329                      14000.0  \n",
       "101230330                      22000.0  \n",
       "101230331                      29000.0  \n",
       "\n",
       "[99271300 rows x 6 columns]"
      ],
      "text/html": "<div>\n<style scoped>\n    .dataframe tbody tr th:only-of-type {\n        vertical-align: middle;\n    }\n\n    .dataframe tbody tr th {\n        vertical-align: top;\n    }\n\n    .dataframe thead th {\n        text-align: right;\n    }\n</style>\n<table border=\"1\" class=\"dataframe\">\n  <thead>\n    <tr style=\"text-align: right;\">\n      <th></th>\n      <th>timestamp</th>\n      <th>user_id</th>\n      <th>content_id</th>\n      <th>user_answer</th>\n      <th>answered_correctly</th>\n      <th>prior_question_elapsed_time</th>\n    </tr>\n  </thead>\n  <tbody>\n    <tr>\n      <th>0</th>\n      <td>0</td>\n      <td>115</td>\n      <td>5692</td>\n      <td>3</td>\n      <td>1</td>\n      <td>NaN</td>\n    </tr>\n    <tr>\n      <th>1</th>\n      <td>56943</td>\n      <td>115</td>\n      <td>5716</td>\n      <td>2</td>\n      <td>1</td>\n      <td>37000.0</td>\n    </tr>\n    <tr>\n      <th>2</th>\n      <td>118363</td>\n      <td>115</td>\n      <td>128</td>\n      <td>0</td>\n      <td>1</td>\n      <td>55000.0</td>\n    </tr>\n    <tr>\n      <th>3</th>\n      <td>131167</td>\n      <td>115</td>\n      <td>7860</td>\n      <td>0</td>\n      <td>1</td>\n      <td>19000.0</td>\n    </tr>\n    <tr>\n      <th>4</th>\n      <td>137965</td>\n      <td>115</td>\n      <td>7922</td>\n      <td>1</td>\n      <td>1</td>\n      <td>11000.0</td>\n    </tr>\n    <tr>\n      <th>...</th>\n      <td>...</td>\n      <td>...</td>\n      <td>...</td>\n      <td>...</td>\n      <td>...</td>\n      <td>...</td>\n    </tr>\n    <tr>\n      <th>101230327</th>\n      <td>428564420</td>\n      <td>2147482888</td>\n      <td>3586</td>\n      <td>0</td>\n      <td>1</td>\n      <td>18000.0</td>\n    </tr>\n    <tr>\n      <th>101230328</th>\n      <td>428585000</td>\n      <td>2147482888</td>\n      <td>6341</td>\n      <td>3</td>\n      <td>1</td>\n      <td>14000.0</td>\n    </tr>\n    <tr>\n      <th>101230329</th>\n      <td>428613475</td>\n      <td>2147482888</td>\n      <td>4212</td>\n      <td>3</td>\n      <td>1</td>\n      <td>14000.0</td>\n    </tr>\n    <tr>\n      <th>101230330</th>\n      <td>428649406</td>\n      <td>2147482888</td>\n      <td>6343</td>\n      <td>1</td>\n      <td>0</td>\n      <td>22000.0</td>\n    </tr>\n    <tr>\n      <th>101230331</th>\n      <td>428692118</td>\n      <td>2147482888</td>\n      <td>7995</td>\n      <td>3</td>\n      <td>1</td>\n      <td>29000.0</td>\n    </tr>\n  </tbody>\n</table>\n<p>99271300 rows × 6 columns</p>\n</div>"
     },
     "metadata": {},
     "execution_count": 2
    }
   ],
   "source": [
    "df1 = df.drop(['row_id', 'content_type_id', 'task_container_id', 'prior_question_had_explanation'], axis=1)\n",
    "df1 = df1[df1['answered_correctly'] != -1]\n",
    "df1"
   ]
  },
  {
   "cell_type": "code",
   "execution_count": 3,
   "metadata": {},
   "outputs": [
    {
     "output_type": "execute_result",
     "data": {
      "text/plain": [
       "       content_id   count\n",
       "0            6116  213605\n",
       "1            6173  202106\n",
       "2            4120  199372\n",
       "3             175  195861\n",
       "4            7876  190170\n",
       "...           ...     ...\n",
       "13518       10005       1\n",
       "13519       10006       1\n",
       "13520       10007       1\n",
       "13521       10008       1\n",
       "13522        1486       1\n",
       "\n",
       "[13523 rows x 2 columns]"
      ],
      "text/html": "<div>\n<style scoped>\n    .dataframe tbody tr th:only-of-type {\n        vertical-align: middle;\n    }\n\n    .dataframe tbody tr th {\n        vertical-align: top;\n    }\n\n    .dataframe thead th {\n        text-align: right;\n    }\n</style>\n<table border=\"1\" class=\"dataframe\">\n  <thead>\n    <tr style=\"text-align: right;\">\n      <th></th>\n      <th>content_id</th>\n      <th>count</th>\n    </tr>\n  </thead>\n  <tbody>\n    <tr>\n      <th>0</th>\n      <td>6116</td>\n      <td>213605</td>\n    </tr>\n    <tr>\n      <th>1</th>\n      <td>6173</td>\n      <td>202106</td>\n    </tr>\n    <tr>\n      <th>2</th>\n      <td>4120</td>\n      <td>199372</td>\n    </tr>\n    <tr>\n      <th>3</th>\n      <td>175</td>\n      <td>195861</td>\n    </tr>\n    <tr>\n      <th>4</th>\n      <td>7876</td>\n      <td>190170</td>\n    </tr>\n    <tr>\n      <th>...</th>\n      <td>...</td>\n      <td>...</td>\n    </tr>\n    <tr>\n      <th>13518</th>\n      <td>10005</td>\n      <td>1</td>\n    </tr>\n    <tr>\n      <th>13519</th>\n      <td>10006</td>\n      <td>1</td>\n    </tr>\n    <tr>\n      <th>13520</th>\n      <td>10007</td>\n      <td>1</td>\n    </tr>\n    <tr>\n      <th>13521</th>\n      <td>10008</td>\n      <td>1</td>\n    </tr>\n    <tr>\n      <th>13522</th>\n      <td>1486</td>\n      <td>1</td>\n    </tr>\n  </tbody>\n</table>\n<p>13523 rows × 2 columns</p>\n</div>"
     },
     "metadata": {},
     "execution_count": 3
    }
   ],
   "source": [
    "group_df = df1['content_id'].value_counts().reset_index()\n",
    "group_df.columns = ['content_id', 'count']\n",
    "group_df = group_df.sort_values('count', ascending=False)\n",
    "group_df\n"
   ]
  },
  {
   "cell_type": "code",
   "execution_count": 4,
   "metadata": {},
   "outputs": [
    {
     "output_type": "execute_result",
     "data": {
      "text/plain": [
       "      content_id   count\n",
       "0           6116  213605\n",
       "1           6173  202106\n",
       "2           4120  199372\n",
       "3            175  195861\n",
       "4           7876  190170\n",
       "...          ...     ...\n",
       "3619        9027    8043\n",
       "3620         348    8041\n",
       "3621        8538    8038\n",
       "3622        4469    8034\n",
       "3623        8605    8031\n",
       "\n",
       "[3624 rows x 2 columns]"
      ],
      "text/html": "<div>\n<style scoped>\n    .dataframe tbody tr th:only-of-type {\n        vertical-align: middle;\n    }\n\n    .dataframe tbody tr th {\n        vertical-align: top;\n    }\n\n    .dataframe thead th {\n        text-align: right;\n    }\n</style>\n<table border=\"1\" class=\"dataframe\">\n  <thead>\n    <tr style=\"text-align: right;\">\n      <th></th>\n      <th>content_id</th>\n      <th>count</th>\n    </tr>\n  </thead>\n  <tbody>\n    <tr>\n      <th>0</th>\n      <td>6116</td>\n      <td>213605</td>\n    </tr>\n    <tr>\n      <th>1</th>\n      <td>6173</td>\n      <td>202106</td>\n    </tr>\n    <tr>\n      <th>2</th>\n      <td>4120</td>\n      <td>199372</td>\n    </tr>\n    <tr>\n      <th>3</th>\n      <td>175</td>\n      <td>195861</td>\n    </tr>\n    <tr>\n      <th>4</th>\n      <td>7876</td>\n      <td>190170</td>\n    </tr>\n    <tr>\n      <th>...</th>\n      <td>...</td>\n      <td>...</td>\n    </tr>\n    <tr>\n      <th>3619</th>\n      <td>9027</td>\n      <td>8043</td>\n    </tr>\n    <tr>\n      <th>3620</th>\n      <td>348</td>\n      <td>8041</td>\n    </tr>\n    <tr>\n      <th>3621</th>\n      <td>8538</td>\n      <td>8038</td>\n    </tr>\n    <tr>\n      <th>3622</th>\n      <td>4469</td>\n      <td>8034</td>\n    </tr>\n    <tr>\n      <th>3623</th>\n      <td>8605</td>\n      <td>8031</td>\n    </tr>\n  </tbody>\n</table>\n<p>3624 rows × 2 columns</p>\n</div>"
     },
     "metadata": {},
     "execution_count": 4
    }
   ],
   "source": [
    "sorted_group_df = group_df[:3624]\n",
    "sorted_group_df\n",
    " \n"
   ]
  },
  {
   "cell_type": "code",
   "execution_count": 5,
   "metadata": {},
   "outputs": [],
   "source": [
    "sorted_group_list = sorted_group_df.content_id.tolist()\n",
    "# sorted_group_list"
   ]
  },
  {
   "cell_type": "code",
   "execution_count": 6,
   "metadata": {},
   "outputs": [
    {
     "output_type": "execute_result",
     "data": {
      "text/plain": [
       "0             True\n",
       "1             True\n",
       "2             True\n",
       "3             True\n",
       "4             True\n",
       "             ...  \n",
       "101230327    False\n",
       "101230328     True\n",
       "101230329     True\n",
       "101230330    False\n",
       "101230331    False\n",
       "Name: content_id, Length: 99271300, dtype: bool"
      ]
     },
     "metadata": {},
     "execution_count": 6
    }
   ],
   "source": [
    "df1.content_id.isin(sorted_group_list)"
   ]
  },
  {
   "cell_type": "code",
   "execution_count": 7,
   "metadata": {},
   "outputs": [
    {
     "output_type": "execute_result",
     "data": {
      "text/plain": [
       "           timestamp     user_id  content_id  user_answer  answered_correctly  \\\n",
       "0                  0         115        5692            3                   1   \n",
       "1              56943         115        5716            2                   1   \n",
       "2             118363         115         128            0                   1   \n",
       "3             131167         115        7860            0                   1   \n",
       "4             137965         115        7922            1                   1   \n",
       "...              ...         ...         ...          ...                 ...   \n",
       "101230327  428564420  2147482888        3586            0                   1   \n",
       "101230328  428585000  2147482888        6341            3                   1   \n",
       "101230329  428613475  2147482888        4212            3                   1   \n",
       "101230330  428649406  2147482888        6343            1                   0   \n",
       "101230331  428692118  2147482888        7995            3                   1   \n",
       "\n",
       "           prior_question_elapsed_time  \n",
       "0                                  NaN  \n",
       "1                              37000.0  \n",
       "2                              55000.0  \n",
       "3                              19000.0  \n",
       "4                              11000.0  \n",
       "...                                ...  \n",
       "101230327                      18000.0  \n",
       "101230328                      14000.0  \n",
       "101230329                      14000.0  \n",
       "101230330                      22000.0  \n",
       "101230331                      29000.0  \n",
       "\n",
       "[99271300 rows x 6 columns]"
      ],
      "text/html": "<div>\n<style scoped>\n    .dataframe tbody tr th:only-of-type {\n        vertical-align: middle;\n    }\n\n    .dataframe tbody tr th {\n        vertical-align: top;\n    }\n\n    .dataframe thead th {\n        text-align: right;\n    }\n</style>\n<table border=\"1\" class=\"dataframe\">\n  <thead>\n    <tr style=\"text-align: right;\">\n      <th></th>\n      <th>timestamp</th>\n      <th>user_id</th>\n      <th>content_id</th>\n      <th>user_answer</th>\n      <th>answered_correctly</th>\n      <th>prior_question_elapsed_time</th>\n    </tr>\n  </thead>\n  <tbody>\n    <tr>\n      <th>0</th>\n      <td>0</td>\n      <td>115</td>\n      <td>5692</td>\n      <td>3</td>\n      <td>1</td>\n      <td>NaN</td>\n    </tr>\n    <tr>\n      <th>1</th>\n      <td>56943</td>\n      <td>115</td>\n      <td>5716</td>\n      <td>2</td>\n      <td>1</td>\n      <td>37000.0</td>\n    </tr>\n    <tr>\n      <th>2</th>\n      <td>118363</td>\n      <td>115</td>\n      <td>128</td>\n      <td>0</td>\n      <td>1</td>\n      <td>55000.0</td>\n    </tr>\n    <tr>\n      <th>3</th>\n      <td>131167</td>\n      <td>115</td>\n      <td>7860</td>\n      <td>0</td>\n      <td>1</td>\n      <td>19000.0</td>\n    </tr>\n    <tr>\n      <th>4</th>\n      <td>137965</td>\n      <td>115</td>\n      <td>7922</td>\n      <td>1</td>\n      <td>1</td>\n      <td>11000.0</td>\n    </tr>\n    <tr>\n      <th>...</th>\n      <td>...</td>\n      <td>...</td>\n      <td>...</td>\n      <td>...</td>\n      <td>...</td>\n      <td>...</td>\n    </tr>\n    <tr>\n      <th>101230327</th>\n      <td>428564420</td>\n      <td>2147482888</td>\n      <td>3586</td>\n      <td>0</td>\n      <td>1</td>\n      <td>18000.0</td>\n    </tr>\n    <tr>\n      <th>101230328</th>\n      <td>428585000</td>\n      <td>2147482888</td>\n      <td>6341</td>\n      <td>3</td>\n      <td>1</td>\n      <td>14000.0</td>\n    </tr>\n    <tr>\n      <th>101230329</th>\n      <td>428613475</td>\n      <td>2147482888</td>\n      <td>4212</td>\n      <td>3</td>\n      <td>1</td>\n      <td>14000.0</td>\n    </tr>\n    <tr>\n      <th>101230330</th>\n      <td>428649406</td>\n      <td>2147482888</td>\n      <td>6343</td>\n      <td>1</td>\n      <td>0</td>\n      <td>22000.0</td>\n    </tr>\n    <tr>\n      <th>101230331</th>\n      <td>428692118</td>\n      <td>2147482888</td>\n      <td>7995</td>\n      <td>3</td>\n      <td>1</td>\n      <td>29000.0</td>\n    </tr>\n  </tbody>\n</table>\n<p>99271300 rows × 6 columns</p>\n</div>"
     },
     "metadata": {},
     "execution_count": 7
    }
   ],
   "source": [
    "df1"
   ]
  },
  {
   "cell_type": "code",
   "execution_count": 8,
   "metadata": {},
   "outputs": [
    {
     "output_type": "execute_result",
     "data": {
      "text/plain": [
       "           timestamp     user_id  content_id  user_answer  answered_correctly  \\\n",
       "0                  0         115        5692            3                   1   \n",
       "1              56943         115        5716            2                   1   \n",
       "2             118363         115         128            0                   1   \n",
       "3             131167         115        7860            0                   1   \n",
       "4             137965         115        7922            1                   1   \n",
       "...              ...         ...         ...          ...                 ...   \n",
       "101230322  428415725  2147482888        5005            1                   0   \n",
       "101230324  428466169  2147482888        5591            3                   1   \n",
       "101230325  428517313  2147482888        6128            1                   1   \n",
       "101230328  428585000  2147482888        6341            3                   1   \n",
       "101230329  428613475  2147482888        4212            3                   1   \n",
       "\n",
       "           prior_question_elapsed_time  \n",
       "0                                  NaN  \n",
       "1                              37000.0  \n",
       "2                              55000.0  \n",
       "3                              19000.0  \n",
       "4                              11000.0  \n",
       "...                                ...  \n",
       "101230322                      30000.0  \n",
       "101230324                      26000.0  \n",
       "101230325                      11000.0  \n",
       "101230328                      14000.0  \n",
       "101230329                      14000.0  \n",
       "\n",
       "[65691307 rows x 6 columns]"
      ],
      "text/html": "<div>\n<style scoped>\n    .dataframe tbody tr th:only-of-type {\n        vertical-align: middle;\n    }\n\n    .dataframe tbody tr th {\n        vertical-align: top;\n    }\n\n    .dataframe thead th {\n        text-align: right;\n    }\n</style>\n<table border=\"1\" class=\"dataframe\">\n  <thead>\n    <tr style=\"text-align: right;\">\n      <th></th>\n      <th>timestamp</th>\n      <th>user_id</th>\n      <th>content_id</th>\n      <th>user_answer</th>\n      <th>answered_correctly</th>\n      <th>prior_question_elapsed_time</th>\n    </tr>\n  </thead>\n  <tbody>\n    <tr>\n      <th>0</th>\n      <td>0</td>\n      <td>115</td>\n      <td>5692</td>\n      <td>3</td>\n      <td>1</td>\n      <td>NaN</td>\n    </tr>\n    <tr>\n      <th>1</th>\n      <td>56943</td>\n      <td>115</td>\n      <td>5716</td>\n      <td>2</td>\n      <td>1</td>\n      <td>37000.0</td>\n    </tr>\n    <tr>\n      <th>2</th>\n      <td>118363</td>\n      <td>115</td>\n      <td>128</td>\n      <td>0</td>\n      <td>1</td>\n      <td>55000.0</td>\n    </tr>\n    <tr>\n      <th>3</th>\n      <td>131167</td>\n      <td>115</td>\n      <td>7860</td>\n      <td>0</td>\n      <td>1</td>\n      <td>19000.0</td>\n    </tr>\n    <tr>\n      <th>4</th>\n      <td>137965</td>\n      <td>115</td>\n      <td>7922</td>\n      <td>1</td>\n      <td>1</td>\n      <td>11000.0</td>\n    </tr>\n    <tr>\n      <th>...</th>\n      <td>...</td>\n      <td>...</td>\n      <td>...</td>\n      <td>...</td>\n      <td>...</td>\n      <td>...</td>\n    </tr>\n    <tr>\n      <th>101230322</th>\n      <td>428415725</td>\n      <td>2147482888</td>\n      <td>5005</td>\n      <td>1</td>\n      <td>0</td>\n      <td>30000.0</td>\n    </tr>\n    <tr>\n      <th>101230324</th>\n      <td>428466169</td>\n      <td>2147482888</td>\n      <td>5591</td>\n      <td>3</td>\n      <td>1</td>\n      <td>26000.0</td>\n    </tr>\n    <tr>\n      <th>101230325</th>\n      <td>428517313</td>\n      <td>2147482888</td>\n      <td>6128</td>\n      <td>1</td>\n      <td>1</td>\n      <td>11000.0</td>\n    </tr>\n    <tr>\n      <th>101230328</th>\n      <td>428585000</td>\n      <td>2147482888</td>\n      <td>6341</td>\n      <td>3</td>\n      <td>1</td>\n      <td>14000.0</td>\n    </tr>\n    <tr>\n      <th>101230329</th>\n      <td>428613475</td>\n      <td>2147482888</td>\n      <td>4212</td>\n      <td>3</td>\n      <td>1</td>\n      <td>14000.0</td>\n    </tr>\n  </tbody>\n</table>\n<p>65691307 rows × 6 columns</p>\n</div>"
     },
     "metadata": {},
     "execution_count": 8
    }
   ],
   "source": [
    "df2 = df1.loc[df1.content_id.isin(sorted_group_list)]\n",
    "df2"
   ]
  },
  {
   "cell_type": "code",
   "execution_count": 9,
   "metadata": {},
   "outputs": [
    {
     "output_type": "execute_result",
     "data": {
      "text/plain": [
       "            timestamp     user_id  content_id  user_answer  \\\n",
       "78729092        75016  1675520811           2            0   \n",
       "83792816   1114269973  1785241058           2            2   \n",
       "11723063    797016590   254130576           2            0   \n",
       "76590825      3268485  1630645312           2            3   \n",
       "84528144        44640  1800429495           2            0   \n",
       "...               ...         ...         ...          ...   \n",
       "54518057   1803614427  1155620027       11426            3   \n",
       "4160437     702723595    88308471       11426            3   \n",
       "66297156  26840746373  1408837808       11426            1   \n",
       "17387864   2082977470   373521084       11426            3   \n",
       "6756811   16006131227   147174392       11426            1   \n",
       "\n",
       "          answered_correctly  prior_question_elapsed_time  \n",
       "78729092                   1                      18000.0  \n",
       "83792816                   0                      25000.0  \n",
       "11723063                   1                      22000.0  \n",
       "76590825                   0                      25000.0  \n",
       "84528144                   1                      14000.0  \n",
       "...                      ...                          ...  \n",
       "54518057                   1                      20000.0  \n",
       "4160437                    1                      22000.0  \n",
       "66297156                   0                     147000.0  \n",
       "17387864                   1                      21000.0  \n",
       "6756811                    0                      43000.0  \n",
       "\n",
       "[65691307 rows x 6 columns]"
      ],
      "text/html": "<div>\n<style scoped>\n    .dataframe tbody tr th:only-of-type {\n        vertical-align: middle;\n    }\n\n    .dataframe tbody tr th {\n        vertical-align: top;\n    }\n\n    .dataframe thead th {\n        text-align: right;\n    }\n</style>\n<table border=\"1\" class=\"dataframe\">\n  <thead>\n    <tr style=\"text-align: right;\">\n      <th></th>\n      <th>timestamp</th>\n      <th>user_id</th>\n      <th>content_id</th>\n      <th>user_answer</th>\n      <th>answered_correctly</th>\n      <th>prior_question_elapsed_time</th>\n    </tr>\n  </thead>\n  <tbody>\n    <tr>\n      <th>78729092</th>\n      <td>75016</td>\n      <td>1675520811</td>\n      <td>2</td>\n      <td>0</td>\n      <td>1</td>\n      <td>18000.0</td>\n    </tr>\n    <tr>\n      <th>83792816</th>\n      <td>1114269973</td>\n      <td>1785241058</td>\n      <td>2</td>\n      <td>2</td>\n      <td>0</td>\n      <td>25000.0</td>\n    </tr>\n    <tr>\n      <th>11723063</th>\n      <td>797016590</td>\n      <td>254130576</td>\n      <td>2</td>\n      <td>0</td>\n      <td>1</td>\n      <td>22000.0</td>\n    </tr>\n    <tr>\n      <th>76590825</th>\n      <td>3268485</td>\n      <td>1630645312</td>\n      <td>2</td>\n      <td>3</td>\n      <td>0</td>\n      <td>25000.0</td>\n    </tr>\n    <tr>\n      <th>84528144</th>\n      <td>44640</td>\n      <td>1800429495</td>\n      <td>2</td>\n      <td>0</td>\n      <td>1</td>\n      <td>14000.0</td>\n    </tr>\n    <tr>\n      <th>...</th>\n      <td>...</td>\n      <td>...</td>\n      <td>...</td>\n      <td>...</td>\n      <td>...</td>\n      <td>...</td>\n    </tr>\n    <tr>\n      <th>54518057</th>\n      <td>1803614427</td>\n      <td>1155620027</td>\n      <td>11426</td>\n      <td>3</td>\n      <td>1</td>\n      <td>20000.0</td>\n    </tr>\n    <tr>\n      <th>4160437</th>\n      <td>702723595</td>\n      <td>88308471</td>\n      <td>11426</td>\n      <td>3</td>\n      <td>1</td>\n      <td>22000.0</td>\n    </tr>\n    <tr>\n      <th>66297156</th>\n      <td>26840746373</td>\n      <td>1408837808</td>\n      <td>11426</td>\n      <td>1</td>\n      <td>0</td>\n      <td>147000.0</td>\n    </tr>\n    <tr>\n      <th>17387864</th>\n      <td>2082977470</td>\n      <td>373521084</td>\n      <td>11426</td>\n      <td>3</td>\n      <td>1</td>\n      <td>21000.0</td>\n    </tr>\n    <tr>\n      <th>6756811</th>\n      <td>16006131227</td>\n      <td>147174392</td>\n      <td>11426</td>\n      <td>1</td>\n      <td>0</td>\n      <td>43000.0</td>\n    </tr>\n  </tbody>\n</table>\n<p>65691307 rows × 6 columns</p>\n</div>"
     },
     "metadata": {},
     "execution_count": 9
    }
   ],
   "source": [
    "df2=df2.sort_values(by=['content_id'])\n",
    "df2"
   ]
  },
  {
   "cell_type": "code",
   "execution_count": 10,
   "metadata": {},
   "outputs": [
    {
     "output_type": "execute_result",
     "data": {
      "text/plain": [
       "            timestamp     user_id  content_id  user_answer  \\\n",
       "78729092        75016  1675520811           2            0   \n",
       "83792816   1114269973  1785241058           2            2   \n",
       "11723063    797016590   254130576           2            0   \n",
       "76590825      3268485  1630645312           2            3   \n",
       "84528144        44640  1800429495           2            0   \n",
       "...               ...         ...         ...          ...   \n",
       "54518057   1803614427  1155620027       11426            3   \n",
       "4160437     702723595    88308471       11426            3   \n",
       "66297156  26840746373  1408837808       11426            1   \n",
       "17387864   2082977470   373521084       11426            3   \n",
       "6756811   16006131227   147174392       11426            1   \n",
       "\n",
       "          answered_correctly  prior_question_elapsed_time  \n",
       "78729092                   1                      18000.0  \n",
       "83792816                   0                      25000.0  \n",
       "11723063                   1                      22000.0  \n",
       "76590825                   0                      25000.0  \n",
       "84528144                   1                      14000.0  \n",
       "...                      ...                          ...  \n",
       "54518057                   1                      20000.0  \n",
       "4160437                    1                      22000.0  \n",
       "66297156                   0                     147000.0  \n",
       "17387864                   1                      21000.0  \n",
       "6756811                    0                      43000.0  \n",
       "\n",
       "[65691307 rows x 6 columns]"
      ],
      "text/html": "<div>\n<style scoped>\n    .dataframe tbody tr th:only-of-type {\n        vertical-align: middle;\n    }\n\n    .dataframe tbody tr th {\n        vertical-align: top;\n    }\n\n    .dataframe thead th {\n        text-align: right;\n    }\n</style>\n<table border=\"1\" class=\"dataframe\">\n  <thead>\n    <tr style=\"text-align: right;\">\n      <th></th>\n      <th>timestamp</th>\n      <th>user_id</th>\n      <th>content_id</th>\n      <th>user_answer</th>\n      <th>answered_correctly</th>\n      <th>prior_question_elapsed_time</th>\n    </tr>\n  </thead>\n  <tbody>\n    <tr>\n      <th>78729092</th>\n      <td>75016</td>\n      <td>1675520811</td>\n      <td>2</td>\n      <td>0</td>\n      <td>1</td>\n      <td>18000.0</td>\n    </tr>\n    <tr>\n      <th>83792816</th>\n      <td>1114269973</td>\n      <td>1785241058</td>\n      <td>2</td>\n      <td>2</td>\n      <td>0</td>\n      <td>25000.0</td>\n    </tr>\n    <tr>\n      <th>11723063</th>\n      <td>797016590</td>\n      <td>254130576</td>\n      <td>2</td>\n      <td>0</td>\n      <td>1</td>\n      <td>22000.0</td>\n    </tr>\n    <tr>\n      <th>76590825</th>\n      <td>3268485</td>\n      <td>1630645312</td>\n      <td>2</td>\n      <td>3</td>\n      <td>0</td>\n      <td>25000.0</td>\n    </tr>\n    <tr>\n      <th>84528144</th>\n      <td>44640</td>\n      <td>1800429495</td>\n      <td>2</td>\n      <td>0</td>\n      <td>1</td>\n      <td>14000.0</td>\n    </tr>\n    <tr>\n      <th>...</th>\n      <td>...</td>\n      <td>...</td>\n      <td>...</td>\n      <td>...</td>\n      <td>...</td>\n      <td>...</td>\n    </tr>\n    <tr>\n      <th>54518057</th>\n      <td>1803614427</td>\n      <td>1155620027</td>\n      <td>11426</td>\n      <td>3</td>\n      <td>1</td>\n      <td>20000.0</td>\n    </tr>\n    <tr>\n      <th>4160437</th>\n      <td>702723595</td>\n      <td>88308471</td>\n      <td>11426</td>\n      <td>3</td>\n      <td>1</td>\n      <td>22000.0</td>\n    </tr>\n    <tr>\n      <th>66297156</th>\n      <td>26840746373</td>\n      <td>1408837808</td>\n      <td>11426</td>\n      <td>1</td>\n      <td>0</td>\n      <td>147000.0</td>\n    </tr>\n    <tr>\n      <th>17387864</th>\n      <td>2082977470</td>\n      <td>373521084</td>\n      <td>11426</td>\n      <td>3</td>\n      <td>1</td>\n      <td>21000.0</td>\n    </tr>\n    <tr>\n      <th>6756811</th>\n      <td>16006131227</td>\n      <td>147174392</td>\n      <td>11426</td>\n      <td>1</td>\n      <td>0</td>\n      <td>43000.0</td>\n    </tr>\n  </tbody>\n</table>\n<p>65691307 rows × 6 columns</p>\n</div>"
     },
     "metadata": {},
     "execution_count": 10
    }
   ],
   "source": [
    "df2"
   ]
  },
  {
   "cell_type": "code",
   "execution_count": 11,
   "metadata": {},
   "outputs": [
    {
     "output_type": "execute_result",
     "data": {
      "text/plain": [
       "             index    timestamp     user_id  content_id  user_answer  \\\n",
       "0         78729092        75016  1675520811           2            0   \n",
       "29932     50021814   1675292010  1060183986           2            3   \n",
       "29933     86690873    196084219  1845124288           2            0   \n",
       "29934      4795292    447744846   102195970           2            3   \n",
       "29935     18616529   2361234701   400404037           2            0   \n",
       "...            ...          ...         ...         ...          ...   \n",
       "65685153  54344279   4550150159  1151815112       11426            2   \n",
       "65685154  44671949       232050   945976676       11426            2   \n",
       "65685155  59519086    259086678  1263046732       11426            2   \n",
       "65685247  16462959   4712229028   353724775       11426            0   \n",
       "65691306   6756811  16006131227   147174392       11426            1   \n",
       "\n",
       "          answered_correctly  prior_question_elapsed_time  \n",
       "0                          1                      18000.0  \n",
       "29932                      0                      23000.0  \n",
       "29933                      1                      27000.0  \n",
       "29934                      0                      26000.0  \n",
       "29935                      1                      14000.0  \n",
       "...                      ...                          ...  \n",
       "65685153                   0                      11000.0  \n",
       "65685154                   0                      57000.0  \n",
       "65685155                   0                      32000.0  \n",
       "65685247                   0                      17000.0  \n",
       "65691306                   0                      43000.0  \n",
       "\n",
       "[65691307 rows x 7 columns]"
      ],
      "text/html": "<div>\n<style scoped>\n    .dataframe tbody tr th:only-of-type {\n        vertical-align: middle;\n    }\n\n    .dataframe tbody tr th {\n        vertical-align: top;\n    }\n\n    .dataframe thead th {\n        text-align: right;\n    }\n</style>\n<table border=\"1\" class=\"dataframe\">\n  <thead>\n    <tr style=\"text-align: right;\">\n      <th></th>\n      <th>index</th>\n      <th>timestamp</th>\n      <th>user_id</th>\n      <th>content_id</th>\n      <th>user_answer</th>\n      <th>answered_correctly</th>\n      <th>prior_question_elapsed_time</th>\n    </tr>\n  </thead>\n  <tbody>\n    <tr>\n      <th>0</th>\n      <td>78729092</td>\n      <td>75016</td>\n      <td>1675520811</td>\n      <td>2</td>\n      <td>0</td>\n      <td>1</td>\n      <td>18000.0</td>\n    </tr>\n    <tr>\n      <th>29932</th>\n      <td>50021814</td>\n      <td>1675292010</td>\n      <td>1060183986</td>\n      <td>2</td>\n      <td>3</td>\n      <td>0</td>\n      <td>23000.0</td>\n    </tr>\n    <tr>\n      <th>29933</th>\n      <td>86690873</td>\n      <td>196084219</td>\n      <td>1845124288</td>\n      <td>2</td>\n      <td>0</td>\n      <td>1</td>\n      <td>27000.0</td>\n    </tr>\n    <tr>\n      <th>29934</th>\n      <td>4795292</td>\n      <td>447744846</td>\n      <td>102195970</td>\n      <td>2</td>\n      <td>3</td>\n      <td>0</td>\n      <td>26000.0</td>\n    </tr>\n    <tr>\n      <th>29935</th>\n      <td>18616529</td>\n      <td>2361234701</td>\n      <td>400404037</td>\n      <td>2</td>\n      <td>0</td>\n      <td>1</td>\n      <td>14000.0</td>\n    </tr>\n    <tr>\n      <th>...</th>\n      <td>...</td>\n      <td>...</td>\n      <td>...</td>\n      <td>...</td>\n      <td>...</td>\n      <td>...</td>\n      <td>...</td>\n    </tr>\n    <tr>\n      <th>65685153</th>\n      <td>54344279</td>\n      <td>4550150159</td>\n      <td>1151815112</td>\n      <td>11426</td>\n      <td>2</td>\n      <td>0</td>\n      <td>11000.0</td>\n    </tr>\n    <tr>\n      <th>65685154</th>\n      <td>44671949</td>\n      <td>232050</td>\n      <td>945976676</td>\n      <td>11426</td>\n      <td>2</td>\n      <td>0</td>\n      <td>57000.0</td>\n    </tr>\n    <tr>\n      <th>65685155</th>\n      <td>59519086</td>\n      <td>259086678</td>\n      <td>1263046732</td>\n      <td>11426</td>\n      <td>2</td>\n      <td>0</td>\n      <td>32000.0</td>\n    </tr>\n    <tr>\n      <th>65685247</th>\n      <td>16462959</td>\n      <td>4712229028</td>\n      <td>353724775</td>\n      <td>11426</td>\n      <td>0</td>\n      <td>0</td>\n      <td>17000.0</td>\n    </tr>\n    <tr>\n      <th>65691306</th>\n      <td>6756811</td>\n      <td>16006131227</td>\n      <td>147174392</td>\n      <td>11426</td>\n      <td>1</td>\n      <td>0</td>\n      <td>43000.0</td>\n    </tr>\n  </tbody>\n</table>\n<p>65691307 rows × 7 columns</p>\n</div>"
     },
     "metadata": {},
     "execution_count": 11
    }
   ],
   "source": [
    "df2=df2.reset_index()\n",
    "df2=df2.sort_values('content_id')\n",
    "# df2=df2.drop(['index'],axis=1)\n",
    "# df2=df2.drop(['level_0'],axis=1)\n",
    "df2"
   ]
  },
  {
   "cell_type": "code",
   "execution_count": 12,
   "metadata": {},
   "outputs": [
    {
     "output_type": "execute_result",
     "data": {
      "text/plain": [
       "            timestamp     user_id  content_id  user_answer  \\\n",
       "0               75016  1675520811           2            0   \n",
       "29932      1675292010  1060183986           2            3   \n",
       "29933       196084219  1845124288           2            0   \n",
       "29934       447744846   102195970           2            3   \n",
       "29935      2361234701   400404037           2            0   \n",
       "...               ...         ...         ...          ...   \n",
       "65685153   4550150159  1151815112       11426            2   \n",
       "65685154       232050   945976676       11426            2   \n",
       "65685155    259086678  1263046732       11426            2   \n",
       "65685247   4712229028   353724775       11426            0   \n",
       "65691306  16006131227   147174392       11426            1   \n",
       "\n",
       "          answered_correctly  prior_question_elapsed_time  \n",
       "0                          1                      18000.0  \n",
       "29932                      0                      23000.0  \n",
       "29933                      1                      27000.0  \n",
       "29934                      0                      26000.0  \n",
       "29935                      1                      14000.0  \n",
       "...                      ...                          ...  \n",
       "65685153                   0                      11000.0  \n",
       "65685154                   0                      57000.0  \n",
       "65685155                   0                      32000.0  \n",
       "65685247                   0                      17000.0  \n",
       "65691306                   0                      43000.0  \n",
       "\n",
       "[65691307 rows x 6 columns]"
      ],
      "text/html": "<div>\n<style scoped>\n    .dataframe tbody tr th:only-of-type {\n        vertical-align: middle;\n    }\n\n    .dataframe tbody tr th {\n        vertical-align: top;\n    }\n\n    .dataframe thead th {\n        text-align: right;\n    }\n</style>\n<table border=\"1\" class=\"dataframe\">\n  <thead>\n    <tr style=\"text-align: right;\">\n      <th></th>\n      <th>timestamp</th>\n      <th>user_id</th>\n      <th>content_id</th>\n      <th>user_answer</th>\n      <th>answered_correctly</th>\n      <th>prior_question_elapsed_time</th>\n    </tr>\n  </thead>\n  <tbody>\n    <tr>\n      <th>0</th>\n      <td>75016</td>\n      <td>1675520811</td>\n      <td>2</td>\n      <td>0</td>\n      <td>1</td>\n      <td>18000.0</td>\n    </tr>\n    <tr>\n      <th>29932</th>\n      <td>1675292010</td>\n      <td>1060183986</td>\n      <td>2</td>\n      <td>3</td>\n      <td>0</td>\n      <td>23000.0</td>\n    </tr>\n    <tr>\n      <th>29933</th>\n      <td>196084219</td>\n      <td>1845124288</td>\n      <td>2</td>\n      <td>0</td>\n      <td>1</td>\n      <td>27000.0</td>\n    </tr>\n    <tr>\n      <th>29934</th>\n      <td>447744846</td>\n      <td>102195970</td>\n      <td>2</td>\n      <td>3</td>\n      <td>0</td>\n      <td>26000.0</td>\n    </tr>\n    <tr>\n      <th>29935</th>\n      <td>2361234701</td>\n      <td>400404037</td>\n      <td>2</td>\n      <td>0</td>\n      <td>1</td>\n      <td>14000.0</td>\n    </tr>\n    <tr>\n      <th>...</th>\n      <td>...</td>\n      <td>...</td>\n      <td>...</td>\n      <td>...</td>\n      <td>...</td>\n      <td>...</td>\n    </tr>\n    <tr>\n      <th>65685153</th>\n      <td>4550150159</td>\n      <td>1151815112</td>\n      <td>11426</td>\n      <td>2</td>\n      <td>0</td>\n      <td>11000.0</td>\n    </tr>\n    <tr>\n      <th>65685154</th>\n      <td>232050</td>\n      <td>945976676</td>\n      <td>11426</td>\n      <td>2</td>\n      <td>0</td>\n      <td>57000.0</td>\n    </tr>\n    <tr>\n      <th>65685155</th>\n      <td>259086678</td>\n      <td>1263046732</td>\n      <td>11426</td>\n      <td>2</td>\n      <td>0</td>\n      <td>32000.0</td>\n    </tr>\n    <tr>\n      <th>65685247</th>\n      <td>4712229028</td>\n      <td>353724775</td>\n      <td>11426</td>\n      <td>0</td>\n      <td>0</td>\n      <td>17000.0</td>\n    </tr>\n    <tr>\n      <th>65691306</th>\n      <td>16006131227</td>\n      <td>147174392</td>\n      <td>11426</td>\n      <td>1</td>\n      <td>0</td>\n      <td>43000.0</td>\n    </tr>\n  </tbody>\n</table>\n<p>65691307 rows × 6 columns</p>\n</div>"
     },
     "metadata": {},
     "execution_count": 12
    }
   ],
   "source": [
    "df2=df2.drop(['index'],axis=1)\n",
    "df2"
   ]
  },
  {
   "cell_type": "code",
   "execution_count": 20,
   "metadata": {},
   "outputs": [
    {
     "output_type": "error",
     "ename": "MemoryError",
     "evalue": "Unable to allocate 3.43 GiB for an array with shape (7, 65691307) and data type int64",
     "traceback": [
      "\u001b[1;31m---------------------------------------------------------------------------\u001b[0m",
      "\u001b[1;31mMemoryError\u001b[0m                               Traceback (most recent call last)",
      "\u001b[1;32m<ipython-input-20-52f377d7d868>\u001b[0m in \u001b[0;36m<module>\u001b[1;34m\u001b[0m\n\u001b[1;32m----> 1\u001b[1;33m \u001b[0mdf2\u001b[0m\u001b[1;33m=\u001b[0m\u001b[0mdf2\u001b[0m\u001b[1;33m.\u001b[0m\u001b[0mreset_index\u001b[0m\u001b[1;33m(\u001b[0m\u001b[1;34m'content_id'\u001b[0m\u001b[1;33m)\u001b[0m\u001b[1;33m\u001b[0m\u001b[1;33m\u001b[0m\u001b[0m\n\u001b[0m",
      "\u001b[1;32mC:\\ProgramData\\Anaconda3\\lib\\site-packages\\pandas\\core\\frame.py\u001b[0m in \u001b[0;36mreset_index\u001b[1;34m(self, level, drop, inplace, col_level, col_fill)\u001b[0m\n\u001b[0;32m   4520\u001b[0m             \u001b[0mnew_obj\u001b[0m \u001b[1;33m=\u001b[0m \u001b[0mself\u001b[0m\u001b[1;33m\u001b[0m\u001b[1;33m\u001b[0m\u001b[0m\n\u001b[0;32m   4521\u001b[0m         \u001b[1;32melse\u001b[0m\u001b[1;33m:\u001b[0m\u001b[1;33m\u001b[0m\u001b[1;33m\u001b[0m\u001b[0m\n\u001b[1;32m-> 4522\u001b[1;33m             \u001b[0mnew_obj\u001b[0m \u001b[1;33m=\u001b[0m \u001b[0mself\u001b[0m\u001b[1;33m.\u001b[0m\u001b[0mcopy\u001b[0m\u001b[1;33m(\u001b[0m\u001b[1;33m)\u001b[0m\u001b[1;33m\u001b[0m\u001b[1;33m\u001b[0m\u001b[0m\n\u001b[0m\u001b[0;32m   4523\u001b[0m \u001b[1;33m\u001b[0m\u001b[0m\n\u001b[0;32m   4524\u001b[0m         \u001b[1;32mdef\u001b[0m \u001b[0m_maybe_casted_values\u001b[0m\u001b[1;33m(\u001b[0m\u001b[0mindex\u001b[0m\u001b[1;33m,\u001b[0m \u001b[0mlabels\u001b[0m\u001b[1;33m=\u001b[0m\u001b[1;32mNone\u001b[0m\u001b[1;33m)\u001b[0m\u001b[1;33m:\u001b[0m\u001b[1;33m\u001b[0m\u001b[1;33m\u001b[0m\u001b[0m\n",
      "\u001b[1;32mC:\\ProgramData\\Anaconda3\\lib\\site-packages\\pandas\\core\\generic.py\u001b[0m in \u001b[0;36mcopy\u001b[1;34m(self, deep)\u001b[0m\n\u001b[0;32m   5809\u001b[0m         \u001b[0mdtype\u001b[0m\u001b[1;33m:\u001b[0m \u001b[0mobject\u001b[0m\u001b[1;33m\u001b[0m\u001b[1;33m\u001b[0m\u001b[0m\n\u001b[0;32m   5810\u001b[0m         \"\"\"\n\u001b[1;32m-> 5811\u001b[1;33m         \u001b[0mdata\u001b[0m \u001b[1;33m=\u001b[0m \u001b[0mself\u001b[0m\u001b[1;33m.\u001b[0m\u001b[0m_data\u001b[0m\u001b[1;33m.\u001b[0m\u001b[0mcopy\u001b[0m\u001b[1;33m(\u001b[0m\u001b[0mdeep\u001b[0m\u001b[1;33m=\u001b[0m\u001b[0mdeep\u001b[0m\u001b[1;33m)\u001b[0m\u001b[1;33m\u001b[0m\u001b[1;33m\u001b[0m\u001b[0m\n\u001b[0m\u001b[0;32m   5812\u001b[0m         \u001b[1;32mreturn\u001b[0m \u001b[0mself\u001b[0m\u001b[1;33m.\u001b[0m\u001b[0m_constructor\u001b[0m\u001b[1;33m(\u001b[0m\u001b[0mdata\u001b[0m\u001b[1;33m)\u001b[0m\u001b[1;33m.\u001b[0m\u001b[0m__finalize__\u001b[0m\u001b[1;33m(\u001b[0m\u001b[0mself\u001b[0m\u001b[1;33m)\u001b[0m\u001b[1;33m\u001b[0m\u001b[1;33m\u001b[0m\u001b[0m\n\u001b[0;32m   5813\u001b[0m \u001b[1;33m\u001b[0m\u001b[0m\n",
      "\u001b[1;32mC:\\ProgramData\\Anaconda3\\lib\\site-packages\\pandas\\core\\internals\\managers.py\u001b[0m in \u001b[0;36mcopy\u001b[1;34m(self, deep)\u001b[0m\n\u001b[0;32m    792\u001b[0m             \u001b[0mnew_axes\u001b[0m \u001b[1;33m=\u001b[0m \u001b[0mlist\u001b[0m\u001b[1;33m(\u001b[0m\u001b[0mself\u001b[0m\u001b[1;33m.\u001b[0m\u001b[0maxes\u001b[0m\u001b[1;33m)\u001b[0m\u001b[1;33m\u001b[0m\u001b[1;33m\u001b[0m\u001b[0m\n\u001b[0;32m    793\u001b[0m \u001b[1;33m\u001b[0m\u001b[0m\n\u001b[1;32m--> 794\u001b[1;33m         \u001b[0mres\u001b[0m \u001b[1;33m=\u001b[0m \u001b[0mself\u001b[0m\u001b[1;33m.\u001b[0m\u001b[0mapply\u001b[0m\u001b[1;33m(\u001b[0m\u001b[1;34m\"copy\"\u001b[0m\u001b[1;33m,\u001b[0m \u001b[0mdeep\u001b[0m\u001b[1;33m=\u001b[0m\u001b[0mdeep\u001b[0m\u001b[1;33m)\u001b[0m\u001b[1;33m\u001b[0m\u001b[1;33m\u001b[0m\u001b[0m\n\u001b[0m\u001b[0;32m    795\u001b[0m         \u001b[0mres\u001b[0m\u001b[1;33m.\u001b[0m\u001b[0maxes\u001b[0m \u001b[1;33m=\u001b[0m \u001b[0mnew_axes\u001b[0m\u001b[1;33m\u001b[0m\u001b[1;33m\u001b[0m\u001b[0m\n\u001b[0;32m    796\u001b[0m         \u001b[1;32mreturn\u001b[0m \u001b[0mres\u001b[0m\u001b[1;33m\u001b[0m\u001b[1;33m\u001b[0m\u001b[0m\n",
      "\u001b[1;32mC:\\ProgramData\\Anaconda3\\lib\\site-packages\\pandas\\core\\internals\\managers.py\u001b[0m in \u001b[0;36mapply\u001b[1;34m(self, f, filter, **kwargs)\u001b[0m\n\u001b[0;32m    393\u001b[0m                 \u001b[0mkwargs\u001b[0m\u001b[1;33m[\u001b[0m\u001b[1;34m\"filter\"\u001b[0m\u001b[1;33m]\u001b[0m \u001b[1;33m=\u001b[0m \u001b[0mfilter_locs\u001b[0m\u001b[1;33m\u001b[0m\u001b[1;33m\u001b[0m\u001b[0m\n\u001b[0;32m    394\u001b[0m \u001b[1;33m\u001b[0m\u001b[0m\n\u001b[1;32m--> 395\u001b[1;33m         \u001b[0mself\u001b[0m\u001b[1;33m.\u001b[0m\u001b[0m_consolidate_inplace\u001b[0m\u001b[1;33m(\u001b[0m\u001b[1;33m)\u001b[0m\u001b[1;33m\u001b[0m\u001b[1;33m\u001b[0m\u001b[0m\n\u001b[0m\u001b[0;32m    396\u001b[0m \u001b[1;33m\u001b[0m\u001b[0m\n\u001b[0;32m    397\u001b[0m         \u001b[1;32mif\u001b[0m \u001b[0mf\u001b[0m \u001b[1;33m==\u001b[0m \u001b[1;34m\"where\"\u001b[0m\u001b[1;33m:\u001b[0m\u001b[1;33m\u001b[0m\u001b[1;33m\u001b[0m\u001b[0m\n",
      "\u001b[1;32mC:\\ProgramData\\Anaconda3\\lib\\site-packages\\pandas\\core\\internals\\managers.py\u001b[0m in \u001b[0;36m_consolidate_inplace\u001b[1;34m(self)\u001b[0m\n\u001b[0;32m    943\u001b[0m     \u001b[1;32mdef\u001b[0m \u001b[0m_consolidate_inplace\u001b[0m\u001b[1;33m(\u001b[0m\u001b[0mself\u001b[0m\u001b[1;33m)\u001b[0m\u001b[1;33m:\u001b[0m\u001b[1;33m\u001b[0m\u001b[1;33m\u001b[0m\u001b[0m\n\u001b[0;32m    944\u001b[0m         \u001b[1;32mif\u001b[0m \u001b[1;32mnot\u001b[0m \u001b[0mself\u001b[0m\u001b[1;33m.\u001b[0m\u001b[0mis_consolidated\u001b[0m\u001b[1;33m(\u001b[0m\u001b[1;33m)\u001b[0m\u001b[1;33m:\u001b[0m\u001b[1;33m\u001b[0m\u001b[1;33m\u001b[0m\u001b[0m\n\u001b[1;32m--> 945\u001b[1;33m             \u001b[0mself\u001b[0m\u001b[1;33m.\u001b[0m\u001b[0mblocks\u001b[0m \u001b[1;33m=\u001b[0m \u001b[0mtuple\u001b[0m\u001b[1;33m(\u001b[0m\u001b[0m_consolidate\u001b[0m\u001b[1;33m(\u001b[0m\u001b[0mself\u001b[0m\u001b[1;33m.\u001b[0m\u001b[0mblocks\u001b[0m\u001b[1;33m)\u001b[0m\u001b[1;33m)\u001b[0m\u001b[1;33m\u001b[0m\u001b[1;33m\u001b[0m\u001b[0m\n\u001b[0m\u001b[0;32m    946\u001b[0m             \u001b[0mself\u001b[0m\u001b[1;33m.\u001b[0m\u001b[0m_is_consolidated\u001b[0m \u001b[1;33m=\u001b[0m \u001b[1;32mTrue\u001b[0m\u001b[1;33m\u001b[0m\u001b[1;33m\u001b[0m\u001b[0m\n\u001b[0;32m    947\u001b[0m             \u001b[0mself\u001b[0m\u001b[1;33m.\u001b[0m\u001b[0m_known_consolidated\u001b[0m \u001b[1;33m=\u001b[0m \u001b[1;32mTrue\u001b[0m\u001b[1;33m\u001b[0m\u001b[1;33m\u001b[0m\u001b[0m\n",
      "\u001b[1;32mC:\\ProgramData\\Anaconda3\\lib\\site-packages\\pandas\\core\\internals\\managers.py\u001b[0m in \u001b[0;36m_consolidate\u001b[1;34m(blocks)\u001b[0m\n\u001b[0;32m   1884\u001b[0m     \u001b[0mnew_blocks\u001b[0m \u001b[1;33m=\u001b[0m \u001b[1;33m[\u001b[0m\u001b[1;33m]\u001b[0m\u001b[1;33m\u001b[0m\u001b[1;33m\u001b[0m\u001b[0m\n\u001b[0;32m   1885\u001b[0m     \u001b[1;32mfor\u001b[0m \u001b[1;33m(\u001b[0m\u001b[0m_can_consolidate\u001b[0m\u001b[1;33m,\u001b[0m \u001b[0mdtype\u001b[0m\u001b[1;33m)\u001b[0m\u001b[1;33m,\u001b[0m \u001b[0mgroup_blocks\u001b[0m \u001b[1;32min\u001b[0m \u001b[0mgrouper\u001b[0m\u001b[1;33m:\u001b[0m\u001b[1;33m\u001b[0m\u001b[1;33m\u001b[0m\u001b[0m\n\u001b[1;32m-> 1886\u001b[1;33m         merged_blocks = _merge_blocks(\n\u001b[0m\u001b[0;32m   1887\u001b[0m             \u001b[0mlist\u001b[0m\u001b[1;33m(\u001b[0m\u001b[0mgroup_blocks\u001b[0m\u001b[1;33m)\u001b[0m\u001b[1;33m,\u001b[0m \u001b[0mdtype\u001b[0m\u001b[1;33m=\u001b[0m\u001b[0mdtype\u001b[0m\u001b[1;33m,\u001b[0m \u001b[0m_can_consolidate\u001b[0m\u001b[1;33m=\u001b[0m\u001b[0m_can_consolidate\u001b[0m\u001b[1;33m\u001b[0m\u001b[1;33m\u001b[0m\u001b[0m\n\u001b[0;32m   1888\u001b[0m         )\n",
      "\u001b[1;32mC:\\ProgramData\\Anaconda3\\lib\\site-packages\\pandas\\core\\internals\\blocks.py\u001b[0m in \u001b[0;36m_merge_blocks\u001b[1;34m(blocks, dtype, _can_consolidate)\u001b[0m\n\u001b[0;32m   3103\u001b[0m         \u001b[1;31m# combination of those slices is a slice, too.\u001b[0m\u001b[1;33m\u001b[0m\u001b[1;33m\u001b[0m\u001b[1;33m\u001b[0m\u001b[0m\n\u001b[0;32m   3104\u001b[0m         \u001b[0mnew_mgr_locs\u001b[0m \u001b[1;33m=\u001b[0m \u001b[0mnp\u001b[0m\u001b[1;33m.\u001b[0m\u001b[0mconcatenate\u001b[0m\u001b[1;33m(\u001b[0m\u001b[1;33m[\u001b[0m\u001b[0mb\u001b[0m\u001b[1;33m.\u001b[0m\u001b[0mmgr_locs\u001b[0m\u001b[1;33m.\u001b[0m\u001b[0mas_array\u001b[0m \u001b[1;32mfor\u001b[0m \u001b[0mb\u001b[0m \u001b[1;32min\u001b[0m \u001b[0mblocks\u001b[0m\u001b[1;33m]\u001b[0m\u001b[1;33m)\u001b[0m\u001b[1;33m\u001b[0m\u001b[1;33m\u001b[0m\u001b[0m\n\u001b[1;32m-> 3105\u001b[1;33m         \u001b[0mnew_values\u001b[0m \u001b[1;33m=\u001b[0m \u001b[0mnp\u001b[0m\u001b[1;33m.\u001b[0m\u001b[0mvstack\u001b[0m\u001b[1;33m(\u001b[0m\u001b[1;33m[\u001b[0m\u001b[0mb\u001b[0m\u001b[1;33m.\u001b[0m\u001b[0mvalues\u001b[0m \u001b[1;32mfor\u001b[0m \u001b[0mb\u001b[0m \u001b[1;32min\u001b[0m \u001b[0mblocks\u001b[0m\u001b[1;33m]\u001b[0m\u001b[1;33m)\u001b[0m\u001b[1;33m\u001b[0m\u001b[1;33m\u001b[0m\u001b[0m\n\u001b[0m\u001b[0;32m   3106\u001b[0m \u001b[1;33m\u001b[0m\u001b[0m\n\u001b[0;32m   3107\u001b[0m         \u001b[0margsort\u001b[0m \u001b[1;33m=\u001b[0m \u001b[0mnp\u001b[0m\u001b[1;33m.\u001b[0m\u001b[0margsort\u001b[0m\u001b[1;33m(\u001b[0m\u001b[0mnew_mgr_locs\u001b[0m\u001b[1;33m)\u001b[0m\u001b[1;33m\u001b[0m\u001b[1;33m\u001b[0m\u001b[0m\n",
      "\u001b[1;32m<__array_function__ internals>\u001b[0m in \u001b[0;36mvstack\u001b[1;34m(*args, **kwargs)\u001b[0m\n",
      "\u001b[1;32mC:\\ProgramData\\Anaconda3\\lib\\site-packages\\numpy\\core\\shape_base.py\u001b[0m in \u001b[0;36mvstack\u001b[1;34m(tup)\u001b[0m\n\u001b[0;32m    281\u001b[0m     \u001b[1;32mif\u001b[0m \u001b[1;32mnot\u001b[0m \u001b[0misinstance\u001b[0m\u001b[1;33m(\u001b[0m\u001b[0marrs\u001b[0m\u001b[1;33m,\u001b[0m \u001b[0mlist\u001b[0m\u001b[1;33m)\u001b[0m\u001b[1;33m:\u001b[0m\u001b[1;33m\u001b[0m\u001b[1;33m\u001b[0m\u001b[0m\n\u001b[0;32m    282\u001b[0m         \u001b[0marrs\u001b[0m \u001b[1;33m=\u001b[0m \u001b[1;33m[\u001b[0m\u001b[0marrs\u001b[0m\u001b[1;33m]\u001b[0m\u001b[1;33m\u001b[0m\u001b[1;33m\u001b[0m\u001b[0m\n\u001b[1;32m--> 283\u001b[1;33m     \u001b[1;32mreturn\u001b[0m \u001b[0m_nx\u001b[0m\u001b[1;33m.\u001b[0m\u001b[0mconcatenate\u001b[0m\u001b[1;33m(\u001b[0m\u001b[0marrs\u001b[0m\u001b[1;33m,\u001b[0m \u001b[1;36m0\u001b[0m\u001b[1;33m)\u001b[0m\u001b[1;33m\u001b[0m\u001b[1;33m\u001b[0m\u001b[0m\n\u001b[0m\u001b[0;32m    284\u001b[0m \u001b[1;33m\u001b[0m\u001b[0m\n\u001b[0;32m    285\u001b[0m \u001b[1;33m\u001b[0m\u001b[0m\n",
      "\u001b[1;32m<__array_function__ internals>\u001b[0m in \u001b[0;36mconcatenate\u001b[1;34m(*args, **kwargs)\u001b[0m\n",
      "\u001b[1;31mMemoryError\u001b[0m: Unable to allocate 3.43 GiB for an array with shape (7, 65691307) and data type int64"
     ]
    }
   ],
   "source": [
    "df2=df2.reset_index('content_id')\n",
    "df2"
   ]
  },
  {
   "cell_type": "code",
   "execution_count": 16,
   "metadata": {},
   "outputs": [
    {
     "output_type": "execute_result",
     "data": {
      "text/plain": [
       "           level_0     index    timestamp     user_id  content_id  \\\n",
       "0                0         0        75016  1675520811           2   \n",
       "1                1     29932   1675292010  1060183986           2   \n",
       "2                2     29933    196084219  1845124288           2   \n",
       "3                3     29934    447744846   102195970           2   \n",
       "4                4     29935   2361234701   400404037           2   \n",
       "...            ...       ...          ...         ...         ...   \n",
       "65691302  65691302  65685153   4550150159  1151815112       11426   \n",
       "65691303  65691303  65685154       232050   945976676       11426   \n",
       "65691304  65691304  65685155    259086678  1263046732       11426   \n",
       "65691305  65691305  65685247   4712229028   353724775       11426   \n",
       "65691306  65691306  65691306  16006131227   147174392       11426   \n",
       "\n",
       "          user_answer  answered_correctly  prior_question_elapsed_time  \n",
       "0                   0                   1                      18000.0  \n",
       "1                   3                   0                      23000.0  \n",
       "2                   0                   1                      27000.0  \n",
       "3                   3                   0                      26000.0  \n",
       "4                   0                   1                      14000.0  \n",
       "...               ...                 ...                          ...  \n",
       "65691302            2                   0                      11000.0  \n",
       "65691303            2                   0                      57000.0  \n",
       "65691304            2                   0                      32000.0  \n",
       "65691305            0                   0                      17000.0  \n",
       "65691306            1                   0                      43000.0  \n",
       "\n",
       "[65691307 rows x 8 columns]"
      ],
      "text/html": "<div>\n<style scoped>\n    .dataframe tbody tr th:only-of-type {\n        vertical-align: middle;\n    }\n\n    .dataframe tbody tr th {\n        vertical-align: top;\n    }\n\n    .dataframe thead th {\n        text-align: right;\n    }\n</style>\n<table border=\"1\" class=\"dataframe\">\n  <thead>\n    <tr style=\"text-align: right;\">\n      <th></th>\n      <th>level_0</th>\n      <th>index</th>\n      <th>timestamp</th>\n      <th>user_id</th>\n      <th>content_id</th>\n      <th>user_answer</th>\n      <th>answered_correctly</th>\n      <th>prior_question_elapsed_time</th>\n    </tr>\n  </thead>\n  <tbody>\n    <tr>\n      <th>0</th>\n      <td>0</td>\n      <td>0</td>\n      <td>75016</td>\n      <td>1675520811</td>\n      <td>2</td>\n      <td>0</td>\n      <td>1</td>\n      <td>18000.0</td>\n    </tr>\n    <tr>\n      <th>1</th>\n      <td>1</td>\n      <td>29932</td>\n      <td>1675292010</td>\n      <td>1060183986</td>\n      <td>2</td>\n      <td>3</td>\n      <td>0</td>\n      <td>23000.0</td>\n    </tr>\n    <tr>\n      <th>2</th>\n      <td>2</td>\n      <td>29933</td>\n      <td>196084219</td>\n      <td>1845124288</td>\n      <td>2</td>\n      <td>0</td>\n      <td>1</td>\n      <td>27000.0</td>\n    </tr>\n    <tr>\n      <th>3</th>\n      <td>3</td>\n      <td>29934</td>\n      <td>447744846</td>\n      <td>102195970</td>\n      <td>2</td>\n      <td>3</td>\n      <td>0</td>\n      <td>26000.0</td>\n    </tr>\n    <tr>\n      <th>4</th>\n      <td>4</td>\n      <td>29935</td>\n      <td>2361234701</td>\n      <td>400404037</td>\n      <td>2</td>\n      <td>0</td>\n      <td>1</td>\n      <td>14000.0</td>\n    </tr>\n    <tr>\n      <th>...</th>\n      <td>...</td>\n      <td>...</td>\n      <td>...</td>\n      <td>...</td>\n      <td>...</td>\n      <td>...</td>\n      <td>...</td>\n      <td>...</td>\n    </tr>\n    <tr>\n      <th>65691302</th>\n      <td>65691302</td>\n      <td>65685153</td>\n      <td>4550150159</td>\n      <td>1151815112</td>\n      <td>11426</td>\n      <td>2</td>\n      <td>0</td>\n      <td>11000.0</td>\n    </tr>\n    <tr>\n      <th>65691303</th>\n      <td>65691303</td>\n      <td>65685154</td>\n      <td>232050</td>\n      <td>945976676</td>\n      <td>11426</td>\n      <td>2</td>\n      <td>0</td>\n      <td>57000.0</td>\n    </tr>\n    <tr>\n      <th>65691304</th>\n      <td>65691304</td>\n      <td>65685155</td>\n      <td>259086678</td>\n      <td>1263046732</td>\n      <td>11426</td>\n      <td>2</td>\n      <td>0</td>\n      <td>32000.0</td>\n    </tr>\n    <tr>\n      <th>65691305</th>\n      <td>65691305</td>\n      <td>65685247</td>\n      <td>4712229028</td>\n      <td>353724775</td>\n      <td>11426</td>\n      <td>0</td>\n      <td>0</td>\n      <td>17000.0</td>\n    </tr>\n    <tr>\n      <th>65691306</th>\n      <td>65691306</td>\n      <td>65691306</td>\n      <td>16006131227</td>\n      <td>147174392</td>\n      <td>11426</td>\n      <td>1</td>\n      <td>0</td>\n      <td>43000.0</td>\n    </tr>\n  </tbody>\n</table>\n<p>65691307 rows × 8 columns</p>\n</div>"
     },
     "metadata": {},
     "execution_count": 16
    }
   ],
   "source": [
    "df2"
   ]
  },
  {
   "cell_type": "code",
   "execution_count": 18,
   "metadata": {},
   "outputs": [
    {
     "output_type": "execute_result",
     "data": {
      "text/plain": [
       "                            index  answered_correctly\n",
       "user_id    content_id                                \n",
       "115        4                 20.0                 0.0\n",
       "           6                 26.0                 1.0\n",
       "           25                16.0                 1.0\n",
       "           45                22.0                 0.0\n",
       "           50                 7.0                 1.0\n",
       "...                           ...                 ...\n",
       "2147482888 6147        66462357.0                 1.0\n",
       "           6341        66462374.0                 1.0\n",
       "           6435        66462362.0                 0.0\n",
       "           7956        66462361.0                 1.0\n",
       "           9283        66462363.0                 0.0\n",
       "\n",
       "[57161156 rows x 2 columns]"
      ],
      "text/html": "<div>\n<style scoped>\n    .dataframe tbody tr th:only-of-type {\n        vertical-align: middle;\n    }\n\n    .dataframe tbody tr th {\n        vertical-align: top;\n    }\n\n    .dataframe thead th {\n        text-align: right;\n    }\n</style>\n<table border=\"1\" class=\"dataframe\">\n  <thead>\n    <tr style=\"text-align: right;\">\n      <th></th>\n      <th></th>\n      <th>index</th>\n      <th>answered_correctly</th>\n    </tr>\n    <tr>\n      <th>user_id</th>\n      <th>content_id</th>\n      <th></th>\n      <th></th>\n    </tr>\n  </thead>\n  <tbody>\n    <tr>\n      <th rowspan=\"5\" valign=\"top\">115</th>\n      <th>4</th>\n      <td>20.0</td>\n      <td>0.0</td>\n    </tr>\n    <tr>\n      <th>6</th>\n      <td>26.0</td>\n      <td>1.0</td>\n    </tr>\n    <tr>\n      <th>25</th>\n      <td>16.0</td>\n      <td>1.0</td>\n    </tr>\n    <tr>\n      <th>45</th>\n      <td>22.0</td>\n      <td>0.0</td>\n    </tr>\n    <tr>\n      <th>50</th>\n      <td>7.0</td>\n      <td>1.0</td>\n    </tr>\n    <tr>\n      <th>...</th>\n      <th>...</th>\n      <td>...</td>\n      <td>...</td>\n    </tr>\n    <tr>\n      <th rowspan=\"5\" valign=\"top\">2147482888</th>\n      <th>6147</th>\n      <td>66462357.0</td>\n      <td>1.0</td>\n    </tr>\n    <tr>\n      <th>6341</th>\n      <td>66462374.0</td>\n      <td>1.0</td>\n    </tr>\n    <tr>\n      <th>6435</th>\n      <td>66462362.0</td>\n      <td>0.0</td>\n    </tr>\n    <tr>\n      <th>7956</th>\n      <td>66462361.0</td>\n      <td>1.0</td>\n    </tr>\n    <tr>\n      <th>9283</th>\n      <td>66462363.0</td>\n      <td>0.0</td>\n    </tr>\n  </tbody>\n</table>\n<p>57161156 rows × 2 columns</p>\n</div>"
     },
     "metadata": {},
     "execution_count": 18
    }
   ],
   "source": [
    "group_df=df2.groupby(['user_id','content_id']).mean()\n",
    "group_df"
   ]
  },
  {
   "cell_type": "code",
   "execution_count": 19,
   "metadata": {},
   "outputs": [],
   "source": [
    "group_df.to_csv('./data/groupbyuser.csv')"
   ]
  },
  {
   "cell_type": "code",
   "execution_count": 20,
   "metadata": {},
   "outputs": [
    {
     "output_type": "execute_result",
     "data": {
      "text/plain": [
       "3437"
      ]
     },
     "metadata": {},
     "execution_count": 20
    }
   ],
   "source": [
    "len(group_df)"
   ]
  },
  {
   "cell_type": "code",
   "execution_count": 24,
   "metadata": {},
   "outputs": [
    {
     "output_type": "execute_result",
     "data": {
      "text/plain": [
       "(39, 3039)"
      ]
     },
     "metadata": {},
     "execution_count": 24
    }
   ],
   "source": [
    "df_table = pd.pivot_table(group_df, values ='answered_correctly',index ='user_id',columns='content_id', fill_value='')\n",
    "# df_table = group_df.set_index([\"user_id\", \"content_id\"]).unstack()\n",
    "df_table.shape"
   ]
  },
  {
   "cell_type": "code",
   "execution_count": 21,
   "metadata": {},
   "outputs": [],
   "source": [
    "\n",
    "            "
   ]
  },
  {
   "cell_type": "code",
   "execution_count": null,
   "metadata": {},
   "outputs": [],
   "source": []
  },
  {
   "cell_type": "code",
   "execution_count": 22,
   "metadata": {},
   "outputs": [],
   "source": [
    "df_table.to_csv('./data/Rmatrix.csv')"
   ]
  },
  {
   "cell_type": "code",
   "execution_count": null,
   "metadata": {},
   "outputs": [],
   "source": []
  }
 ],
 "metadata": {
  "kernelspec": {
   "display_name": "Python 3",
   "language": "python",
   "name": "python3"
  },
  "language_info": {
   "codemirror_mode": {
    "name": "ipython",
    "version": 3
   },
   "file_extension": ".py",
   "mimetype": "text/x-python",
   "name": "python",
   "nbconvert_exporter": "python",
   "pygments_lexer": "ipython3",
   "version": "3.8.3-final"
  }
 },
 "nbformat": 4,
 "nbformat_minor": 4
}