{
 "cells": [
  {
   "cell_type": "code",
   "execution_count": 6,
   "metadata": {},
   "outputs": [],
   "source": [
    "# import pandas as pd\n",
    "# data_path = './data/train.csv'\n",
    "# df = pd.read_csv(data_path)\n"
   ]
  },
  {
   "cell_type": "code",
   "execution_count": 7,
   "metadata": {},
   "outputs": [
    {
     "output_type": "execute_result",
     "data": {
      "text/plain": [
       "           timestamp     user_id  content_id  user_answer  answered_correctly  \\\n",
       "0                  0         115        5692            3                   1   \n",
       "1              56943         115        5716            2                   1   \n",
       "2             118363         115         128            0                   1   \n",
       "3             131167         115        7860            0                   1   \n",
       "4             137965         115        7922            1                   1   \n",
       "...              ...         ...         ...          ...                 ...   \n",
       "101230327  428564420  2147482888        3586            0                   1   \n",
       "101230328  428585000  2147482888        6341            3                   1   \n",
       "101230329  428613475  2147482888        4212            3                   1   \n",
       "101230330  428649406  2147482888        6343            1                   0   \n",
       "101230331  428692118  2147482888        7995            3                   1   \n",
       "\n",
       "           prior_question_elapsed_time  \n",
       "0                                  NaN  \n",
       "1                              37000.0  \n",
       "2                              55000.0  \n",
       "3                              19000.0  \n",
       "4                              11000.0  \n",
       "...                                ...  \n",
       "101230327                      18000.0  \n",
       "101230328                      14000.0  \n",
       "101230329                      14000.0  \n",
       "101230330                      22000.0  \n",
       "101230331                      29000.0  \n",
       "\n",
       "[99271300 rows x 6 columns]"
      ],
      "text/html": "<div>\n<style scoped>\n    .dataframe tbody tr th:only-of-type {\n        vertical-align: middle;\n    }\n\n    .dataframe tbody tr th {\n        vertical-align: top;\n    }\n\n    .dataframe thead th {\n        text-align: right;\n    }\n</style>\n<table border=\"1\" class=\"dataframe\">\n  <thead>\n    <tr style=\"text-align: right;\">\n      <th></th>\n      <th>timestamp</th>\n      <th>user_id</th>\n      <th>content_id</th>\n      <th>user_answer</th>\n      <th>answered_correctly</th>\n      <th>prior_question_elapsed_time</th>\n    </tr>\n  </thead>\n  <tbody>\n    <tr>\n      <th>0</th>\n      <td>0</td>\n      <td>115</td>\n      <td>5692</td>\n      <td>3</td>\n      <td>1</td>\n      <td>NaN</td>\n    </tr>\n    <tr>\n      <th>1</th>\n      <td>56943</td>\n      <td>115</td>\n      <td>5716</td>\n      <td>2</td>\n      <td>1</td>\n      <td>37000.0</td>\n    </tr>\n    <tr>\n      <th>2</th>\n      <td>118363</td>\n      <td>115</td>\n      <td>128</td>\n      <td>0</td>\n      <td>1</td>\n      <td>55000.0</td>\n    </tr>\n    <tr>\n      <th>3</th>\n      <td>131167</td>\n      <td>115</td>\n      <td>7860</td>\n      <td>0</td>\n      <td>1</td>\n      <td>19000.0</td>\n    </tr>\n    <tr>\n      <th>4</th>\n      <td>137965</td>\n      <td>115</td>\n      <td>7922</td>\n      <td>1</td>\n      <td>1</td>\n      <td>11000.0</td>\n    </tr>\n    <tr>\n      <th>...</th>\n      <td>...</td>\n      <td>...</td>\n      <td>...</td>\n      <td>...</td>\n      <td>...</td>\n      <td>...</td>\n    </tr>\n    <tr>\n      <th>101230327</th>\n      <td>428564420</td>\n      <td>2147482888</td>\n      <td>3586</td>\n      <td>0</td>\n      <td>1</td>\n      <td>18000.0</td>\n    </tr>\n    <tr>\n      <th>101230328</th>\n      <td>428585000</td>\n      <td>2147482888</td>\n      <td>6341</td>\n      <td>3</td>\n      <td>1</td>\n      <td>14000.0</td>\n    </tr>\n    <tr>\n      <th>101230329</th>\n      <td>428613475</td>\n      <td>2147482888</td>\n      <td>4212</td>\n      <td>3</td>\n      <td>1</td>\n      <td>14000.0</td>\n    </tr>\n    <tr>\n      <th>101230330</th>\n      <td>428649406</td>\n      <td>2147482888</td>\n      <td>6343</td>\n      <td>1</td>\n      <td>0</td>\n      <td>22000.0</td>\n    </tr>\n    <tr>\n      <th>101230331</th>\n      <td>428692118</td>\n      <td>2147482888</td>\n      <td>7995</td>\n      <td>3</td>\n      <td>1</td>\n      <td>29000.0</td>\n    </tr>\n  </tbody>\n</table>\n<p>99271300 rows × 6 columns</p>\n</div>"
     },
     "metadata": {},
     "execution_count": 7
    }
   ],
   "source": [
    "# df1 = df.drop(['row_id', 'content_type_id', 'task_container_id', 'prior_question_had_explanation'], axis=1)\n",
    "# df1 = df1[df1['answered_correctly'] != -1]\n",
    "# df1"
   ]
  },
  {
   "cell_type": "code",
   "execution_count": 8,
   "metadata": {},
   "outputs": [],
   "source": [
    "# df1.to_csv(\"no-1.csv\")"
   ]
  },
  {
   "cell_type": "code",
   "execution_count": 1,
   "metadata": {},
   "outputs": [
    {
     "output_type": "execute_result",
     "data": {
      "text/plain": [
       "          Unnamed: 0  timestamp     user_id   qId  user_answer  \\\n",
       "0                  0          0         115  5692            3   \n",
       "1                  1      56943         115  5716            2   \n",
       "2                  2     118363         115   128            0   \n",
       "3                  3     131167         115  7860            0   \n",
       "4                  4     137965         115  7922            1   \n",
       "...              ...        ...         ...   ...          ...   \n",
       "99271295   101230327  428564420  2147482888  3586            0   \n",
       "99271296   101230328  428585000  2147482888  6341            3   \n",
       "99271297   101230329  428613475  2147482888  4212            3   \n",
       "99271298   101230330  428649406  2147482888  6343            1   \n",
       "99271299   101230331  428692118  2147482888  7995            3   \n",
       "\n",
       "          answered_correctly  prior_question_elapsed_time  user_name  password  \n",
       "0                          1                          NaN        NaN       NaN  \n",
       "1                          1                      37000.0        NaN       NaN  \n",
       "2                          1                      55000.0        NaN       NaN  \n",
       "3                          1                      19000.0        NaN       NaN  \n",
       "4                          1                      11000.0        NaN       NaN  \n",
       "...                      ...                          ...        ...       ...  \n",
       "99271295                   1                      18000.0        NaN       NaN  \n",
       "99271296                   1                      14000.0        NaN       NaN  \n",
       "99271297                   1                      14000.0        NaN       NaN  \n",
       "99271298                   0                      22000.0        NaN       NaN  \n",
       "99271299                   1                      29000.0        NaN       NaN  \n",
       "\n",
       "[99271300 rows x 9 columns]"
      ],
      "text/html": "<div>\n<style scoped>\n    .dataframe tbody tr th:only-of-type {\n        vertical-align: middle;\n    }\n\n    .dataframe tbody tr th {\n        vertical-align: top;\n    }\n\n    .dataframe thead th {\n        text-align: right;\n    }\n</style>\n<table border=\"1\" class=\"dataframe\">\n  <thead>\n    <tr style=\"text-align: right;\">\n      <th></th>\n      <th>Unnamed: 0</th>\n      <th>timestamp</th>\n      <th>user_id</th>\n      <th>qId</th>\n      <th>user_answer</th>\n      <th>answered_correctly</th>\n      <th>prior_question_elapsed_time</th>\n      <th>user_name</th>\n      <th>password</th>\n    </tr>\n  </thead>\n  <tbody>\n    <tr>\n      <th>0</th>\n      <td>0</td>\n      <td>0</td>\n      <td>115</td>\n      <td>5692</td>\n      <td>3</td>\n      <td>1</td>\n      <td>NaN</td>\n      <td>NaN</td>\n      <td>NaN</td>\n    </tr>\n    <tr>\n      <th>1</th>\n      <td>1</td>\n      <td>56943</td>\n      <td>115</td>\n      <td>5716</td>\n      <td>2</td>\n      <td>1</td>\n      <td>37000.0</td>\n      <td>NaN</td>\n      <td>NaN</td>\n    </tr>\n    <tr>\n      <th>2</th>\n      <td>2</td>\n      <td>118363</td>\n      <td>115</td>\n      <td>128</td>\n      <td>0</td>\n      <td>1</td>\n      <td>55000.0</td>\n      <td>NaN</td>\n      <td>NaN</td>\n    </tr>\n    <tr>\n      <th>3</th>\n      <td>3</td>\n      <td>131167</td>\n      <td>115</td>\n      <td>7860</td>\n      <td>0</td>\n      <td>1</td>\n      <td>19000.0</td>\n      <td>NaN</td>\n      <td>NaN</td>\n    </tr>\n    <tr>\n      <th>4</th>\n      <td>4</td>\n      <td>137965</td>\n      <td>115</td>\n      <td>7922</td>\n      <td>1</td>\n      <td>1</td>\n      <td>11000.0</td>\n      <td>NaN</td>\n      <td>NaN</td>\n    </tr>\n    <tr>\n      <th>...</th>\n      <td>...</td>\n      <td>...</td>\n      <td>...</td>\n      <td>...</td>\n      <td>...</td>\n      <td>...</td>\n      <td>...</td>\n      <td>...</td>\n      <td>...</td>\n    </tr>\n    <tr>\n      <th>99271295</th>\n      <td>101230327</td>\n      <td>428564420</td>\n      <td>2147482888</td>\n      <td>3586</td>\n      <td>0</td>\n      <td>1</td>\n      <td>18000.0</td>\n      <td>NaN</td>\n      <td>NaN</td>\n    </tr>\n    <tr>\n      <th>99271296</th>\n      <td>101230328</td>\n      <td>428585000</td>\n      <td>2147482888</td>\n      <td>6341</td>\n      <td>3</td>\n      <td>1</td>\n      <td>14000.0</td>\n      <td>NaN</td>\n      <td>NaN</td>\n    </tr>\n    <tr>\n      <th>99271297</th>\n      <td>101230329</td>\n      <td>428613475</td>\n      <td>2147482888</td>\n      <td>4212</td>\n      <td>3</td>\n      <td>1</td>\n      <td>14000.0</td>\n      <td>NaN</td>\n      <td>NaN</td>\n    </tr>\n    <tr>\n      <th>99271298</th>\n      <td>101230330</td>\n      <td>428649406</td>\n      <td>2147482888</td>\n      <td>6343</td>\n      <td>1</td>\n      <td>0</td>\n      <td>22000.0</td>\n      <td>NaN</td>\n      <td>NaN</td>\n    </tr>\n    <tr>\n      <th>99271299</th>\n      <td>101230331</td>\n      <td>428692118</td>\n      <td>2147482888</td>\n      <td>7995</td>\n      <td>3</td>\n      <td>1</td>\n      <td>29000.0</td>\n      <td>NaN</td>\n      <td>NaN</td>\n    </tr>\n  </tbody>\n</table>\n<p>99271300 rows × 9 columns</p>\n</div>"
     },
     "metadata": {},
     "execution_count": 1
    }
   ],
   "source": [
    "import pandas as pd\n",
    "import numpy as np\n",
    "data_path = './no-1.csv'\n",
    "df = pd.read_csv(data_path)\n",
    "df = df.assign(user_name=np.nan, password=np.nan)\n",
    "df.rename(columns = {'content_id' : 'qId'}, inplace=True)\n",
    "df"
   ]
  },
  {
   "cell_type": "code",
   "execution_count": 2,
   "metadata": {},
   "outputs": [],
   "source": [
    "group_df=df['qId'].value_counts()\n",
    "sorted_group_df=group_df.sort_values(ascending=False)"
   ]
  },
  {
   "cell_type": "code",
   "execution_count": 3,
   "metadata": {},
   "outputs": [
    {
     "output_type": "execute_result",
     "data": {
      "text/plain": [
       "6370    169945\n",
       "2946    167589\n",
       "2947    167589\n",
       "2948    167588\n",
       "2594    160858\n",
       "         ...  \n",
       "5271     36833\n",
       "7942     36773\n",
       "3988     36758\n",
       "291      36724\n",
       "5181     36688\n",
       "Name: qId, Length: 200, dtype: int64"
      ]
     },
     "metadata": {},
     "execution_count": 3
    }
   ],
   "source": [
    "sorted_group_df=sorted_group_df[15:215]\n",
    "sorted_group_df"
   ]
  },
  {
   "cell_type": "code",
   "execution_count": 4,
   "metadata": {},
   "outputs": [],
   "source": [
    "sorted_group_list=sorted_group_df.index.tolist()"
   ]
  },
  {
   "cell_type": "code",
   "execution_count": 5,
   "metadata": {},
   "outputs": [
    {
     "output_type": "execute_result",
     "data": {
      "text/plain": [
       "0           False\n",
       "1           False\n",
       "2           False\n",
       "3           False\n",
       "4           False\n",
       "            ...  \n",
       "99271295    False\n",
       "99271296    False\n",
       "99271297    False\n",
       "99271298    False\n",
       "99271299    False\n",
       "Name: qId, Length: 99271300, dtype: bool"
      ]
     },
     "metadata": {},
     "execution_count": 5
    }
   ],
   "source": [
    "df.qId.isin(sorted_group_list)"
   ]
  },
  {
   "cell_type": "code",
   "execution_count": 6,
   "metadata": {},
   "outputs": [
    {
     "output_type": "execute_result",
     "data": {
      "text/plain": [
       "          Unnamed: 0  timestamp     user_id   qId  user_answer  \\\n",
       "9                  9     230983         115  7863            0   \n",
       "23                23     557677         115   185            3   \n",
       "24                24     575289         115    55            3   \n",
       "26                26     621464         115     6            2   \n",
       "28                28     670520         115  7898            2   \n",
       "...              ...        ...         ...   ...          ...   \n",
       "99271279   101230311     152682  2147482888  6435            0   \n",
       "99271280   101230312  253883847  2147482888  9283            0   \n",
       "99271284   101230316  254461924  2147482888  4702            3   \n",
       "99271285   101230317  254505467  2147482888  3642            1   \n",
       "99271288   101230320  428190226  2147482888  4496            0   \n",
       "\n",
       "          answered_correctly  prior_question_elapsed_time  user_name  password  \n",
       "9                          1                      16000.0        NaN       NaN  \n",
       "23                         0                      21000.0        NaN       NaN  \n",
       "24                         1                      22000.0        NaN       NaN  \n",
       "26                         1                      20000.0        NaN       NaN  \n",
       "28                         1                      22000.0        NaN       NaN  \n",
       "...                      ...                          ...        ...       ...  \n",
       "99271279                   0                      20000.0        NaN       NaN  \n",
       "99271280                   0                      41000.0        NaN       NaN  \n",
       "99271284                   0                     102000.0        NaN       NaN  \n",
       "99271285                   0                      33000.0        NaN       NaN  \n",
       "99271288                   1                      25000.0        NaN       NaN  \n",
       "\n",
       "[12146546 rows x 9 columns]"
      ],
      "text/html": "<div>\n<style scoped>\n    .dataframe tbody tr th:only-of-type {\n        vertical-align: middle;\n    }\n\n    .dataframe tbody tr th {\n        vertical-align: top;\n    }\n\n    .dataframe thead th {\n        text-align: right;\n    }\n</style>\n<table border=\"1\" class=\"dataframe\">\n  <thead>\n    <tr style=\"text-align: right;\">\n      <th></th>\n      <th>Unnamed: 0</th>\n      <th>timestamp</th>\n      <th>user_id</th>\n      <th>qId</th>\n      <th>user_answer</th>\n      <th>answered_correctly</th>\n      <th>prior_question_elapsed_time</th>\n      <th>user_name</th>\n      <th>password</th>\n    </tr>\n  </thead>\n  <tbody>\n    <tr>\n      <th>9</th>\n      <td>9</td>\n      <td>230983</td>\n      <td>115</td>\n      <td>7863</td>\n      <td>0</td>\n      <td>1</td>\n      <td>16000.0</td>\n      <td>NaN</td>\n      <td>NaN</td>\n    </tr>\n    <tr>\n      <th>23</th>\n      <td>23</td>\n      <td>557677</td>\n      <td>115</td>\n      <td>185</td>\n      <td>3</td>\n      <td>0</td>\n      <td>21000.0</td>\n      <td>NaN</td>\n      <td>NaN</td>\n    </tr>\n    <tr>\n      <th>24</th>\n      <td>24</td>\n      <td>575289</td>\n      <td>115</td>\n      <td>55</td>\n      <td>3</td>\n      <td>1</td>\n      <td>22000.0</td>\n      <td>NaN</td>\n      <td>NaN</td>\n    </tr>\n    <tr>\n      <th>26</th>\n      <td>26</td>\n      <td>621464</td>\n      <td>115</td>\n      <td>6</td>\n      <td>2</td>\n      <td>1</td>\n      <td>20000.0</td>\n      <td>NaN</td>\n      <td>NaN</td>\n    </tr>\n    <tr>\n      <th>28</th>\n      <td>28</td>\n      <td>670520</td>\n      <td>115</td>\n      <td>7898</td>\n      <td>2</td>\n      <td>1</td>\n      <td>22000.0</td>\n      <td>NaN</td>\n      <td>NaN</td>\n    </tr>\n    <tr>\n      <th>...</th>\n      <td>...</td>\n      <td>...</td>\n      <td>...</td>\n      <td>...</td>\n      <td>...</td>\n      <td>...</td>\n      <td>...</td>\n      <td>...</td>\n      <td>...</td>\n    </tr>\n    <tr>\n      <th>99271279</th>\n      <td>101230311</td>\n      <td>152682</td>\n      <td>2147482888</td>\n      <td>6435</td>\n      <td>0</td>\n      <td>0</td>\n      <td>20000.0</td>\n      <td>NaN</td>\n      <td>NaN</td>\n    </tr>\n    <tr>\n      <th>99271280</th>\n      <td>101230312</td>\n      <td>253883847</td>\n      <td>2147482888</td>\n      <td>9283</td>\n      <td>0</td>\n      <td>0</td>\n      <td>41000.0</td>\n      <td>NaN</td>\n      <td>NaN</td>\n    </tr>\n    <tr>\n      <th>99271284</th>\n      <td>101230316</td>\n      <td>254461924</td>\n      <td>2147482888</td>\n      <td>4702</td>\n      <td>3</td>\n      <td>0</td>\n      <td>102000.0</td>\n      <td>NaN</td>\n      <td>NaN</td>\n    </tr>\n    <tr>\n      <th>99271285</th>\n      <td>101230317</td>\n      <td>254505467</td>\n      <td>2147482888</td>\n      <td>3642</td>\n      <td>1</td>\n      <td>0</td>\n      <td>33000.0</td>\n      <td>NaN</td>\n      <td>NaN</td>\n    </tr>\n    <tr>\n      <th>99271288</th>\n      <td>101230320</td>\n      <td>428190226</td>\n      <td>2147482888</td>\n      <td>4496</td>\n      <td>0</td>\n      <td>1</td>\n      <td>25000.0</td>\n      <td>NaN</td>\n      <td>NaN</td>\n    </tr>\n  </tbody>\n</table>\n<p>12146546 rows × 9 columns</p>\n</div>"
     },
     "metadata": {},
     "execution_count": 6
    }
   ],
   "source": [
    "df2 = df.loc[df.qId.isin(sorted_group_list)]\n",
    "df2"
   ]
  },
  {
   "cell_type": "code",
   "execution_count": 7,
   "metadata": {},
   "outputs": [],
   "source": [
    "df2.to_csv(\"중복되는content제거-2.csv\")"
   ]
  },
  {
   "cell_type": "code",
   "execution_count": 8,
   "metadata": {},
   "outputs": [
    {
     "output_type": "execute_result",
     "data": {
      "text/plain": [
       "             index  Unnamed: 0  timestamp     user_id   qId  user_answer  \\\n",
       "0                9           9     230983         115  7863            0   \n",
       "1               23          23     557677         115   185            3   \n",
       "2               24          24     575289         115    55            3   \n",
       "3               26          26     621464         115     6            2   \n",
       "4               28          28     670520         115  7898            2   \n",
       "...            ...         ...        ...         ...   ...          ...   \n",
       "12146541  99271285   101230317  254505467  2147482888  3642            1   \n",
       "12146542  99271279   101230311     152682  2147482888  6435            0   \n",
       "12146543  99271280   101230312  253883847  2147482888  9283            0   \n",
       "12146544  99271284   101230316  254461924  2147482888  4702            3   \n",
       "12146545  99271288   101230320  428190226  2147482888  4496            0   \n",
       "\n",
       "          answered_correctly  prior_question_elapsed_time  user_name  password  \n",
       "0                          1                      16000.0        NaN       NaN  \n",
       "1                          0                      21000.0        NaN       NaN  \n",
       "2                          1                      22000.0        NaN       NaN  \n",
       "3                          1                      20000.0        NaN       NaN  \n",
       "4                          1                      22000.0        NaN       NaN  \n",
       "...                      ...                          ...        ...       ...  \n",
       "12146541                   0                      33000.0        NaN       NaN  \n",
       "12146542                   0                      20000.0        NaN       NaN  \n",
       "12146543                   0                      41000.0        NaN       NaN  \n",
       "12146544                   0                     102000.0        NaN       NaN  \n",
       "12146545                   1                      25000.0        NaN       NaN  \n",
       "\n",
       "[12146546 rows x 10 columns]"
      ],
      "text/html": "<div>\n<style scoped>\n    .dataframe tbody tr th:only-of-type {\n        vertical-align: middle;\n    }\n\n    .dataframe tbody tr th {\n        vertical-align: top;\n    }\n\n    .dataframe thead th {\n        text-align: right;\n    }\n</style>\n<table border=\"1\" class=\"dataframe\">\n  <thead>\n    <tr style=\"text-align: right;\">\n      <th></th>\n      <th>index</th>\n      <th>Unnamed: 0</th>\n      <th>timestamp</th>\n      <th>user_id</th>\n      <th>qId</th>\n      <th>user_answer</th>\n      <th>answered_correctly</th>\n      <th>prior_question_elapsed_time</th>\n      <th>user_name</th>\n      <th>password</th>\n    </tr>\n  </thead>\n  <tbody>\n    <tr>\n      <th>0</th>\n      <td>9</td>\n      <td>9</td>\n      <td>230983</td>\n      <td>115</td>\n      <td>7863</td>\n      <td>0</td>\n      <td>1</td>\n      <td>16000.0</td>\n      <td>NaN</td>\n      <td>NaN</td>\n    </tr>\n    <tr>\n      <th>1</th>\n      <td>23</td>\n      <td>23</td>\n      <td>557677</td>\n      <td>115</td>\n      <td>185</td>\n      <td>3</td>\n      <td>0</td>\n      <td>21000.0</td>\n      <td>NaN</td>\n      <td>NaN</td>\n    </tr>\n    <tr>\n      <th>2</th>\n      <td>24</td>\n      <td>24</td>\n      <td>575289</td>\n      <td>115</td>\n      <td>55</td>\n      <td>3</td>\n      <td>1</td>\n      <td>22000.0</td>\n      <td>NaN</td>\n      <td>NaN</td>\n    </tr>\n    <tr>\n      <th>3</th>\n      <td>26</td>\n      <td>26</td>\n      <td>621464</td>\n      <td>115</td>\n      <td>6</td>\n      <td>2</td>\n      <td>1</td>\n      <td>20000.0</td>\n      <td>NaN</td>\n      <td>NaN</td>\n    </tr>\n    <tr>\n      <th>4</th>\n      <td>28</td>\n      <td>28</td>\n      <td>670520</td>\n      <td>115</td>\n      <td>7898</td>\n      <td>2</td>\n      <td>1</td>\n      <td>22000.0</td>\n      <td>NaN</td>\n      <td>NaN</td>\n    </tr>\n    <tr>\n      <th>...</th>\n      <td>...</td>\n      <td>...</td>\n      <td>...</td>\n      <td>...</td>\n      <td>...</td>\n      <td>...</td>\n      <td>...</td>\n      <td>...</td>\n      <td>...</td>\n      <td>...</td>\n    </tr>\n    <tr>\n      <th>12146541</th>\n      <td>99271285</td>\n      <td>101230317</td>\n      <td>254505467</td>\n      <td>2147482888</td>\n      <td>3642</td>\n      <td>1</td>\n      <td>0</td>\n      <td>33000.0</td>\n      <td>NaN</td>\n      <td>NaN</td>\n    </tr>\n    <tr>\n      <th>12146542</th>\n      <td>99271279</td>\n      <td>101230311</td>\n      <td>152682</td>\n      <td>2147482888</td>\n      <td>6435</td>\n      <td>0</td>\n      <td>0</td>\n      <td>20000.0</td>\n      <td>NaN</td>\n      <td>NaN</td>\n    </tr>\n    <tr>\n      <th>12146543</th>\n      <td>99271280</td>\n      <td>101230312</td>\n      <td>253883847</td>\n      <td>2147482888</td>\n      <td>9283</td>\n      <td>0</td>\n      <td>0</td>\n      <td>41000.0</td>\n      <td>NaN</td>\n      <td>NaN</td>\n    </tr>\n    <tr>\n      <th>12146544</th>\n      <td>99271284</td>\n      <td>101230316</td>\n      <td>254461924</td>\n      <td>2147482888</td>\n      <td>4702</td>\n      <td>3</td>\n      <td>0</td>\n      <td>102000.0</td>\n      <td>NaN</td>\n      <td>NaN</td>\n    </tr>\n    <tr>\n      <th>12146545</th>\n      <td>99271288</td>\n      <td>101230320</td>\n      <td>428190226</td>\n      <td>2147482888</td>\n      <td>4496</td>\n      <td>0</td>\n      <td>1</td>\n      <td>25000.0</td>\n      <td>NaN</td>\n      <td>NaN</td>\n    </tr>\n  </tbody>\n</table>\n<p>12146546 rows × 10 columns</p>\n</div>"
     },
     "metadata": {},
     "execution_count": 8
    }
   ],
   "source": [
    "\n",
    "df2=df2.sort_values('user_id')\n",
    "df2=df2.reset_index()\n",
    "df2\n"
   ]
  },
  {
   "cell_type": "code",
   "execution_count": 9,
   "metadata": {},
   "outputs": [
    {
     "output_type": "execute_result",
     "data": {
      "text/plain": [
       "          Unnamed: 0  timestamp     user_id   qId  user_answer  \\\n",
       "0                  9     230983         115  7863            0   \n",
       "1                 23     557677         115   185            3   \n",
       "2                 24     575289         115    55            3   \n",
       "3                 26     621464         115     6            2   \n",
       "4                 28     670520         115  7898            2   \n",
       "...              ...        ...         ...   ...          ...   \n",
       "12146541   101230317  254505467  2147482888  3642            1   \n",
       "12146542   101230311     152682  2147482888  6435            0   \n",
       "12146543   101230312  253883847  2147482888  9283            0   \n",
       "12146544   101230316  254461924  2147482888  4702            3   \n",
       "12146545   101230320  428190226  2147482888  4496            0   \n",
       "\n",
       "          answered_correctly  prior_question_elapsed_time  user_name  password  \n",
       "0                          1                      16000.0        NaN       NaN  \n",
       "1                          0                      21000.0        NaN       NaN  \n",
       "2                          1                      22000.0        NaN       NaN  \n",
       "3                          1                      20000.0        NaN       NaN  \n",
       "4                          1                      22000.0        NaN       NaN  \n",
       "...                      ...                          ...        ...       ...  \n",
       "12146541                   0                      33000.0        NaN       NaN  \n",
       "12146542                   0                      20000.0        NaN       NaN  \n",
       "12146543                   0                      41000.0        NaN       NaN  \n",
       "12146544                   0                     102000.0        NaN       NaN  \n",
       "12146545                   1                      25000.0        NaN       NaN  \n",
       "\n",
       "[12146546 rows x 9 columns]"
      ],
      "text/html": "<div>\n<style scoped>\n    .dataframe tbody tr th:only-of-type {\n        vertical-align: middle;\n    }\n\n    .dataframe tbody tr th {\n        vertical-align: top;\n    }\n\n    .dataframe thead th {\n        text-align: right;\n    }\n</style>\n<table border=\"1\" class=\"dataframe\">\n  <thead>\n    <tr style=\"text-align: right;\">\n      <th></th>\n      <th>Unnamed: 0</th>\n      <th>timestamp</th>\n      <th>user_id</th>\n      <th>qId</th>\n      <th>user_answer</th>\n      <th>answered_correctly</th>\n      <th>prior_question_elapsed_time</th>\n      <th>user_name</th>\n      <th>password</th>\n    </tr>\n  </thead>\n  <tbody>\n    <tr>\n      <th>0</th>\n      <td>9</td>\n      <td>230983</td>\n      <td>115</td>\n      <td>7863</td>\n      <td>0</td>\n      <td>1</td>\n      <td>16000.0</td>\n      <td>NaN</td>\n      <td>NaN</td>\n    </tr>\n    <tr>\n      <th>1</th>\n      <td>23</td>\n      <td>557677</td>\n      <td>115</td>\n      <td>185</td>\n      <td>3</td>\n      <td>0</td>\n      <td>21000.0</td>\n      <td>NaN</td>\n      <td>NaN</td>\n    </tr>\n    <tr>\n      <th>2</th>\n      <td>24</td>\n      <td>575289</td>\n      <td>115</td>\n      <td>55</td>\n      <td>3</td>\n      <td>1</td>\n      <td>22000.0</td>\n      <td>NaN</td>\n      <td>NaN</td>\n    </tr>\n    <tr>\n      <th>3</th>\n      <td>26</td>\n      <td>621464</td>\n      <td>115</td>\n      <td>6</td>\n      <td>2</td>\n      <td>1</td>\n      <td>20000.0</td>\n      <td>NaN</td>\n      <td>NaN</td>\n    </tr>\n    <tr>\n      <th>4</th>\n      <td>28</td>\n      <td>670520</td>\n      <td>115</td>\n      <td>7898</td>\n      <td>2</td>\n      <td>1</td>\n      <td>22000.0</td>\n      <td>NaN</td>\n      <td>NaN</td>\n    </tr>\n    <tr>\n      <th>...</th>\n      <td>...</td>\n      <td>...</td>\n      <td>...</td>\n      <td>...</td>\n      <td>...</td>\n      <td>...</td>\n      <td>...</td>\n      <td>...</td>\n      <td>...</td>\n    </tr>\n    <tr>\n      <th>12146541</th>\n      <td>101230317</td>\n      <td>254505467</td>\n      <td>2147482888</td>\n      <td>3642</td>\n      <td>1</td>\n      <td>0</td>\n      <td>33000.0</td>\n      <td>NaN</td>\n      <td>NaN</td>\n    </tr>\n    <tr>\n      <th>12146542</th>\n      <td>101230311</td>\n      <td>152682</td>\n      <td>2147482888</td>\n      <td>6435</td>\n      <td>0</td>\n      <td>0</td>\n      <td>20000.0</td>\n      <td>NaN</td>\n      <td>NaN</td>\n    </tr>\n    <tr>\n      <th>12146543</th>\n      <td>101230312</td>\n      <td>253883847</td>\n      <td>2147482888</td>\n      <td>9283</td>\n      <td>0</td>\n      <td>0</td>\n      <td>41000.0</td>\n      <td>NaN</td>\n      <td>NaN</td>\n    </tr>\n    <tr>\n      <th>12146544</th>\n      <td>101230316</td>\n      <td>254461924</td>\n      <td>2147482888</td>\n      <td>4702</td>\n      <td>3</td>\n      <td>0</td>\n      <td>102000.0</td>\n      <td>NaN</td>\n      <td>NaN</td>\n    </tr>\n    <tr>\n      <th>12146545</th>\n      <td>101230320</td>\n      <td>428190226</td>\n      <td>2147482888</td>\n      <td>4496</td>\n      <td>0</td>\n      <td>1</td>\n      <td>25000.0</td>\n      <td>NaN</td>\n      <td>NaN</td>\n    </tr>\n  </tbody>\n</table>\n<p>12146546 rows × 9 columns</p>\n</div>"
     },
     "metadata": {},
     "execution_count": 9
    }
   ],
   "source": [
    "df2=df2.drop(['index'],axis=1)\n",
    "df2"
   ]
  },
  {
   "cell_type": "code",
   "execution_count": 10,
   "metadata": {},
   "outputs": [
    {
     "output_type": "execute_result",
     "data": {
      "text/plain": [
       "1509564249    1935\n",
       "1828242828     878\n",
       "323509977      834\n",
       "1931752413     818\n",
       "111739511      797\n",
       "              ... \n",
       "155587016        1\n",
       "276195138        1\n",
       "1403051413       1\n",
       "179582763        1\n",
       "57233416         1\n",
       "Name: user_id, Length: 383356, dtype: int64"
      ]
     },
     "metadata": {},
     "execution_count": 10
    }
   ],
   "source": [
    "df2=df2.user_id.value_counts()\n",
    "df2"
   ]
  },
  {
   "cell_type": "code",
   "execution_count": 11,
   "metadata": {},
   "outputs": [
    {
     "output_type": "execute_result",
     "data": {
      "text/plain": [
       "1509564249    1935\n",
       "1828242828     878\n",
       "323509977      834\n",
       "1931752413     818\n",
       "111739511      797\n",
       "499347415      768\n",
       "1144446353     762\n",
       "1806690580     715\n",
       "1913693773     709\n",
       "160770014      701\n",
       "Name: user_id, dtype: int64"
      ]
     },
     "metadata": {},
     "execution_count": 11
    }
   ],
   "source": [
    "df2=df2[df2>700]\n",
    "df2"
   ]
  },
  {
   "cell_type": "code",
   "execution_count": 12,
   "metadata": {},
   "outputs": [],
   "source": [
    "df2_list=df2.index.tolist()"
   ]
  },
  {
   "cell_type": "code",
   "execution_count": 13,
   "metadata": {},
   "outputs": [],
   "source": [
    "df3 = pd.read_csv(\"중복되는content제거-2.csv\")"
   ]
  },
  {
   "cell_type": "code",
   "execution_count": 14,
   "metadata": {},
   "outputs": [
    {
     "output_type": "execute_result",
     "data": {
      "text/plain": [
       "             index  Unnamed: 0  Unnamed: 0.1  timestamp     user_id   qId  \\\n",
       "0                0           9             9     230983         115  7863   \n",
       "1                1          23            23     557677         115   185   \n",
       "2                2          24            24     575289         115    55   \n",
       "3                3          26            26     621464         115     6   \n",
       "4                4          28            28     670520         115  7898   \n",
       "...            ...         ...           ...        ...         ...   ...   \n",
       "12146541  12146544    99271285     101230317  254505467  2147482888  3642   \n",
       "12146542  12146541    99271279     101230311     152682  2147482888  6435   \n",
       "12146543  12146542    99271280     101230312  253883847  2147482888  9283   \n",
       "12146544  12146543    99271284     101230316  254461924  2147482888  4702   \n",
       "12146545  12146545    99271288     101230320  428190226  2147482888  4496   \n",
       "\n",
       "          user_answer  answered_correctly  prior_question_elapsed_time  \\\n",
       "0                   0                   1                      16000.0   \n",
       "1                   3                   0                      21000.0   \n",
       "2                   3                   1                      22000.0   \n",
       "3                   2                   1                      20000.0   \n",
       "4                   2                   1                      22000.0   \n",
       "...               ...                 ...                          ...   \n",
       "12146541            1                   0                      33000.0   \n",
       "12146542            0                   0                      20000.0   \n",
       "12146543            0                   0                      41000.0   \n",
       "12146544            3                   0                     102000.0   \n",
       "12146545            0                   1                      25000.0   \n",
       "\n",
       "          user_name  password  \n",
       "0               NaN       NaN  \n",
       "1               NaN       NaN  \n",
       "2               NaN       NaN  \n",
       "3               NaN       NaN  \n",
       "4               NaN       NaN  \n",
       "...             ...       ...  \n",
       "12146541        NaN       NaN  \n",
       "12146542        NaN       NaN  \n",
       "12146543        NaN       NaN  \n",
       "12146544        NaN       NaN  \n",
       "12146545        NaN       NaN  \n",
       "\n",
       "[12146546 rows x 11 columns]"
      ],
      "text/html": "<div>\n<style scoped>\n    .dataframe tbody tr th:only-of-type {\n        vertical-align: middle;\n    }\n\n    .dataframe tbody tr th {\n        vertical-align: top;\n    }\n\n    .dataframe thead th {\n        text-align: right;\n    }\n</style>\n<table border=\"1\" class=\"dataframe\">\n  <thead>\n    <tr style=\"text-align: right;\">\n      <th></th>\n      <th>index</th>\n      <th>Unnamed: 0</th>\n      <th>Unnamed: 0.1</th>\n      <th>timestamp</th>\n      <th>user_id</th>\n      <th>qId</th>\n      <th>user_answer</th>\n      <th>answered_correctly</th>\n      <th>prior_question_elapsed_time</th>\n      <th>user_name</th>\n      <th>password</th>\n    </tr>\n  </thead>\n  <tbody>\n    <tr>\n      <th>0</th>\n      <td>0</td>\n      <td>9</td>\n      <td>9</td>\n      <td>230983</td>\n      <td>115</td>\n      <td>7863</td>\n      <td>0</td>\n      <td>1</td>\n      <td>16000.0</td>\n      <td>NaN</td>\n      <td>NaN</td>\n    </tr>\n    <tr>\n      <th>1</th>\n      <td>1</td>\n      <td>23</td>\n      <td>23</td>\n      <td>557677</td>\n      <td>115</td>\n      <td>185</td>\n      <td>3</td>\n      <td>0</td>\n      <td>21000.0</td>\n      <td>NaN</td>\n      <td>NaN</td>\n    </tr>\n    <tr>\n      <th>2</th>\n      <td>2</td>\n      <td>24</td>\n      <td>24</td>\n      <td>575289</td>\n      <td>115</td>\n      <td>55</td>\n      <td>3</td>\n      <td>1</td>\n      <td>22000.0</td>\n      <td>NaN</td>\n      <td>NaN</td>\n    </tr>\n    <tr>\n      <th>3</th>\n      <td>3</td>\n      <td>26</td>\n      <td>26</td>\n      <td>621464</td>\n      <td>115</td>\n      <td>6</td>\n      <td>2</td>\n      <td>1</td>\n      <td>20000.0</td>\n      <td>NaN</td>\n      <td>NaN</td>\n    </tr>\n    <tr>\n      <th>4</th>\n      <td>4</td>\n      <td>28</td>\n      <td>28</td>\n      <td>670520</td>\n      <td>115</td>\n      <td>7898</td>\n      <td>2</td>\n      <td>1</td>\n      <td>22000.0</td>\n      <td>NaN</td>\n      <td>NaN</td>\n    </tr>\n    <tr>\n      <th>...</th>\n      <td>...</td>\n      <td>...</td>\n      <td>...</td>\n      <td>...</td>\n      <td>...</td>\n      <td>...</td>\n      <td>...</td>\n      <td>...</td>\n      <td>...</td>\n      <td>...</td>\n      <td>...</td>\n    </tr>\n    <tr>\n      <th>12146541</th>\n      <td>12146544</td>\n      <td>99271285</td>\n      <td>101230317</td>\n      <td>254505467</td>\n      <td>2147482888</td>\n      <td>3642</td>\n      <td>1</td>\n      <td>0</td>\n      <td>33000.0</td>\n      <td>NaN</td>\n      <td>NaN</td>\n    </tr>\n    <tr>\n      <th>12146542</th>\n      <td>12146541</td>\n      <td>99271279</td>\n      <td>101230311</td>\n      <td>152682</td>\n      <td>2147482888</td>\n      <td>6435</td>\n      <td>0</td>\n      <td>0</td>\n      <td>20000.0</td>\n      <td>NaN</td>\n      <td>NaN</td>\n    </tr>\n    <tr>\n      <th>12146543</th>\n      <td>12146542</td>\n      <td>99271280</td>\n      <td>101230312</td>\n      <td>253883847</td>\n      <td>2147482888</td>\n      <td>9283</td>\n      <td>0</td>\n      <td>0</td>\n      <td>41000.0</td>\n      <td>NaN</td>\n      <td>NaN</td>\n    </tr>\n    <tr>\n      <th>12146544</th>\n      <td>12146543</td>\n      <td>99271284</td>\n      <td>101230316</td>\n      <td>254461924</td>\n      <td>2147482888</td>\n      <td>4702</td>\n      <td>3</td>\n      <td>0</td>\n      <td>102000.0</td>\n      <td>NaN</td>\n      <td>NaN</td>\n    </tr>\n    <tr>\n      <th>12146545</th>\n      <td>12146545</td>\n      <td>99271288</td>\n      <td>101230320</td>\n      <td>428190226</td>\n      <td>2147482888</td>\n      <td>4496</td>\n      <td>0</td>\n      <td>1</td>\n      <td>25000.0</td>\n      <td>NaN</td>\n      <td>NaN</td>\n    </tr>\n  </tbody>\n</table>\n<p>12146546 rows × 11 columns</p>\n</div>"
     },
     "metadata": {},
     "execution_count": 14
    }
   ],
   "source": [
    "df3=df3.sort_values('user_id')\n",
    "\n",
    "df3=df3.reset_index()\n",
    "df3"
   ]
  },
  {
   "cell_type": "code",
   "execution_count": 15,
   "metadata": {},
   "outputs": [
    {
     "output_type": "execute_result",
     "data": {
      "text/plain": [
       "          Unnamed: 0.1  timestamp     user_id   qId  user_answer  \\\n",
       "0                    9     230983         115  7863            0   \n",
       "1                   23     557677         115   185            3   \n",
       "2                   24     575289         115    55            3   \n",
       "3                   26     621464         115     6            2   \n",
       "4                   28     670520         115  7898            2   \n",
       "...                ...        ...         ...   ...          ...   \n",
       "12146541     101230317  254505467  2147482888  3642            1   \n",
       "12146542     101230311     152682  2147482888  6435            0   \n",
       "12146543     101230312  253883847  2147482888  9283            0   \n",
       "12146544     101230316  254461924  2147482888  4702            3   \n",
       "12146545     101230320  428190226  2147482888  4496            0   \n",
       "\n",
       "          answered_correctly  prior_question_elapsed_time  user_name  password  \n",
       "0                          1                      16000.0        NaN       NaN  \n",
       "1                          0                      21000.0        NaN       NaN  \n",
       "2                          1                      22000.0        NaN       NaN  \n",
       "3                          1                      20000.0        NaN       NaN  \n",
       "4                          1                      22000.0        NaN       NaN  \n",
       "...                      ...                          ...        ...       ...  \n",
       "12146541                   0                      33000.0        NaN       NaN  \n",
       "12146542                   0                      20000.0        NaN       NaN  \n",
       "12146543                   0                      41000.0        NaN       NaN  \n",
       "12146544                   0                     102000.0        NaN       NaN  \n",
       "12146545                   1                      25000.0        NaN       NaN  \n",
       "\n",
       "[12146546 rows x 9 columns]"
      ],
      "text/html": "<div>\n<style scoped>\n    .dataframe tbody tr th:only-of-type {\n        vertical-align: middle;\n    }\n\n    .dataframe tbody tr th {\n        vertical-align: top;\n    }\n\n    .dataframe thead th {\n        text-align: right;\n    }\n</style>\n<table border=\"1\" class=\"dataframe\">\n  <thead>\n    <tr style=\"text-align: right;\">\n      <th></th>\n      <th>Unnamed: 0.1</th>\n      <th>timestamp</th>\n      <th>user_id</th>\n      <th>qId</th>\n      <th>user_answer</th>\n      <th>answered_correctly</th>\n      <th>prior_question_elapsed_time</th>\n      <th>user_name</th>\n      <th>password</th>\n    </tr>\n  </thead>\n  <tbody>\n    <tr>\n      <th>0</th>\n      <td>9</td>\n      <td>230983</td>\n      <td>115</td>\n      <td>7863</td>\n      <td>0</td>\n      <td>1</td>\n      <td>16000.0</td>\n      <td>NaN</td>\n      <td>NaN</td>\n    </tr>\n    <tr>\n      <th>1</th>\n      <td>23</td>\n      <td>557677</td>\n      <td>115</td>\n      <td>185</td>\n      <td>3</td>\n      <td>0</td>\n      <td>21000.0</td>\n      <td>NaN</td>\n      <td>NaN</td>\n    </tr>\n    <tr>\n      <th>2</th>\n      <td>24</td>\n      <td>575289</td>\n      <td>115</td>\n      <td>55</td>\n      <td>3</td>\n      <td>1</td>\n      <td>22000.0</td>\n      <td>NaN</td>\n      <td>NaN</td>\n    </tr>\n    <tr>\n      <th>3</th>\n      <td>26</td>\n      <td>621464</td>\n      <td>115</td>\n      <td>6</td>\n      <td>2</td>\n      <td>1</td>\n      <td>20000.0</td>\n      <td>NaN</td>\n      <td>NaN</td>\n    </tr>\n    <tr>\n      <th>4</th>\n      <td>28</td>\n      <td>670520</td>\n      <td>115</td>\n      <td>7898</td>\n      <td>2</td>\n      <td>1</td>\n      <td>22000.0</td>\n      <td>NaN</td>\n      <td>NaN</td>\n    </tr>\n    <tr>\n      <th>...</th>\n      <td>...</td>\n      <td>...</td>\n      <td>...</td>\n      <td>...</td>\n      <td>...</td>\n      <td>...</td>\n      <td>...</td>\n      <td>...</td>\n      <td>...</td>\n    </tr>\n    <tr>\n      <th>12146541</th>\n      <td>101230317</td>\n      <td>254505467</td>\n      <td>2147482888</td>\n      <td>3642</td>\n      <td>1</td>\n      <td>0</td>\n      <td>33000.0</td>\n      <td>NaN</td>\n      <td>NaN</td>\n    </tr>\n    <tr>\n      <th>12146542</th>\n      <td>101230311</td>\n      <td>152682</td>\n      <td>2147482888</td>\n      <td>6435</td>\n      <td>0</td>\n      <td>0</td>\n      <td>20000.0</td>\n      <td>NaN</td>\n      <td>NaN</td>\n    </tr>\n    <tr>\n      <th>12146543</th>\n      <td>101230312</td>\n      <td>253883847</td>\n      <td>2147482888</td>\n      <td>9283</td>\n      <td>0</td>\n      <td>0</td>\n      <td>41000.0</td>\n      <td>NaN</td>\n      <td>NaN</td>\n    </tr>\n    <tr>\n      <th>12146544</th>\n      <td>101230316</td>\n      <td>254461924</td>\n      <td>2147482888</td>\n      <td>4702</td>\n      <td>3</td>\n      <td>0</td>\n      <td>102000.0</td>\n      <td>NaN</td>\n      <td>NaN</td>\n    </tr>\n    <tr>\n      <th>12146545</th>\n      <td>101230320</td>\n      <td>428190226</td>\n      <td>2147482888</td>\n      <td>4496</td>\n      <td>0</td>\n      <td>1</td>\n      <td>25000.0</td>\n      <td>NaN</td>\n      <td>NaN</td>\n    </tr>\n  </tbody>\n</table>\n<p>12146546 rows × 9 columns</p>\n</div>"
     },
     "metadata": {},
     "execution_count": 15
    }
   ],
   "source": [
    "df3=df3.drop(['index',\"Unnamed: 0\"],axis=1)\n",
    "df3"
   ]
  },
  {
   "cell_type": "code",
   "execution_count": 16,
   "metadata": {},
   "outputs": [
    {
     "output_type": "execute_result",
     "data": {
      "text/plain": [
       "0           False\n",
       "1           False\n",
       "2           False\n",
       "3           False\n",
       "4           False\n",
       "            ...  \n",
       "12146541    False\n",
       "12146542    False\n",
       "12146543    False\n",
       "12146544    False\n",
       "12146545    False\n",
       "Name: user_id, Length: 12146546, dtype: bool"
      ]
     },
     "metadata": {},
     "execution_count": 16
    }
   ],
   "source": [
    "df3.user_id.isin(df2_list)"
   ]
  },
  {
   "cell_type": "code",
   "execution_count": 17,
   "metadata": {},
   "outputs": [
    {
     "output_type": "execute_result",
     "data": {
      "text/plain": [
       "1509564249    1935\n",
       "1828242828     878\n",
       "323509977      834\n",
       "1931752413     818\n",
       "111739511      797\n",
       "499347415      768\n",
       "1144446353     762\n",
       "1806690580     715\n",
       "1913693773     709\n",
       "160770014      701\n",
       "Name: user_id, dtype: int64"
      ]
     },
     "metadata": {},
     "execution_count": 17
    }
   ],
   "source": [
    "df2"
   ]
  },
  {
   "cell_type": "code",
   "execution_count": 18,
   "metadata": {},
   "outputs": [
    {
     "output_type": "execute_result",
     "data": {
      "text/plain": [
       "          Unnamed: 0.1    timestamp     user_id    qId  user_answer  \\\n",
       "628924         5220314  16625107682   111739511   4428            0   \n",
       "628925         5220354  16764659385   111739511   1291            3   \n",
       "628926         5220356  16764761879   111739511      9            2   \n",
       "628927         5220361  16765366363   111739511    189            2   \n",
       "628928         5220403  16793994937   111739511   4108            0   \n",
       "...                ...          ...         ...    ...          ...   \n",
       "10919967      91009266    572877491  1931752413   6318            0   \n",
       "10919968      91009271    573033077  1931752413    834            3   \n",
       "10919969      91009273    573113457  1931752413  10686            0   \n",
       "10919970      91009253    544013375  1931752413   2594            2   \n",
       "10919971      91009277    573514874  1931752413    972            0   \n",
       "\n",
       "          answered_correctly  prior_question_elapsed_time  user_name  password  \n",
       "628924                     1                      11000.0        NaN       NaN  \n",
       "628925                     1                      18000.0        NaN       NaN  \n",
       "628926                     0                      18000.0        NaN       NaN  \n",
       "628927                     0                      28000.0        NaN       NaN  \n",
       "628928                     1                      18000.0        NaN       NaN  \n",
       "...                      ...                          ...        ...       ...  \n",
       "10919967                   1                       8000.0        NaN       NaN  \n",
       "10919968                   1                       5000.0        NaN       NaN  \n",
       "10919969                   1                       8000.0        NaN       NaN  \n",
       "10919970                   1                       6000.0        NaN       NaN  \n",
       "10919971                   1                       6000.0        NaN       NaN  \n",
       "\n",
       "[8917 rows x 9 columns]"
      ],
      "text/html": "<div>\n<style scoped>\n    .dataframe tbody tr th:only-of-type {\n        vertical-align: middle;\n    }\n\n    .dataframe tbody tr th {\n        vertical-align: top;\n    }\n\n    .dataframe thead th {\n        text-align: right;\n    }\n</style>\n<table border=\"1\" class=\"dataframe\">\n  <thead>\n    <tr style=\"text-align: right;\">\n      <th></th>\n      <th>Unnamed: 0.1</th>\n      <th>timestamp</th>\n      <th>user_id</th>\n      <th>qId</th>\n      <th>user_answer</th>\n      <th>answered_correctly</th>\n      <th>prior_question_elapsed_time</th>\n      <th>user_name</th>\n      <th>password</th>\n    </tr>\n  </thead>\n  <tbody>\n    <tr>\n      <th>628924</th>\n      <td>5220314</td>\n      <td>16625107682</td>\n      <td>111739511</td>\n      <td>4428</td>\n      <td>0</td>\n      <td>1</td>\n      <td>11000.0</td>\n      <td>NaN</td>\n      <td>NaN</td>\n    </tr>\n    <tr>\n      <th>628925</th>\n      <td>5220354</td>\n      <td>16764659385</td>\n      <td>111739511</td>\n      <td>1291</td>\n      <td>3</td>\n      <td>1</td>\n      <td>18000.0</td>\n      <td>NaN</td>\n      <td>NaN</td>\n    </tr>\n    <tr>\n      <th>628926</th>\n      <td>5220356</td>\n      <td>16764761879</td>\n      <td>111739511</td>\n      <td>9</td>\n      <td>2</td>\n      <td>0</td>\n      <td>18000.0</td>\n      <td>NaN</td>\n      <td>NaN</td>\n    </tr>\n    <tr>\n      <th>628927</th>\n      <td>5220361</td>\n      <td>16765366363</td>\n      <td>111739511</td>\n      <td>189</td>\n      <td>2</td>\n      <td>0</td>\n      <td>28000.0</td>\n      <td>NaN</td>\n      <td>NaN</td>\n    </tr>\n    <tr>\n      <th>628928</th>\n      <td>5220403</td>\n      <td>16793994937</td>\n      <td>111739511</td>\n      <td>4108</td>\n      <td>0</td>\n      <td>1</td>\n      <td>18000.0</td>\n      <td>NaN</td>\n      <td>NaN</td>\n    </tr>\n    <tr>\n      <th>...</th>\n      <td>...</td>\n      <td>...</td>\n      <td>...</td>\n      <td>...</td>\n      <td>...</td>\n      <td>...</td>\n      <td>...</td>\n      <td>...</td>\n      <td>...</td>\n    </tr>\n    <tr>\n      <th>10919967</th>\n      <td>91009266</td>\n      <td>572877491</td>\n      <td>1931752413</td>\n      <td>6318</td>\n      <td>0</td>\n      <td>1</td>\n      <td>8000.0</td>\n      <td>NaN</td>\n      <td>NaN</td>\n    </tr>\n    <tr>\n      <th>10919968</th>\n      <td>91009271</td>\n      <td>573033077</td>\n      <td>1931752413</td>\n      <td>834</td>\n      <td>3</td>\n      <td>1</td>\n      <td>5000.0</td>\n      <td>NaN</td>\n      <td>NaN</td>\n    </tr>\n    <tr>\n      <th>10919969</th>\n      <td>91009273</td>\n      <td>573113457</td>\n      <td>1931752413</td>\n      <td>10686</td>\n      <td>0</td>\n      <td>1</td>\n      <td>8000.0</td>\n      <td>NaN</td>\n      <td>NaN</td>\n    </tr>\n    <tr>\n      <th>10919970</th>\n      <td>91009253</td>\n      <td>544013375</td>\n      <td>1931752413</td>\n      <td>2594</td>\n      <td>2</td>\n      <td>1</td>\n      <td>6000.0</td>\n      <td>NaN</td>\n      <td>NaN</td>\n    </tr>\n    <tr>\n      <th>10919971</th>\n      <td>91009277</td>\n      <td>573514874</td>\n      <td>1931752413</td>\n      <td>972</td>\n      <td>0</td>\n      <td>1</td>\n      <td>6000.0</td>\n      <td>NaN</td>\n      <td>NaN</td>\n    </tr>\n  </tbody>\n</table>\n<p>8917 rows × 9 columns</p>\n</div>"
     },
     "metadata": {},
     "execution_count": 18
    }
   ],
   "source": [
    "\n",
    "df3 = df3.loc[df3.user_id.isin(df2_list)]\n",
    "df3"
   ]
  },
  {
   "cell_type": "code",
   "execution_count": 19,
   "metadata": {},
   "outputs": [],
   "source": [
    "df3.to_csv(\"500문제이상.csv\")"
   ]
  },
  {
   "cell_type": "code",
   "execution_count": 20,
   "metadata": {},
   "outputs": [
    {
     "output_type": "execute_result",
     "data": {
      "text/plain": [
       "          Unnamed: 0.1    timestamp     user_id    qId  user_answer  \\\n",
       "2809368       23322058  18069260350   499347415      2            0   \n",
       "2809380       23321985  17889836158   499347415      2            0   \n",
       "629138         5225021  22501369517   111739511      2            0   \n",
       "10814331      90106161  11614783741  1913693773      2            0   \n",
       "2809544       23322393  19622647552   499347415      2            0   \n",
       "...                ...          ...         ...    ...          ...   \n",
       "10919535      91010513   1337051628  1931752413  10688            0   \n",
       "897929         7402323   7529147251   160770014  10688            0   \n",
       "10814360      90106846  12048578210  1913693773  10688            0   \n",
       "1812326       14997729    865101234   323509977  10688            1   \n",
       "6463898       53986212  33784593525  1144446353  10688            0   \n",
       "\n",
       "          answered_correctly  prior_question_elapsed_time  user_name  password  \n",
       "2809368                    1                      23000.0        NaN       NaN  \n",
       "2809380                    1                      21000.0        NaN       NaN  \n",
       "629138                     1                      14000.0        NaN       NaN  \n",
       "10814331                   1                      21000.0        NaN       NaN  \n",
       "2809544                    1                       6000.0        NaN       NaN  \n",
       "...                      ...                          ...        ...       ...  \n",
       "10919535                   1                       8000.0        NaN       NaN  \n",
       "897929                     1                      15000.0        NaN       NaN  \n",
       "10814360                   1                      16000.0        NaN       NaN  \n",
       "1812326                    0                      27000.0        NaN       NaN  \n",
       "6463898                    1                      15000.0        NaN       NaN  \n",
       "\n",
       "[8917 rows x 9 columns]"
      ],
      "text/html": "<div>\n<style scoped>\n    .dataframe tbody tr th:only-of-type {\n        vertical-align: middle;\n    }\n\n    .dataframe tbody tr th {\n        vertical-align: top;\n    }\n\n    .dataframe thead th {\n        text-align: right;\n    }\n</style>\n<table border=\"1\" class=\"dataframe\">\n  <thead>\n    <tr style=\"text-align: right;\">\n      <th></th>\n      <th>Unnamed: 0.1</th>\n      <th>timestamp</th>\n      <th>user_id</th>\n      <th>qId</th>\n      <th>user_answer</th>\n      <th>answered_correctly</th>\n      <th>prior_question_elapsed_time</th>\n      <th>user_name</th>\n      <th>password</th>\n    </tr>\n  </thead>\n  <tbody>\n    <tr>\n      <th>2809368</th>\n      <td>23322058</td>\n      <td>18069260350</td>\n      <td>499347415</td>\n      <td>2</td>\n      <td>0</td>\n      <td>1</td>\n      <td>23000.0</td>\n      <td>NaN</td>\n      <td>NaN</td>\n    </tr>\n    <tr>\n      <th>2809380</th>\n      <td>23321985</td>\n      <td>17889836158</td>\n      <td>499347415</td>\n      <td>2</td>\n      <td>0</td>\n      <td>1</td>\n      <td>21000.0</td>\n      <td>NaN</td>\n      <td>NaN</td>\n    </tr>\n    <tr>\n      <th>629138</th>\n      <td>5225021</td>\n      <td>22501369517</td>\n      <td>111739511</td>\n      <td>2</td>\n      <td>0</td>\n      <td>1</td>\n      <td>14000.0</td>\n      <td>NaN</td>\n      <td>NaN</td>\n    </tr>\n    <tr>\n      <th>10814331</th>\n      <td>90106161</td>\n      <td>11614783741</td>\n      <td>1913693773</td>\n      <td>2</td>\n      <td>0</td>\n      <td>1</td>\n      <td>21000.0</td>\n      <td>NaN</td>\n      <td>NaN</td>\n    </tr>\n    <tr>\n      <th>2809544</th>\n      <td>23322393</td>\n      <td>19622647552</td>\n      <td>499347415</td>\n      <td>2</td>\n      <td>0</td>\n      <td>1</td>\n      <td>6000.0</td>\n      <td>NaN</td>\n      <td>NaN</td>\n    </tr>\n    <tr>\n      <th>...</th>\n      <td>...</td>\n      <td>...</td>\n      <td>...</td>\n      <td>...</td>\n      <td>...</td>\n      <td>...</td>\n      <td>...</td>\n      <td>...</td>\n      <td>...</td>\n    </tr>\n    <tr>\n      <th>10919535</th>\n      <td>91010513</td>\n      <td>1337051628</td>\n      <td>1931752413</td>\n      <td>10688</td>\n      <td>0</td>\n      <td>1</td>\n      <td>8000.0</td>\n      <td>NaN</td>\n      <td>NaN</td>\n    </tr>\n    <tr>\n      <th>897929</th>\n      <td>7402323</td>\n      <td>7529147251</td>\n      <td>160770014</td>\n      <td>10688</td>\n      <td>0</td>\n      <td>1</td>\n      <td>15000.0</td>\n      <td>NaN</td>\n      <td>NaN</td>\n    </tr>\n    <tr>\n      <th>10814360</th>\n      <td>90106846</td>\n      <td>12048578210</td>\n      <td>1913693773</td>\n      <td>10688</td>\n      <td>0</td>\n      <td>1</td>\n      <td>16000.0</td>\n      <td>NaN</td>\n      <td>NaN</td>\n    </tr>\n    <tr>\n      <th>1812326</th>\n      <td>14997729</td>\n      <td>865101234</td>\n      <td>323509977</td>\n      <td>10688</td>\n      <td>1</td>\n      <td>0</td>\n      <td>27000.0</td>\n      <td>NaN</td>\n      <td>NaN</td>\n    </tr>\n    <tr>\n      <th>6463898</th>\n      <td>53986212</td>\n      <td>33784593525</td>\n      <td>1144446353</td>\n      <td>10688</td>\n      <td>0</td>\n      <td>1</td>\n      <td>15000.0</td>\n      <td>NaN</td>\n      <td>NaN</td>\n    </tr>\n  </tbody>\n</table>\n<p>8917 rows × 9 columns</p>\n</div>"
     },
     "metadata": {},
     "execution_count": 20
    }
   ],
   "source": [
    "df3 = df3.sort_values('qId')\n",
    "df3"
   ]
  },
  {
   "cell_type": "code",
   "execution_count": 21,
   "metadata": {},
   "outputs": [
    {
     "output_type": "execute_result",
     "data": {
      "text/plain": [
       "2809368         2\n",
       "2809380         2\n",
       "629138          2\n",
       "10814331        2\n",
       "2809544         2\n",
       "            ...  \n",
       "10919535    10688\n",
       "897929      10688\n",
       "10814360    10688\n",
       "1812326     10688\n",
       "6463898     10688\n",
       "Name: qId, Length: 8917, dtype: int64"
      ]
     },
     "metadata": {},
     "execution_count": 21
    }
   ],
   "source": [
    "df3['qId']"
   ]
  },
  {
   "cell_type": "code",
   "execution_count": 22,
   "metadata": {},
   "outputs": [
    {
     "output_type": "execute_result",
     "data": {
      "text/plain": [
       "2809368       0\n",
       "2809380       0\n",
       "629138        0\n",
       "10814331      0\n",
       "2809544       0\n",
       "           ... \n",
       "10919535    199\n",
       "897929      199\n",
       "10814360    199\n",
       "1812326     199\n",
       "6463898     199\n",
       "Name: qId, Length: 8917, dtype: int64"
      ]
     },
     "metadata": {},
     "execution_count": 22
    }
   ],
   "source": [
    "n= len(df3['qId'].unique())\n",
    "series1=df3['qId'].replace([x for x in df3['qId'].unique()],[x for x in range(0,n)])\n",
    "series1"
   ]
  },
  {
   "cell_type": "code",
   "execution_count": 23,
   "metadata": {},
   "outputs": [
    {
     "output_type": "execute_result",
     "data": {
      "text/plain": [
       "          qId\n",
       "2809368     0\n",
       "2809380     0\n",
       "629138      0\n",
       "10814331    0\n",
       "2809544     0\n",
       "...       ...\n",
       "10919535  199\n",
       "897929    199\n",
       "10814360  199\n",
       "1812326   199\n",
       "6463898   199\n",
       "\n",
       "[8917 rows x 1 columns]"
      ],
      "text/html": "<div>\n<style scoped>\n    .dataframe tbody tr th:only-of-type {\n        vertical-align: middle;\n    }\n\n    .dataframe tbody tr th {\n        vertical-align: top;\n    }\n\n    .dataframe thead th {\n        text-align: right;\n    }\n</style>\n<table border=\"1\" class=\"dataframe\">\n  <thead>\n    <tr style=\"text-align: right;\">\n      <th></th>\n      <th>qId</th>\n    </tr>\n  </thead>\n  <tbody>\n    <tr>\n      <th>2809368</th>\n      <td>0</td>\n    </tr>\n    <tr>\n      <th>2809380</th>\n      <td>0</td>\n    </tr>\n    <tr>\n      <th>629138</th>\n      <td>0</td>\n    </tr>\n    <tr>\n      <th>10814331</th>\n      <td>0</td>\n    </tr>\n    <tr>\n      <th>2809544</th>\n      <td>0</td>\n    </tr>\n    <tr>\n      <th>...</th>\n      <td>...</td>\n    </tr>\n    <tr>\n      <th>10919535</th>\n      <td>199</td>\n    </tr>\n    <tr>\n      <th>897929</th>\n      <td>199</td>\n    </tr>\n    <tr>\n      <th>10814360</th>\n      <td>199</td>\n    </tr>\n    <tr>\n      <th>1812326</th>\n      <td>199</td>\n    </tr>\n    <tr>\n      <th>6463898</th>\n      <td>199</td>\n    </tr>\n  </tbody>\n</table>\n<p>8917 rows × 1 columns</p>\n</div>"
     },
     "metadata": {},
     "execution_count": 23
    }
   ],
   "source": [
    "s_to_d=series1.to_frame()\n",
    "s_to_d"
   ]
  },
  {
   "cell_type": "code",
   "execution_count": 24,
   "metadata": {},
   "outputs": [],
   "source": [
    "df3=df3.drop(['qId'], axis=1)"
   ]
  },
  {
   "cell_type": "code",
   "execution_count": 25,
   "metadata": {},
   "outputs": [],
   "source": [
    "newdf=pd.merge(s_to_d,df3, left_index=True , right_index=True ,how='left')"
   ]
  },
  {
   "cell_type": "code",
   "execution_count": 26,
   "metadata": {},
   "outputs": [
    {
     "output_type": "execute_result",
     "data": {
      "text/plain": [
       "          qId  Unnamed: 0.1    timestamp     user_id  user_answer  \\\n",
       "2809368     0      23322058  18069260350   499347415            0   \n",
       "2809380     0      23321985  17889836158   499347415            0   \n",
       "629138      0       5225021  22501369517   111739511            0   \n",
       "10814331    0      90106161  11614783741  1913693773            0   \n",
       "2809544     0      23322393  19622647552   499347415            0   \n",
       "...       ...           ...          ...         ...          ...   \n",
       "10919535  199      91010513   1337051628  1931752413            0   \n",
       "897929    199       7402323   7529147251   160770014            0   \n",
       "10814360  199      90106846  12048578210  1913693773            0   \n",
       "1812326   199      14997729    865101234   323509977            1   \n",
       "6463898   199      53986212  33784593525  1144446353            0   \n",
       "\n",
       "          answered_correctly  prior_question_elapsed_time  user_name  password  \n",
       "2809368                    1                      23000.0        NaN       NaN  \n",
       "2809380                    1                      21000.0        NaN       NaN  \n",
       "629138                     1                      14000.0        NaN       NaN  \n",
       "10814331                   1                      21000.0        NaN       NaN  \n",
       "2809544                    1                       6000.0        NaN       NaN  \n",
       "...                      ...                          ...        ...       ...  \n",
       "10919535                   1                       8000.0        NaN       NaN  \n",
       "897929                     1                      15000.0        NaN       NaN  \n",
       "10814360                   1                      16000.0        NaN       NaN  \n",
       "1812326                    0                      27000.0        NaN       NaN  \n",
       "6463898                    1                      15000.0        NaN       NaN  \n",
       "\n",
       "[8917 rows x 9 columns]"
      ],
      "text/html": "<div>\n<style scoped>\n    .dataframe tbody tr th:only-of-type {\n        vertical-align: middle;\n    }\n\n    .dataframe tbody tr th {\n        vertical-align: top;\n    }\n\n    .dataframe thead th {\n        text-align: right;\n    }\n</style>\n<table border=\"1\" class=\"dataframe\">\n  <thead>\n    <tr style=\"text-align: right;\">\n      <th></th>\n      <th>qId</th>\n      <th>Unnamed: 0.1</th>\n      <th>timestamp</th>\n      <th>user_id</th>\n      <th>user_answer</th>\n      <th>answered_correctly</th>\n      <th>prior_question_elapsed_time</th>\n      <th>user_name</th>\n      <th>password</th>\n    </tr>\n  </thead>\n  <tbody>\n    <tr>\n      <th>2809368</th>\n      <td>0</td>\n      <td>23322058</td>\n      <td>18069260350</td>\n      <td>499347415</td>\n      <td>0</td>\n      <td>1</td>\n      <td>23000.0</td>\n      <td>NaN</td>\n      <td>NaN</td>\n    </tr>\n    <tr>\n      <th>2809380</th>\n      <td>0</td>\n      <td>23321985</td>\n      <td>17889836158</td>\n      <td>499347415</td>\n      <td>0</td>\n      <td>1</td>\n      <td>21000.0</td>\n      <td>NaN</td>\n      <td>NaN</td>\n    </tr>\n    <tr>\n      <th>629138</th>\n      <td>0</td>\n      <td>5225021</td>\n      <td>22501369517</td>\n      <td>111739511</td>\n      <td>0</td>\n      <td>1</td>\n      <td>14000.0</td>\n      <td>NaN</td>\n      <td>NaN</td>\n    </tr>\n    <tr>\n      <th>10814331</th>\n      <td>0</td>\n      <td>90106161</td>\n      <td>11614783741</td>\n      <td>1913693773</td>\n      <td>0</td>\n      <td>1</td>\n      <td>21000.0</td>\n      <td>NaN</td>\n      <td>NaN</td>\n    </tr>\n    <tr>\n      <th>2809544</th>\n      <td>0</td>\n      <td>23322393</td>\n      <td>19622647552</td>\n      <td>499347415</td>\n      <td>0</td>\n      <td>1</td>\n      <td>6000.0</td>\n      <td>NaN</td>\n      <td>NaN</td>\n    </tr>\n    <tr>\n      <th>...</th>\n      <td>...</td>\n      <td>...</td>\n      <td>...</td>\n      <td>...</td>\n      <td>...</td>\n      <td>...</td>\n      <td>...</td>\n      <td>...</td>\n      <td>...</td>\n    </tr>\n    <tr>\n      <th>10919535</th>\n      <td>199</td>\n      <td>91010513</td>\n      <td>1337051628</td>\n      <td>1931752413</td>\n      <td>0</td>\n      <td>1</td>\n      <td>8000.0</td>\n      <td>NaN</td>\n      <td>NaN</td>\n    </tr>\n    <tr>\n      <th>897929</th>\n      <td>199</td>\n      <td>7402323</td>\n      <td>7529147251</td>\n      <td>160770014</td>\n      <td>0</td>\n      <td>1</td>\n      <td>15000.0</td>\n      <td>NaN</td>\n      <td>NaN</td>\n    </tr>\n    <tr>\n      <th>10814360</th>\n      <td>199</td>\n      <td>90106846</td>\n      <td>12048578210</td>\n      <td>1913693773</td>\n      <td>0</td>\n      <td>1</td>\n      <td>16000.0</td>\n      <td>NaN</td>\n      <td>NaN</td>\n    </tr>\n    <tr>\n      <th>1812326</th>\n      <td>199</td>\n      <td>14997729</td>\n      <td>865101234</td>\n      <td>323509977</td>\n      <td>1</td>\n      <td>0</td>\n      <td>27000.0</td>\n      <td>NaN</td>\n      <td>NaN</td>\n    </tr>\n    <tr>\n      <th>6463898</th>\n      <td>199</td>\n      <td>53986212</td>\n      <td>33784593525</td>\n      <td>1144446353</td>\n      <td>0</td>\n      <td>1</td>\n      <td>15000.0</td>\n      <td>NaN</td>\n      <td>NaN</td>\n    </tr>\n  </tbody>\n</table>\n<p>8917 rows × 9 columns</p>\n</div>"
     },
     "metadata": {},
     "execution_count": 26
    }
   ],
   "source": [
    "newdf"
   ]
  },
  {
   "cell_type": "code",
   "execution_count": 27,
   "metadata": {},
   "outputs": [
    {
     "output_type": "execute_result",
     "data": {
      "text/plain": [
       "          qId  Unnamed: 0.1    timestamp     user_id  user_answer  \\\n",
       "629255     77       5222296  18428847621   111739511            2   \n",
       "629531     19       5217831   3976420875   111739511            0   \n",
       "629266     19       5222673  18955813720   111739511            1   \n",
       "629358     45       5213057    729422978   111739511            0   \n",
       "628940     20       5220719  17056415626   111739511            0   \n",
       "...       ...           ...          ...         ...          ...   \n",
       "10919464  143      91010645   1483015197  1931752413            0   \n",
       "10919728  143      91008768    195162765  1931752413            0   \n",
       "10919566   19      91008874    223282790  1931752413            1   \n",
       "10919267   47      91009860    713778965  1931752413            3   \n",
       "10919774   52      91009516    662567876  1931752413            3   \n",
       "\n",
       "          answered_correctly  prior_question_elapsed_time  user_name  password  \n",
       "629255                     1                      17000.0        NaN       NaN  \n",
       "629531                     0                      18000.0        NaN       NaN  \n",
       "629266                     1                      16000.0        NaN       NaN  \n",
       "629358                     1                      15000.0        NaN       NaN  \n",
       "628940                     0                       5000.0        NaN       NaN  \n",
       "...                      ...                          ...        ...       ...  \n",
       "10919464                   1                       9000.0        NaN       NaN  \n",
       "10919728                   1                      18000.0        NaN       NaN  \n",
       "10919566                   1                      15500.0        NaN       NaN  \n",
       "10919267                   1                      18000.0        NaN       NaN  \n",
       "10919774                   1                      13000.0        NaN       NaN  \n",
       "\n",
       "[8917 rows x 9 columns]"
      ],
      "text/html": "<div>\n<style scoped>\n    .dataframe tbody tr th:only-of-type {\n        vertical-align: middle;\n    }\n\n    .dataframe tbody tr th {\n        vertical-align: top;\n    }\n\n    .dataframe thead th {\n        text-align: right;\n    }\n</style>\n<table border=\"1\" class=\"dataframe\">\n  <thead>\n    <tr style=\"text-align: right;\">\n      <th></th>\n      <th>qId</th>\n      <th>Unnamed: 0.1</th>\n      <th>timestamp</th>\n      <th>user_id</th>\n      <th>user_answer</th>\n      <th>answered_correctly</th>\n      <th>prior_question_elapsed_time</th>\n      <th>user_name</th>\n      <th>password</th>\n    </tr>\n  </thead>\n  <tbody>\n    <tr>\n      <th>629255</th>\n      <td>77</td>\n      <td>5222296</td>\n      <td>18428847621</td>\n      <td>111739511</td>\n      <td>2</td>\n      <td>1</td>\n      <td>17000.0</td>\n      <td>NaN</td>\n      <td>NaN</td>\n    </tr>\n    <tr>\n      <th>629531</th>\n      <td>19</td>\n      <td>5217831</td>\n      <td>3976420875</td>\n      <td>111739511</td>\n      <td>0</td>\n      <td>0</td>\n      <td>18000.0</td>\n      <td>NaN</td>\n      <td>NaN</td>\n    </tr>\n    <tr>\n      <th>629266</th>\n      <td>19</td>\n      <td>5222673</td>\n      <td>18955813720</td>\n      <td>111739511</td>\n      <td>1</td>\n      <td>1</td>\n      <td>16000.0</td>\n      <td>NaN</td>\n      <td>NaN</td>\n    </tr>\n    <tr>\n      <th>629358</th>\n      <td>45</td>\n      <td>5213057</td>\n      <td>729422978</td>\n      <td>111739511</td>\n      <td>0</td>\n      <td>1</td>\n      <td>15000.0</td>\n      <td>NaN</td>\n      <td>NaN</td>\n    </tr>\n    <tr>\n      <th>628940</th>\n      <td>20</td>\n      <td>5220719</td>\n      <td>17056415626</td>\n      <td>111739511</td>\n      <td>0</td>\n      <td>0</td>\n      <td>5000.0</td>\n      <td>NaN</td>\n      <td>NaN</td>\n    </tr>\n    <tr>\n      <th>...</th>\n      <td>...</td>\n      <td>...</td>\n      <td>...</td>\n      <td>...</td>\n      <td>...</td>\n      <td>...</td>\n      <td>...</td>\n      <td>...</td>\n      <td>...</td>\n    </tr>\n    <tr>\n      <th>10919464</th>\n      <td>143</td>\n      <td>91010645</td>\n      <td>1483015197</td>\n      <td>1931752413</td>\n      <td>0</td>\n      <td>1</td>\n      <td>9000.0</td>\n      <td>NaN</td>\n      <td>NaN</td>\n    </tr>\n    <tr>\n      <th>10919728</th>\n      <td>143</td>\n      <td>91008768</td>\n      <td>195162765</td>\n      <td>1931752413</td>\n      <td>0</td>\n      <td>1</td>\n      <td>18000.0</td>\n      <td>NaN</td>\n      <td>NaN</td>\n    </tr>\n    <tr>\n      <th>10919566</th>\n      <td>19</td>\n      <td>91008874</td>\n      <td>223282790</td>\n      <td>1931752413</td>\n      <td>1</td>\n      <td>1</td>\n      <td>15500.0</td>\n      <td>NaN</td>\n      <td>NaN</td>\n    </tr>\n    <tr>\n      <th>10919267</th>\n      <td>47</td>\n      <td>91009860</td>\n      <td>713778965</td>\n      <td>1931752413</td>\n      <td>3</td>\n      <td>1</td>\n      <td>18000.0</td>\n      <td>NaN</td>\n      <td>NaN</td>\n    </tr>\n    <tr>\n      <th>10919774</th>\n      <td>52</td>\n      <td>91009516</td>\n      <td>662567876</td>\n      <td>1931752413</td>\n      <td>3</td>\n      <td>1</td>\n      <td>13000.0</td>\n      <td>NaN</td>\n      <td>NaN</td>\n    </tr>\n  </tbody>\n</table>\n<p>8917 rows × 9 columns</p>\n</div>"
     },
     "metadata": {},
     "execution_count": 27
    }
   ],
   "source": [
    "df3 = newdf.sort_values('user_id')  \n",
    "df3"
   ]
  },
  {
   "cell_type": "code",
   "execution_count": 28,
   "metadata": {},
   "outputs": [
    {
     "output_type": "execute_result",
     "data": {
      "text/plain": [
       "629255      0\n",
       "629531      0\n",
       "629266      0\n",
       "629358      0\n",
       "628940      0\n",
       "           ..\n",
       "10919464    9\n",
       "10919728    9\n",
       "10919566    9\n",
       "10919267    9\n",
       "10919774    9\n",
       "Name: user_id, Length: 8917, dtype: int64"
      ]
     },
     "metadata": {},
     "execution_count": 28
    }
   ],
   "source": [
    "n= len(df3['user_id'].unique())\n",
    "series2=df3['user_id'].replace([x for x in df3['user_id'].unique()],[x for x in range(0,n)])\n",
    "series2"
   ]
  },
  {
   "cell_type": "code",
   "execution_count": 29,
   "metadata": {},
   "outputs": [],
   "source": [
    "s_to_d2=series2.to_frame()"
   ]
  },
  {
   "cell_type": "code",
   "execution_count": 30,
   "metadata": {},
   "outputs": [
    {
     "output_type": "execute_result",
     "data": {
      "text/plain": [
       "          qId  Unnamed: 0.1    timestamp     user_id  user_answer  \\\n",
       "629255     77       5222296  18428847621   111739511            2   \n",
       "629531     19       5217831   3976420875   111739511            0   \n",
       "629266     19       5222673  18955813720   111739511            1   \n",
       "629358     45       5213057    729422978   111739511            0   \n",
       "628940     20       5220719  17056415626   111739511            0   \n",
       "...       ...           ...          ...         ...          ...   \n",
       "10919464  143      91010645   1483015197  1931752413            0   \n",
       "10919728  143      91008768    195162765  1931752413            0   \n",
       "10919566   19      91008874    223282790  1931752413            1   \n",
       "10919267   47      91009860    713778965  1931752413            3   \n",
       "10919774   52      91009516    662567876  1931752413            3   \n",
       "\n",
       "          answered_correctly  prior_question_elapsed_time  user_name  password  \n",
       "629255                     1                      17000.0        NaN       NaN  \n",
       "629531                     0                      18000.0        NaN       NaN  \n",
       "629266                     1                      16000.0        NaN       NaN  \n",
       "629358                     1                      15000.0        NaN       NaN  \n",
       "628940                     0                       5000.0        NaN       NaN  \n",
       "...                      ...                          ...        ...       ...  \n",
       "10919464                   1                       9000.0        NaN       NaN  \n",
       "10919728                   1                      18000.0        NaN       NaN  \n",
       "10919566                   1                      15500.0        NaN       NaN  \n",
       "10919267                   1                      18000.0        NaN       NaN  \n",
       "10919774                   1                      13000.0        NaN       NaN  \n",
       "\n",
       "[8917 rows x 9 columns]"
      ],
      "text/html": "<div>\n<style scoped>\n    .dataframe tbody tr th:only-of-type {\n        vertical-align: middle;\n    }\n\n    .dataframe tbody tr th {\n        vertical-align: top;\n    }\n\n    .dataframe thead th {\n        text-align: right;\n    }\n</style>\n<table border=\"1\" class=\"dataframe\">\n  <thead>\n    <tr style=\"text-align: right;\">\n      <th></th>\n      <th>qId</th>\n      <th>Unnamed: 0.1</th>\n      <th>timestamp</th>\n      <th>user_id</th>\n      <th>user_answer</th>\n      <th>answered_correctly</th>\n      <th>prior_question_elapsed_time</th>\n      <th>user_name</th>\n      <th>password</th>\n    </tr>\n  </thead>\n  <tbody>\n    <tr>\n      <th>629255</th>\n      <td>77</td>\n      <td>5222296</td>\n      <td>18428847621</td>\n      <td>111739511</td>\n      <td>2</td>\n      <td>1</td>\n      <td>17000.0</td>\n      <td>NaN</td>\n      <td>NaN</td>\n    </tr>\n    <tr>\n      <th>629531</th>\n      <td>19</td>\n      <td>5217831</td>\n      <td>3976420875</td>\n      <td>111739511</td>\n      <td>0</td>\n      <td>0</td>\n      <td>18000.0</td>\n      <td>NaN</td>\n      <td>NaN</td>\n    </tr>\n    <tr>\n      <th>629266</th>\n      <td>19</td>\n      <td>5222673</td>\n      <td>18955813720</td>\n      <td>111739511</td>\n      <td>1</td>\n      <td>1</td>\n      <td>16000.0</td>\n      <td>NaN</td>\n      <td>NaN</td>\n    </tr>\n    <tr>\n      <th>629358</th>\n      <td>45</td>\n      <td>5213057</td>\n      <td>729422978</td>\n      <td>111739511</td>\n      <td>0</td>\n      <td>1</td>\n      <td>15000.0</td>\n      <td>NaN</td>\n      <td>NaN</td>\n    </tr>\n    <tr>\n      <th>628940</th>\n      <td>20</td>\n      <td>5220719</td>\n      <td>17056415626</td>\n      <td>111739511</td>\n      <td>0</td>\n      <td>0</td>\n      <td>5000.0</td>\n      <td>NaN</td>\n      <td>NaN</td>\n    </tr>\n    <tr>\n      <th>...</th>\n      <td>...</td>\n      <td>...</td>\n      <td>...</td>\n      <td>...</td>\n      <td>...</td>\n      <td>...</td>\n      <td>...</td>\n      <td>...</td>\n      <td>...</td>\n    </tr>\n    <tr>\n      <th>10919464</th>\n      <td>143</td>\n      <td>91010645</td>\n      <td>1483015197</td>\n      <td>1931752413</td>\n      <td>0</td>\n      <td>1</td>\n      <td>9000.0</td>\n      <td>NaN</td>\n      <td>NaN</td>\n    </tr>\n    <tr>\n      <th>10919728</th>\n      <td>143</td>\n      <td>91008768</td>\n      <td>195162765</td>\n      <td>1931752413</td>\n      <td>0</td>\n      <td>1</td>\n      <td>18000.0</td>\n      <td>NaN</td>\n      <td>NaN</td>\n    </tr>\n    <tr>\n      <th>10919566</th>\n      <td>19</td>\n      <td>91008874</td>\n      <td>223282790</td>\n      <td>1931752413</td>\n      <td>1</td>\n      <td>1</td>\n      <td>15500.0</td>\n      <td>NaN</td>\n      <td>NaN</td>\n    </tr>\n    <tr>\n      <th>10919267</th>\n      <td>47</td>\n      <td>91009860</td>\n      <td>713778965</td>\n      <td>1931752413</td>\n      <td>3</td>\n      <td>1</td>\n      <td>18000.0</td>\n      <td>NaN</td>\n      <td>NaN</td>\n    </tr>\n    <tr>\n      <th>10919774</th>\n      <td>52</td>\n      <td>91009516</td>\n      <td>662567876</td>\n      <td>1931752413</td>\n      <td>3</td>\n      <td>1</td>\n      <td>13000.0</td>\n      <td>NaN</td>\n      <td>NaN</td>\n    </tr>\n  </tbody>\n</table>\n<p>8917 rows × 9 columns</p>\n</div>"
     },
     "metadata": {},
     "execution_count": 30
    }
   ],
   "source": [
    "# df3=df3.drop(['user_id'],axis=1)\n",
    "df3"
   ]
  },
  {
   "cell_type": "code",
   "execution_count": 31,
   "metadata": {},
   "outputs": [],
   "source": [
    "newdf=pd.merge(s_to_d2,df3, left_index=True , right_index=True ,how='left')"
   ]
  },
  {
   "cell_type": "code",
   "execution_count": 32,
   "metadata": {},
   "outputs": [
    {
     "output_type": "execute_result",
     "data": {
      "text/plain": [
       "          user_id_x  qId  Unnamed: 0.1    timestamp   user_id_y  user_answer  \\\n",
       "629255            0   77       5222296  18428847621   111739511            2   \n",
       "629531            0   19       5217831   3976420875   111739511            0   \n",
       "629266            0   19       5222673  18955813720   111739511            1   \n",
       "629358            0   45       5213057    729422978   111739511            0   \n",
       "628940            0   20       5220719  17056415626   111739511            0   \n",
       "...             ...  ...           ...          ...         ...          ...   \n",
       "10919464          9  143      91010645   1483015197  1931752413            0   \n",
       "10919728          9  143      91008768    195162765  1931752413            0   \n",
       "10919566          9   19      91008874    223282790  1931752413            1   \n",
       "10919267          9   47      91009860    713778965  1931752413            3   \n",
       "10919774          9   52      91009516    662567876  1931752413            3   \n",
       "\n",
       "          answered_correctly  prior_question_elapsed_time  user_name  password  \n",
       "629255                     1                      17000.0        NaN       NaN  \n",
       "629531                     0                      18000.0        NaN       NaN  \n",
       "629266                     1                      16000.0        NaN       NaN  \n",
       "629358                     1                      15000.0        NaN       NaN  \n",
       "628940                     0                       5000.0        NaN       NaN  \n",
       "...                      ...                          ...        ...       ...  \n",
       "10919464                   1                       9000.0        NaN       NaN  \n",
       "10919728                   1                      18000.0        NaN       NaN  \n",
       "10919566                   1                      15500.0        NaN       NaN  \n",
       "10919267                   1                      18000.0        NaN       NaN  \n",
       "10919774                   1                      13000.0        NaN       NaN  \n",
       "\n",
       "[8917 rows x 10 columns]"
      ],
      "text/html": "<div>\n<style scoped>\n    .dataframe tbody tr th:only-of-type {\n        vertical-align: middle;\n    }\n\n    .dataframe tbody tr th {\n        vertical-align: top;\n    }\n\n    .dataframe thead th {\n        text-align: right;\n    }\n</style>\n<table border=\"1\" class=\"dataframe\">\n  <thead>\n    <tr style=\"text-align: right;\">\n      <th></th>\n      <th>user_id_x</th>\n      <th>qId</th>\n      <th>Unnamed: 0.1</th>\n      <th>timestamp</th>\n      <th>user_id_y</th>\n      <th>user_answer</th>\n      <th>answered_correctly</th>\n      <th>prior_question_elapsed_time</th>\n      <th>user_name</th>\n      <th>password</th>\n    </tr>\n  </thead>\n  <tbody>\n    <tr>\n      <th>629255</th>\n      <td>0</td>\n      <td>77</td>\n      <td>5222296</td>\n      <td>18428847621</td>\n      <td>111739511</td>\n      <td>2</td>\n      <td>1</td>\n      <td>17000.0</td>\n      <td>NaN</td>\n      <td>NaN</td>\n    </tr>\n    <tr>\n      <th>629531</th>\n      <td>0</td>\n      <td>19</td>\n      <td>5217831</td>\n      <td>3976420875</td>\n      <td>111739511</td>\n      <td>0</td>\n      <td>0</td>\n      <td>18000.0</td>\n      <td>NaN</td>\n      <td>NaN</td>\n    </tr>\n    <tr>\n      <th>629266</th>\n      <td>0</td>\n      <td>19</td>\n      <td>5222673</td>\n      <td>18955813720</td>\n      <td>111739511</td>\n      <td>1</td>\n      <td>1</td>\n      <td>16000.0</td>\n      <td>NaN</td>\n      <td>NaN</td>\n    </tr>\n    <tr>\n      <th>629358</th>\n      <td>0</td>\n      <td>45</td>\n      <td>5213057</td>\n      <td>729422978</td>\n      <td>111739511</td>\n      <td>0</td>\n      <td>1</td>\n      <td>15000.0</td>\n      <td>NaN</td>\n      <td>NaN</td>\n    </tr>\n    <tr>\n      <th>628940</th>\n      <td>0</td>\n      <td>20</td>\n      <td>5220719</td>\n      <td>17056415626</td>\n      <td>111739511</td>\n      <td>0</td>\n      <td>0</td>\n      <td>5000.0</td>\n      <td>NaN</td>\n      <td>NaN</td>\n    </tr>\n    <tr>\n      <th>...</th>\n      <td>...</td>\n      <td>...</td>\n      <td>...</td>\n      <td>...</td>\n      <td>...</td>\n      <td>...</td>\n      <td>...</td>\n      <td>...</td>\n      <td>...</td>\n      <td>...</td>\n    </tr>\n    <tr>\n      <th>10919464</th>\n      <td>9</td>\n      <td>143</td>\n      <td>91010645</td>\n      <td>1483015197</td>\n      <td>1931752413</td>\n      <td>0</td>\n      <td>1</td>\n      <td>9000.0</td>\n      <td>NaN</td>\n      <td>NaN</td>\n    </tr>\n    <tr>\n      <th>10919728</th>\n      <td>9</td>\n      <td>143</td>\n      <td>91008768</td>\n      <td>195162765</td>\n      <td>1931752413</td>\n      <td>0</td>\n      <td>1</td>\n      <td>18000.0</td>\n      <td>NaN</td>\n      <td>NaN</td>\n    </tr>\n    <tr>\n      <th>10919566</th>\n      <td>9</td>\n      <td>19</td>\n      <td>91008874</td>\n      <td>223282790</td>\n      <td>1931752413</td>\n      <td>1</td>\n      <td>1</td>\n      <td>15500.0</td>\n      <td>NaN</td>\n      <td>NaN</td>\n    </tr>\n    <tr>\n      <th>10919267</th>\n      <td>9</td>\n      <td>47</td>\n      <td>91009860</td>\n      <td>713778965</td>\n      <td>1931752413</td>\n      <td>3</td>\n      <td>1</td>\n      <td>18000.0</td>\n      <td>NaN</td>\n      <td>NaN</td>\n    </tr>\n    <tr>\n      <th>10919774</th>\n      <td>9</td>\n      <td>52</td>\n      <td>91009516</td>\n      <td>662567876</td>\n      <td>1931752413</td>\n      <td>3</td>\n      <td>1</td>\n      <td>13000.0</td>\n      <td>NaN</td>\n      <td>NaN</td>\n    </tr>\n  </tbody>\n</table>\n<p>8917 rows × 10 columns</p>\n</div>"
     },
     "metadata": {},
     "execution_count": 32
    }
   ],
   "source": [
    "newdf"
   ]
  },
  {
   "cell_type": "code",
   "execution_count": 33,
   "metadata": {},
   "outputs": [],
   "source": [
    "df4 = newdf.to_csv('./data/realnewreindex.csv')"
   ]
  },
  {
   "cell_type": "code",
   "execution_count": 34,
   "metadata": {},
   "outputs": [],
   "source": [
    "df4 = pd.read_csv('./data/realnewreindex.csv')\n",
    "df4 = df4.drop(['Unnamed: 0.1', 'Unnamed: 0'], axis=1)\n",
    "df4.to_csv('./data/realnewreindex2.csv')"
   ]
  },
  {
   "cell_type": "code",
   "execution_count": 35,
   "metadata": {},
   "outputs": [],
   "source": [
    "# 여기서부터 안건드림 니가 하셈\n",
    "# group_df=df2.groupby(['user_id','qId'])['answered_correctly'].mean()\n",
    "# group_df"
   ]
  },
  {
   "cell_type": "code",
   "execution_count": 36,
   "metadata": {},
   "outputs": [],
   "source": [
    "# group_df.to_csv('./data/groupby.csv')"
   ]
  }
 ],
 "metadata": {
  "kernelspec": {
   "display_name": "Python 3",
   "language": "python",
   "name": "python3"
  },
  "language_info": {
   "codemirror_mode": {
    "name": "ipython",
    "version": 3
   },
   "file_extension": ".py",
   "mimetype": "text/x-python",
   "name": "python",
   "nbconvert_exporter": "python",
   "pygments_lexer": "ipython3",
   "version": "3.8.3-final"
  }
 },
 "nbformat": 4,
 "nbformat_minor": 4
}