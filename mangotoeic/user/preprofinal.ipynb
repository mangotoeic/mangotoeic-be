{
 "cells": [
  {
   "cell_type": "code",
   "execution_count": 1,
   "metadata": {},
   "outputs": [],
   "source": [
    "import pandas as pd\n",
    "data_path = './data/train.csv'\n",
    "df = pd.read_csv(data_path)\n"
   ]
  },
  {
   "cell_type": "code",
   "execution_count": 2,
   "metadata": {},
   "outputs": [
    {
     "output_type": "execute_result",
     "data": {
      "text/plain": [
       "           timestamp     user_id  content_id  user_answer  answered_correctly  \\\n",
       "0                  0         115        5692            3                   1   \n",
       "1              56943         115        5716            2                   1   \n",
       "2             118363         115         128            0                   1   \n",
       "3             131167         115        7860            0                   1   \n",
       "4             137965         115        7922            1                   1   \n",
       "...              ...         ...         ...          ...                 ...   \n",
       "101230327  428564420  2147482888        3586            0                   1   \n",
       "101230328  428585000  2147482888        6341            3                   1   \n",
       "101230329  428613475  2147482888        4212            3                   1   \n",
       "101230330  428649406  2147482888        6343            1                   0   \n",
       "101230331  428692118  2147482888        7995            3                   1   \n",
       "\n",
       "           prior_question_elapsed_time  \n",
       "0                                  NaN  \n",
       "1                              37000.0  \n",
       "2                              55000.0  \n",
       "3                              19000.0  \n",
       "4                              11000.0  \n",
       "...                                ...  \n",
       "101230327                      18000.0  \n",
       "101230328                      14000.0  \n",
       "101230329                      14000.0  \n",
       "101230330                      22000.0  \n",
       "101230331                      29000.0  \n",
       "\n",
       "[99271300 rows x 6 columns]"
      ],
      "text/html": "<div>\n<style scoped>\n    .dataframe tbody tr th:only-of-type {\n        vertical-align: middle;\n    }\n\n    .dataframe tbody tr th {\n        vertical-align: top;\n    }\n\n    .dataframe thead th {\n        text-align: right;\n    }\n</style>\n<table border=\"1\" class=\"dataframe\">\n  <thead>\n    <tr style=\"text-align: right;\">\n      <th></th>\n      <th>timestamp</th>\n      <th>user_id</th>\n      <th>content_id</th>\n      <th>user_answer</th>\n      <th>answered_correctly</th>\n      <th>prior_question_elapsed_time</th>\n    </tr>\n  </thead>\n  <tbody>\n    <tr>\n      <th>0</th>\n      <td>0</td>\n      <td>115</td>\n      <td>5692</td>\n      <td>3</td>\n      <td>1</td>\n      <td>NaN</td>\n    </tr>\n    <tr>\n      <th>1</th>\n      <td>56943</td>\n      <td>115</td>\n      <td>5716</td>\n      <td>2</td>\n      <td>1</td>\n      <td>37000.0</td>\n    </tr>\n    <tr>\n      <th>2</th>\n      <td>118363</td>\n      <td>115</td>\n      <td>128</td>\n      <td>0</td>\n      <td>1</td>\n      <td>55000.0</td>\n    </tr>\n    <tr>\n      <th>3</th>\n      <td>131167</td>\n      <td>115</td>\n      <td>7860</td>\n      <td>0</td>\n      <td>1</td>\n      <td>19000.0</td>\n    </tr>\n    <tr>\n      <th>4</th>\n      <td>137965</td>\n      <td>115</td>\n      <td>7922</td>\n      <td>1</td>\n      <td>1</td>\n      <td>11000.0</td>\n    </tr>\n    <tr>\n      <th>...</th>\n      <td>...</td>\n      <td>...</td>\n      <td>...</td>\n      <td>...</td>\n      <td>...</td>\n      <td>...</td>\n    </tr>\n    <tr>\n      <th>101230327</th>\n      <td>428564420</td>\n      <td>2147482888</td>\n      <td>3586</td>\n      <td>0</td>\n      <td>1</td>\n      <td>18000.0</td>\n    </tr>\n    <tr>\n      <th>101230328</th>\n      <td>428585000</td>\n      <td>2147482888</td>\n      <td>6341</td>\n      <td>3</td>\n      <td>1</td>\n      <td>14000.0</td>\n    </tr>\n    <tr>\n      <th>101230329</th>\n      <td>428613475</td>\n      <td>2147482888</td>\n      <td>4212</td>\n      <td>3</td>\n      <td>1</td>\n      <td>14000.0</td>\n    </tr>\n    <tr>\n      <th>101230330</th>\n      <td>428649406</td>\n      <td>2147482888</td>\n      <td>6343</td>\n      <td>1</td>\n      <td>0</td>\n      <td>22000.0</td>\n    </tr>\n    <tr>\n      <th>101230331</th>\n      <td>428692118</td>\n      <td>2147482888</td>\n      <td>7995</td>\n      <td>3</td>\n      <td>1</td>\n      <td>29000.0</td>\n    </tr>\n  </tbody>\n</table>\n<p>99271300 rows × 6 columns</p>\n</div>"
     },
     "metadata": {},
     "execution_count": 2
    }
   ],
   "source": [
    "df1 = df.drop(['row_id', 'content_type_id', 'task_container_id', 'prior_question_had_explanation'], axis=1)\n",
    "df1 = df1[df1['answered_correctly'] != -1]\n",
    "df1"
   ]
  },
  {
   "cell_type": "code",
   "execution_count": 3,
   "metadata": {},
   "outputs": [],
   "source": [
    "group_df=df1['content_id'].value_counts()\n"
   ]
  },
  {
   "cell_type": "code",
   "execution_count": 4,
   "metadata": {},
   "outputs": [],
   "source": [
    "sorted_group_df=group_df.sort_values(ascending=False)\n"
   ]
  },
  {
   "cell_type": "code",
   "execution_count": 5,
   "metadata": {},
   "outputs": [],
   "source": [
    "sorted_group_df=sorted_group_df[:3624]"
   ]
  },
  {
   "cell_type": "code",
   "execution_count": 6,
   "metadata": {},
   "outputs": [],
   "source": [
    "sorted_group_list=sorted_group_df.index.tolist()"
   ]
  },
  {
   "cell_type": "code",
   "execution_count": 7,
   "metadata": {},
   "outputs": [
    {
     "output_type": "execute_result",
     "data": {
      "text/plain": [
       "0             True\n",
       "1             True\n",
       "2             True\n",
       "3             True\n",
       "4             True\n",
       "             ...  \n",
       "101230327    False\n",
       "101230328     True\n",
       "101230329     True\n",
       "101230330    False\n",
       "101230331    False\n",
       "Name: content_id, Length: 99271300, dtype: bool"
      ]
     },
     "metadata": {},
     "execution_count": 7
    }
   ],
   "source": [
    "df1.content_id.isin(sorted_group_list)"
   ]
  },
  {
   "cell_type": "code",
   "execution_count": 8,
   "metadata": {},
   "outputs": [],
   "source": [
    "df2 = df1.loc[df1.content_id.isin(sorted_group_list)]"
   ]
  },
  {
   "cell_type": "code",
   "execution_count": 9,
   "metadata": {},
   "outputs": [
    {
     "output_type": "execute_result",
     "data": {
      "text/plain": [
       "          timestamp     user_id  content_id  user_answer  answered_correctly  \\\n",
       "0                 0         115        5692            3                   1   \n",
       "23           557677         115         185            3                   0   \n",
       "24           575289         115          55            3                   1   \n",
       "25           597863         115        7876            3                   1   \n",
       "26           621464         115           6            2                   1   \n",
       "...             ...         ...         ...          ...                 ...   \n",
       "65691289      44458  2147482888        5738            2                   1   \n",
       "65691288          0  2147482888        6147            0                   1   \n",
       "65691305  428585000  2147482888        6341            3                   1   \n",
       "65691296  253977782  2147482888        5334            3                   0   \n",
       "65691306  428613475  2147482888        4212            3                   1   \n",
       "\n",
       "          prior_question_elapsed_time  \n",
       "0                                 NaN  \n",
       "23                            21000.0  \n",
       "24                            22000.0  \n",
       "25                            16000.0  \n",
       "26                            20000.0  \n",
       "...                               ...  \n",
       "65691289                      18000.0  \n",
       "65691288                          NaN  \n",
       "65691305                      14000.0  \n",
       "65691296                      30000.0  \n",
       "65691306                      14000.0  \n",
       "\n",
       "[65691307 rows x 6 columns]"
      ],
      "text/html": "<div>\n<style scoped>\n    .dataframe tbody tr th:only-of-type {\n        vertical-align: middle;\n    }\n\n    .dataframe tbody tr th {\n        vertical-align: top;\n    }\n\n    .dataframe thead th {\n        text-align: right;\n    }\n</style>\n<table border=\"1\" class=\"dataframe\">\n  <thead>\n    <tr style=\"text-align: right;\">\n      <th></th>\n      <th>timestamp</th>\n      <th>user_id</th>\n      <th>content_id</th>\n      <th>user_answer</th>\n      <th>answered_correctly</th>\n      <th>prior_question_elapsed_time</th>\n    </tr>\n  </thead>\n  <tbody>\n    <tr>\n      <th>0</th>\n      <td>0</td>\n      <td>115</td>\n      <td>5692</td>\n      <td>3</td>\n      <td>1</td>\n      <td>NaN</td>\n    </tr>\n    <tr>\n      <th>23</th>\n      <td>557677</td>\n      <td>115</td>\n      <td>185</td>\n      <td>3</td>\n      <td>0</td>\n      <td>21000.0</td>\n    </tr>\n    <tr>\n      <th>24</th>\n      <td>575289</td>\n      <td>115</td>\n      <td>55</td>\n      <td>3</td>\n      <td>1</td>\n      <td>22000.0</td>\n    </tr>\n    <tr>\n      <th>25</th>\n      <td>597863</td>\n      <td>115</td>\n      <td>7876</td>\n      <td>3</td>\n      <td>1</td>\n      <td>16000.0</td>\n    </tr>\n    <tr>\n      <th>26</th>\n      <td>621464</td>\n      <td>115</td>\n      <td>6</td>\n      <td>2</td>\n      <td>1</td>\n      <td>20000.0</td>\n    </tr>\n    <tr>\n      <th>...</th>\n      <td>...</td>\n      <td>...</td>\n      <td>...</td>\n      <td>...</td>\n      <td>...</td>\n      <td>...</td>\n    </tr>\n    <tr>\n      <th>65691289</th>\n      <td>44458</td>\n      <td>2147482888</td>\n      <td>5738</td>\n      <td>2</td>\n      <td>1</td>\n      <td>18000.0</td>\n    </tr>\n    <tr>\n      <th>65691288</th>\n      <td>0</td>\n      <td>2147482888</td>\n      <td>6147</td>\n      <td>0</td>\n      <td>1</td>\n      <td>NaN</td>\n    </tr>\n    <tr>\n      <th>65691305</th>\n      <td>428585000</td>\n      <td>2147482888</td>\n      <td>6341</td>\n      <td>3</td>\n      <td>1</td>\n      <td>14000.0</td>\n    </tr>\n    <tr>\n      <th>65691296</th>\n      <td>253977782</td>\n      <td>2147482888</td>\n      <td>5334</td>\n      <td>3</td>\n      <td>0</td>\n      <td>30000.0</td>\n    </tr>\n    <tr>\n      <th>65691306</th>\n      <td>428613475</td>\n      <td>2147482888</td>\n      <td>4212</td>\n      <td>3</td>\n      <td>1</td>\n      <td>14000.0</td>\n    </tr>\n  </tbody>\n</table>\n<p>65691307 rows × 6 columns</p>\n</div>"
     },
     "metadata": {},
     "execution_count": 9
    }
   ],
   "source": [
    "df2=df2.reset_index()\n",
    "df2=df2.sort_values('user_id')\n",
    "df2=df2.drop(['index'],axis=1)\n",
    "df2"
   ]
  },
  {
   "cell_type": "code",
   "execution_count": 10,
   "metadata": {},
   "outputs": [],
   "source": [
    "df2=df2.reset_index()\n"
   ]
  },
  {
   "cell_type": "code",
   "execution_count": 11,
   "metadata": {},
   "outputs": [],
   "source": [
    "df2=df2.drop(['index'],axis=1)\n"
   ]
  },
  {
   "cell_type": "code",
   "execution_count": 12,
   "metadata": {},
   "outputs": [
    {
     "output_type": "execute_result",
     "data": {
      "text/plain": [
       "801103753     17917\n",
       "1478712595    16914\n",
       "1842816145    16851\n",
       "455973631     16789\n",
       "1660941992    16777\n",
       "              ...  \n",
       "475478663      3002\n",
       "1610617752     3002\n",
       "1486096260     3002\n",
       "1370460852     3002\n",
       "1051091275     3001\n",
       "Name: user_id, Length: 5257, dtype: int64"
      ]
     },
     "metadata": {},
     "execution_count": 12
    }
   ],
   "source": [
    "df2=df.user_id.value_counts()\n",
    "df2\n",
    "df2=df2[df2>3000]\n",
    "df2\n",
    "df2_list=df2.index.tolist()\n",
    "df2"
   ]
  },
  {
   "cell_type": "code",
   "execution_count": 13,
   "metadata": {},
   "outputs": [
    {
     "output_type": "execute_result",
     "data": {
      "text/plain": [
       "0            False\n",
       "1            False\n",
       "2            False\n",
       "3            False\n",
       "4            False\n",
       "             ...  \n",
       "101230327    False\n",
       "101230328    False\n",
       "101230329    False\n",
       "101230330    False\n",
       "101230331    False\n",
       "Name: user_id, Length: 99271300, dtype: bool"
      ]
     },
     "metadata": {},
     "execution_count": 13
    }
   ],
   "source": [
    "df1.user_id.isin(df2_list)"
   ]
  },
  {
   "cell_type": "code",
   "execution_count": 14,
   "metadata": {},
   "outputs": [
    {
     "output_type": "execute_result",
     "data": {
      "text/plain": [
       "             timestamp     user_id  content_id  user_answer  \\\n",
       "1874                 0       24418        7900            2   \n",
       "1875             24224       24418        7876            2   \n",
       "1876             51020       24418         175            2   \n",
       "1877             70540       24418        1278            3   \n",
       "1878             88142       24418        2065            1   \n",
       "...                ...         ...         ...          ...   \n",
       "101227583  23058371193  2147413636        1587            3   \n",
       "101227584  23058371193  2147413636        1588            2   \n",
       "101227585  23223826243  2147413636        1357            0   \n",
       "101227586  23223893785  2147413636        1180            0   \n",
       "101227587  23224101531  2147413636        1256            1   \n",
       "\n",
       "           answered_correctly  prior_question_elapsed_time  \n",
       "1874                        0                          NaN  \n",
       "1875                        0                      30000.0  \n",
       "1876                        1                      20000.0  \n",
       "1877                        1                      24000.0  \n",
       "1878                        0                      17000.0  \n",
       "...                       ...                          ...  \n",
       "101227583                   1                      27667.0  \n",
       "101227584                   0                      27667.0  \n",
       "101227585                   1                      31333.0  \n",
       "101227586                   1                      17000.0  \n",
       "101227587                   0                      15000.0  \n",
       "\n",
       "[26863601 rows x 6 columns]"
      ],
      "text/html": "<div>\n<style scoped>\n    .dataframe tbody tr th:only-of-type {\n        vertical-align: middle;\n    }\n\n    .dataframe tbody tr th {\n        vertical-align: top;\n    }\n\n    .dataframe thead th {\n        text-align: right;\n    }\n</style>\n<table border=\"1\" class=\"dataframe\">\n  <thead>\n    <tr style=\"text-align: right;\">\n      <th></th>\n      <th>timestamp</th>\n      <th>user_id</th>\n      <th>content_id</th>\n      <th>user_answer</th>\n      <th>answered_correctly</th>\n      <th>prior_question_elapsed_time</th>\n    </tr>\n  </thead>\n  <tbody>\n    <tr>\n      <th>1874</th>\n      <td>0</td>\n      <td>24418</td>\n      <td>7900</td>\n      <td>2</td>\n      <td>0</td>\n      <td>NaN</td>\n    </tr>\n    <tr>\n      <th>1875</th>\n      <td>24224</td>\n      <td>24418</td>\n      <td>7876</td>\n      <td>2</td>\n      <td>0</td>\n      <td>30000.0</td>\n    </tr>\n    <tr>\n      <th>1876</th>\n      <td>51020</td>\n      <td>24418</td>\n      <td>175</td>\n      <td>2</td>\n      <td>1</td>\n      <td>20000.0</td>\n    </tr>\n    <tr>\n      <th>1877</th>\n      <td>70540</td>\n      <td>24418</td>\n      <td>1278</td>\n      <td>3</td>\n      <td>1</td>\n      <td>24000.0</td>\n    </tr>\n    <tr>\n      <th>1878</th>\n      <td>88142</td>\n      <td>24418</td>\n      <td>2065</td>\n      <td>1</td>\n      <td>0</td>\n      <td>17000.0</td>\n    </tr>\n    <tr>\n      <th>...</th>\n      <td>...</td>\n      <td>...</td>\n      <td>...</td>\n      <td>...</td>\n      <td>...</td>\n      <td>...</td>\n    </tr>\n    <tr>\n      <th>101227583</th>\n      <td>23058371193</td>\n      <td>2147413636</td>\n      <td>1587</td>\n      <td>3</td>\n      <td>1</td>\n      <td>27667.0</td>\n    </tr>\n    <tr>\n      <th>101227584</th>\n      <td>23058371193</td>\n      <td>2147413636</td>\n      <td>1588</td>\n      <td>2</td>\n      <td>0</td>\n      <td>27667.0</td>\n    </tr>\n    <tr>\n      <th>101227585</th>\n      <td>23223826243</td>\n      <td>2147413636</td>\n      <td>1357</td>\n      <td>0</td>\n      <td>1</td>\n      <td>31333.0</td>\n    </tr>\n    <tr>\n      <th>101227586</th>\n      <td>23223893785</td>\n      <td>2147413636</td>\n      <td>1180</td>\n      <td>0</td>\n      <td>1</td>\n      <td>17000.0</td>\n    </tr>\n    <tr>\n      <th>101227587</th>\n      <td>23224101531</td>\n      <td>2147413636</td>\n      <td>1256</td>\n      <td>1</td>\n      <td>0</td>\n      <td>15000.0</td>\n    </tr>\n  </tbody>\n</table>\n<p>26863601 rows × 6 columns</p>\n</div>"
     },
     "metadata": {},
     "execution_count": 14
    }
   ],
   "source": [
    "df1.user_id.isin(df2_list)\n",
    "df2 = df1.loc[df.user_id.isin(df2_list)]\n",
    "df2"
   ]
  },
  {
   "cell_type": "code",
   "execution_count": 15,
   "metadata": {},
   "outputs": [
    {
     "output_type": "execute_result",
     "data": {
      "text/plain": [
       "            timestamp     user_id  content_id  user_answer  \\\n",
       "68459043   1837265583  1456724937           0            0   \n",
       "14783780   9815127916   318576945           0            0   \n",
       "46565253  20118955247   984324327           0            0   \n",
       "95644002    491444320  2028864055           0            0   \n",
       "3718020   20348607441    79985214           0            0   \n",
       "...               ...         ...         ...          ...   \n",
       "40831617  33266602620   868220474       13522            3   \n",
       "5454616   36051438464   116494957       13522            3   \n",
       "27284237  67282544234   581489549       13522            3   \n",
       "91918541  14389783142  1950701558       13522            3   \n",
       "35359202  30146992214   756207295       13522            3   \n",
       "\n",
       "          answered_correctly  prior_question_elapsed_time  \n",
       "68459043                   1                      21000.0  \n",
       "14783780                   1                      19000.0  \n",
       "46565253                   1                     103200.0  \n",
       "95644002                   1                       7000.0  \n",
       "3718020                    1                      25000.0  \n",
       "...                      ...                          ...  \n",
       "40831617                   1                      13000.0  \n",
       "5454616                    1                      21000.0  \n",
       "27284237                   1                      11000.0  \n",
       "91918541                   1                      17000.0  \n",
       "35359202                   1                      10000.0  \n",
       "\n",
       "[26863601 rows x 6 columns]"
      ],
      "text/html": "<div>\n<style scoped>\n    .dataframe tbody tr th:only-of-type {\n        vertical-align: middle;\n    }\n\n    .dataframe tbody tr th {\n        vertical-align: top;\n    }\n\n    .dataframe thead th {\n        text-align: right;\n    }\n</style>\n<table border=\"1\" class=\"dataframe\">\n  <thead>\n    <tr style=\"text-align: right;\">\n      <th></th>\n      <th>timestamp</th>\n      <th>user_id</th>\n      <th>content_id</th>\n      <th>user_answer</th>\n      <th>answered_correctly</th>\n      <th>prior_question_elapsed_time</th>\n    </tr>\n  </thead>\n  <tbody>\n    <tr>\n      <th>68459043</th>\n      <td>1837265583</td>\n      <td>1456724937</td>\n      <td>0</td>\n      <td>0</td>\n      <td>1</td>\n      <td>21000.0</td>\n    </tr>\n    <tr>\n      <th>14783780</th>\n      <td>9815127916</td>\n      <td>318576945</td>\n      <td>0</td>\n      <td>0</td>\n      <td>1</td>\n      <td>19000.0</td>\n    </tr>\n    <tr>\n      <th>46565253</th>\n      <td>20118955247</td>\n      <td>984324327</td>\n      <td>0</td>\n      <td>0</td>\n      <td>1</td>\n      <td>103200.0</td>\n    </tr>\n    <tr>\n      <th>95644002</th>\n      <td>491444320</td>\n      <td>2028864055</td>\n      <td>0</td>\n      <td>0</td>\n      <td>1</td>\n      <td>7000.0</td>\n    </tr>\n    <tr>\n      <th>3718020</th>\n      <td>20348607441</td>\n      <td>79985214</td>\n      <td>0</td>\n      <td>0</td>\n      <td>1</td>\n      <td>25000.0</td>\n    </tr>\n    <tr>\n      <th>...</th>\n      <td>...</td>\n      <td>...</td>\n      <td>...</td>\n      <td>...</td>\n      <td>...</td>\n      <td>...</td>\n    </tr>\n    <tr>\n      <th>40831617</th>\n      <td>33266602620</td>\n      <td>868220474</td>\n      <td>13522</td>\n      <td>3</td>\n      <td>1</td>\n      <td>13000.0</td>\n    </tr>\n    <tr>\n      <th>5454616</th>\n      <td>36051438464</td>\n      <td>116494957</td>\n      <td>13522</td>\n      <td>3</td>\n      <td>1</td>\n      <td>21000.0</td>\n    </tr>\n    <tr>\n      <th>27284237</th>\n      <td>67282544234</td>\n      <td>581489549</td>\n      <td>13522</td>\n      <td>3</td>\n      <td>1</td>\n      <td>11000.0</td>\n    </tr>\n    <tr>\n      <th>91918541</th>\n      <td>14389783142</td>\n      <td>1950701558</td>\n      <td>13522</td>\n      <td>3</td>\n      <td>1</td>\n      <td>17000.0</td>\n    </tr>\n    <tr>\n      <th>35359202</th>\n      <td>30146992214</td>\n      <td>756207295</td>\n      <td>13522</td>\n      <td>3</td>\n      <td>1</td>\n      <td>10000.0</td>\n    </tr>\n  </tbody>\n</table>\n<p>26863601 rows × 6 columns</p>\n</div>"
     },
     "metadata": {},
     "execution_count": 15
    }
   ],
   "source": [
    "df2 = df2.sort_values('content_id')\n",
    "df2"
   ]
  },
  {
   "cell_type": "code",
   "execution_count": 16,
   "metadata": {},
   "outputs": [
    {
     "output_type": "execute_result",
     "data": {
      "text/plain": [
       "68459043        0\n",
       "14783780        0\n",
       "46565253        0\n",
       "95644002        0\n",
       "3718020         0\n",
       "            ...  \n",
       "40831617    13522\n",
       "5454616     13522\n",
       "27284237    13522\n",
       "91918541    13522\n",
       "35359202    13522\n",
       "Name: content_id, Length: 26863601, dtype: int64"
      ]
     },
     "metadata": {},
     "execution_count": 16
    }
   ],
   "source": [
    "df2['content_id']"
   ]
  },
  {
   "cell_type": "code",
   "execution_count": 18,
   "metadata": {},
   "outputs": [
    {
     "output_type": "error",
     "ename": "TypeError",
     "evalue": "Cannot compare types 'ndarray(dtype=int64)' and 'int64'",
     "traceback": [
      "\u001b[1;31m---------------------------------------------------------------------------\u001b[0m",
      "\u001b[1;31mTypeError\u001b[0m                                 Traceback (most recent call last)",
      "\u001b[1;32m<ipython-input-18-50b382729f25>\u001b[0m in \u001b[0;36m<module>\u001b[1;34m\u001b[0m\n\u001b[0;32m      1\u001b[0m \u001b[0mn\u001b[0m\u001b[1;33m=\u001b[0m \u001b[0mlen\u001b[0m\u001b[1;33m(\u001b[0m\u001b[0mdf2\u001b[0m\u001b[1;33m[\u001b[0m\u001b[1;34m'content_id'\u001b[0m\u001b[1;33m]\u001b[0m\u001b[1;33m.\u001b[0m\u001b[0munique\u001b[0m\u001b[1;33m(\u001b[0m\u001b[1;33m)\u001b[0m\u001b[1;33m)\u001b[0m\u001b[1;33m\u001b[0m\u001b[1;33m\u001b[0m\u001b[0m\n\u001b[1;32m----> 2\u001b[1;33m \u001b[0mseries1\u001b[0m\u001b[1;33m=\u001b[0m\u001b[0mdf2\u001b[0m\u001b[1;33m[\u001b[0m\u001b[1;34m'content_id'\u001b[0m\u001b[1;33m]\u001b[0m\u001b[1;33m.\u001b[0m\u001b[0mreplace\u001b[0m\u001b[1;33m(\u001b[0m\u001b[1;33m[\u001b[0m\u001b[0mx\u001b[0m \u001b[1;32mfor\u001b[0m \u001b[0mx\u001b[0m \u001b[1;32min\u001b[0m \u001b[0mdf2\u001b[0m\u001b[1;33m[\u001b[0m\u001b[1;34m'content_id'\u001b[0m\u001b[1;33m]\u001b[0m\u001b[1;33m.\u001b[0m\u001b[0munique\u001b[0m\u001b[1;33m(\u001b[0m\u001b[1;33m)\u001b[0m\u001b[1;33m]\u001b[0m\u001b[1;33m,\u001b[0m\u001b[1;33m[\u001b[0m\u001b[0mx\u001b[0m \u001b[1;32mfor\u001b[0m \u001b[0mx\u001b[0m \u001b[1;32min\u001b[0m \u001b[0mrange\u001b[0m\u001b[1;33m(\u001b[0m\u001b[1;36m1\u001b[0m\u001b[1;33m,\u001b[0m\u001b[0mn\u001b[0m\u001b[1;33m+\u001b[0m\u001b[1;36m1\u001b[0m\u001b[1;33m)\u001b[0m\u001b[1;33m]\u001b[0m\u001b[1;33m)\u001b[0m\u001b[1;33m\u001b[0m\u001b[1;33m\u001b[0m\u001b[0m\n\u001b[0m\u001b[0;32m      3\u001b[0m \u001b[0mseries1\u001b[0m\u001b[1;33m\u001b[0m\u001b[1;33m\u001b[0m\u001b[0m\n",
      "\u001b[1;32mC:\\ProgramData\\Anaconda3\\lib\\site-packages\\pandas\\core\\series.py\u001b[0m in \u001b[0;36mreplace\u001b[1;34m(self, to_replace, value, inplace, limit, regex, method)\u001b[0m\n\u001b[0;32m   4170\u001b[0m         \u001b[0mmethod\u001b[0m\u001b[1;33m=\u001b[0m\u001b[1;34m\"pad\"\u001b[0m\u001b[1;33m,\u001b[0m\u001b[1;33m\u001b[0m\u001b[1;33m\u001b[0m\u001b[0m\n\u001b[0;32m   4171\u001b[0m     ):\n\u001b[1;32m-> 4172\u001b[1;33m         return super().replace(\n\u001b[0m\u001b[0;32m   4173\u001b[0m             \u001b[0mto_replace\u001b[0m\u001b[1;33m=\u001b[0m\u001b[0mto_replace\u001b[0m\u001b[1;33m,\u001b[0m\u001b[1;33m\u001b[0m\u001b[1;33m\u001b[0m\u001b[0m\n\u001b[0;32m   4174\u001b[0m             \u001b[0mvalue\u001b[0m\u001b[1;33m=\u001b[0m\u001b[0mvalue\u001b[0m\u001b[1;33m,\u001b[0m\u001b[1;33m\u001b[0m\u001b[1;33m\u001b[0m\u001b[0m\n",
      "\u001b[1;32mC:\\ProgramData\\Anaconda3\\lib\\site-packages\\pandas\\core\\generic.py\u001b[0m in \u001b[0;36mreplace\u001b[1;34m(self, to_replace, value, inplace, limit, regex, method)\u001b[0m\n\u001b[0;32m   6693\u001b[0m                         )\n\u001b[0;32m   6694\u001b[0m \u001b[1;33m\u001b[0m\u001b[0m\n\u001b[1;32m-> 6695\u001b[1;33m                     new_data = self._data.replace_list(\n\u001b[0m\u001b[0;32m   6696\u001b[0m                         \u001b[0msrc_list\u001b[0m\u001b[1;33m=\u001b[0m\u001b[0mto_replace\u001b[0m\u001b[1;33m,\u001b[0m\u001b[1;33m\u001b[0m\u001b[1;33m\u001b[0m\u001b[0m\n\u001b[0;32m   6697\u001b[0m                         \u001b[0mdest_list\u001b[0m\u001b[1;33m=\u001b[0m\u001b[0mvalue\u001b[0m\u001b[1;33m,\u001b[0m\u001b[1;33m\u001b[0m\u001b[1;33m\u001b[0m\u001b[0m\n",
      "\u001b[1;32mC:\\ProgramData\\Anaconda3\\lib\\site-packages\\pandas\\core\\internals\\managers.py\u001b[0m in \u001b[0;36mreplace_list\u001b[1;34m(self, src_list, dest_list, inplace, regex)\u001b[0m\n\u001b[0;32m    611\u001b[0m             \u001b[1;32mreturn\u001b[0m \u001b[0m_compare_or_regex_search\u001b[0m\u001b[1;33m(\u001b[0m\u001b[0mvalues\u001b[0m\u001b[1;33m,\u001b[0m \u001b[0ms\u001b[0m\u001b[1;33m,\u001b[0m \u001b[0mregex\u001b[0m\u001b[1;33m)\u001b[0m\u001b[1;33m\u001b[0m\u001b[1;33m\u001b[0m\u001b[0m\n\u001b[0;32m    612\u001b[0m \u001b[1;33m\u001b[0m\u001b[0m\n\u001b[1;32m--> 613\u001b[1;33m         \u001b[0mmasks\u001b[0m \u001b[1;33m=\u001b[0m \u001b[1;33m[\u001b[0m\u001b[0mcomp\u001b[0m\u001b[1;33m(\u001b[0m\u001b[0ms\u001b[0m\u001b[1;33m,\u001b[0m \u001b[0mregex\u001b[0m\u001b[1;33m)\u001b[0m \u001b[1;32mfor\u001b[0m \u001b[0mi\u001b[0m\u001b[1;33m,\u001b[0m \u001b[0ms\u001b[0m \u001b[1;32min\u001b[0m \u001b[0menumerate\u001b[0m\u001b[1;33m(\u001b[0m\u001b[0msrc_list\u001b[0m\u001b[1;33m)\u001b[0m\u001b[1;33m]\u001b[0m\u001b[1;33m\u001b[0m\u001b[1;33m\u001b[0m\u001b[0m\n\u001b[0m\u001b[0;32m    614\u001b[0m \u001b[1;33m\u001b[0m\u001b[0m\n\u001b[0;32m    615\u001b[0m         \u001b[0mresult_blocks\u001b[0m \u001b[1;33m=\u001b[0m \u001b[1;33m[\u001b[0m\u001b[1;33m]\u001b[0m\u001b[1;33m\u001b[0m\u001b[1;33m\u001b[0m\u001b[0m\n",
      "\u001b[1;32mC:\\ProgramData\\Anaconda3\\lib\\site-packages\\pandas\\core\\internals\\managers.py\u001b[0m in \u001b[0;36m<listcomp>\u001b[1;34m(.0)\u001b[0m\n\u001b[0;32m    611\u001b[0m             \u001b[1;32mreturn\u001b[0m \u001b[0m_compare_or_regex_search\u001b[0m\u001b[1;33m(\u001b[0m\u001b[0mvalues\u001b[0m\u001b[1;33m,\u001b[0m \u001b[0ms\u001b[0m\u001b[1;33m,\u001b[0m \u001b[0mregex\u001b[0m\u001b[1;33m)\u001b[0m\u001b[1;33m\u001b[0m\u001b[1;33m\u001b[0m\u001b[0m\n\u001b[0;32m    612\u001b[0m \u001b[1;33m\u001b[0m\u001b[0m\n\u001b[1;32m--> 613\u001b[1;33m         \u001b[0mmasks\u001b[0m \u001b[1;33m=\u001b[0m \u001b[1;33m[\u001b[0m\u001b[0mcomp\u001b[0m\u001b[1;33m(\u001b[0m\u001b[0ms\u001b[0m\u001b[1;33m,\u001b[0m \u001b[0mregex\u001b[0m\u001b[1;33m)\u001b[0m \u001b[1;32mfor\u001b[0m \u001b[0mi\u001b[0m\u001b[1;33m,\u001b[0m \u001b[0ms\u001b[0m \u001b[1;32min\u001b[0m \u001b[0menumerate\u001b[0m\u001b[1;33m(\u001b[0m\u001b[0msrc_list\u001b[0m\u001b[1;33m)\u001b[0m\u001b[1;33m]\u001b[0m\u001b[1;33m\u001b[0m\u001b[1;33m\u001b[0m\u001b[0m\n\u001b[0m\u001b[0;32m    614\u001b[0m \u001b[1;33m\u001b[0m\u001b[0m\n\u001b[0;32m    615\u001b[0m         \u001b[0mresult_blocks\u001b[0m \u001b[1;33m=\u001b[0m \u001b[1;33m[\u001b[0m\u001b[1;33m]\u001b[0m\u001b[1;33m\u001b[0m\u001b[1;33m\u001b[0m\u001b[0m\n",
      "\u001b[1;32mC:\\ProgramData\\Anaconda3\\lib\\site-packages\\pandas\\core\\internals\\managers.py\u001b[0m in \u001b[0;36mcomp\u001b[1;34m(s, regex)\u001b[0m\n\u001b[0;32m    609\u001b[0m                     \u001b[0mmaybe_convert_objects\u001b[0m\u001b[1;33m(\u001b[0m\u001b[0mvalues\u001b[0m\u001b[1;33m)\u001b[0m\u001b[1;33m,\u001b[0m \u001b[0ms\u001b[0m\u001b[1;33m.\u001b[0m\u001b[0masm8\u001b[0m\u001b[1;33m,\u001b[0m \u001b[0mregex\u001b[0m\u001b[1;33m\u001b[0m\u001b[1;33m\u001b[0m\u001b[0m\n\u001b[0;32m    610\u001b[0m                 )\n\u001b[1;32m--> 611\u001b[1;33m             \u001b[1;32mreturn\u001b[0m \u001b[0m_compare_or_regex_search\u001b[0m\u001b[1;33m(\u001b[0m\u001b[0mvalues\u001b[0m\u001b[1;33m,\u001b[0m \u001b[0ms\u001b[0m\u001b[1;33m,\u001b[0m \u001b[0mregex\u001b[0m\u001b[1;33m)\u001b[0m\u001b[1;33m\u001b[0m\u001b[1;33m\u001b[0m\u001b[0m\n\u001b[0m\u001b[0;32m    612\u001b[0m \u001b[1;33m\u001b[0m\u001b[0m\n\u001b[0;32m    613\u001b[0m         \u001b[0mmasks\u001b[0m \u001b[1;33m=\u001b[0m \u001b[1;33m[\u001b[0m\u001b[0mcomp\u001b[0m\u001b[1;33m(\u001b[0m\u001b[0ms\u001b[0m\u001b[1;33m,\u001b[0m \u001b[0mregex\u001b[0m\u001b[1;33m)\u001b[0m \u001b[1;32mfor\u001b[0m \u001b[0mi\u001b[0m\u001b[1;33m,\u001b[0m \u001b[0ms\u001b[0m \u001b[1;32min\u001b[0m \u001b[0menumerate\u001b[0m\u001b[1;33m(\u001b[0m\u001b[0msrc_list\u001b[0m\u001b[1;33m)\u001b[0m\u001b[1;33m]\u001b[0m\u001b[1;33m\u001b[0m\u001b[1;33m\u001b[0m\u001b[0m\n",
      "\u001b[1;32mC:\\ProgramData\\Anaconda3\\lib\\site-packages\\pandas\\core\\internals\\managers.py\u001b[0m in \u001b[0;36m_compare_or_regex_search\u001b[1;34m(a, b, regex)\u001b[0m\n\u001b[0;32m   1933\u001b[0m             \u001b[0mtype_names\u001b[0m\u001b[1;33m[\u001b[0m\u001b[1;36m1\u001b[0m\u001b[1;33m]\u001b[0m \u001b[1;33m=\u001b[0m \u001b[1;34mf\"ndarray(dtype={b.dtype})\"\u001b[0m\u001b[1;33m\u001b[0m\u001b[1;33m\u001b[0m\u001b[0m\n\u001b[0;32m   1934\u001b[0m \u001b[1;33m\u001b[0m\u001b[0m\n\u001b[1;32m-> 1935\u001b[1;33m         raise TypeError(\n\u001b[0m\u001b[0;32m   1936\u001b[0m             \u001b[1;34mf\"Cannot compare types {repr(type_names[0])} and {repr(type_names[1])}\"\u001b[0m\u001b[1;33m\u001b[0m\u001b[1;33m\u001b[0m\u001b[0m\n\u001b[0;32m   1937\u001b[0m         )\n",
      "\u001b[1;31mTypeError\u001b[0m: Cannot compare types 'ndarray(dtype=int64)' and 'int64'"
     ]
    }
   ],
   "source": [
    "n= len(df2['content_id'].unique())\n",
    "series1=df2['content_id'].replace([x for x in df2['content_id'].unique()],[x for x in range(1,n+1)])\n",
    "series1"
   ]
  },
  {
   "cell_type": "code",
   "execution_count": null,
   "metadata": {},
   "outputs": [],
   "source": [
    "s_to_d=series1.to_frame()"
   ]
  },
  {
   "cell_type": "code",
   "execution_count": null,
   "metadata": {},
   "outputs": [],
   "source": [
    "df2=df2.drop(['content_id'], axis=1)\n",
    "df2"
   ]
  },
  {
   "cell_type": "code",
   "execution_count": null,
   "metadata": {},
   "outputs": [],
   "source": [
    "newdf=pd.merge(s_to_d,df2, left_index=True , right_index=True ,how='left')"
   ]
  },
  {
   "cell_type": "code",
   "execution_count": null,
   "metadata": {},
   "outputs": [],
   "source": [
    "df2 = newdf.sort_values('user_id')  \n",
    "df2"
   ]
  },
  {
   "cell_type": "code",
   "execution_count": null,
   "metadata": {},
   "outputs": [],
   "source": [
    "n= len(df2['user_id'].unique())\n",
    "series2=df2['user_id'].replace([x for x in df2['user_id'].unique()],[x for x in range(1,n+1)])\n",
    "series2"
   ]
  },
  {
   "cell_type": "code",
   "execution_count": null,
   "metadata": {},
   "outputs": [],
   "source": [
    "s_to_d2=series2.to_frame()"
   ]
  },
  {
   "cell_type": "code",
   "execution_count": null,
   "metadata": {},
   "outputs": [],
   "source": [
    "df2=df2.drop(['user_id'],axis=1)"
   ]
  },
  {
   "cell_type": "code",
   "execution_count": null,
   "metadata": {},
   "outputs": [],
   "source": [
    "newdf=pd.merge(s_to_d2,df2, left_index=True , right_index=True ,how='left')"
   ]
  },
  {
   "cell_type": "code",
   "execution_count": null,
   "metadata": {},
   "outputs": [],
   "source": [
    "newdf.to_csv('./data/newreindex.csv')"
   ]
  },
  {
   "cell_type": "code",
   "execution_count": null,
   "metadata": {},
   "outputs": [],
   "source": [
    "group_df=df2.groupby(['user_id','content_id'])['answered_correctly'].mean()\n",
    "group_df"
   ]
  },
  {
   "cell_type": "code",
   "execution_count": null,
   "metadata": {},
   "outputs": [],
   "source": [
    "group_df.to_csv('./data/groupby.csv')"
   ]
  }
 ],
 "metadata": {
  "kernelspec": {
   "display_name": "Python 3",
   "language": "python",
   "name": "python3"
  },
  "language_info": {
   "codemirror_mode": {
    "name": "ipython",
    "version": 3
   },
   "file_extension": ".py",
   "mimetype": "text/x-python",
   "name": "python",
   "nbconvert_exporter": "python",
   "pygments_lexer": "ipython3",
   "version": "3.8.3-final"
  }
 },
 "nbformat": 4,
 "nbformat_minor": 4
}