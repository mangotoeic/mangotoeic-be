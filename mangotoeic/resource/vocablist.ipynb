{
 "metadata": {
  "language_info": {
   "codemirror_mode": {
    "name": "ipython",
    "version": 3
   },
   "file_extension": ".py",
   "mimetype": "text/x-python",
   "name": "python",
   "nbconvert_exporter": "python",
   "pygments_lexer": "ipython3",
   "version": "3.8.3-final"
  },
  "orig_nbformat": 2,
  "kernelspec": {
   "name": "python3",
   "display_name": "Python 3"
  }
 },
 "nbformat": 4,
 "nbformat_minor": 2,
 "cells": [
  {
   "cell_type": "code",
   "execution_count": 8,
   "metadata": {},
   "outputs": [],
   "source": [
    "import pandas as pd\n",
    "import pickle"
   ]
  },
  {
   "cell_type": "code",
   "execution_count": 9,
   "metadata": {},
   "outputs": [],
   "source": [
    "with open('./data/vocabdict.pickle', 'rb') as f:\n",
    "    data = pickle.load(f)\n",
    "with open('./data/vocabdict2.pickle', 'rb') as f:\n",
    "    data2 = pickle.load(f)\n",
    "with open('./data/vocabdict3.pickle', 'rb') as f:\n",
    "    data3 = pickle.load(f)\n"
   ]
  },
  {
   "cell_type": "code",
   "execution_count": 10,
   "metadata": {},
   "outputs": [],
   "source": [
    "df=pd.DataFrame.from_dict(data,orient='index')\n",
    "# print(data)"
   ]
  },
  {
   "cell_type": "code",
   "execution_count": 11,
   "metadata": {},
   "outputs": [],
   "source": [
    "df1 =pd.DataFrame(columns=['vocab','mean'])"
   ]
  },
  {
   "cell_type": "code",
   "execution_count": 12,
   "metadata": {},
   "outputs": [],
   "source": [
    "mylist=[]"
   ]
  },
  {
   "cell_type": "code",
   "execution_count": 13,
   "metadata": {},
   "outputs": [
    {
     "output_type": "execute_result",
     "data": {
      "text/plain": [
       "0     None\n",
       "1     None\n",
       "2     None\n",
       "3     None\n",
       "4     None\n",
       "5     None\n",
       "6     None\n",
       "7     None\n",
       "8     None\n",
       "9     None\n",
       "10    None\n",
       "11    None\n",
       "12    None\n",
       "13    None\n",
       "14    None\n",
       "15    None\n",
       "16    None\n",
       "17    None\n",
       "18    None\n",
       "19    None\n",
       "20    None\n",
       "21    None\n",
       "22    None\n",
       "23    None\n",
       "24    None\n",
       "25    None\n",
       "26    None\n",
       "27    None\n",
       "28    None\n",
       "29    None\n",
       "30    None\n",
       "31    None\n",
       "32    None\n",
       "33    None\n",
       "34    None\n",
       "35    None\n",
       "36    None\n",
       "37    None\n",
       "38    None\n",
       "dtype: object"
      ]
     },
     "metadata": {},
     "execution_count": 13
    }
   ],
   "source": [
    "df.apply(lambda x :  mylist.append(x) )"
   ]
  },
  {
   "cell_type": "code",
   "execution_count": 14,
   "metadata": {},
   "outputs": [
    {
     "output_type": "execute_result",
     "data": {
      "text/plain": [
       "                                       0\n",
       "response                  대답, 응답, 회신, 답장\n",
       "spokesman                            대변인\n",
       "main         (같은 종류 중) 가장 큰[중요한], 주된, 주-\n",
       "writing              (읽기·말하기 등과 대조되는) 쓰기\n",
       "shanghai      (어떤 일을) 속여서 하게 하다[강제로 시키다]\n",
       "...                                  ...\n",
       "stipulation                       조항, 조건\n",
       "talented                (타고난) 재능[재주]이 있는\n",
       "moment                            잠깐, 잠시\n",
       "protracted       (예상·평상시보다) 오래 끈[오래 계속된]\n",
       "evaluate         (양·가치·품질 등을) 평가하다[감정하다]\n",
       "\n",
       "[133 rows x 1 columns]"
      ],
      "text/html": "<div>\n<style scoped>\n    .dataframe tbody tr th:only-of-type {\n        vertical-align: middle;\n    }\n\n    .dataframe tbody tr th {\n        vertical-align: top;\n    }\n\n    .dataframe thead th {\n        text-align: right;\n    }\n</style>\n<table border=\"1\" class=\"dataframe\">\n  <thead>\n    <tr style=\"text-align: right;\">\n      <th></th>\n      <th>0</th>\n    </tr>\n  </thead>\n  <tbody>\n    <tr>\n      <th>response</th>\n      <td>대답, 응답, 회신, 답장</td>\n    </tr>\n    <tr>\n      <th>spokesman</th>\n      <td>대변인</td>\n    </tr>\n    <tr>\n      <th>main</th>\n      <td>(같은 종류 중) 가장 큰[중요한], 주된, 주-</td>\n    </tr>\n    <tr>\n      <th>writing</th>\n      <td>(읽기·말하기 등과 대조되는) 쓰기</td>\n    </tr>\n    <tr>\n      <th>shanghai</th>\n      <td>(어떤 일을) 속여서 하게 하다[강제로 시키다]</td>\n    </tr>\n    <tr>\n      <th>...</th>\n      <td>...</td>\n    </tr>\n    <tr>\n      <th>stipulation</th>\n      <td>조항, 조건</td>\n    </tr>\n    <tr>\n      <th>talented</th>\n      <td>(타고난) 재능[재주]이 있는</td>\n    </tr>\n    <tr>\n      <th>moment</th>\n      <td>잠깐, 잠시</td>\n    </tr>\n    <tr>\n      <th>protracted</th>\n      <td>(예상·평상시보다) 오래 끈[오래 계속된]</td>\n    </tr>\n    <tr>\n      <th>evaluate</th>\n      <td>(양·가치·품질 등을) 평가하다[감정하다]</td>\n    </tr>\n  </tbody>\n</table>\n<p>133 rows × 1 columns</p>\n</div>"
     },
     "metadata": {},
     "execution_count": 14
    }
   ],
   "source": [
    "mylist[0].to_frame()"
   ]
  },
  {
   "cell_type": "code",
   "execution_count": null,
   "metadata": {},
   "outputs": [],
   "source": []
  }
 ]
}