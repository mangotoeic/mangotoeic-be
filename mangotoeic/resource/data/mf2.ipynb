{
 "metadata": {
  "language_info": {
   "codemirror_mode": {
    "name": "ipython",
    "version": 3
   },
   "file_extension": ".py",
   "mimetype": "text/x-python",
   "name": "python",
   "nbconvert_exporter": "python",
   "pygments_lexer": "ipython3",
   "version": "3.7.0-final"
  },
  "orig_nbformat": 2,
  "kernelspec": {
   "name": "Python 3.7.0 64-bit ('new': conda)",
   "display_name": "Python 3.7.0 64-bit ('new': conda)",
   "metadata": {
    "interpreter": {
     "hash": "8d6e2059c913c0eb5279cdcc7507a3cc2b400b77306098ae2cd799c065d7464f"
    }
   }
  }
 },
 "nbformat": 4,
 "nbformat_minor": 2,
 "cells": [
  {
   "cell_type": "code",
   "execution_count": 56,
   "metadata": {},
   "outputs": [],
   "source": [
    "import pandas as pd"
   ]
  },
  {
   "cell_type": "code",
   "execution_count": 57,
   "metadata": {},
   "outputs": [
    {
     "output_type": "execute_result",
     "data": {
      "text/plain": [
       "vocab           &   ability      able  aboutthe  absolutely    access  \\\n",
       "user_id                                                                 \n",
       "1        1.000000  0.750000  0.857143  1.000000    1.000000       NaN   \n",
       "2        1.000000  0.416667  0.600000  1.000000    1.000000  0.666667   \n",
       "3        0.571429  0.285714  0.666667  0.200000         NaN  0.500000   \n",
       "4        1.000000       NaN       NaN       NaN         NaN  1.000000   \n",
       "5             NaN  0.250000  0.000000       NaN         NaN  0.666667   \n",
       "6             NaN  0.666667  0.750000  1.000000         NaN  0.500000   \n",
       "7        0.750000  0.375000  0.000000  1.000000    0.500000  0.000000   \n",
       "8             NaN  1.000000  0.875000  0.555556    1.000000  1.000000   \n",
       "9        0.750000  0.857143  0.833333  0.750000    0.333333       NaN   \n",
       "10       0.033333  1.000000  0.125000  0.062500         NaN       NaN   \n",
       "11       0.500000  0.366667  0.250000  1.000000    0.666667  0.500000   \n",
       "12       0.800000  0.400000  0.700000  0.666667    1.000000  0.666667   \n",
       "13       0.857143  0.701389  0.125000  1.000000    1.000000  0.428571   \n",
       "14            NaN  0.750000  0.875000  0.500000         NaN       NaN   \n",
       "15       1.000000  0.750000  0.250000       NaN         NaN  0.000000   \n",
       "16            NaN  0.416667  0.508333  0.800000         NaN  0.750000   \n",
       "\n",
       "vocab      accord   account  accounting  acquaintance  ...  workshop  \\\n",
       "user_id                                                ...             \n",
       "1             NaN  0.777778    1.000000      0.200000  ...  1.000000   \n",
       "2        1.000000  0.583333    0.571429      0.400000  ...  0.500000   \n",
       "3        1.000000  0.500000         NaN      0.222222  ...  0.500000   \n",
       "4             NaN  1.000000    0.500000      0.666667  ...  1.000000   \n",
       "5        1.000000  0.666667         NaN      0.500000  ...       NaN   \n",
       "6        1.000000  0.500000    0.500000      1.000000  ...  0.625000   \n",
       "7        1.000000  0.375000    0.333333      0.500000  ...  0.166667   \n",
       "8        0.625000  1.000000    0.000000      0.555556  ...  1.000000   \n",
       "9             NaN       NaN    0.857143      0.000000  ...  0.928571   \n",
       "10            NaN       NaN    0.500000           NaN  ...  0.750000   \n",
       "11       1.000000  0.583333    0.833333      0.000000  ...  0.500000   \n",
       "12       1.000000  0.666667    0.500000      0.000000  ...  0.700000   \n",
       "13            NaN  0.614286         NaN      0.200000  ...  0.397727   \n",
       "14            NaN       NaN    0.833333      0.500000  ...  0.666667   \n",
       "15       1.000000  0.500000    0.000000           NaN  ...  0.750000   \n",
       "16       0.777778  0.750000    0.666667      0.454545  ...  0.666667   \n",
       "\n",
       "vocab       world     would     write    writer      year       yib      yoko  \\\n",
       "user_id                                                                         \n",
       "1        0.909091  0.838889  1.000000  1.000000  0.833333  0.800000  1.000000   \n",
       "2        0.328571  0.791667  0.500000  0.600000  0.642963  0.500000  0.333333   \n",
       "3        0.516667  0.444444  0.444444  0.000000  0.483157  0.800000  0.285714   \n",
       "4             NaN       NaN       NaN  0.200000  0.688810  0.500000       NaN   \n",
       "5        0.500000  0.833333       NaN  0.500000  0.591667  0.818182  0.000000   \n",
       "6        0.833333  0.833333       NaN  0.904762  0.863533  0.000000  1.000000   \n",
       "7        0.916667  0.437500  0.500000  0.500000  0.577381  1.000000  0.750000   \n",
       "8        0.916667  0.875000  0.833333       NaN  0.774691  0.571429  1.000000   \n",
       "9        0.766667  0.694444  1.000000  1.000000  0.774892  0.500000  1.000000   \n",
       "10       0.549020  0.519048       NaN  0.500000  0.392300       NaN  1.000000   \n",
       "11       0.546296  0.562500  1.000000  0.166667  0.681122  0.000000  0.400000   \n",
       "12       0.690476  0.766369  0.600000  0.500000  0.535897  1.000000  0.600000   \n",
       "13       0.486111  0.809524  1.000000  0.000000  0.484186  0.500000  0.777778   \n",
       "14       0.944444  0.800000       NaN  1.000000  0.819444  1.000000  1.000000   \n",
       "15       0.833333  0.805556  1.000000  1.000000  0.725556  0.000000  1.000000   \n",
       "16       0.800000  0.900000  1.000000  0.666667  0.699343  0.750000  0.333333   \n",
       "\n",
       "vocab       young       yun  \n",
       "user_id                      \n",
       "1        1.000000  0.750000  \n",
       "2        1.000000  0.666667  \n",
       "3             NaN  0.500000  \n",
       "4             NaN  1.000000  \n",
       "5        0.857143  0.500000  \n",
       "6             NaN  0.900000  \n",
       "7        0.250000  1.000000  \n",
       "8        1.000000  0.333333  \n",
       "9        0.916667  0.888889  \n",
       "10       0.060606  1.000000  \n",
       "11       1.000000  0.857143  \n",
       "12       0.500000  0.666667  \n",
       "13       0.250000  0.333333  \n",
       "14            NaN  1.000000  \n",
       "15       1.000000  1.000000  \n",
       "16            NaN  0.333333  \n",
       "\n",
       "[16 rows x 931 columns]"
      ],
      "text/html": "<div>\n<style scoped>\n    .dataframe tbody tr th:only-of-type {\n        vertical-align: middle;\n    }\n\n    .dataframe tbody tr th {\n        vertical-align: top;\n    }\n\n    .dataframe thead th {\n        text-align: right;\n    }\n</style>\n<table border=\"1\" class=\"dataframe\">\n  <thead>\n    <tr style=\"text-align: right;\">\n      <th>vocab</th>\n      <th>&amp;</th>\n      <th>ability</th>\n      <th>able</th>\n      <th>aboutthe</th>\n      <th>absolutely</th>\n      <th>access</th>\n      <th>accord</th>\n      <th>account</th>\n      <th>accounting</th>\n      <th>acquaintance</th>\n      <th>...</th>\n      <th>workshop</th>\n      <th>world</th>\n      <th>would</th>\n      <th>write</th>\n      <th>writer</th>\n      <th>year</th>\n      <th>yib</th>\n      <th>yoko</th>\n      <th>young</th>\n      <th>yun</th>\n    </tr>\n    <tr>\n      <th>user_id</th>\n      <th></th>\n      <th></th>\n      <th></th>\n      <th></th>\n      <th></th>\n      <th></th>\n      <th></th>\n      <th></th>\n      <th></th>\n      <th></th>\n      <th></th>\n      <th></th>\n      <th></th>\n      <th></th>\n      <th></th>\n      <th></th>\n      <th></th>\n      <th></th>\n      <th></th>\n      <th></th>\n      <th></th>\n    </tr>\n  </thead>\n  <tbody>\n    <tr>\n      <th>1</th>\n      <td>1.000000</td>\n      <td>0.750000</td>\n      <td>0.857143</td>\n      <td>1.000000</td>\n      <td>1.000000</td>\n      <td>NaN</td>\n      <td>NaN</td>\n      <td>0.777778</td>\n      <td>1.000000</td>\n      <td>0.200000</td>\n      <td>...</td>\n      <td>1.000000</td>\n      <td>0.909091</td>\n      <td>0.838889</td>\n      <td>1.000000</td>\n      <td>1.000000</td>\n      <td>0.833333</td>\n      <td>0.800000</td>\n      <td>1.000000</td>\n      <td>1.000000</td>\n      <td>0.750000</td>\n    </tr>\n    <tr>\n      <th>2</th>\n      <td>1.000000</td>\n      <td>0.416667</td>\n      <td>0.600000</td>\n      <td>1.000000</td>\n      <td>1.000000</td>\n      <td>0.666667</td>\n      <td>1.000000</td>\n      <td>0.583333</td>\n      <td>0.571429</td>\n      <td>0.400000</td>\n      <td>...</td>\n      <td>0.500000</td>\n      <td>0.328571</td>\n      <td>0.791667</td>\n      <td>0.500000</td>\n      <td>0.600000</td>\n      <td>0.642963</td>\n      <td>0.500000</td>\n      <td>0.333333</td>\n      <td>1.000000</td>\n      <td>0.666667</td>\n    </tr>\n    <tr>\n      <th>3</th>\n      <td>0.571429</td>\n      <td>0.285714</td>\n      <td>0.666667</td>\n      <td>0.200000</td>\n      <td>NaN</td>\n      <td>0.500000</td>\n      <td>1.000000</td>\n      <td>0.500000</td>\n      <td>NaN</td>\n      <td>0.222222</td>\n      <td>...</td>\n      <td>0.500000</td>\n      <td>0.516667</td>\n      <td>0.444444</td>\n      <td>0.444444</td>\n      <td>0.000000</td>\n      <td>0.483157</td>\n      <td>0.800000</td>\n      <td>0.285714</td>\n      <td>NaN</td>\n      <td>0.500000</td>\n    </tr>\n    <tr>\n      <th>4</th>\n      <td>1.000000</td>\n      <td>NaN</td>\n      <td>NaN</td>\n      <td>NaN</td>\n      <td>NaN</td>\n      <td>1.000000</td>\n      <td>NaN</td>\n      <td>1.000000</td>\n      <td>0.500000</td>\n      <td>0.666667</td>\n      <td>...</td>\n      <td>1.000000</td>\n      <td>NaN</td>\n      <td>NaN</td>\n      <td>NaN</td>\n      <td>0.200000</td>\n      <td>0.688810</td>\n      <td>0.500000</td>\n      <td>NaN</td>\n      <td>NaN</td>\n      <td>1.000000</td>\n    </tr>\n    <tr>\n      <th>5</th>\n      <td>NaN</td>\n      <td>0.250000</td>\n      <td>0.000000</td>\n      <td>NaN</td>\n      <td>NaN</td>\n      <td>0.666667</td>\n      <td>1.000000</td>\n      <td>0.666667</td>\n      <td>NaN</td>\n      <td>0.500000</td>\n      <td>...</td>\n      <td>NaN</td>\n      <td>0.500000</td>\n      <td>0.833333</td>\n      <td>NaN</td>\n      <td>0.500000</td>\n      <td>0.591667</td>\n      <td>0.818182</td>\n      <td>0.000000</td>\n      <td>0.857143</td>\n      <td>0.500000</td>\n    </tr>\n    <tr>\n      <th>6</th>\n      <td>NaN</td>\n      <td>0.666667</td>\n      <td>0.750000</td>\n      <td>1.000000</td>\n      <td>NaN</td>\n      <td>0.500000</td>\n      <td>1.000000</td>\n      <td>0.500000</td>\n      <td>0.500000</td>\n      <td>1.000000</td>\n      <td>...</td>\n      <td>0.625000</td>\n      <td>0.833333</td>\n      <td>0.833333</td>\n      <td>NaN</td>\n      <td>0.904762</td>\n      <td>0.863533</td>\n      <td>0.000000</td>\n      <td>1.000000</td>\n      <td>NaN</td>\n      <td>0.900000</td>\n    </tr>\n    <tr>\n      <th>7</th>\n      <td>0.750000</td>\n      <td>0.375000</td>\n      <td>0.000000</td>\n      <td>1.000000</td>\n      <td>0.500000</td>\n      <td>0.000000</td>\n      <td>1.000000</td>\n      <td>0.375000</td>\n      <td>0.333333</td>\n      <td>0.500000</td>\n      <td>...</td>\n      <td>0.166667</td>\n      <td>0.916667</td>\n      <td>0.437500</td>\n      <td>0.500000</td>\n      <td>0.500000</td>\n      <td>0.577381</td>\n      <td>1.000000</td>\n      <td>0.750000</td>\n      <td>0.250000</td>\n      <td>1.000000</td>\n    </tr>\n    <tr>\n      <th>8</th>\n      <td>NaN</td>\n      <td>1.000000</td>\n      <td>0.875000</td>\n      <td>0.555556</td>\n      <td>1.000000</td>\n      <td>1.000000</td>\n      <td>0.625000</td>\n      <td>1.000000</td>\n      <td>0.000000</td>\n      <td>0.555556</td>\n      <td>...</td>\n      <td>1.000000</td>\n      <td>0.916667</td>\n      <td>0.875000</td>\n      <td>0.833333</td>\n      <td>NaN</td>\n      <td>0.774691</td>\n      <td>0.571429</td>\n      <td>1.000000</td>\n      <td>1.000000</td>\n      <td>0.333333</td>\n    </tr>\n    <tr>\n      <th>9</th>\n      <td>0.750000</td>\n      <td>0.857143</td>\n      <td>0.833333</td>\n      <td>0.750000</td>\n      <td>0.333333</td>\n      <td>NaN</td>\n      <td>NaN</td>\n      <td>NaN</td>\n      <td>0.857143</td>\n      <td>0.000000</td>\n      <td>...</td>\n      <td>0.928571</td>\n      <td>0.766667</td>\n      <td>0.694444</td>\n      <td>1.000000</td>\n      <td>1.000000</td>\n      <td>0.774892</td>\n      <td>0.500000</td>\n      <td>1.000000</td>\n      <td>0.916667</td>\n      <td>0.888889</td>\n    </tr>\n    <tr>\n      <th>10</th>\n      <td>0.033333</td>\n      <td>1.000000</td>\n      <td>0.125000</td>\n      <td>0.062500</td>\n      <td>NaN</td>\n      <td>NaN</td>\n      <td>NaN</td>\n      <td>NaN</td>\n      <td>0.500000</td>\n      <td>NaN</td>\n      <td>...</td>\n      <td>0.750000</td>\n      <td>0.549020</td>\n      <td>0.519048</td>\n      <td>NaN</td>\n      <td>0.500000</td>\n      <td>0.392300</td>\n      <td>NaN</td>\n      <td>1.000000</td>\n      <td>0.060606</td>\n      <td>1.000000</td>\n    </tr>\n    <tr>\n      <th>11</th>\n      <td>0.500000</td>\n      <td>0.366667</td>\n      <td>0.250000</td>\n      <td>1.000000</td>\n      <td>0.666667</td>\n      <td>0.500000</td>\n      <td>1.000000</td>\n      <td>0.583333</td>\n      <td>0.833333</td>\n      <td>0.000000</td>\n      <td>...</td>\n      <td>0.500000</td>\n      <td>0.546296</td>\n      <td>0.562500</td>\n      <td>1.000000</td>\n      <td>0.166667</td>\n      <td>0.681122</td>\n      <td>0.000000</td>\n      <td>0.400000</td>\n      <td>1.000000</td>\n      <td>0.857143</td>\n    </tr>\n    <tr>\n      <th>12</th>\n      <td>0.800000</td>\n      <td>0.400000</td>\n      <td>0.700000</td>\n      <td>0.666667</td>\n      <td>1.000000</td>\n      <td>0.666667</td>\n      <td>1.000000</td>\n      <td>0.666667</td>\n      <td>0.500000</td>\n      <td>0.000000</td>\n      <td>...</td>\n      <td>0.700000</td>\n      <td>0.690476</td>\n      <td>0.766369</td>\n      <td>0.600000</td>\n      <td>0.500000</td>\n      <td>0.535897</td>\n      <td>1.000000</td>\n      <td>0.600000</td>\n      <td>0.500000</td>\n      <td>0.666667</td>\n    </tr>\n    <tr>\n      <th>13</th>\n      <td>0.857143</td>\n      <td>0.701389</td>\n      <td>0.125000</td>\n      <td>1.000000</td>\n      <td>1.000000</td>\n      <td>0.428571</td>\n      <td>NaN</td>\n      <td>0.614286</td>\n      <td>NaN</td>\n      <td>0.200000</td>\n      <td>...</td>\n      <td>0.397727</td>\n      <td>0.486111</td>\n      <td>0.809524</td>\n      <td>1.000000</td>\n      <td>0.000000</td>\n      <td>0.484186</td>\n      <td>0.500000</td>\n      <td>0.777778</td>\n      <td>0.250000</td>\n      <td>0.333333</td>\n    </tr>\n    <tr>\n      <th>14</th>\n      <td>NaN</td>\n      <td>0.750000</td>\n      <td>0.875000</td>\n      <td>0.500000</td>\n      <td>NaN</td>\n      <td>NaN</td>\n      <td>NaN</td>\n      <td>NaN</td>\n      <td>0.833333</td>\n      <td>0.500000</td>\n      <td>...</td>\n      <td>0.666667</td>\n      <td>0.944444</td>\n      <td>0.800000</td>\n      <td>NaN</td>\n      <td>1.000000</td>\n      <td>0.819444</td>\n      <td>1.000000</td>\n      <td>1.000000</td>\n      <td>NaN</td>\n      <td>1.000000</td>\n    </tr>\n    <tr>\n      <th>15</th>\n      <td>1.000000</td>\n      <td>0.750000</td>\n      <td>0.250000</td>\n      <td>NaN</td>\n      <td>NaN</td>\n      <td>0.000000</td>\n      <td>1.000000</td>\n      <td>0.500000</td>\n      <td>0.000000</td>\n      <td>NaN</td>\n      <td>...</td>\n      <td>0.750000</td>\n      <td>0.833333</td>\n      <td>0.805556</td>\n      <td>1.000000</td>\n      <td>1.000000</td>\n      <td>0.725556</td>\n      <td>0.000000</td>\n      <td>1.000000</td>\n      <td>1.000000</td>\n      <td>1.000000</td>\n    </tr>\n    <tr>\n      <th>16</th>\n      <td>NaN</td>\n      <td>0.416667</td>\n      <td>0.508333</td>\n      <td>0.800000</td>\n      <td>NaN</td>\n      <td>0.750000</td>\n      <td>0.777778</td>\n      <td>0.750000</td>\n      <td>0.666667</td>\n      <td>0.454545</td>\n      <td>...</td>\n      <td>0.666667</td>\n      <td>0.800000</td>\n      <td>0.900000</td>\n      <td>1.000000</td>\n      <td>0.666667</td>\n      <td>0.699343</td>\n      <td>0.750000</td>\n      <td>0.333333</td>\n      <td>NaN</td>\n      <td>0.333333</td>\n    </tr>\n  </tbody>\n</table>\n<p>16 rows × 931 columns</p>\n</div>"
     },
     "metadata": {},
     "execution_count": 57
    }
   ],
   "source": [
    "df = pd.read_csv('data.csv')\n",
    "df= pd.pivot_table(df,index=\"user_id\", columns='vocab', values='correctAvg')\n",
    "df"
   ]
  },
  {
   "cell_type": "code",
   "execution_count": 58,
   "metadata": {},
   "outputs": [
    {
     "output_type": "execute_result",
     "data": {
      "text/plain": [
       "user_id\n",
       "1     0.758599\n",
       "2     0.634039\n",
       "3     0.443688\n",
       "4     0.755568\n",
       "5     0.657479\n",
       "6     0.758572\n",
       "7     0.554317\n",
       "8     0.834630\n",
       "9     0.795193\n",
       "10    0.460471\n",
       "11    0.580284\n",
       "12    0.597120\n",
       "13    0.570646\n",
       "14    0.822735\n",
       "15    0.806389\n",
       "16    0.738772\n",
       "dtype: float64"
      ]
     },
     "metadata": {},
     "execution_count": 58
    }
   ],
   "source": [
    "df = df.transpose()\n",
    "series=df.mean()\n",
    "(series)"
   ]
  },
  {
   "cell_type": "code",
   "execution_count": 59,
   "metadata": {},
   "outputs": [],
   "source": [
    "num=0"
   ]
  },
  {
   "cell_type": "code",
   "execution_count": 60,
   "metadata": {},
   "outputs": [],
   "source": [
    "def add():\n",
    "    global num\n",
    "    num+=1\n",
    "    return num\n",
    "        "
   ]
  },
  {
   "cell_type": "code",
   "execution_count": 61,
   "metadata": {},
   "outputs": [],
   "source": [
    "import numpy as np"
   ]
  },
  {
   "cell_type": "code",
   "execution_count": 62,
   "metadata": {},
   "outputs": [
    {
     "output_type": "execute_result",
     "data": {
      "text/plain": [
       "user_id\n",
       "1     0.758599\n",
       "2     0.634039\n",
       "3     0.443688\n",
       "4     0.755568\n",
       "5     0.657479\n",
       "6     0.758572\n",
       "7     0.554317\n",
       "8     0.834630\n",
       "9     0.795193\n",
       "10    0.460471\n",
       "11    0.580284\n",
       "12    0.597120\n",
       "13    0.570646\n",
       "14    0.822735\n",
       "15    0.806389\n",
       "16    0.738772\n",
       "dtype: float64"
      ]
     },
     "metadata": {},
     "execution_count": 62
    }
   ],
   "source": [
    "series"
   ]
  },
  {
   "cell_type": "code",
   "execution_count": 64,
   "metadata": {},
   "outputs": [],
   "source": [
    "df=df.transpose()"
   ]
  },
  {
   "cell_type": "code",
   "execution_count": 65,
   "metadata": {
    "tags": []
   },
   "outputs": [
    {
     "output_type": "execute_result",
     "data": {
      "text/plain": [
       "vocab           &   ability      able  aboutthe  absolutely    access  \\\n",
       "user_id                                                                 \n",
       "1        1.000000  0.750000  0.857143  1.000000    1.000000  0.758599   \n",
       "2        1.000000  0.416667  0.600000  1.000000    1.000000  0.666667   \n",
       "3        0.571429  0.285714  0.666667  0.200000    0.443688  0.500000   \n",
       "4        1.000000  0.755568  0.755568  0.755568    0.755568  1.000000   \n",
       "5        0.657479  0.250000  0.000000  0.657479    0.657479  0.666667   \n",
       "6        0.758572  0.666667  0.750000  1.000000    0.758572  0.500000   \n",
       "7        0.750000  0.375000  0.000000  1.000000    0.500000  0.000000   \n",
       "8        0.834630  1.000000  0.875000  0.555556    1.000000  1.000000   \n",
       "9        0.750000  0.857143  0.833333  0.750000    0.333333  0.795193   \n",
       "10       0.033333  1.000000  0.125000  0.062500    0.460471  0.460471   \n",
       "11       0.500000  0.366667  0.250000  1.000000    0.666667  0.500000   \n",
       "12       0.800000  0.400000  0.700000  0.666667    1.000000  0.666667   \n",
       "13       0.857143  0.701389  0.125000  1.000000    1.000000  0.428571   \n",
       "14       0.822735  0.750000  0.875000  0.500000    0.822735  0.822735   \n",
       "15       1.000000  0.750000  0.250000  0.806389    0.806389  0.000000   \n",
       "16       0.738772  0.416667  0.508333  0.800000    0.738772  0.750000   \n",
       "\n",
       "vocab      accord   account  accounting  acquaintance  ...  workshop  \\\n",
       "user_id                                                ...             \n",
       "1        0.758599  0.777778    1.000000      0.200000  ...  1.000000   \n",
       "2        1.000000  0.583333    0.571429      0.400000  ...  0.500000   \n",
       "3        1.000000  0.500000    0.443688      0.222222  ...  0.500000   \n",
       "4        0.755568  1.000000    0.500000      0.666667  ...  1.000000   \n",
       "5        1.000000  0.666667    0.657479      0.500000  ...  0.657479   \n",
       "6        1.000000  0.500000    0.500000      1.000000  ...  0.625000   \n",
       "7        1.000000  0.375000    0.333333      0.500000  ...  0.166667   \n",
       "8        0.625000  1.000000    0.000000      0.555556  ...  1.000000   \n",
       "9        0.795193  0.795193    0.857143      0.000000  ...  0.928571   \n",
       "10       0.460471  0.460471    0.500000      0.460471  ...  0.750000   \n",
       "11       1.000000  0.583333    0.833333      0.000000  ...  0.500000   \n",
       "12       1.000000  0.666667    0.500000      0.000000  ...  0.700000   \n",
       "13       0.570646  0.614286    0.570646      0.200000  ...  0.397727   \n",
       "14       0.822735  0.822735    0.833333      0.500000  ...  0.666667   \n",
       "15       1.000000  0.500000    0.000000      0.806389  ...  0.750000   \n",
       "16       0.777778  0.750000    0.666667      0.454545  ...  0.666667   \n",
       "\n",
       "vocab       world     would     write    writer      year       yib      yoko  \\\n",
       "user_id                                                                         \n",
       "1        0.909091  0.838889  1.000000  1.000000  0.833333  0.800000  1.000000   \n",
       "2        0.328571  0.791667  0.500000  0.600000  0.642963  0.500000  0.333333   \n",
       "3        0.516667  0.444444  0.444444  0.000000  0.483157  0.800000  0.285714   \n",
       "4        0.755568  0.755568  0.755568  0.200000  0.688810  0.500000  0.755568   \n",
       "5        0.500000  0.833333  0.657479  0.500000  0.591667  0.818182  0.000000   \n",
       "6        0.833333  0.833333  0.758572  0.904762  0.863533  0.000000  1.000000   \n",
       "7        0.916667  0.437500  0.500000  0.500000  0.577381  1.000000  0.750000   \n",
       "8        0.916667  0.875000  0.833333  0.834630  0.774691  0.571429  1.000000   \n",
       "9        0.766667  0.694444  1.000000  1.000000  0.774892  0.500000  1.000000   \n",
       "10       0.549020  0.519048  0.460471  0.500000  0.392300  0.460471  1.000000   \n",
       "11       0.546296  0.562500  1.000000  0.166667  0.681122  0.000000  0.400000   \n",
       "12       0.690476  0.766369  0.600000  0.500000  0.535897  1.000000  0.600000   \n",
       "13       0.486111  0.809524  1.000000  0.000000  0.484186  0.500000  0.777778   \n",
       "14       0.944444  0.800000  0.822735  1.000000  0.819444  1.000000  1.000000   \n",
       "15       0.833333  0.805556  1.000000  1.000000  0.725556  0.000000  1.000000   \n",
       "16       0.800000  0.900000  1.000000  0.666667  0.699343  0.750000  0.333333   \n",
       "\n",
       "vocab       young       yun  \n",
       "user_id                      \n",
       "1        1.000000  0.750000  \n",
       "2        1.000000  0.666667  \n",
       "3        0.443688  0.500000  \n",
       "4        0.755568  1.000000  \n",
       "5        0.857143  0.500000  \n",
       "6        0.758572  0.900000  \n",
       "7        0.250000  1.000000  \n",
       "8        1.000000  0.333333  \n",
       "9        0.916667  0.888889  \n",
       "10       0.060606  1.000000  \n",
       "11       1.000000  0.857143  \n",
       "12       0.500000  0.666667  \n",
       "13       0.250000  0.333333  \n",
       "14       0.822735  1.000000  \n",
       "15       1.000000  1.000000  \n",
       "16       0.738772  0.333333  \n",
       "\n",
       "[16 rows x 931 columns]"
      ],
      "text/html": "<div>\n<style scoped>\n    .dataframe tbody tr th:only-of-type {\n        vertical-align: middle;\n    }\n\n    .dataframe tbody tr th {\n        vertical-align: top;\n    }\n\n    .dataframe thead th {\n        text-align: right;\n    }\n</style>\n<table border=\"1\" class=\"dataframe\">\n  <thead>\n    <tr style=\"text-align: right;\">\n      <th>vocab</th>\n      <th>&amp;</th>\n      <th>ability</th>\n      <th>able</th>\n      <th>aboutthe</th>\n      <th>absolutely</th>\n      <th>access</th>\n      <th>accord</th>\n      <th>account</th>\n      <th>accounting</th>\n      <th>acquaintance</th>\n      <th>...</th>\n      <th>workshop</th>\n      <th>world</th>\n      <th>would</th>\n      <th>write</th>\n      <th>writer</th>\n      <th>year</th>\n      <th>yib</th>\n      <th>yoko</th>\n      <th>young</th>\n      <th>yun</th>\n    </tr>\n    <tr>\n      <th>user_id</th>\n      <th></th>\n      <th></th>\n      <th></th>\n      <th></th>\n      <th></th>\n      <th></th>\n      <th></th>\n      <th></th>\n      <th></th>\n      <th></th>\n      <th></th>\n      <th></th>\n      <th></th>\n      <th></th>\n      <th></th>\n      <th></th>\n      <th></th>\n      <th></th>\n      <th></th>\n      <th></th>\n      <th></th>\n    </tr>\n  </thead>\n  <tbody>\n    <tr>\n      <th>1</th>\n      <td>1.000000</td>\n      <td>0.750000</td>\n      <td>0.857143</td>\n      <td>1.000000</td>\n      <td>1.000000</td>\n      <td>0.758599</td>\n      <td>0.758599</td>\n      <td>0.777778</td>\n      <td>1.000000</td>\n      <td>0.200000</td>\n      <td>...</td>\n      <td>1.000000</td>\n      <td>0.909091</td>\n      <td>0.838889</td>\n      <td>1.000000</td>\n      <td>1.000000</td>\n      <td>0.833333</td>\n      <td>0.800000</td>\n      <td>1.000000</td>\n      <td>1.000000</td>\n      <td>0.750000</td>\n    </tr>\n    <tr>\n      <th>2</th>\n      <td>1.000000</td>\n      <td>0.416667</td>\n      <td>0.600000</td>\n      <td>1.000000</td>\n      <td>1.000000</td>\n      <td>0.666667</td>\n      <td>1.000000</td>\n      <td>0.583333</td>\n      <td>0.571429</td>\n      <td>0.400000</td>\n      <td>...</td>\n      <td>0.500000</td>\n      <td>0.328571</td>\n      <td>0.791667</td>\n      <td>0.500000</td>\n      <td>0.600000</td>\n      <td>0.642963</td>\n      <td>0.500000</td>\n      <td>0.333333</td>\n      <td>1.000000</td>\n      <td>0.666667</td>\n    </tr>\n    <tr>\n      <th>3</th>\n      <td>0.571429</td>\n      <td>0.285714</td>\n      <td>0.666667</td>\n      <td>0.200000</td>\n      <td>0.443688</td>\n      <td>0.500000</td>\n      <td>1.000000</td>\n      <td>0.500000</td>\n      <td>0.443688</td>\n      <td>0.222222</td>\n      <td>...</td>\n      <td>0.500000</td>\n      <td>0.516667</td>\n      <td>0.444444</td>\n      <td>0.444444</td>\n      <td>0.000000</td>\n      <td>0.483157</td>\n      <td>0.800000</td>\n      <td>0.285714</td>\n      <td>0.443688</td>\n      <td>0.500000</td>\n    </tr>\n    <tr>\n      <th>4</th>\n      <td>1.000000</td>\n      <td>0.755568</td>\n      <td>0.755568</td>\n      <td>0.755568</td>\n      <td>0.755568</td>\n      <td>1.000000</td>\n      <td>0.755568</td>\n      <td>1.000000</td>\n      <td>0.500000</td>\n      <td>0.666667</td>\n      <td>...</td>\n      <td>1.000000</td>\n      <td>0.755568</td>\n      <td>0.755568</td>\n      <td>0.755568</td>\n      <td>0.200000</td>\n      <td>0.688810</td>\n      <td>0.500000</td>\n      <td>0.755568</td>\n      <td>0.755568</td>\n      <td>1.000000</td>\n    </tr>\n    <tr>\n      <th>5</th>\n      <td>0.657479</td>\n      <td>0.250000</td>\n      <td>0.000000</td>\n      <td>0.657479</td>\n      <td>0.657479</td>\n      <td>0.666667</td>\n      <td>1.000000</td>\n      <td>0.666667</td>\n      <td>0.657479</td>\n      <td>0.500000</td>\n      <td>...</td>\n      <td>0.657479</td>\n      <td>0.500000</td>\n      <td>0.833333</td>\n      <td>0.657479</td>\n      <td>0.500000</td>\n      <td>0.591667</td>\n      <td>0.818182</td>\n      <td>0.000000</td>\n      <td>0.857143</td>\n      <td>0.500000</td>\n    </tr>\n    <tr>\n      <th>6</th>\n      <td>0.758572</td>\n      <td>0.666667</td>\n      <td>0.750000</td>\n      <td>1.000000</td>\n      <td>0.758572</td>\n      <td>0.500000</td>\n      <td>1.000000</td>\n      <td>0.500000</td>\n      <td>0.500000</td>\n      <td>1.000000</td>\n      <td>...</td>\n      <td>0.625000</td>\n      <td>0.833333</td>\n      <td>0.833333</td>\n      <td>0.758572</td>\n      <td>0.904762</td>\n      <td>0.863533</td>\n      <td>0.000000</td>\n      <td>1.000000</td>\n      <td>0.758572</td>\n      <td>0.900000</td>\n    </tr>\n    <tr>\n      <th>7</th>\n      <td>0.750000</td>\n      <td>0.375000</td>\n      <td>0.000000</td>\n      <td>1.000000</td>\n      <td>0.500000</td>\n      <td>0.000000</td>\n      <td>1.000000</td>\n      <td>0.375000</td>\n      <td>0.333333</td>\n      <td>0.500000</td>\n      <td>...</td>\n      <td>0.166667</td>\n      <td>0.916667</td>\n      <td>0.437500</td>\n      <td>0.500000</td>\n      <td>0.500000</td>\n      <td>0.577381</td>\n      <td>1.000000</td>\n      <td>0.750000</td>\n      <td>0.250000</td>\n      <td>1.000000</td>\n    </tr>\n    <tr>\n      <th>8</th>\n      <td>0.834630</td>\n      <td>1.000000</td>\n      <td>0.875000</td>\n      <td>0.555556</td>\n      <td>1.000000</td>\n      <td>1.000000</td>\n      <td>0.625000</td>\n      <td>1.000000</td>\n      <td>0.000000</td>\n      <td>0.555556</td>\n      <td>...</td>\n      <td>1.000000</td>\n      <td>0.916667</td>\n      <td>0.875000</td>\n      <td>0.833333</td>\n      <td>0.834630</td>\n      <td>0.774691</td>\n      <td>0.571429</td>\n      <td>1.000000</td>\n      <td>1.000000</td>\n      <td>0.333333</td>\n    </tr>\n    <tr>\n      <th>9</th>\n      <td>0.750000</td>\n      <td>0.857143</td>\n      <td>0.833333</td>\n      <td>0.750000</td>\n      <td>0.333333</td>\n      <td>0.795193</td>\n      <td>0.795193</td>\n      <td>0.795193</td>\n      <td>0.857143</td>\n      <td>0.000000</td>\n      <td>...</td>\n      <td>0.928571</td>\n      <td>0.766667</td>\n      <td>0.694444</td>\n      <td>1.000000</td>\n      <td>1.000000</td>\n      <td>0.774892</td>\n      <td>0.500000</td>\n      <td>1.000000</td>\n      <td>0.916667</td>\n      <td>0.888889</td>\n    </tr>\n    <tr>\n      <th>10</th>\n      <td>0.033333</td>\n      <td>1.000000</td>\n      <td>0.125000</td>\n      <td>0.062500</td>\n      <td>0.460471</td>\n      <td>0.460471</td>\n      <td>0.460471</td>\n      <td>0.460471</td>\n      <td>0.500000</td>\n      <td>0.460471</td>\n      <td>...</td>\n      <td>0.750000</td>\n      <td>0.549020</td>\n      <td>0.519048</td>\n      <td>0.460471</td>\n      <td>0.500000</td>\n      <td>0.392300</td>\n      <td>0.460471</td>\n      <td>1.000000</td>\n      <td>0.060606</td>\n      <td>1.000000</td>\n    </tr>\n    <tr>\n      <th>11</th>\n      <td>0.500000</td>\n      <td>0.366667</td>\n      <td>0.250000</td>\n      <td>1.000000</td>\n      <td>0.666667</td>\n      <td>0.500000</td>\n      <td>1.000000</td>\n      <td>0.583333</td>\n      <td>0.833333</td>\n      <td>0.000000</td>\n      <td>...</td>\n      <td>0.500000</td>\n      <td>0.546296</td>\n      <td>0.562500</td>\n      <td>1.000000</td>\n      <td>0.166667</td>\n      <td>0.681122</td>\n      <td>0.000000</td>\n      <td>0.400000</td>\n      <td>1.000000</td>\n      <td>0.857143</td>\n    </tr>\n    <tr>\n      <th>12</th>\n      <td>0.800000</td>\n      <td>0.400000</td>\n      <td>0.700000</td>\n      <td>0.666667</td>\n      <td>1.000000</td>\n      <td>0.666667</td>\n      <td>1.000000</td>\n      <td>0.666667</td>\n      <td>0.500000</td>\n      <td>0.000000</td>\n      <td>...</td>\n      <td>0.700000</td>\n      <td>0.690476</td>\n      <td>0.766369</td>\n      <td>0.600000</td>\n      <td>0.500000</td>\n      <td>0.535897</td>\n      <td>1.000000</td>\n      <td>0.600000</td>\n      <td>0.500000</td>\n      <td>0.666667</td>\n    </tr>\n    <tr>\n      <th>13</th>\n      <td>0.857143</td>\n      <td>0.701389</td>\n      <td>0.125000</td>\n      <td>1.000000</td>\n      <td>1.000000</td>\n      <td>0.428571</td>\n      <td>0.570646</td>\n      <td>0.614286</td>\n      <td>0.570646</td>\n      <td>0.200000</td>\n      <td>...</td>\n      <td>0.397727</td>\n      <td>0.486111</td>\n      <td>0.809524</td>\n      <td>1.000000</td>\n      <td>0.000000</td>\n      <td>0.484186</td>\n      <td>0.500000</td>\n      <td>0.777778</td>\n      <td>0.250000</td>\n      <td>0.333333</td>\n    </tr>\n    <tr>\n      <th>14</th>\n      <td>0.822735</td>\n      <td>0.750000</td>\n      <td>0.875000</td>\n      <td>0.500000</td>\n      <td>0.822735</td>\n      <td>0.822735</td>\n      <td>0.822735</td>\n      <td>0.822735</td>\n      <td>0.833333</td>\n      <td>0.500000</td>\n      <td>...</td>\n      <td>0.666667</td>\n      <td>0.944444</td>\n      <td>0.800000</td>\n      <td>0.822735</td>\n      <td>1.000000</td>\n      <td>0.819444</td>\n      <td>1.000000</td>\n      <td>1.000000</td>\n      <td>0.822735</td>\n      <td>1.000000</td>\n    </tr>\n    <tr>\n      <th>15</th>\n      <td>1.000000</td>\n      <td>0.750000</td>\n      <td>0.250000</td>\n      <td>0.806389</td>\n      <td>0.806389</td>\n      <td>0.000000</td>\n      <td>1.000000</td>\n      <td>0.500000</td>\n      <td>0.000000</td>\n      <td>0.806389</td>\n      <td>...</td>\n      <td>0.750000</td>\n      <td>0.833333</td>\n      <td>0.805556</td>\n      <td>1.000000</td>\n      <td>1.000000</td>\n      <td>0.725556</td>\n      <td>0.000000</td>\n      <td>1.000000</td>\n      <td>1.000000</td>\n      <td>1.000000</td>\n    </tr>\n    <tr>\n      <th>16</th>\n      <td>0.738772</td>\n      <td>0.416667</td>\n      <td>0.508333</td>\n      <td>0.800000</td>\n      <td>0.738772</td>\n      <td>0.750000</td>\n      <td>0.777778</td>\n      <td>0.750000</td>\n      <td>0.666667</td>\n      <td>0.454545</td>\n      <td>...</td>\n      <td>0.666667</td>\n      <td>0.800000</td>\n      <td>0.900000</td>\n      <td>1.000000</td>\n      <td>0.666667</td>\n      <td>0.699343</td>\n      <td>0.750000</td>\n      <td>0.333333</td>\n      <td>0.738772</td>\n      <td>0.333333</td>\n    </tr>\n  </tbody>\n</table>\n<p>16 rows × 931 columns</p>\n</div>"
     },
     "metadata": {},
     "execution_count": 65
    }
   ],
   "source": [
    "newdf=df.apply(lambda x:  x.fillna(series[add()]),axis=1)\n",
    "newdf"
   ]
  },
  {
   "cell_type": "code",
   "execution_count": 66,
   "metadata": {},
   "outputs": [],
   "source": [
    "newdf.to_csv('vocabmf.csv')"
   ]
  },
  {
   "cell_type": "code",
   "execution_count": 67,
   "metadata": {},
   "outputs": [],
   "source": [
    "arr_newdf=newdf.to_numpy()\n"
   ]
  },
  {
   "cell_type": "code",
   "execution_count": 38,
   "metadata": {},
   "outputs": [],
   "source": [
    "from sklearn.decomposition import NMF"
   ]
  },
  {
   "cell_type": "code",
   "execution_count": 39,
   "metadata": {},
   "outputs": [],
   "source": [
    "k=2\n",
    "model =NMF(n_components=k)\n",
    "Q= model.fit_transform(arr_newdf)\n",
    "P=model.components_"
   ]
  },
  {
   "cell_type": "code",
   "execution_count": 40,
   "metadata": {},
   "outputs": [
    {
     "output_type": "execute_result",
     "data": {
      "text/plain": [
       "     factor1   factor2\n",
       "0   0.172262  2.391194\n",
       "1   0.348623  1.841298\n",
       "2   0.519972  1.041362\n",
       "3   0.694533  2.197237\n",
       "4   0.860066  1.416980\n",
       "5   1.020954  1.553835\n",
       "6   1.229739  0.747316\n",
       "7   1.374742  1.523445\n",
       "8   1.559022  1.382591\n",
       "9   1.754016  0.305799\n",
       "10  1.917708  0.319791\n",
       "11  2.076296  0.179249\n",
       "12  2.253674  0.033581\n",
       "13  2.408116  0.463711\n",
       "14  2.580189  0.393870\n",
       "15  2.743036  0.000000"
      ],
      "text/html": "<div>\n<style scoped>\n    .dataframe tbody tr th:only-of-type {\n        vertical-align: middle;\n    }\n\n    .dataframe tbody tr th {\n        vertical-align: top;\n    }\n\n    .dataframe thead th {\n        text-align: right;\n    }\n</style>\n<table border=\"1\" class=\"dataframe\">\n  <thead>\n    <tr style=\"text-align: right;\">\n      <th></th>\n      <th>factor1</th>\n      <th>factor2</th>\n    </tr>\n  </thead>\n  <tbody>\n    <tr>\n      <th>0</th>\n      <td>0.172262</td>\n      <td>2.391194</td>\n    </tr>\n    <tr>\n      <th>1</th>\n      <td>0.348623</td>\n      <td>1.841298</td>\n    </tr>\n    <tr>\n      <th>2</th>\n      <td>0.519972</td>\n      <td>1.041362</td>\n    </tr>\n    <tr>\n      <th>3</th>\n      <td>0.694533</td>\n      <td>2.197237</td>\n    </tr>\n    <tr>\n      <th>4</th>\n      <td>0.860066</td>\n      <td>1.416980</td>\n    </tr>\n    <tr>\n      <th>5</th>\n      <td>1.020954</td>\n      <td>1.553835</td>\n    </tr>\n    <tr>\n      <th>6</th>\n      <td>1.229739</td>\n      <td>0.747316</td>\n    </tr>\n    <tr>\n      <th>7</th>\n      <td>1.374742</td>\n      <td>1.523445</td>\n    </tr>\n    <tr>\n      <th>8</th>\n      <td>1.559022</td>\n      <td>1.382591</td>\n    </tr>\n    <tr>\n      <th>9</th>\n      <td>1.754016</td>\n      <td>0.305799</td>\n    </tr>\n    <tr>\n      <th>10</th>\n      <td>1.917708</td>\n      <td>0.319791</td>\n    </tr>\n    <tr>\n      <th>11</th>\n      <td>2.076296</td>\n      <td>0.179249</td>\n    </tr>\n    <tr>\n      <th>12</th>\n      <td>2.253674</td>\n      <td>0.033581</td>\n    </tr>\n    <tr>\n      <th>13</th>\n      <td>2.408116</td>\n      <td>0.463711</td>\n    </tr>\n    <tr>\n      <th>14</th>\n      <td>2.580189</td>\n      <td>0.393870</td>\n    </tr>\n    <tr>\n      <th>15</th>\n      <td>2.743036</td>\n      <td>0.000000</td>\n    </tr>\n  </tbody>\n</table>\n</div>"
     },
     "metadata": {},
     "execution_count": 40
    }
   ],
   "source": [
    "pd.DataFrame(Q, columns=[\"factor1\", \"factor2\"])"
   ]
  },
  {
   "cell_type": "code",
   "execution_count": 41,
   "metadata": {},
   "outputs": [
    {
     "output_type": "execute_result",
     "data": {
      "text/plain": [
       "                0         1         2         3         4         5    \\\n",
       "factor1-1  5.788604  0.330735  0.284615  0.279888  0.344748  0.309416   \n",
       "factor2-1  0.000000  0.217591  0.270651  0.174017  0.291704  0.220511   \n",
       "\n",
       "                6         7         8         9    ...       141       142  \\\n",
       "factor1-1  0.282693  0.236049  0.360212  0.372323  ...  0.137163  0.203066   \n",
       "factor2-1  0.199708  0.243470  0.243127  0.301162  ...  0.343143  0.356096   \n",
       "\n",
       "                143       144       145       146       147       148  \\\n",
       "factor1-1  0.240998  0.279428  0.347611  0.283994  0.299284  0.320745   \n",
       "factor2-1  0.318139  0.221386  0.322271  0.286890  0.285608  0.282534   \n",
       "\n",
       "                149       150  \n",
       "factor1-1  0.203497  0.273971  \n",
       "factor2-1  0.305973  0.277611  \n",
       "\n",
       "[2 rows x 151 columns]"
      ],
      "text/html": "<div>\n<style scoped>\n    .dataframe tbody tr th:only-of-type {\n        vertical-align: middle;\n    }\n\n    .dataframe tbody tr th {\n        vertical-align: top;\n    }\n\n    .dataframe thead th {\n        text-align: right;\n    }\n</style>\n<table border=\"1\" class=\"dataframe\">\n  <thead>\n    <tr style=\"text-align: right;\">\n      <th></th>\n      <th>0</th>\n      <th>1</th>\n      <th>2</th>\n      <th>3</th>\n      <th>4</th>\n      <th>5</th>\n      <th>6</th>\n      <th>7</th>\n      <th>8</th>\n      <th>9</th>\n      <th>...</th>\n      <th>141</th>\n      <th>142</th>\n      <th>143</th>\n      <th>144</th>\n      <th>145</th>\n      <th>146</th>\n      <th>147</th>\n      <th>148</th>\n      <th>149</th>\n      <th>150</th>\n    </tr>\n  </thead>\n  <tbody>\n    <tr>\n      <th>factor1-1</th>\n      <td>5.788604</td>\n      <td>0.330735</td>\n      <td>0.284615</td>\n      <td>0.279888</td>\n      <td>0.344748</td>\n      <td>0.309416</td>\n      <td>0.282693</td>\n      <td>0.236049</td>\n      <td>0.360212</td>\n      <td>0.372323</td>\n      <td>...</td>\n      <td>0.137163</td>\n      <td>0.203066</td>\n      <td>0.240998</td>\n      <td>0.279428</td>\n      <td>0.347611</td>\n      <td>0.283994</td>\n      <td>0.299284</td>\n      <td>0.320745</td>\n      <td>0.203497</td>\n      <td>0.273971</td>\n    </tr>\n    <tr>\n      <th>factor2-1</th>\n      <td>0.000000</td>\n      <td>0.217591</td>\n      <td>0.270651</td>\n      <td>0.174017</td>\n      <td>0.291704</td>\n      <td>0.220511</td>\n      <td>0.199708</td>\n      <td>0.243470</td>\n      <td>0.243127</td>\n      <td>0.301162</td>\n      <td>...</td>\n      <td>0.343143</td>\n      <td>0.356096</td>\n      <td>0.318139</td>\n      <td>0.221386</td>\n      <td>0.322271</td>\n      <td>0.286890</td>\n      <td>0.285608</td>\n      <td>0.282534</td>\n      <td>0.305973</td>\n      <td>0.277611</td>\n    </tr>\n  </tbody>\n</table>\n<p>2 rows × 151 columns</p>\n</div>"
     },
     "metadata": {},
     "execution_count": 41
    }
   ],
   "source": [
    "pd.DataFrame(P, index=['factor1-1','factor2-1'])"
   ]
  },
  {
   "cell_type": "code",
   "execution_count": 42,
   "metadata": {},
   "outputs": [
    {
     "output_type": "execute_result",
     "data": {
      "text/plain": [
       "          0         1         2         3         4         5         6    \\\n",
       "0    0.997157  0.577276  0.696207  0.464322  0.756908  0.580586  0.526238   \n",
       "1    2.018039  0.515952  0.597572  0.417992  0.657301  0.513897  0.466276   \n",
       "2    3.009913  0.398564  0.429837  0.326748  0.483029  0.390520  0.354961   \n",
       "3    4.020374  0.707806  0.792359  0.576748  0.880382  0.699416  0.635146   \n",
       "4    4.978579  0.592776  0.628294  0.487300  0.709845  0.578579  0.526117   \n",
       "5    5.909900  0.675766  0.711126  0.556146  0.805232  0.658538  0.598931   \n",
       "6    7.118469  0.569327  0.552264  0.474234  0.641945  0.545293  0.496884   \n",
       "7    7.957838  0.786164  0.803594  0.649878  0.918335  0.761305  0.692875   \n",
       "8    9.024561  0.816463  0.817920  0.676945  0.940777  0.787264  0.716840   \n",
       "9   10.153306  0.646654  0.581984  0.544141  0.693896  0.610154  0.556919   \n",
       "10  11.100852  0.703837  0.632360  0.592392  0.754410  0.663888  0.605988   \n",
       "11  12.018855  0.725707  0.639459  0.612322  0.768086  0.681967  0.622752   \n",
       "12  13.045627  0.752676  0.650518  0.636619  0.786745  0.704729  0.643805   \n",
       "13  13.939632  0.897348  0.810890  0.754695  0.965459  0.847364  0.773365   \n",
       "14  14.935694  0.939062  0.840962  0.790703  1.004408  0.885206  0.808061   \n",
       "15  15.878349  0.907219  0.780709  0.767742  0.945656  0.848740  0.775438   \n",
       "\n",
       "         7         8         9    ...       141       142       143       144  \\\n",
       "0   0.622847  0.643415  0.784274  ...  0.844149  0.886474  0.802246  0.577512   \n",
       "1   0.530593  0.573248  0.684329  ...  0.679646  0.726471  0.669806  0.505053   \n",
       "2   0.376280  0.440484  0.507216  ...  0.428657  0.476413  0.456610  0.375838   \n",
       "3   0.698906  0.784387  0.920315  ...  0.849230  0.923463  0.866407  0.680510   \n",
       "4   0.548010  0.654312  0.746963  ...  0.604195  0.679231  0.658070  0.554026   \n",
       "5   0.619308  0.745540  0.848081  ...  0.673224  0.760635  0.740383  0.629281   \n",
       "6   0.472228  0.624660  0.682923  ...  0.425110  0.515834  0.534115  0.509069   \n",
       "7   0.695420  0.865590  0.970652  ...  0.711322  0.821656  0.815977  0.721411   \n",
       "8   0.704625  0.897724  0.996843  ...  0.688266  0.808919  0.815577  0.741720   \n",
       "9   0.488486  0.706166  0.745155  ...  0.345518  0.465075  0.520001  0.557820   \n",
       "10  0.530532  0.768532  0.810316  ...  0.372772  0.503298  0.563902  0.606658   \n",
       "11  0.533749  0.791488  0.827036  ...  0.346298  0.485455  0.557409  0.619858   \n",
       "12  0.540153  0.819966  0.849208  ...  0.320643  0.469603  0.553814  0.637173   \n",
       "13  0.681333  0.980174  1.036249  ...  0.489423  0.654132  0.727876  0.775554   \n",
       "14  0.704946  1.025176  1.079282  ...  0.489059  0.664205  0.747126  0.808174   \n",
       "15  0.647490  0.988075  1.021295  ...  0.376242  0.557018  0.661066  0.766480   \n",
       "\n",
       "         145       146       147       148       149       150  \n",
       "0   0.830492  0.734931  0.734500  0.730847  0.766697  0.711017  \n",
       "1   0.714581  0.627257  0.630227  0.632049  0.634332  0.606678  \n",
       "2   0.516349  0.446426  0.453041  0.460999  0.424442  0.431551  \n",
       "3   0.949533  0.827609  0.835412  0.843563  0.813632  0.800260  \n",
       "4   0.755620  0.650771  0.662105  0.676207  0.608579  0.629003  \n",
       "5   0.855651  0.735725  0.749344  0.766478  0.683194  0.711074  \n",
       "6   0.668309  0.563637  0.581481  0.605575  0.478907  0.544376  \n",
       "7   0.968838  0.827480  0.846547  0.871367  0.745890  0.799565  \n",
       "8   0.987502  0.839405  0.861470  0.890678  0.740293  0.810949  \n",
       "9   0.708266  0.585861  0.612288  0.648990  0.450504  0.565442  \n",
       "10  0.769676  0.636363  0.665274  0.705447  0.488096  0.614174  \n",
       "11  0.779511  0.641081  0.672597  0.716605  0.477366  0.618606  \n",
       "12  0.794225  0.649665  0.684080  0.732342  0.468891  0.626763  \n",
       "13  0.986529  0.816926  0.853151  0.903405  0.631928  0.788485  \n",
       "14  1.023836  0.845757  0.884702  0.938864  0.645575  0.816239  \n",
       "15  0.953510  0.779007  0.820947  0.879815  0.558200  0.751512  \n",
       "\n",
       "[16 rows x 151 columns]"
      ],
      "text/html": "<div>\n<style scoped>\n    .dataframe tbody tr th:only-of-type {\n        vertical-align: middle;\n    }\n\n    .dataframe tbody tr th {\n        vertical-align: top;\n    }\n\n    .dataframe thead th {\n        text-align: right;\n    }\n</style>\n<table border=\"1\" class=\"dataframe\">\n  <thead>\n    <tr style=\"text-align: right;\">\n      <th></th>\n      <th>0</th>\n      <th>1</th>\n      <th>2</th>\n      <th>3</th>\n      <th>4</th>\n      <th>5</th>\n      <th>6</th>\n      <th>7</th>\n      <th>8</th>\n      <th>9</th>\n      <th>...</th>\n      <th>141</th>\n      <th>142</th>\n      <th>143</th>\n      <th>144</th>\n      <th>145</th>\n      <th>146</th>\n      <th>147</th>\n      <th>148</th>\n      <th>149</th>\n      <th>150</th>\n    </tr>\n  </thead>\n  <tbody>\n    <tr>\n      <th>0</th>\n      <td>0.997157</td>\n      <td>0.577276</td>\n      <td>0.696207</td>\n      <td>0.464322</td>\n      <td>0.756908</td>\n      <td>0.580586</td>\n      <td>0.526238</td>\n      <td>0.622847</td>\n      <td>0.643415</td>\n      <td>0.784274</td>\n      <td>...</td>\n      <td>0.844149</td>\n      <td>0.886474</td>\n      <td>0.802246</td>\n      <td>0.577512</td>\n      <td>0.830492</td>\n      <td>0.734931</td>\n      <td>0.734500</td>\n      <td>0.730847</td>\n      <td>0.766697</td>\n      <td>0.711017</td>\n    </tr>\n    <tr>\n      <th>1</th>\n      <td>2.018039</td>\n      <td>0.515952</td>\n      <td>0.597572</td>\n      <td>0.417992</td>\n      <td>0.657301</td>\n      <td>0.513897</td>\n      <td>0.466276</td>\n      <td>0.530593</td>\n      <td>0.573248</td>\n      <td>0.684329</td>\n      <td>...</td>\n      <td>0.679646</td>\n      <td>0.726471</td>\n      <td>0.669806</td>\n      <td>0.505053</td>\n      <td>0.714581</td>\n      <td>0.627257</td>\n      <td>0.630227</td>\n      <td>0.632049</td>\n      <td>0.634332</td>\n      <td>0.606678</td>\n    </tr>\n    <tr>\n      <th>2</th>\n      <td>3.009913</td>\n      <td>0.398564</td>\n      <td>0.429837</td>\n      <td>0.326748</td>\n      <td>0.483029</td>\n      <td>0.390520</td>\n      <td>0.354961</td>\n      <td>0.376280</td>\n      <td>0.440484</td>\n      <td>0.507216</td>\n      <td>...</td>\n      <td>0.428657</td>\n      <td>0.476413</td>\n      <td>0.456610</td>\n      <td>0.375838</td>\n      <td>0.516349</td>\n      <td>0.446426</td>\n      <td>0.453041</td>\n      <td>0.460999</td>\n      <td>0.424442</td>\n      <td>0.431551</td>\n    </tr>\n    <tr>\n      <th>3</th>\n      <td>4.020374</td>\n      <td>0.707806</td>\n      <td>0.792359</td>\n      <td>0.576748</td>\n      <td>0.880382</td>\n      <td>0.699416</td>\n      <td>0.635146</td>\n      <td>0.698906</td>\n      <td>0.784387</td>\n      <td>0.920315</td>\n      <td>...</td>\n      <td>0.849230</td>\n      <td>0.923463</td>\n      <td>0.866407</td>\n      <td>0.680510</td>\n      <td>0.949533</td>\n      <td>0.827609</td>\n      <td>0.835412</td>\n      <td>0.843563</td>\n      <td>0.813632</td>\n      <td>0.800260</td>\n    </tr>\n    <tr>\n      <th>4</th>\n      <td>4.978579</td>\n      <td>0.592776</td>\n      <td>0.628294</td>\n      <td>0.487300</td>\n      <td>0.709845</td>\n      <td>0.578579</td>\n      <td>0.526117</td>\n      <td>0.548010</td>\n      <td>0.654312</td>\n      <td>0.746963</td>\n      <td>...</td>\n      <td>0.604195</td>\n      <td>0.679231</td>\n      <td>0.658070</td>\n      <td>0.554026</td>\n      <td>0.755620</td>\n      <td>0.650771</td>\n      <td>0.662105</td>\n      <td>0.676207</td>\n      <td>0.608579</td>\n      <td>0.629003</td>\n    </tr>\n    <tr>\n      <th>5</th>\n      <td>5.909900</td>\n      <td>0.675766</td>\n      <td>0.711126</td>\n      <td>0.556146</td>\n      <td>0.805232</td>\n      <td>0.658538</td>\n      <td>0.598931</td>\n      <td>0.619308</td>\n      <td>0.745540</td>\n      <td>0.848081</td>\n      <td>...</td>\n      <td>0.673224</td>\n      <td>0.760635</td>\n      <td>0.740383</td>\n      <td>0.629281</td>\n      <td>0.855651</td>\n      <td>0.735725</td>\n      <td>0.749344</td>\n      <td>0.766478</td>\n      <td>0.683194</td>\n      <td>0.711074</td>\n    </tr>\n    <tr>\n      <th>6</th>\n      <td>7.118469</td>\n      <td>0.569327</td>\n      <td>0.552264</td>\n      <td>0.474234</td>\n      <td>0.641945</td>\n      <td>0.545293</td>\n      <td>0.496884</td>\n      <td>0.472228</td>\n      <td>0.624660</td>\n      <td>0.682923</td>\n      <td>...</td>\n      <td>0.425110</td>\n      <td>0.515834</td>\n      <td>0.534115</td>\n      <td>0.509069</td>\n      <td>0.668309</td>\n      <td>0.563637</td>\n      <td>0.581481</td>\n      <td>0.605575</td>\n      <td>0.478907</td>\n      <td>0.544376</td>\n    </tr>\n    <tr>\n      <th>7</th>\n      <td>7.957838</td>\n      <td>0.786164</td>\n      <td>0.803594</td>\n      <td>0.649878</td>\n      <td>0.918335</td>\n      <td>0.761305</td>\n      <td>0.692875</td>\n      <td>0.695420</td>\n      <td>0.865590</td>\n      <td>0.970652</td>\n      <td>...</td>\n      <td>0.711322</td>\n      <td>0.821656</td>\n      <td>0.815977</td>\n      <td>0.721411</td>\n      <td>0.968838</td>\n      <td>0.827480</td>\n      <td>0.846547</td>\n      <td>0.871367</td>\n      <td>0.745890</td>\n      <td>0.799565</td>\n    </tr>\n    <tr>\n      <th>8</th>\n      <td>9.024561</td>\n      <td>0.816463</td>\n      <td>0.817920</td>\n      <td>0.676945</td>\n      <td>0.940777</td>\n      <td>0.787264</td>\n      <td>0.716840</td>\n      <td>0.704625</td>\n      <td>0.897724</td>\n      <td>0.996843</td>\n      <td>...</td>\n      <td>0.688266</td>\n      <td>0.808919</td>\n      <td>0.815577</td>\n      <td>0.741720</td>\n      <td>0.987502</td>\n      <td>0.839405</td>\n      <td>0.861470</td>\n      <td>0.890678</td>\n      <td>0.740293</td>\n      <td>0.810949</td>\n    </tr>\n    <tr>\n      <th>9</th>\n      <td>10.153306</td>\n      <td>0.646654</td>\n      <td>0.581984</td>\n      <td>0.544141</td>\n      <td>0.693896</td>\n      <td>0.610154</td>\n      <td>0.556919</td>\n      <td>0.488486</td>\n      <td>0.706166</td>\n      <td>0.745155</td>\n      <td>...</td>\n      <td>0.345518</td>\n      <td>0.465075</td>\n      <td>0.520001</td>\n      <td>0.557820</td>\n      <td>0.708266</td>\n      <td>0.585861</td>\n      <td>0.612288</td>\n      <td>0.648990</td>\n      <td>0.450504</td>\n      <td>0.565442</td>\n    </tr>\n    <tr>\n      <th>10</th>\n      <td>11.100852</td>\n      <td>0.703837</td>\n      <td>0.632360</td>\n      <td>0.592392</td>\n      <td>0.754410</td>\n      <td>0.663888</td>\n      <td>0.605988</td>\n      <td>0.530532</td>\n      <td>0.768532</td>\n      <td>0.810316</td>\n      <td>...</td>\n      <td>0.372772</td>\n      <td>0.503298</td>\n      <td>0.563902</td>\n      <td>0.606658</td>\n      <td>0.769676</td>\n      <td>0.636363</td>\n      <td>0.665274</td>\n      <td>0.705447</td>\n      <td>0.488096</td>\n      <td>0.614174</td>\n    </tr>\n    <tr>\n      <th>11</th>\n      <td>12.018855</td>\n      <td>0.725707</td>\n      <td>0.639459</td>\n      <td>0.612322</td>\n      <td>0.768086</td>\n      <td>0.681967</td>\n      <td>0.622752</td>\n      <td>0.533749</td>\n      <td>0.791488</td>\n      <td>0.827036</td>\n      <td>...</td>\n      <td>0.346298</td>\n      <td>0.485455</td>\n      <td>0.557409</td>\n      <td>0.619858</td>\n      <td>0.779511</td>\n      <td>0.641081</td>\n      <td>0.672597</td>\n      <td>0.716605</td>\n      <td>0.477366</td>\n      <td>0.618606</td>\n    </tr>\n    <tr>\n      <th>12</th>\n      <td>13.045627</td>\n      <td>0.752676</td>\n      <td>0.650518</td>\n      <td>0.636619</td>\n      <td>0.786745</td>\n      <td>0.704729</td>\n      <td>0.643805</td>\n      <td>0.540153</td>\n      <td>0.819966</td>\n      <td>0.849208</td>\n      <td>...</td>\n      <td>0.320643</td>\n      <td>0.469603</td>\n      <td>0.553814</td>\n      <td>0.637173</td>\n      <td>0.794225</td>\n      <td>0.649665</td>\n      <td>0.684080</td>\n      <td>0.732342</td>\n      <td>0.468891</td>\n      <td>0.626763</td>\n    </tr>\n    <tr>\n      <th>13</th>\n      <td>13.939632</td>\n      <td>0.897348</td>\n      <td>0.810890</td>\n      <td>0.754695</td>\n      <td>0.965459</td>\n      <td>0.847364</td>\n      <td>0.773365</td>\n      <td>0.681333</td>\n      <td>0.980174</td>\n      <td>1.036249</td>\n      <td>...</td>\n      <td>0.489423</td>\n      <td>0.654132</td>\n      <td>0.727876</td>\n      <td>0.775554</td>\n      <td>0.986529</td>\n      <td>0.816926</td>\n      <td>0.853151</td>\n      <td>0.903405</td>\n      <td>0.631928</td>\n      <td>0.788485</td>\n    </tr>\n    <tr>\n      <th>14</th>\n      <td>14.935694</td>\n      <td>0.939062</td>\n      <td>0.840962</td>\n      <td>0.790703</td>\n      <td>1.004408</td>\n      <td>0.885206</td>\n      <td>0.808061</td>\n      <td>0.704946</td>\n      <td>1.025176</td>\n      <td>1.079282</td>\n      <td>...</td>\n      <td>0.489059</td>\n      <td>0.664205</td>\n      <td>0.747126</td>\n      <td>0.808174</td>\n      <td>1.023836</td>\n      <td>0.845757</td>\n      <td>0.884702</td>\n      <td>0.938864</td>\n      <td>0.645575</td>\n      <td>0.816239</td>\n    </tr>\n    <tr>\n      <th>15</th>\n      <td>15.878349</td>\n      <td>0.907219</td>\n      <td>0.780709</td>\n      <td>0.767742</td>\n      <td>0.945656</td>\n      <td>0.848740</td>\n      <td>0.775438</td>\n      <td>0.647490</td>\n      <td>0.988075</td>\n      <td>1.021295</td>\n      <td>...</td>\n      <td>0.376242</td>\n      <td>0.557018</td>\n      <td>0.661066</td>\n      <td>0.766480</td>\n      <td>0.953510</td>\n      <td>0.779007</td>\n      <td>0.820947</td>\n      <td>0.879815</td>\n      <td>0.558200</td>\n      <td>0.751512</td>\n    </tr>\n  </tbody>\n</table>\n<p>16 rows × 151 columns</p>\n</div>"
     },
     "metadata": {},
     "execution_count": 42
    }
   ],
   "source": [
    "R_hat = np.dot(Q,P)\n",
    "pd.DataFrame(R_hat)"
   ]
  },
  {
   "cell_type": "code",
   "execution_count": 68,
   "metadata": {},
   "outputs": [
    {
     "output_type": "execute_result",
     "data": {
      "text/plain": [
       "       Unnamed: 0  user_id  qId  correctAvg       vocab\n",
       "0               0        1    1        0.25       asset\n",
       "1               1        1    1        0.25      marble\n",
       "2               2        1    1        0.25        faun\n",
       "3               3        1    1        0.25  publishing\n",
       "4               4        1    1        0.25     company\n",
       "...           ...      ...  ...         ...         ...\n",
       "20100       20100       14  148        1.00    luncheon\n",
       "20101       20101       14  148        1.00       honor\n",
       "20102       20102       14  148        1.00    hospital\n",
       "20103       20103       14  148        1.00   volunteer\n",
       "20104       20104       14  148        1.00    tomorrow\n",
       "\n",
       "[20105 rows x 5 columns]"
      ],
      "text/html": "<div>\n<style scoped>\n    .dataframe tbody tr th:only-of-type {\n        vertical-align: middle;\n    }\n\n    .dataframe tbody tr th {\n        vertical-align: top;\n    }\n\n    .dataframe thead th {\n        text-align: right;\n    }\n</style>\n<table border=\"1\" class=\"dataframe\">\n  <thead>\n    <tr style=\"text-align: right;\">\n      <th></th>\n      <th>Unnamed: 0</th>\n      <th>user_id</th>\n      <th>qId</th>\n      <th>correctAvg</th>\n      <th>vocab</th>\n    </tr>\n  </thead>\n  <tbody>\n    <tr>\n      <th>0</th>\n      <td>0</td>\n      <td>1</td>\n      <td>1</td>\n      <td>0.25</td>\n      <td>asset</td>\n    </tr>\n    <tr>\n      <th>1</th>\n      <td>1</td>\n      <td>1</td>\n      <td>1</td>\n      <td>0.25</td>\n      <td>marble</td>\n    </tr>\n    <tr>\n      <th>2</th>\n      <td>2</td>\n      <td>1</td>\n      <td>1</td>\n      <td>0.25</td>\n      <td>faun</td>\n    </tr>\n    <tr>\n      <th>3</th>\n      <td>3</td>\n      <td>1</td>\n      <td>1</td>\n      <td>0.25</td>\n      <td>publishing</td>\n    </tr>\n    <tr>\n      <th>4</th>\n      <td>4</td>\n      <td>1</td>\n      <td>1</td>\n      <td>0.25</td>\n      <td>company</td>\n    </tr>\n    <tr>\n      <th>...</th>\n      <td>...</td>\n      <td>...</td>\n      <td>...</td>\n      <td>...</td>\n      <td>...</td>\n    </tr>\n    <tr>\n      <th>20100</th>\n      <td>20100</td>\n      <td>14</td>\n      <td>148</td>\n      <td>1.00</td>\n      <td>luncheon</td>\n    </tr>\n    <tr>\n      <th>20101</th>\n      <td>20101</td>\n      <td>14</td>\n      <td>148</td>\n      <td>1.00</td>\n      <td>honor</td>\n    </tr>\n    <tr>\n      <th>20102</th>\n      <td>20102</td>\n      <td>14</td>\n      <td>148</td>\n      <td>1.00</td>\n      <td>hospital</td>\n    </tr>\n    <tr>\n      <th>20103</th>\n      <td>20103</td>\n      <td>14</td>\n      <td>148</td>\n      <td>1.00</td>\n      <td>volunteer</td>\n    </tr>\n    <tr>\n      <th>20104</th>\n      <td>20104</td>\n      <td>14</td>\n      <td>148</td>\n      <td>1.00</td>\n      <td>tomorrow</td>\n    </tr>\n  </tbody>\n</table>\n<p>20105 rows × 5 columns</p>\n</div>"
     },
     "metadata": {},
     "execution_count": 68
    }
   ],
   "source": [
    "mini_df = pd.read_csv('data.csv')\n",
    "mini_df "
   ]
  },
  {
   "cell_type": "code",
   "execution_count": 69,
   "metadata": {},
   "outputs": [],
   "source": [
    "vocab = mini_df.vocab.unique()\n",
    "user_id =mini_df.user_id.unique()"
   ]
  },
  {
   "cell_type": "code",
   "execution_count": 92,
   "metadata": {},
   "outputs": [],
   "source": [
    "idx2userid = {str(i):o for i,o in enumerate(user_id)}\n",
    "idx2vocab = {i:o for i,o in enumerate(vocab)}"
   ]
  },
  {
   "cell_type": "code",
   "execution_count": 70,
   "metadata": {},
   "outputs": [
    {
     "output_type": "execute_result",
     "data": {
      "text/plain": [
       "       Unnamed: 0  user_id  qId  correctAvg  vocab\n",
       "0               0        0    1        0.25      0\n",
       "1               1        0    1        0.25      1\n",
       "2               2        0    1        0.25      2\n",
       "3               3        0    1        0.25      3\n",
       "4               4        0    1        0.25      4\n",
       "...           ...      ...  ...         ...    ...\n",
       "20100       20100        5  148        1.00    928\n",
       "20101       20101        5  148        1.00    929\n",
       "20102       20102        5  148        1.00    927\n",
       "20103       20103        5  148        1.00    923\n",
       "20104       20104        5  148        1.00    930\n",
       "\n",
       "[20105 rows x 5 columns]"
      ],
      "text/html": "<div>\n<style scoped>\n    .dataframe tbody tr th:only-of-type {\n        vertical-align: middle;\n    }\n\n    .dataframe tbody tr th {\n        vertical-align: top;\n    }\n\n    .dataframe thead th {\n        text-align: right;\n    }\n</style>\n<table border=\"1\" class=\"dataframe\">\n  <thead>\n    <tr style=\"text-align: right;\">\n      <th></th>\n      <th>Unnamed: 0</th>\n      <th>user_id</th>\n      <th>qId</th>\n      <th>correctAvg</th>\n      <th>vocab</th>\n    </tr>\n  </thead>\n  <tbody>\n    <tr>\n      <th>0</th>\n      <td>0</td>\n      <td>0</td>\n      <td>1</td>\n      <td>0.25</td>\n      <td>0</td>\n    </tr>\n    <tr>\n      <th>1</th>\n      <td>1</td>\n      <td>0</td>\n      <td>1</td>\n      <td>0.25</td>\n      <td>1</td>\n    </tr>\n    <tr>\n      <th>2</th>\n      <td>2</td>\n      <td>0</td>\n      <td>1</td>\n      <td>0.25</td>\n      <td>2</td>\n    </tr>\n    <tr>\n      <th>3</th>\n      <td>3</td>\n      <td>0</td>\n      <td>1</td>\n      <td>0.25</td>\n      <td>3</td>\n    </tr>\n    <tr>\n      <th>4</th>\n      <td>4</td>\n      <td>0</td>\n      <td>1</td>\n      <td>0.25</td>\n      <td>4</td>\n    </tr>\n    <tr>\n      <th>...</th>\n      <td>...</td>\n      <td>...</td>\n      <td>...</td>\n      <td>...</td>\n      <td>...</td>\n    </tr>\n    <tr>\n      <th>20100</th>\n      <td>20100</td>\n      <td>5</td>\n      <td>148</td>\n      <td>1.00</td>\n      <td>928</td>\n    </tr>\n    <tr>\n      <th>20101</th>\n      <td>20101</td>\n      <td>5</td>\n      <td>148</td>\n      <td>1.00</td>\n      <td>929</td>\n    </tr>\n    <tr>\n      <th>20102</th>\n      <td>20102</td>\n      <td>5</td>\n      <td>148</td>\n      <td>1.00</td>\n      <td>927</td>\n    </tr>\n    <tr>\n      <th>20103</th>\n      <td>20103</td>\n      <td>5</td>\n      <td>148</td>\n      <td>1.00</td>\n      <td>923</td>\n    </tr>\n    <tr>\n      <th>20104</th>\n      <td>20104</td>\n      <td>5</td>\n      <td>148</td>\n      <td>1.00</td>\n      <td>930</td>\n    </tr>\n  </tbody>\n</table>\n<p>20105 rows × 5 columns</p>\n</div>"
     },
     "metadata": {},
     "execution_count": 70
    }
   ],
   "source": [
    "userid2idx = {o:i for i,o in enumerate(user_id)}\n",
    "vocab2idx = {o:i for i,o in enumerate(vocab)}\n",
    "\n",
    "mini_df['user_id'] = mini_df['user_id'].apply(lambda x: userid2idx[x])\n",
    "mini_df['vocab'] = mini_df['vocab'].apply(lambda x: vocab2idx[x])\n",
    "mini_df"
   ]
  },
  {
   "cell_type": "code",
   "execution_count": 73,
   "metadata": {},
   "outputs": [],
   "source": [
    "import pickle"
   ]
  },
  {
   "cell_type": "code",
   "execution_count": 74,
   "metadata": {},
   "outputs": [],
   "source": [
    "with open('vocabuserid2idx.pickle','wb') as f:\n",
    "    pickle.dump(userid2idx,f)"
   ]
  },
  {
   "cell_type": "code",
   "execution_count": 93,
   "metadata": {},
   "outputs": [],
   "source": [
    "with open('vocabid2userid.pickle','wb') as f:\n",
    "    pickle.dump(idx2userid,f)"
   ]
  },
  {
   "cell_type": "code",
   "execution_count": 76,
   "metadata": {},
   "outputs": [],
   "source": [
    "with open('vocab2idx.pickle','wb') as f:\n",
    "    pickle.dump(vocab2idx,f)"
   ]
  },
  {
   "cell_type": "code",
   "execution_count": 91,
   "metadata": {},
   "outputs": [],
   "source": [
    "with open('idx2vocab.pickle','wb') as f:\n",
    "    pickle.dump(idx2vocab,f)"
   ]
  },
  {
   "cell_type": "code",
   "execution_count": 77,
   "metadata": {},
   "outputs": [],
   "source": [
    "from tensorflow.keras import Model\n",
    "from tensorflow.keras.layers import Input, Embedding, Flatten, dot\n",
    "from tensorflow.keras import regularizers\n",
    "\n",
    "item_input = Input(shape=[1]) # mini_df.item\n",
    "user_input = Input(shape=[1]) # mini_df.user"
   ]
  },
  {
   "cell_type": "code",
   "execution_count": 78,
   "metadata": {},
   "outputs": [
    {
     "output_type": "stream",
     "name": "stdout",
     "text": [
      "shape of train data is  (16086, 5)\nshape of test data is  (4019, 5)\n"
     ]
    }
   ],
   "source": [
    "# Split train and test data\n",
    "split = np.random.rand(len(mini_df)) < 0.8\n",
    "# print(~split)\n",
    "train_df = mini_df[split]\n",
    "test_df = mini_df[~split]\n",
    "\n",
    "print('shape of train data is ',train_df.shape)\n",
    "print('shape of test data is ',test_df.shape)"
   ]
  },
  {
   "cell_type": "code",
   "execution_count": 79,
   "metadata": {},
   "outputs": [],
   "source": [
    "n_items = len(mini_df.vocab.unique()) # 영화 5편\n",
    "n_items_latent_factors = 64 # 영화의 잠재 인수 개수\n",
    "\n",
    "n_users = len(mini_df.user_id.unique()) # 사용자 4명 \n",
    "n_users_latent_factors = 64 # 사용자의 잠재 인수 개수\n",
    "\n",
    "# Item latent factora\n",
    "item_embedding = Embedding(n_items, n_items_latent_factors, # (5X2) Latent factor\n",
    "                           embeddings_regularizer=regularizers.l2(0.001),\n",
    "                           name='item_embedding')(item_input)\n",
    "# User latent factor\n",
    "user_embedding = Embedding(n_users, n_users_latent_factors, # (4X2) Latent factor\n",
    "                           embeddings_regularizer=regularizers.l2(0.001),\n",
    "                           name='user_embedding')(user_input)"
   ]
  },
  {
   "cell_type": "code",
   "execution_count": 80,
   "metadata": {},
   "outputs": [],
   "source": [
    "# Item latent vector\n",
    "item_vec = Flatten()(item_embedding)\n",
    "# User latent vector\n",
    "user_vec = Flatten()(user_embedding)"
   ]
  },
  {
   "cell_type": "code",
   "execution_count": 81,
   "metadata": {},
   "outputs": [],
   "source": [
    "r_hat = dot([item_vec, user_vec], axes=-1)\n",
    "mini_model = Model([user_input, item_input], r_hat)\n",
    "mini_model.compile(optimizer = 'sgd', loss = 'mean_squared_error')"
   ]
  },
  {
   "cell_type": "code",
   "execution_count": 82,
   "metadata": {},
   "outputs": [
    {
     "output_type": "stream",
     "name": "stdout",
     "text": [
      "loss:  0.22771936655044556\n"
     ]
    },
    {
     "output_type": "display_data",
     "data": {
      "text/plain": "<Figure size 432x288 with 1 Axes>",
      "image/svg+xml": "<?xml version=\"1.0\" encoding=\"utf-8\" standalone=\"no\"?>\n<!DOCTYPE svg PUBLIC \"-//W3C//DTD SVG 1.1//EN\"\n  \"http://www.w3.org/Graphics/SVG/1.1/DTD/svg11.dtd\">\n<!-- Created with matplotlib (https://matplotlib.org/) -->\n<svg height=\"262.19625pt\" version=\"1.1\" viewBox=\"0 0 392.14375 262.19625\" width=\"392.14375pt\" xmlns=\"http://www.w3.org/2000/svg\" xmlns:xlink=\"http://www.w3.org/1999/xlink\">\n <metadata>\n  <rdf:RDF xmlns:cc=\"http://creativecommons.org/ns#\" xmlns:dc=\"http://purl.org/dc/elements/1.1/\" xmlns:rdf=\"http://www.w3.org/1999/02/22-rdf-syntax-ns#\">\n   <cc:Work>\n    <dc:type rdf:resource=\"http://purl.org/dc/dcmitype/StillImage\"/>\n    <dc:date>2020-11-09T15:44:52.542274</dc:date>\n    <dc:format>image/svg+xml</dc:format>\n    <dc:creator>\n     <cc:Agent>\n      <dc:title>Matplotlib v3.3.2, https://matplotlib.org/</dc:title>\n     </cc:Agent>\n    </dc:creator>\n   </cc:Work>\n  </rdf:RDF>\n </metadata>\n <defs>\n  <style type=\"text/css\">*{stroke-linecap:butt;stroke-linejoin:round;}</style>\n </defs>\n <g id=\"figure_1\">\n  <g id=\"patch_1\">\n   <path d=\"M 0 262.19625 \nL 392.14375 262.19625 \nL 392.14375 0 \nL 0 0 \nz\n\" style=\"fill:none;\"/>\n  </g>\n  <g id=\"axes_1\">\n   <g id=\"patch_2\">\n    <path d=\"M 50.14375 224.64 \nL 384.94375 224.64 \nL 384.94375 7.2 \nL 50.14375 7.2 \nz\n\" style=\"fill:#ffffff;\"/>\n   </g>\n   <g id=\"matplotlib.axis_1\">\n    <g id=\"xtick_1\">\n     <g id=\"line2d_1\">\n      <defs>\n       <path d=\"M 0 0 \nL 0 3.5 \n\" id=\"me7eb4a314f\" style=\"stroke:#000000;stroke-width:0.8;\"/>\n      </defs>\n      <g>\n       <use style=\"stroke:#000000;stroke-width:0.8;\" x=\"65.361932\" xlink:href=\"#me7eb4a314f\" y=\"224.64\"/>\n      </g>\n     </g>\n     <g id=\"text_1\">\n      <!-- 0 -->\n      <g transform=\"translate(62.180682 239.238437)scale(0.1 -0.1)\">\n       <defs>\n        <path d=\"M 31.78125 66.40625 \nQ 24.171875 66.40625 20.328125 58.90625 \nQ 16.5 51.421875 16.5 36.375 \nQ 16.5 21.390625 20.328125 13.890625 \nQ 24.171875 6.390625 31.78125 6.390625 \nQ 39.453125 6.390625 43.28125 13.890625 \nQ 47.125 21.390625 47.125 36.375 \nQ 47.125 51.421875 43.28125 58.90625 \nQ 39.453125 66.40625 31.78125 66.40625 \nz\nM 31.78125 74.21875 \nQ 44.046875 74.21875 50.515625 64.515625 \nQ 56.984375 54.828125 56.984375 36.375 \nQ 56.984375 17.96875 50.515625 8.265625 \nQ 44.046875 -1.421875 31.78125 -1.421875 \nQ 19.53125 -1.421875 13.0625 8.265625 \nQ 6.59375 17.96875 6.59375 36.375 \nQ 6.59375 54.828125 13.0625 64.515625 \nQ 19.53125 74.21875 31.78125 74.21875 \nz\n\" id=\"DejaVuSans-48\"/>\n       </defs>\n       <use xlink:href=\"#DejaVuSans-48\"/>\n      </g>\n     </g>\n    </g>\n    <g id=\"xtick_2\">\n     <g id=\"line2d_2\">\n      <g>\n       <use style=\"stroke:#000000;stroke-width:0.8;\" x=\"103.426419\" xlink:href=\"#me7eb4a314f\" y=\"224.64\"/>\n      </g>\n     </g>\n     <g id=\"text_2\">\n      <!-- 250 -->\n      <g transform=\"translate(93.882669 239.238437)scale(0.1 -0.1)\">\n       <defs>\n        <path d=\"M 19.1875 8.296875 \nL 53.609375 8.296875 \nL 53.609375 0 \nL 7.328125 0 \nL 7.328125 8.296875 \nQ 12.9375 14.109375 22.625 23.890625 \nQ 32.328125 33.6875 34.8125 36.53125 \nQ 39.546875 41.84375 41.421875 45.53125 \nQ 43.3125 49.21875 43.3125 52.78125 \nQ 43.3125 58.59375 39.234375 62.25 \nQ 35.15625 65.921875 28.609375 65.921875 \nQ 23.96875 65.921875 18.8125 64.3125 \nQ 13.671875 62.703125 7.8125 59.421875 \nL 7.8125 69.390625 \nQ 13.765625 71.78125 18.9375 73 \nQ 24.125 74.21875 28.421875 74.21875 \nQ 39.75 74.21875 46.484375 68.546875 \nQ 53.21875 62.890625 53.21875 53.421875 \nQ 53.21875 48.921875 51.53125 44.890625 \nQ 49.859375 40.875 45.40625 35.40625 \nQ 44.1875 33.984375 37.640625 27.21875 \nQ 31.109375 20.453125 19.1875 8.296875 \nz\n\" id=\"DejaVuSans-50\"/>\n        <path d=\"M 10.796875 72.90625 \nL 49.515625 72.90625 \nL 49.515625 64.59375 \nL 19.828125 64.59375 \nL 19.828125 46.734375 \nQ 21.96875 47.46875 24.109375 47.828125 \nQ 26.265625 48.1875 28.421875 48.1875 \nQ 40.625 48.1875 47.75 41.5 \nQ 54.890625 34.8125 54.890625 23.390625 \nQ 54.890625 11.625 47.5625 5.09375 \nQ 40.234375 -1.421875 26.90625 -1.421875 \nQ 22.3125 -1.421875 17.546875 -0.640625 \nQ 12.796875 0.140625 7.71875 1.703125 \nL 7.71875 11.625 \nQ 12.109375 9.234375 16.796875 8.0625 \nQ 21.484375 6.890625 26.703125 6.890625 \nQ 35.15625 6.890625 40.078125 11.328125 \nQ 45.015625 15.765625 45.015625 23.390625 \nQ 45.015625 31 40.078125 35.4375 \nQ 35.15625 39.890625 26.703125 39.890625 \nQ 22.75 39.890625 18.8125 39.015625 \nQ 14.890625 38.140625 10.796875 36.28125 \nz\n\" id=\"DejaVuSans-53\"/>\n       </defs>\n       <use xlink:href=\"#DejaVuSans-50\"/>\n       <use x=\"63.623047\" xlink:href=\"#DejaVuSans-53\"/>\n       <use x=\"127.246094\" xlink:href=\"#DejaVuSans-48\"/>\n      </g>\n     </g>\n    </g>\n    <g id=\"xtick_3\">\n     <g id=\"line2d_3\">\n      <g>\n       <use style=\"stroke:#000000;stroke-width:0.8;\" x=\"141.490905\" xlink:href=\"#me7eb4a314f\" y=\"224.64\"/>\n      </g>\n     </g>\n     <g id=\"text_3\">\n      <!-- 500 -->\n      <g transform=\"translate(131.947155 239.238437)scale(0.1 -0.1)\">\n       <use xlink:href=\"#DejaVuSans-53\"/>\n       <use x=\"63.623047\" xlink:href=\"#DejaVuSans-48\"/>\n       <use x=\"127.246094\" xlink:href=\"#DejaVuSans-48\"/>\n      </g>\n     </g>\n    </g>\n    <g id=\"xtick_4\">\n     <g id=\"line2d_4\">\n      <g>\n       <use style=\"stroke:#000000;stroke-width:0.8;\" x=\"179.555392\" xlink:href=\"#me7eb4a314f\" y=\"224.64\"/>\n      </g>\n     </g>\n     <g id=\"text_4\">\n      <!-- 750 -->\n      <g transform=\"translate(170.011642 239.238437)scale(0.1 -0.1)\">\n       <defs>\n        <path d=\"M 8.203125 72.90625 \nL 55.078125 72.90625 \nL 55.078125 68.703125 \nL 28.609375 0 \nL 18.3125 0 \nL 43.21875 64.59375 \nL 8.203125 64.59375 \nz\n\" id=\"DejaVuSans-55\"/>\n       </defs>\n       <use xlink:href=\"#DejaVuSans-55\"/>\n       <use x=\"63.623047\" xlink:href=\"#DejaVuSans-53\"/>\n       <use x=\"127.246094\" xlink:href=\"#DejaVuSans-48\"/>\n      </g>\n     </g>\n    </g>\n    <g id=\"xtick_5\">\n     <g id=\"line2d_5\">\n      <g>\n       <use style=\"stroke:#000000;stroke-width:0.8;\" x=\"217.619879\" xlink:href=\"#me7eb4a314f\" y=\"224.64\"/>\n      </g>\n     </g>\n     <g id=\"text_5\">\n      <!-- 1000 -->\n      <g transform=\"translate(204.894879 239.238437)scale(0.1 -0.1)\">\n       <defs>\n        <path d=\"M 12.40625 8.296875 \nL 28.515625 8.296875 \nL 28.515625 63.921875 \nL 10.984375 60.40625 \nL 10.984375 69.390625 \nL 28.421875 72.90625 \nL 38.28125 72.90625 \nL 38.28125 8.296875 \nL 54.390625 8.296875 \nL 54.390625 0 \nL 12.40625 0 \nz\n\" id=\"DejaVuSans-49\"/>\n       </defs>\n       <use xlink:href=\"#DejaVuSans-49\"/>\n       <use x=\"63.623047\" xlink:href=\"#DejaVuSans-48\"/>\n       <use x=\"127.246094\" xlink:href=\"#DejaVuSans-48\"/>\n       <use x=\"190.869141\" xlink:href=\"#DejaVuSans-48\"/>\n      </g>\n     </g>\n    </g>\n    <g id=\"xtick_6\">\n     <g id=\"line2d_6\">\n      <g>\n       <use style=\"stroke:#000000;stroke-width:0.8;\" x=\"255.684366\" xlink:href=\"#me7eb4a314f\" y=\"224.64\"/>\n      </g>\n     </g>\n     <g id=\"text_6\">\n      <!-- 1250 -->\n      <g transform=\"translate(242.959366 239.238437)scale(0.1 -0.1)\">\n       <use xlink:href=\"#DejaVuSans-49\"/>\n       <use x=\"63.623047\" xlink:href=\"#DejaVuSans-50\"/>\n       <use x=\"127.246094\" xlink:href=\"#DejaVuSans-53\"/>\n       <use x=\"190.869141\" xlink:href=\"#DejaVuSans-48\"/>\n      </g>\n     </g>\n    </g>\n    <g id=\"xtick_7\">\n     <g id=\"line2d_7\">\n      <g>\n       <use style=\"stroke:#000000;stroke-width:0.8;\" x=\"293.748853\" xlink:href=\"#me7eb4a314f\" y=\"224.64\"/>\n      </g>\n     </g>\n     <g id=\"text_7\">\n      <!-- 1500 -->\n      <g transform=\"translate(281.023853 239.238437)scale(0.1 -0.1)\">\n       <use xlink:href=\"#DejaVuSans-49\"/>\n       <use x=\"63.623047\" xlink:href=\"#DejaVuSans-53\"/>\n       <use x=\"127.246094\" xlink:href=\"#DejaVuSans-48\"/>\n       <use x=\"190.869141\" xlink:href=\"#DejaVuSans-48\"/>\n      </g>\n     </g>\n    </g>\n    <g id=\"xtick_8\">\n     <g id=\"line2d_8\">\n      <g>\n       <use style=\"stroke:#000000;stroke-width:0.8;\" x=\"331.813339\" xlink:href=\"#me7eb4a314f\" y=\"224.64\"/>\n      </g>\n     </g>\n     <g id=\"text_8\">\n      <!-- 1750 -->\n      <g transform=\"translate(319.088339 239.238437)scale(0.1 -0.1)\">\n       <use xlink:href=\"#DejaVuSans-49\"/>\n       <use x=\"63.623047\" xlink:href=\"#DejaVuSans-55\"/>\n       <use x=\"127.246094\" xlink:href=\"#DejaVuSans-53\"/>\n       <use x=\"190.869141\" xlink:href=\"#DejaVuSans-48\"/>\n      </g>\n     </g>\n    </g>\n    <g id=\"xtick_9\">\n     <g id=\"line2d_9\">\n      <g>\n       <use style=\"stroke:#000000;stroke-width:0.8;\" x=\"369.877826\" xlink:href=\"#me7eb4a314f\" y=\"224.64\"/>\n      </g>\n     </g>\n     <g id=\"text_9\">\n      <!-- 2000 -->\n      <g transform=\"translate(357.152826 239.238437)scale(0.1 -0.1)\">\n       <use xlink:href=\"#DejaVuSans-50\"/>\n       <use x=\"63.623047\" xlink:href=\"#DejaVuSans-48\"/>\n       <use x=\"127.246094\" xlink:href=\"#DejaVuSans-48\"/>\n       <use x=\"190.869141\" xlink:href=\"#DejaVuSans-48\"/>\n      </g>\n     </g>\n    </g>\n    <g id=\"text_10\">\n     <!-- epoch -->\n     <g transform=\"translate(202.315625 252.916562)scale(0.1 -0.1)\">\n      <defs>\n       <path d=\"M 56.203125 29.59375 \nL 56.203125 25.203125 \nL 14.890625 25.203125 \nQ 15.484375 15.921875 20.484375 11.0625 \nQ 25.484375 6.203125 34.421875 6.203125 \nQ 39.59375 6.203125 44.453125 7.46875 \nQ 49.3125 8.734375 54.109375 11.28125 \nL 54.109375 2.78125 \nQ 49.265625 0.734375 44.1875 -0.34375 \nQ 39.109375 -1.421875 33.890625 -1.421875 \nQ 20.796875 -1.421875 13.15625 6.1875 \nQ 5.515625 13.8125 5.515625 26.8125 \nQ 5.515625 40.234375 12.765625 48.109375 \nQ 20.015625 56 32.328125 56 \nQ 43.359375 56 49.78125 48.890625 \nQ 56.203125 41.796875 56.203125 29.59375 \nz\nM 47.21875 32.234375 \nQ 47.125 39.59375 43.09375 43.984375 \nQ 39.0625 48.390625 32.421875 48.390625 \nQ 24.90625 48.390625 20.390625 44.140625 \nQ 15.875 39.890625 15.1875 32.171875 \nz\n\" id=\"DejaVuSans-101\"/>\n       <path d=\"M 18.109375 8.203125 \nL 18.109375 -20.796875 \nL 9.078125 -20.796875 \nL 9.078125 54.6875 \nL 18.109375 54.6875 \nL 18.109375 46.390625 \nQ 20.953125 51.265625 25.265625 53.625 \nQ 29.59375 56 35.59375 56 \nQ 45.5625 56 51.78125 48.09375 \nQ 58.015625 40.1875 58.015625 27.296875 \nQ 58.015625 14.40625 51.78125 6.484375 \nQ 45.5625 -1.421875 35.59375 -1.421875 \nQ 29.59375 -1.421875 25.265625 0.953125 \nQ 20.953125 3.328125 18.109375 8.203125 \nz\nM 48.6875 27.296875 \nQ 48.6875 37.203125 44.609375 42.84375 \nQ 40.53125 48.484375 33.40625 48.484375 \nQ 26.265625 48.484375 22.1875 42.84375 \nQ 18.109375 37.203125 18.109375 27.296875 \nQ 18.109375 17.390625 22.1875 11.75 \nQ 26.265625 6.109375 33.40625 6.109375 \nQ 40.53125 6.109375 44.609375 11.75 \nQ 48.6875 17.390625 48.6875 27.296875 \nz\n\" id=\"DejaVuSans-112\"/>\n       <path d=\"M 30.609375 48.390625 \nQ 23.390625 48.390625 19.1875 42.75 \nQ 14.984375 37.109375 14.984375 27.296875 \nQ 14.984375 17.484375 19.15625 11.84375 \nQ 23.34375 6.203125 30.609375 6.203125 \nQ 37.796875 6.203125 41.984375 11.859375 \nQ 46.1875 17.53125 46.1875 27.296875 \nQ 46.1875 37.015625 41.984375 42.703125 \nQ 37.796875 48.390625 30.609375 48.390625 \nz\nM 30.609375 56 \nQ 42.328125 56 49.015625 48.375 \nQ 55.71875 40.765625 55.71875 27.296875 \nQ 55.71875 13.875 49.015625 6.21875 \nQ 42.328125 -1.421875 30.609375 -1.421875 \nQ 18.84375 -1.421875 12.171875 6.21875 \nQ 5.515625 13.875 5.515625 27.296875 \nQ 5.515625 40.765625 12.171875 48.375 \nQ 18.84375 56 30.609375 56 \nz\n\" id=\"DejaVuSans-111\"/>\n       <path d=\"M 48.78125 52.59375 \nL 48.78125 44.1875 \nQ 44.96875 46.296875 41.140625 47.34375 \nQ 37.3125 48.390625 33.40625 48.390625 \nQ 24.65625 48.390625 19.8125 42.84375 \nQ 14.984375 37.3125 14.984375 27.296875 \nQ 14.984375 17.28125 19.8125 11.734375 \nQ 24.65625 6.203125 33.40625 6.203125 \nQ 37.3125 6.203125 41.140625 7.25 \nQ 44.96875 8.296875 48.78125 10.40625 \nL 48.78125 2.09375 \nQ 45.015625 0.34375 40.984375 -0.53125 \nQ 36.96875 -1.421875 32.421875 -1.421875 \nQ 20.0625 -1.421875 12.78125 6.34375 \nQ 5.515625 14.109375 5.515625 27.296875 \nQ 5.515625 40.671875 12.859375 48.328125 \nQ 20.21875 56 33.015625 56 \nQ 37.15625 56 41.109375 55.140625 \nQ 45.0625 54.296875 48.78125 52.59375 \nz\n\" id=\"DejaVuSans-99\"/>\n       <path d=\"M 54.890625 33.015625 \nL 54.890625 0 \nL 45.90625 0 \nL 45.90625 32.71875 \nQ 45.90625 40.484375 42.875 44.328125 \nQ 39.84375 48.1875 33.796875 48.1875 \nQ 26.515625 48.1875 22.3125 43.546875 \nQ 18.109375 38.921875 18.109375 30.90625 \nL 18.109375 0 \nL 9.078125 0 \nL 9.078125 75.984375 \nL 18.109375 75.984375 \nL 18.109375 46.1875 \nQ 21.34375 51.125 25.703125 53.5625 \nQ 30.078125 56 35.796875 56 \nQ 45.21875 56 50.046875 50.171875 \nQ 54.890625 44.34375 54.890625 33.015625 \nz\n\" id=\"DejaVuSans-104\"/>\n      </defs>\n      <use xlink:href=\"#DejaVuSans-101\"/>\n      <use x=\"61.523438\" xlink:href=\"#DejaVuSans-112\"/>\n      <use x=\"125\" xlink:href=\"#DejaVuSans-111\"/>\n      <use x=\"186.181641\" xlink:href=\"#DejaVuSans-99\"/>\n      <use x=\"241.162109\" xlink:href=\"#DejaVuSans-104\"/>\n     </g>\n    </g>\n   </g>\n   <g id=\"matplotlib.axis_2\">\n    <g id=\"ytick_1\">\n     <g id=\"line2d_10\">\n      <defs>\n       <path d=\"M 0 0 \nL -3.5 0 \n\" id=\"m7ebc900008\" style=\"stroke:#000000;stroke-width:0.8;\"/>\n      </defs>\n      <g>\n       <use style=\"stroke:#000000;stroke-width:0.8;\" x=\"50.14375\" xlink:href=\"#m7ebc900008\" y=\"203.024548\"/>\n      </g>\n     </g>\n     <g id=\"text_11\">\n      <!-- 0.25 -->\n      <g transform=\"translate(20.878125 206.823767)scale(0.1 -0.1)\">\n       <defs>\n        <path d=\"M 10.6875 12.40625 \nL 21 12.40625 \nL 21 0 \nL 10.6875 0 \nz\n\" id=\"DejaVuSans-46\"/>\n       </defs>\n       <use xlink:href=\"#DejaVuSans-48\"/>\n       <use x=\"63.623047\" xlink:href=\"#DejaVuSans-46\"/>\n       <use x=\"95.410156\" xlink:href=\"#DejaVuSans-50\"/>\n       <use x=\"159.033203\" xlink:href=\"#DejaVuSans-53\"/>\n      </g>\n     </g>\n    </g>\n    <g id=\"ytick_2\">\n     <g id=\"line2d_11\">\n      <g>\n       <use style=\"stroke:#000000;stroke-width:0.8;\" x=\"50.14375\" xlink:href=\"#m7ebc900008\" y=\"176.706687\"/>\n      </g>\n     </g>\n     <g id=\"text_12\">\n      <!-- 0.30 -->\n      <g transform=\"translate(20.878125 180.505906)scale(0.1 -0.1)\">\n       <defs>\n        <path d=\"M 40.578125 39.3125 \nQ 47.65625 37.796875 51.625 33 \nQ 55.609375 28.21875 55.609375 21.1875 \nQ 55.609375 10.40625 48.1875 4.484375 \nQ 40.765625 -1.421875 27.09375 -1.421875 \nQ 22.515625 -1.421875 17.65625 -0.515625 \nQ 12.796875 0.390625 7.625 2.203125 \nL 7.625 11.71875 \nQ 11.71875 9.328125 16.59375 8.109375 \nQ 21.484375 6.890625 26.8125 6.890625 \nQ 36.078125 6.890625 40.9375 10.546875 \nQ 45.796875 14.203125 45.796875 21.1875 \nQ 45.796875 27.640625 41.28125 31.265625 \nQ 36.765625 34.90625 28.71875 34.90625 \nL 20.21875 34.90625 \nL 20.21875 43.015625 \nL 29.109375 43.015625 \nQ 36.375 43.015625 40.234375 45.921875 \nQ 44.09375 48.828125 44.09375 54.296875 \nQ 44.09375 59.90625 40.109375 62.90625 \nQ 36.140625 65.921875 28.71875 65.921875 \nQ 24.65625 65.921875 20.015625 65.03125 \nQ 15.375 64.15625 9.8125 62.3125 \nL 9.8125 71.09375 \nQ 15.4375 72.65625 20.34375 73.4375 \nQ 25.25 74.21875 29.59375 74.21875 \nQ 40.828125 74.21875 47.359375 69.109375 \nQ 53.90625 64.015625 53.90625 55.328125 \nQ 53.90625 49.265625 50.4375 45.09375 \nQ 46.96875 40.921875 40.578125 39.3125 \nz\n\" id=\"DejaVuSans-51\"/>\n       </defs>\n       <use xlink:href=\"#DejaVuSans-48\"/>\n       <use x=\"63.623047\" xlink:href=\"#DejaVuSans-46\"/>\n       <use x=\"95.410156\" xlink:href=\"#DejaVuSans-51\"/>\n       <use x=\"159.033203\" xlink:href=\"#DejaVuSans-48\"/>\n      </g>\n     </g>\n    </g>\n    <g id=\"ytick_3\">\n     <g id=\"line2d_12\">\n      <g>\n       <use style=\"stroke:#000000;stroke-width:0.8;\" x=\"50.14375\" xlink:href=\"#m7ebc900008\" y=\"150.388826\"/>\n      </g>\n     </g>\n     <g id=\"text_13\">\n      <!-- 0.35 -->\n      <g transform=\"translate(20.878125 154.188044)scale(0.1 -0.1)\">\n       <use xlink:href=\"#DejaVuSans-48\"/>\n       <use x=\"63.623047\" xlink:href=\"#DejaVuSans-46\"/>\n       <use x=\"95.410156\" xlink:href=\"#DejaVuSans-51\"/>\n       <use x=\"159.033203\" xlink:href=\"#DejaVuSans-53\"/>\n      </g>\n     </g>\n    </g>\n    <g id=\"ytick_4\">\n     <g id=\"line2d_13\">\n      <g>\n       <use style=\"stroke:#000000;stroke-width:0.8;\" x=\"50.14375\" xlink:href=\"#m7ebc900008\" y=\"124.070964\"/>\n      </g>\n     </g>\n     <g id=\"text_14\">\n      <!-- 0.40 -->\n      <g transform=\"translate(20.878125 127.870183)scale(0.1 -0.1)\">\n       <defs>\n        <path d=\"M 37.796875 64.3125 \nL 12.890625 25.390625 \nL 37.796875 25.390625 \nz\nM 35.203125 72.90625 \nL 47.609375 72.90625 \nL 47.609375 25.390625 \nL 58.015625 25.390625 \nL 58.015625 17.1875 \nL 47.609375 17.1875 \nL 47.609375 0 \nL 37.796875 0 \nL 37.796875 17.1875 \nL 4.890625 17.1875 \nL 4.890625 26.703125 \nz\n\" id=\"DejaVuSans-52\"/>\n       </defs>\n       <use xlink:href=\"#DejaVuSans-48\"/>\n       <use x=\"63.623047\" xlink:href=\"#DejaVuSans-46\"/>\n       <use x=\"95.410156\" xlink:href=\"#DejaVuSans-52\"/>\n       <use x=\"159.033203\" xlink:href=\"#DejaVuSans-48\"/>\n      </g>\n     </g>\n    </g>\n    <g id=\"ytick_5\">\n     <g id=\"line2d_14\">\n      <g>\n       <use style=\"stroke:#000000;stroke-width:0.8;\" x=\"50.14375\" xlink:href=\"#m7ebc900008\" y=\"97.753103\"/>\n      </g>\n     </g>\n     <g id=\"text_15\">\n      <!-- 0.45 -->\n      <g transform=\"translate(20.878125 101.552322)scale(0.1 -0.1)\">\n       <use xlink:href=\"#DejaVuSans-48\"/>\n       <use x=\"63.623047\" xlink:href=\"#DejaVuSans-46\"/>\n       <use x=\"95.410156\" xlink:href=\"#DejaVuSans-52\"/>\n       <use x=\"159.033203\" xlink:href=\"#DejaVuSans-53\"/>\n      </g>\n     </g>\n    </g>\n    <g id=\"ytick_6\">\n     <g id=\"line2d_15\">\n      <g>\n       <use style=\"stroke:#000000;stroke-width:0.8;\" x=\"50.14375\" xlink:href=\"#m7ebc900008\" y=\"71.435242\"/>\n      </g>\n     </g>\n     <g id=\"text_16\">\n      <!-- 0.50 -->\n      <g transform=\"translate(20.878125 75.234461)scale(0.1 -0.1)\">\n       <use xlink:href=\"#DejaVuSans-48\"/>\n       <use x=\"63.623047\" xlink:href=\"#DejaVuSans-46\"/>\n       <use x=\"95.410156\" xlink:href=\"#DejaVuSans-53\"/>\n       <use x=\"159.033203\" xlink:href=\"#DejaVuSans-48\"/>\n      </g>\n     </g>\n    </g>\n    <g id=\"ytick_7\">\n     <g id=\"line2d_16\">\n      <g>\n       <use style=\"stroke:#000000;stroke-width:0.8;\" x=\"50.14375\" xlink:href=\"#m7ebc900008\" y=\"45.117381\"/>\n      </g>\n     </g>\n     <g id=\"text_17\">\n      <!-- 0.55 -->\n      <g transform=\"translate(20.878125 48.916599)scale(0.1 -0.1)\">\n       <use xlink:href=\"#DejaVuSans-48\"/>\n       <use x=\"63.623047\" xlink:href=\"#DejaVuSans-46\"/>\n       <use x=\"95.410156\" xlink:href=\"#DejaVuSans-53\"/>\n       <use x=\"159.033203\" xlink:href=\"#DejaVuSans-53\"/>\n      </g>\n     </g>\n    </g>\n    <g id=\"ytick_8\">\n     <g id=\"line2d_17\">\n      <g>\n       <use style=\"stroke:#000000;stroke-width:0.8;\" x=\"50.14375\" xlink:href=\"#m7ebc900008\" y=\"18.799519\"/>\n      </g>\n     </g>\n     <g id=\"text_18\">\n      <!-- 0.60 -->\n      <g transform=\"translate(20.878125 22.598738)scale(0.1 -0.1)\">\n       <defs>\n        <path d=\"M 33.015625 40.375 \nQ 26.375 40.375 22.484375 35.828125 \nQ 18.609375 31.296875 18.609375 23.390625 \nQ 18.609375 15.53125 22.484375 10.953125 \nQ 26.375 6.390625 33.015625 6.390625 \nQ 39.65625 6.390625 43.53125 10.953125 \nQ 47.40625 15.53125 47.40625 23.390625 \nQ 47.40625 31.296875 43.53125 35.828125 \nQ 39.65625 40.375 33.015625 40.375 \nz\nM 52.59375 71.296875 \nL 52.59375 62.3125 \nQ 48.875 64.0625 45.09375 64.984375 \nQ 41.3125 65.921875 37.59375 65.921875 \nQ 27.828125 65.921875 22.671875 59.328125 \nQ 17.53125 52.734375 16.796875 39.40625 \nQ 19.671875 43.65625 24.015625 45.921875 \nQ 28.375 48.1875 33.59375 48.1875 \nQ 44.578125 48.1875 50.953125 41.515625 \nQ 57.328125 34.859375 57.328125 23.390625 \nQ 57.328125 12.15625 50.6875 5.359375 \nQ 44.046875 -1.421875 33.015625 -1.421875 \nQ 20.359375 -1.421875 13.671875 8.265625 \nQ 6.984375 17.96875 6.984375 36.375 \nQ 6.984375 53.65625 15.1875 63.9375 \nQ 23.390625 74.21875 37.203125 74.21875 \nQ 40.921875 74.21875 44.703125 73.484375 \nQ 48.484375 72.75 52.59375 71.296875 \nz\n\" id=\"DejaVuSans-54\"/>\n       </defs>\n       <use xlink:href=\"#DejaVuSans-48\"/>\n       <use x=\"63.623047\" xlink:href=\"#DejaVuSans-46\"/>\n       <use x=\"95.410156\" xlink:href=\"#DejaVuSans-54\"/>\n       <use x=\"159.033203\" xlink:href=\"#DejaVuSans-48\"/>\n      </g>\n     </g>\n    </g>\n    <g id=\"text_19\">\n     <!-- loss -->\n     <g transform=\"translate(14.798438 125.577812)rotate(-90)scale(0.1 -0.1)\">\n      <defs>\n       <path d=\"M 9.421875 75.984375 \nL 18.40625 75.984375 \nL 18.40625 0 \nL 9.421875 0 \nz\n\" id=\"DejaVuSans-108\"/>\n       <path d=\"M 44.28125 53.078125 \nL 44.28125 44.578125 \nQ 40.484375 46.53125 36.375 47.5 \nQ 32.28125 48.484375 27.875 48.484375 \nQ 21.1875 48.484375 17.84375 46.4375 \nQ 14.5 44.390625 14.5 40.28125 \nQ 14.5 37.15625 16.890625 35.375 \nQ 19.28125 33.59375 26.515625 31.984375 \nL 29.59375 31.296875 \nQ 39.15625 29.25 43.1875 25.515625 \nQ 47.21875 21.78125 47.21875 15.09375 \nQ 47.21875 7.46875 41.1875 3.015625 \nQ 35.15625 -1.421875 24.609375 -1.421875 \nQ 20.21875 -1.421875 15.453125 -0.5625 \nQ 10.6875 0.296875 5.421875 2 \nL 5.421875 11.28125 \nQ 10.40625 8.6875 15.234375 7.390625 \nQ 20.0625 6.109375 24.8125 6.109375 \nQ 31.15625 6.109375 34.5625 8.28125 \nQ 37.984375 10.453125 37.984375 14.40625 \nQ 37.984375 18.0625 35.515625 20.015625 \nQ 33.0625 21.96875 24.703125 23.78125 \nL 21.578125 24.515625 \nQ 13.234375 26.265625 9.515625 29.90625 \nQ 5.8125 33.546875 5.8125 39.890625 \nQ 5.8125 47.609375 11.28125 51.796875 \nQ 16.75 56 26.8125 56 \nQ 31.78125 56 36.171875 55.265625 \nQ 40.578125 54.546875 44.28125 53.078125 \nz\n\" id=\"DejaVuSans-115\"/>\n      </defs>\n      <use xlink:href=\"#DejaVuSans-108\"/>\n      <use x=\"27.783203\" xlink:href=\"#DejaVuSans-111\"/>\n      <use x=\"88.964844\" xlink:href=\"#DejaVuSans-115\"/>\n      <use x=\"141.064453\" xlink:href=\"#DejaVuSans-115\"/>\n     </g>\n    </g>\n   </g>\n   <g id=\"line2d_18\">\n    <path clip-path=\"url(#p596042b63a)\" d=\"M 65.361932 17.083636 \nL 67.189027 26.928369 \nL 67.798059 31.99852 \nL 68.254833 37.452774 \nL 68.863865 48.085825 \nL 69.472896 63.319023 \nL 70.386444 93.191552 \nL 72.061281 149.918135 \nL 72.822571 168.969498 \nL 73.583861 182.862474 \nL 74.345151 192.543313 \nL 75.10644 199.112466 \nL 75.86773 203.533031 \nL 76.62902 206.503427 \nL 77.39031 208.518686 \nL 78.151599 209.911223 \nL 79.065147 211.05653 \nL 79.978695 211.840173 \nL 81.196758 212.551626 \nL 82.56708 213.088926 \nL 84.394175 213.566138 \nL 86.678044 213.953347 \nL 90.332235 214.314235 \nL 95.052232 214.545119 \nL 102.208355 214.682895 \nL 110.430284 214.730849 \nL 124.133499 214.74816 \nL 192.497318 214.752018 \nL 203.916664 214.752889 \nL 237.261154 214.75245 \nL 251.573401 214.753454 \nL 262.383715 214.751854 \nL 279.741121 214.753195 \nL 303.797877 214.752207 \nL 369.725568 214.75212 \nL 369.725568 214.75212 \n\" style=\"fill:none;stroke:#1f77b4;stroke-linecap:square;stroke-width:1.5;\"/>\n   </g>\n   <g id=\"patch_3\">\n    <path d=\"M 50.14375 224.64 \nL 50.14375 7.2 \n\" style=\"fill:none;stroke:#000000;stroke-linecap:square;stroke-linejoin:miter;stroke-width:0.8;\"/>\n   </g>\n   <g id=\"patch_4\">\n    <path d=\"M 384.94375 224.64 \nL 384.94375 7.2 \n\" style=\"fill:none;stroke:#000000;stroke-linecap:square;stroke-linejoin:miter;stroke-width:0.8;\"/>\n   </g>\n   <g id=\"patch_5\">\n    <path d=\"M 50.14375 224.64 \nL 384.94375 224.64 \n\" style=\"fill:none;stroke:#000000;stroke-linecap:square;stroke-linejoin:miter;stroke-width:0.8;\"/>\n   </g>\n   <g id=\"patch_6\">\n    <path d=\"M 50.14375 7.2 \nL 384.94375 7.2 \n\" style=\"fill:none;stroke:#000000;stroke-linecap:square;stroke-linejoin:miter;stroke-width:0.8;\"/>\n   </g>\n  </g>\n </g>\n <defs>\n  <clipPath id=\"p596042b63a\">\n   <rect height=\"217.44\" width=\"334.8\" x=\"50.14375\" y=\"7.2\"/>\n  </clipPath>\n </defs>\n</svg>\n",
      "image/png": "[encoded data removed]"
     },
     "metadata": {
      "needs_background": "light"
     }
    }
   ],
   "source": [
    "hist = mini_model.fit([mini_df.user_id,mini_df.vocab], mini_df.correctAvg, epochs=2000, verbose=0) \n",
    "print('loss: ', hist.history['loss'][-1])\n",
    "\n",
    "%matplotlib inline\n",
    "import matplotlib.pyplot as plt\n",
    "\n",
    "plt.plot(hist.history['loss'])\n",
    "plt.xlabel('epoch')\n",
    "plt.ylabel('loss')\n",
    "plt.show()\n"
   ]
  },
  {
   "cell_type": "code",
   "execution_count": 83,
   "metadata": {},
   "outputs": [
    {
     "output_type": "stream",
     "name": "stdout",
     "text": [
      "126/126 [==============================] - 0s 1ms/step - loss: 0.2253\n",
      "test loss:  0.22527645528316498\n"
     ]
    }
   ],
   "source": [
    "test_loss = mini_model.evaluate([test_df.user_id, test_df.vocab], test_df.correctAvg)\n",
    "\n",
    "print('test loss: ', test_loss)"
   ]
  },
  {
   "cell_type": "code",
   "execution_count": 84,
   "metadata": {},
   "outputs": [
    {
     "output_type": "execute_result",
     "data": {
      "text/plain": [
       "           0         1         2         3         4         5         6   \\\n",
       "0    0.454367  0.374654  0.444268  0.478070  0.343605  0.470034  0.422985   \n",
       "1    0.454461  0.374731  0.444360  0.478169  0.343675  0.470131  0.423073   \n",
       "2    0.454703  0.374931  0.444597  0.478424  0.343859  0.470382  0.423298   \n",
       "3    0.457661  0.377370  0.447489  0.481536  0.346096  0.473442  0.426052   \n",
       "4    0.764921  0.630725  0.747920  0.804825  0.578454  0.791297  0.712090   \n",
       "..        ...       ...       ...       ...       ...       ...       ...   \n",
       "926  0.589402  0.485998  0.576301  0.620149  0.445721  0.609725  0.548693   \n",
       "927  0.737571  0.608173  0.721177  0.776047  0.557771  0.763003  0.686629   \n",
       "928  0.587752  0.484638  0.574689  0.618414  0.444474  0.608019  0.547158   \n",
       "929  0.587497  0.484428  0.574439  0.618145  0.444281  0.607755  0.546920   \n",
       "930  0.587605  0.484517  0.574545  0.618259  0.444363  0.607867  0.547021   \n",
       "\n",
       "           7         8         9         10        11        12        13  \\\n",
       "0    0.270425  0.355215  0.371953  0.250807  0.366238  0.327913  0.456895   \n",
       "1    0.270481  0.355288  0.372029  0.250858  0.366314  0.327981  0.456989   \n",
       "2    0.270625  0.355478  0.372228  0.250992  0.366509  0.328156  0.457233   \n",
       "3    0.272385  0.357790  0.374649  0.252625  0.368893  0.330290  0.460207   \n",
       "4    0.455257  0.598000  0.626178  0.422230  0.616558  0.552038  0.769177   \n",
       "..        ...       ...       ...       ...       ...       ...       ...   \n",
       "926  0.350793  0.460782  0.482494  0.325345  0.475082  0.425366  0.592681   \n",
       "927  0.438979  0.576618  0.603788  0.407133  0.594512  0.532299  0.741674   \n",
       "928  0.349812  0.459493  0.481144  0.324434  0.473752  0.424176  0.591023   \n",
       "929  0.349660  0.459294  0.480935  0.324293  0.473546  0.423992  0.590766   \n",
       "930  0.349724  0.459378  0.481024  0.324353  0.473634  0.424070  0.590874   \n",
       "\n",
       "           14        15  \n",
       "0    0.352565  0.462327  \n",
       "1    0.352638  0.462422  \n",
       "2    0.352826  0.462669  \n",
       "3    0.355121  0.465679  \n",
       "4    0.593539  0.778322  \n",
       "..        ...       ...  \n",
       "926  0.457345  0.599727  \n",
       "927  0.572316  0.750492  \n",
       "928  0.456065  0.598049  \n",
       "929  0.455867  0.597790  \n",
       "930  0.455951  0.597899  \n",
       "\n",
       "[931 rows x 16 columns]"
      ],
      "text/html": "<div>\n<style scoped>\n    .dataframe tbody tr th:only-of-type {\n        vertical-align: middle;\n    }\n\n    .dataframe tbody tr th {\n        vertical-align: top;\n    }\n\n    .dataframe thead th {\n        text-align: right;\n    }\n</style>\n<table border=\"1\" class=\"dataframe\">\n  <thead>\n    <tr style=\"text-align: right;\">\n      <th></th>\n      <th>0</th>\n      <th>1</th>\n      <th>2</th>\n      <th>3</th>\n      <th>4</th>\n      <th>5</th>\n      <th>6</th>\n      <th>7</th>\n      <th>8</th>\n      <th>9</th>\n      <th>10</th>\n      <th>11</th>\n      <th>12</th>\n      <th>13</th>\n      <th>14</th>\n      <th>15</th>\n    </tr>\n  </thead>\n  <tbody>\n    <tr>\n      <th>0</th>\n      <td>0.454367</td>\n      <td>0.374654</td>\n      <td>0.444268</td>\n      <td>0.478070</td>\n      <td>0.343605</td>\n      <td>0.470034</td>\n      <td>0.422985</td>\n      <td>0.270425</td>\n      <td>0.355215</td>\n      <td>0.371953</td>\n      <td>0.250807</td>\n      <td>0.366238</td>\n      <td>0.327913</td>\n      <td>0.456895</td>\n      <td>0.352565</td>\n      <td>0.462327</td>\n    </tr>\n    <tr>\n      <th>1</th>\n      <td>0.454461</td>\n      <td>0.374731</td>\n      <td>0.444360</td>\n      <td>0.478169</td>\n      <td>0.343675</td>\n      <td>0.470131</td>\n      <td>0.423073</td>\n      <td>0.270481</td>\n      <td>0.355288</td>\n      <td>0.372029</td>\n      <td>0.250858</td>\n      <td>0.366314</td>\n      <td>0.327981</td>\n      <td>0.456989</td>\n      <td>0.352638</td>\n      <td>0.462422</td>\n    </tr>\n    <tr>\n      <th>2</th>\n      <td>0.454703</td>\n      <td>0.374931</td>\n      <td>0.444597</td>\n      <td>0.478424</td>\n      <td>0.343859</td>\n      <td>0.470382</td>\n      <td>0.423298</td>\n      <td>0.270625</td>\n      <td>0.355478</td>\n      <td>0.372228</td>\n      <td>0.250992</td>\n      <td>0.366509</td>\n      <td>0.328156</td>\n      <td>0.457233</td>\n      <td>0.352826</td>\n      <td>0.462669</td>\n    </tr>\n    <tr>\n      <th>3</th>\n      <td>0.457661</td>\n      <td>0.377370</td>\n      <td>0.447489</td>\n      <td>0.481536</td>\n      <td>0.346096</td>\n      <td>0.473442</td>\n      <td>0.426052</td>\n      <td>0.272385</td>\n      <td>0.357790</td>\n      <td>0.374649</td>\n      <td>0.252625</td>\n      <td>0.368893</td>\n      <td>0.330290</td>\n      <td>0.460207</td>\n      <td>0.355121</td>\n      <td>0.465679</td>\n    </tr>\n    <tr>\n      <th>4</th>\n      <td>0.764921</td>\n      <td>0.630725</td>\n      <td>0.747920</td>\n      <td>0.804825</td>\n      <td>0.578454</td>\n      <td>0.791297</td>\n      <td>0.712090</td>\n      <td>0.455257</td>\n      <td>0.598000</td>\n      <td>0.626178</td>\n      <td>0.422230</td>\n      <td>0.616558</td>\n      <td>0.552038</td>\n      <td>0.769177</td>\n      <td>0.593539</td>\n      <td>0.778322</td>\n    </tr>\n    <tr>\n      <th>...</th>\n      <td>...</td>\n      <td>...</td>\n      <td>...</td>\n      <td>...</td>\n      <td>...</td>\n      <td>...</td>\n      <td>...</td>\n      <td>...</td>\n      <td>...</td>\n      <td>...</td>\n      <td>...</td>\n      <td>...</td>\n      <td>...</td>\n      <td>...</td>\n      <td>...</td>\n      <td>...</td>\n    </tr>\n    <tr>\n      <th>926</th>\n      <td>0.589402</td>\n      <td>0.485998</td>\n      <td>0.576301</td>\n      <td>0.620149</td>\n      <td>0.445721</td>\n      <td>0.609725</td>\n      <td>0.548693</td>\n      <td>0.350793</td>\n      <td>0.460782</td>\n      <td>0.482494</td>\n      <td>0.325345</td>\n      <td>0.475082</td>\n      <td>0.425366</td>\n      <td>0.592681</td>\n      <td>0.457345</td>\n      <td>0.599727</td>\n    </tr>\n    <tr>\n      <th>927</th>\n      <td>0.737571</td>\n      <td>0.608173</td>\n      <td>0.721177</td>\n      <td>0.776047</td>\n      <td>0.557771</td>\n      <td>0.763003</td>\n      <td>0.686629</td>\n      <td>0.438979</td>\n      <td>0.576618</td>\n      <td>0.603788</td>\n      <td>0.407133</td>\n      <td>0.594512</td>\n      <td>0.532299</td>\n      <td>0.741674</td>\n      <td>0.572316</td>\n      <td>0.750492</td>\n    </tr>\n    <tr>\n      <th>928</th>\n      <td>0.587752</td>\n      <td>0.484638</td>\n      <td>0.574689</td>\n      <td>0.618414</td>\n      <td>0.444474</td>\n      <td>0.608019</td>\n      <td>0.547158</td>\n      <td>0.349812</td>\n      <td>0.459493</td>\n      <td>0.481144</td>\n      <td>0.324434</td>\n      <td>0.473752</td>\n      <td>0.424176</td>\n      <td>0.591023</td>\n      <td>0.456065</td>\n      <td>0.598049</td>\n    </tr>\n    <tr>\n      <th>929</th>\n      <td>0.587497</td>\n      <td>0.484428</td>\n      <td>0.574439</td>\n      <td>0.618145</td>\n      <td>0.444281</td>\n      <td>0.607755</td>\n      <td>0.546920</td>\n      <td>0.349660</td>\n      <td>0.459294</td>\n      <td>0.480935</td>\n      <td>0.324293</td>\n      <td>0.473546</td>\n      <td>0.423992</td>\n      <td>0.590766</td>\n      <td>0.455867</td>\n      <td>0.597790</td>\n    </tr>\n    <tr>\n      <th>930</th>\n      <td>0.587605</td>\n      <td>0.484517</td>\n      <td>0.574545</td>\n      <td>0.618259</td>\n      <td>0.444363</td>\n      <td>0.607867</td>\n      <td>0.547021</td>\n      <td>0.349724</td>\n      <td>0.459378</td>\n      <td>0.481024</td>\n      <td>0.324353</td>\n      <td>0.473634</td>\n      <td>0.424070</td>\n      <td>0.590874</td>\n      <td>0.455951</td>\n      <td>0.597899</td>\n    </tr>\n  </tbody>\n</table>\n<p>931 rows × 16 columns</p>\n</div>"
     },
     "metadata": {},
     "execution_count": 84
    }
   ],
   "source": [
    "Q = mini_model.get_layer(name='item_embedding').get_weights()[0]\n",
    "P = mini_model.get_layer(name='user_embedding').get_weights()[0]\n",
    "P_t = np.transpose(P)\n",
    "\n",
    "R_hat = np.dot(Q, P_t)\n",
    "MFdf=pd.DataFrame(R_hat)\n",
    "MFdf"
   ]
  },
  {
   "cell_type": "code",
   "execution_count": 85,
   "metadata": {},
   "outputs": [],
   "source": [
    "MFdf.to_csv('vocabMF.csv')"
   ]
  },
  {
   "cell_type": "code",
   "execution_count": 169,
   "metadata": {},
   "outputs": [
    {
     "output_type": "stream",
     "name": "stdout",
     "text": [
      "qId1에 대한 Bob의 예상 정답률은 0.5\nqId2에 대한 anjelina의 예상 정답률은 0.3 이다.\n"
     ]
    }
   ],
   "source": [
    "print('qId1에 대한 Bob의 예상 정답률은 {:.1f}'.format(R_hat[0][1]))\n",
    "print('qId2에 대한 anjelina의 예상 정답률은 {:.1f} 이다.'.format(R_hat[2][2]))"
   ]
  },
  {
   "cell_type": "code",
   "execution_count": 86,
   "metadata": {},
   "outputs": [
    {
     "output_type": "stream",
     "name": "stdout",
     "text": [
      "WARNING:tensorflow:From /Users/kwonhyunah/opt/anaconda3/envs/new/lib/python3.7/site-packages/tensorflow/python/training/tracking/tracking.py:111: Model.state_updates (from tensorflow.python.keras.engine.training) is deprecated and will be removed in a future version.\n",
      "Instructions for updating:\n",
      "This property should not be used in TensorFlow 2.0, as updates are applied automatically.\n",
      "WARNING:tensorflow:From /Users/kwonhyunah/opt/anaconda3/envs/new/lib/python3.7/site-packages/tensorflow/python/training/tracking/tracking.py:111: Layer.updates (from tensorflow.python.keras.engine.base_layer) is deprecated and will be removed in a future version.\n",
      "Instructions for updating:\n",
      "This property should not be used in TensorFlow 2.0, as updates are applied automatically.\n",
      "INFO:tensorflow:Assets written to: ./vocabmodel/assets\n"
     ]
    }
   ],
   "source": [
    "mini_model.save('./vocabmodel')"
   ]
  },
  {
   "cell_type": "code",
   "execution_count": 87,
   "metadata": {},
   "outputs": [],
   "source": [
    "from tensorflow import keras"
   ]
  },
  {
   "cell_type": "code",
   "execution_count": 88,
   "metadata": {},
   "outputs": [
    {
     "output_type": "execute_result",
     "data": {
      "text/plain": [
       "<tensorflow.python.keras.engine.functional.Functional at 0x7fd564875c88>"
      ]
     },
     "metadata": {},
     "execution_count": 88
    }
   ],
   "source": [
    "keras.models.load_model('./vocabmodel')"
   ]
  },
  {
   "cell_type": "code",
   "execution_count": null,
   "metadata": {},
   "outputs": [],
   "source": []
  }
 ]
}