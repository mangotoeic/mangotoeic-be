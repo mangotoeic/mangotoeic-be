{
  "nbformat": 4,
  "nbformat_minor": 0,
  "metadata": {
    "colab": {
      "name": "keras-gan-mnist-tutorial",
      "provenance": [],
      "collapsed_sections": []
    },
    "kernelspec": {
      "name": "python38564bitf340b25ac99d44e1aa99b98b69d6b7c2",
      "display_name": "Python 3.8.5 64-bit"
    },
    "accelerator": "GPU"
  },
  "cells": [
    {
      "cell_type": "markdown",
      "metadata": {
        "id": "UZqDpAqN5zQZ"
      },
      "source": [
        "## Define channel order, module"
      ]
    },
    {
      "cell_type": "code",
      "metadata": {
        "id": "NBmv_OBr5m8O"
      },
      "source": [
        "import argparse\n",
        "\n",
        "import numpy as np\n",
        "import matplotlib.pyplot as plt\n",
        "\n",
        "from keras.models import Model, Sequential\n",
        "from keras.layers.core import Reshape, Dense, Dropout, Flatten\n",
        "from keras.layers.advanced_activations import LeakyReLU\n",
        "from keras.layers.convolutional import Conv2D, MaxPooling2D, UpSampling2D\n",
        "from keras.layers.normalization import BatchNormalization\n",
        "from keras.datasets import mnist\n",
        "from keras.optimizers import Adam\n",
        "from keras import initializers\n",
        "from keras import backend as K\n",
        "\n",
        "\n",
        "K.set_image_data_format('channels_first')"
      ],
      "execution_count": 3,
      "outputs": []
    },
    {
      "cell_type": "markdown",
      "metadata": {
        "id": "8LTA95-D58gg"
      },
      "source": [
        "## Define Dataset"
      ]
    },
    {
      "cell_type": "code",
      "metadata": {
        "id": "_C4wa1p35-3s"
      },
      "source": [
        "class Data:\n",
        "    \"\"\"\n",
        "    Define dataset for training GAN\n",
        "    \"\"\"\n",
        "    def __init__(self, batch_size, z_input_dim):\n",
        "        # load mnist dataset\n",
        "        # 이미지는 보통 -1~1 사이의 값으로 normalization : generator의 outputlayer를 tanh로\n",
        "        (X_train, y_train), (X_test, y_test) = mnist.load_data()\n",
        "        self.x_data = ((X_train.astype(np.float32) - 127.5) / 127.5)\n",
        "        self.x_data = self.x_data.reshape((self.x_data.shape[0], 1) + self.x_data.shape[1:])\n",
        "        self.batch_size = batch_size\n",
        "        self.z_input_dim = z_input_dim\n",
        "\n",
        "    def get_real_sample(self):\n",
        "        \"\"\"\n",
        "        get real sample mnist images\n",
        "\n",
        "        :return: batch_size number of mnist image data\n",
        "        \"\"\"\n",
        "        return self.x_data[np.random.randint(0, self.x_data.shape[0], size=self.batch_size)]\n",
        "\n",
        "    def get_z_sample(self, sample_size):\n",
        "        \"\"\"\n",
        "        get z sample data\n",
        "\n",
        "        :return: random z data (batch_size, z_input_dim) size\n",
        "        \"\"\"\n",
        "        return np.random.uniform(-1.0, 1.0, (sample_size, self.z_input_dim))"
      ],
      "execution_count": 4,
      "outputs": []
    },
    {
      "cell_type": "markdown",
      "metadata": {
        "id": "5Uu0cTJq6FeX"
      },
      "source": [
        "- Mnist data test"
      ]
    },
    {
      "cell_type": "code",
      "metadata": {
        "id": "tP3VXE176IJx",
        "outputId": "de18ee3d-3292-4a12-c516-2e66980c5913",
        "colab": {
          "base_uri": "https://localhost:8080/",
          "height": 407
        }
      },
      "source": [
        "data = Data(batch_size=2, z_input_dim=10)\n",
        "print(data.get_real_sample())\n",
        "print(data.get_z_sample(2))"
      ],
      "execution_count": 5,
      "outputs": [
        {
          "output_type": "stream",
          "name": "stdout",
          "text": [
            "Downloading data from https://storage.googleapis.com/tensorflow/tf-keras-datasets/mnist.npz\n",
            "11493376/11490434 [==============================] - 1s 0us/step\n",
            "[[[[-1. -1. -1. ... -1. -1. -1.]\n",
            "   [-1. -1. -1. ... -1. -1. -1.]\n",
            "   [-1. -1. -1. ... -1. -1. -1.]\n",
            "   ...\n",
            "   [-1. -1. -1. ... -1. -1. -1.]\n",
            "   [-1. -1. -1. ... -1. -1. -1.]\n",
            "   [-1. -1. -1. ... -1. -1. -1.]]]\n",
            "\n",
            "\n",
            " [[[-1. -1. -1. ... -1. -1. -1.]\n",
            "   [-1. -1. -1. ... -1. -1. -1.]\n",
            "   [-1. -1. -1. ... -1. -1. -1.]\n",
            "   ...\n",
            "   [-1. -1. -1. ... -1. -1. -1.]\n",
            "   [-1. -1. -1. ... -1. -1. -1.]\n",
            "   [-1. -1. -1. ... -1. -1. -1.]]]]\n",
            "[[-0.08973814 -0.43585781 -0.95328346 -0.58838299  0.88871873  0.22293485\n",
            "  -0.22838246  0.27046392  0.27988974 -0.64331253]\n",
            " [ 0.0170009   0.46937323  0.8604453  -0.62102865 -0.24260055 -0.57235157\n",
            "  -0.58081253  0.15082813  0.4823957  -0.49007947]]\n"
          ]
        }
      ]
    },
    {
      "cell_type": "markdown",
      "metadata": {
        "id": "WBttxOqW62BX"
      },
      "source": [
        "## GAN 모델 정의\n",
        "\n",
        "- discriminator : CNN 판별기로 모델링\n",
        "- generator : input Z를 확장한 뒤 CNN 생성기로 모델링"
      ]
    },
    {
      "cell_type": "code",
      "metadata": {
        "id": "wbWs_j2I6YqR"
      },
      "source": [
        "class GAN:\n",
        "    def __init__(self, learning_rate, z_input_dim):\n",
        "        \"\"\"\n",
        "        init params\n",
        "\n",
        "        :param learning_rate: learning rate of optimizer\n",
        "        :param z_input_dim: input dim of z\n",
        "        \"\"\"\n",
        "        self.learning_rate = learning_rate\n",
        "        self.z_input_dim = z_input_dim\n",
        "        self.D = self.discriminator()\n",
        "        self.G = self.generator()\n",
        "        self.GD = self.combined()\n",
        "\n",
        "    def discriminator(self):\n",
        "        \"\"\"\n",
        "        define discriminator\n",
        "        \"\"\"\n",
        "        D = Sequential()\n",
        "        D.add(Conv2D(256, (5, 5),\n",
        "                     padding='same',\n",
        "                     input_shape=(1, 28, 28),\n",
        "                     kernel_initializer=initializers.RandomNormal(stddev=0.02)))\n",
        "        D.add(LeakyReLU(0.2))\n",
        "        D.add(MaxPooling2D(pool_size=(2, 2), strides=2))\n",
        "        D.add(Dropout(0.3))\n",
        "        D.add(Conv2D(512, (5, 5), padding='same'))\n",
        "        D.add(LeakyReLU(0.2))\n",
        "        D.add(MaxPooling2D(pool_size=(2, 2), strides=2))\n",
        "        D.add(Dropout(0.3))\n",
        "        D.add(Flatten())\n",
        "        D.add(Dense(256))\n",
        "        D.add(LeakyReLU(0.2))\n",
        "        D.add(Dropout(0.3))\n",
        "        D.add(Dense(1, activation='sigmoid'))\n",
        "\n",
        "        adam = Adam(lr=self.learning_rate, beta_1=0.5)\n",
        "        D.compile(loss='binary_crossentropy', optimizer=adam, metrics=['accuracy'])\n",
        "        return D\n",
        "\n",
        "    def generator(self):\n",
        "        \"\"\"\n",
        "        define generator\n",
        "        \"\"\"\n",
        "        G = Sequential()\n",
        "        G.add(Dense(512, input_dim=self.z_input_dim))\n",
        "        G.add(LeakyReLU(0.2))\n",
        "        G.add(Dense(128 * 7 * 7))\n",
        "        G.add(LeakyReLU(0.2))\n",
        "        G.add(BatchNormalization())\n",
        "        G.add(Reshape((128, 7, 7), input_shape=(128 * 7 * 7,)))\n",
        "        G.add(UpSampling2D(size=(2, 2)))\n",
        "        G.add(Conv2D(64, (5, 5), padding='same', activation='tanh'))\n",
        "        G.add(UpSampling2D(size=(2, 2)))\n",
        "        G.add(Conv2D(1, (5, 5), padding='same', activation='tanh'))\n",
        "\n",
        "        adam = Adam(lr=self.learning_rate, beta_1=0.5)\n",
        "        G.compile(loss='binary_crossentropy', optimizer=adam, metrics=['accuracy'])\n",
        "        return G\n",
        "\n",
        "    def combined(self):\n",
        "        \"\"\"\n",
        "        defien combined gan model\n",
        "        \"\"\"\n",
        "        G, D = self.G, self.D\n",
        "        D.trainable = False\n",
        "        GD = Sequential()\n",
        "        GD.add(G)\n",
        "        GD.add(D)\n",
        "\n",
        "        adam = Adam(lr=self.learning_rate, beta_1=0.5)\n",
        "        GD.compile(loss='binary_crossentropy', optimizer=adam, metrics=['accuracy'])\n",
        "        D.trainable = True\n",
        "        return GD\n"
      ],
      "execution_count": 6,
      "outputs": []
    },
    {
      "cell_type": "markdown",
      "metadata": {
        "id": "GjzV3EMG7J91"
      },
      "source": [
        "## Learner 구성\n",
        "\n",
        "- discriminator와 generator를 다른 epoch 비율로 학습 가능하도록 구성\n",
        "- 20 epoch 마다 이미지 생성\n",
        "- D, G를 각각 학습\n",
        "- 학습 완료 후 loss graph 생성"
      ]
    },
    {
      "cell_type": "code",
      "metadata": {
        "id": "UcZP9H6b7FFF"
      },
      "source": [
        "class Model:\n",
        "    def __init__(self, batch_size, epochs, learning_rate, z_input_dim, n_iter_D, n_iter_G):\n",
        "        self.epochs = epochs\n",
        "        self.batch_size = batch_size\n",
        "        self.learning_rate = learning_rate\n",
        "        self.z_input_dim = z_input_dim\n",
        "        self.data = Data(self.batch_size, self.z_input_dim)\n",
        "\n",
        "        # the reason why D, G differ in iter : Generator needs more training than Discriminator\n",
        "        self.n_iter_D = n_iter_D\n",
        "        self.n_iter_G = n_iter_G\n",
        "        self.gan = GAN(self.learning_rate, self.z_input_dim)\n",
        "\n",
        "        # print status\n",
        "        batch_count = self.data.x_data.shape[0] / self.batch_size\n",
        "        print('Epochs:', self.epochs)\n",
        "        print('Batch size:', self.batch_size)\n",
        "        print('Batches per epoch:', batch_count)\n",
        "        print('Learning rate:', self.learning_rate)\n",
        "        print('Image data format:', K.image_data_format())\n",
        "\n",
        "    def fit(self):\n",
        "        self.d_loss = []\n",
        "        self.g_loss = []\n",
        "        for epoch in range(self.epochs):\n",
        "\n",
        "            # train discriminator by real data\n",
        "            dloss = 0\n",
        "            for iter in range(self.n_iter_D):\n",
        "                dloss = self.train_D()\n",
        "\n",
        "            # train GD by generated fake data\n",
        "            gloss = 0\n",
        "            for iter in range(self.n_iter_G):\n",
        "                gloss = self.train_G()\n",
        "\n",
        "            # save loss data\n",
        "            self.d_loss.append(dloss)\n",
        "            self.g_loss.append(gloss)\n",
        "\n",
        "            # plot and save model each 20n epoch\n",
        "            if epoch % 20 == 0:\n",
        "                self.plot_generate_images(epoch, self.gan.G, examples=8)\n",
        "                print('Epoch:', str(epoch))\n",
        "                print('Discriminator loss:', str(dloss))\n",
        "                print('Generator loss:', str(gloss))\n",
        "        \n",
        "        # show loss after train\n",
        "        self.plot_loss_graph(self.g_loss, self.d_loss)\n",
        "\n",
        "    def train_D(self):\n",
        "        \"\"\"\n",
        "        train Discriminator\n",
        "        \"\"\"\n",
        "\n",
        "        # Real data\n",
        "        real = self.data.get_real_sample()\n",
        "\n",
        "        # Generated data\n",
        "        z = self.data.get_z_sample(self.batch_size)\n",
        "        generated_images = self.gan.G.predict(z)\n",
        "\n",
        "        # labeling and concat generated, real images\n",
        "        x = np.concatenate((real, generated_images), axis=0)\n",
        "        y = [0.9] * self.batch_size + [0] * self.batch_size\n",
        "\n",
        "        # train discriminator\n",
        "        self.gan.D.trainable = True\n",
        "        loss = self.gan.D.train_on_batch(x, y)\n",
        "        return loss\n",
        "\n",
        "    def train_G(self):\n",
        "        \"\"\"\n",
        "        train Generator\n",
        "        \"\"\"\n",
        "\n",
        "        # Generated data\n",
        "        z = self.data.get_z_sample(self.batch_size)\n",
        "\n",
        "        # labeling\n",
        "        y = [1] * self.batch_size\n",
        "\n",
        "        # train generator\n",
        "        self.gan.D.trainable = False\n",
        "        loss = self.gan.GD.train_on_batch(z, y)\n",
        "        return loss\n",
        "\n",
        "    def plot_loss_graph(self, g_loss, d_loss):\n",
        "        \"\"\"\n",
        "        Save training loss graph\n",
        "        \"\"\"\n",
        "\n",
        "        # show loss graph\n",
        "        plt.figure(figsize=(10, 8))\n",
        "        plt.plot(d_loss, label='Discriminator loss')\n",
        "        plt.plot(g_loss, label='Generator loss')\n",
        "        plt.xlabel('Epoch')\n",
        "        plt.ylabel('Loss')\n",
        "        plt.legend()\n",
        "        plt.show()\n",
        "\n",
        "    def plot_generate_images(self, epoch, generator, examples=8):\n",
        "        \"\"\"\n",
        "        Save generated mnist images\n",
        "        \"\"\"\n",
        "        # plt info\n",
        "        dim = (10, 10)\n",
        "        figsize = (10, 10)\n",
        "\n",
        "        # generate images\n",
        "        z = self.data.get_z_sample(examples)\n",
        "        generated_images = generator.predict(z)\n",
        "\n",
        "        # show images\n",
        "        plt.figure(figsize=figsize)\n",
        "        for i in range(generated_images.shape[0]):\n",
        "            plt.subplot(dim[0], dim[1], i + 1)\n",
        "            plt.imshow(generated_images[i].reshape((28, 28)), interpolation='nearest', cmap='gray_r')\n",
        "            plt.axis('off')\n",
        "        plt.tight_layout()\n",
        "        plt.show()\n"
      ],
      "execution_count": 7,
      "outputs": []
    },
    {
      "cell_type": "markdown",
      "metadata": {
        "id": "LnwetMR87-Za"
      },
      "source": [
        "## 학습 진행"
      ]
    },
    {
      "cell_type": "code",
      "metadata": {
        "id": "U2mIyr0c75-Y",
        "outputId": "1136e27e-6f75-4315-ff4f-264ce09c9745",
        "colab": {
          "base_uri": "https://localhost:8080/",
          "height": 7807
        }
      },
      "source": [
        "def main():\n",
        "    # set hyper parameters    \n",
        "    batch_size = 128\n",
        "    epochs = 1000\n",
        "    learning_rate = 0.0002\n",
        "    z_input_dim = 100\n",
        "    n_iter_D = 1\n",
        "    n_iter_G = 5\n",
        "\n",
        "    # run model\n",
        "    model = Model(batch_size, epochs, learning_rate, z_input_dim, n_iter_D, n_iter_G)\n",
        "    model.fit()\n",
        "\n",
        "\n",
        "if __name__ == '__main__':\n",
        "    main()"
      ],
      "execution_count": 11,
      "outputs": [
        {
          "output_type": "stream",
          "name": "stdout",
          "text": [
            "Epochs: 1000\nBatch size: 128\nBatches per epoch: 468.75\nLearning rate: 0.0002\nImage data format: channels_first\n"
          ]
        },
        {
          "output_type": "error",
          "ename": "UnimplementedError",
          "evalue": " The Conv2D op currently only supports the NHWC tensor format on the CPU. The op was given the format: NCHW\n\t [[node sequential_5/conv2d_8/Conv2D (defined at <ipython-input-7-47c59f46e732>:61) ]] [Op:__inference_predict_function_1746]\n\nFunction call stack:\npredict_function\n",
          "traceback": [
            "\u001b[0;31m---------------------------------------------------------------------------\u001b[0m",
            "\u001b[0;31mUnimplementedError\u001b[0m                        Traceback (most recent call last)",
            "\u001b[0;32m<ipython-input-11-cf4552a9ba92>\u001b[0m in \u001b[0;36m<module>\u001b[0;34m\u001b[0m\n\u001b[1;32m     14\u001b[0m \u001b[0;34m\u001b[0m\u001b[0m\n\u001b[1;32m     15\u001b[0m \u001b[0;32mif\u001b[0m \u001b[0m__name__\u001b[0m \u001b[0;34m==\u001b[0m \u001b[0;34m'__main__'\u001b[0m\u001b[0;34m:\u001b[0m\u001b[0;34m\u001b[0m\u001b[0;34m\u001b[0m\u001b[0m\n\u001b[0;32m---> 16\u001b[0;31m     \u001b[0mmain\u001b[0m\u001b[0;34m(\u001b[0m\u001b[0;34m)\u001b[0m\u001b[0;34m\u001b[0m\u001b[0;34m\u001b[0m\u001b[0m\n\u001b[0m",
            "\u001b[0;32m<ipython-input-11-cf4552a9ba92>\u001b[0m in \u001b[0;36mmain\u001b[0;34m()\u001b[0m\n\u001b[1;32m     10\u001b[0m     \u001b[0;31m# run model\u001b[0m\u001b[0;34m\u001b[0m\u001b[0;34m\u001b[0m\u001b[0;34m\u001b[0m\u001b[0m\n\u001b[1;32m     11\u001b[0m     \u001b[0mmodel\u001b[0m \u001b[0;34m=\u001b[0m \u001b[0mModel\u001b[0m\u001b[0;34m(\u001b[0m\u001b[0mbatch_size\u001b[0m\u001b[0;34m,\u001b[0m \u001b[0mepochs\u001b[0m\u001b[0;34m,\u001b[0m \u001b[0mlearning_rate\u001b[0m\u001b[0;34m,\u001b[0m \u001b[0mz_input_dim\u001b[0m\u001b[0;34m,\u001b[0m \u001b[0mn_iter_D\u001b[0m\u001b[0;34m,\u001b[0m \u001b[0mn_iter_G\u001b[0m\u001b[0;34m)\u001b[0m\u001b[0;34m\u001b[0m\u001b[0;34m\u001b[0m\u001b[0m\n\u001b[0;32m---> 12\u001b[0;31m     \u001b[0mmodel\u001b[0m\u001b[0;34m.\u001b[0m\u001b[0mfit\u001b[0m\u001b[0;34m(\u001b[0m\u001b[0;34m)\u001b[0m\u001b[0;34m\u001b[0m\u001b[0;34m\u001b[0m\u001b[0m\n\u001b[0m\u001b[1;32m     13\u001b[0m \u001b[0;34m\u001b[0m\u001b[0m\n\u001b[1;32m     14\u001b[0m \u001b[0;34m\u001b[0m\u001b[0m\n",
            "\u001b[0;32m<ipython-input-7-47c59f46e732>\u001b[0m in \u001b[0;36mfit\u001b[0;34m(self)\u001b[0m\n\u001b[1;32m     28\u001b[0m             \u001b[0mdloss\u001b[0m \u001b[0;34m=\u001b[0m \u001b[0;36m0\u001b[0m\u001b[0;34m\u001b[0m\u001b[0;34m\u001b[0m\u001b[0m\n\u001b[1;32m     29\u001b[0m             \u001b[0;32mfor\u001b[0m \u001b[0miter\u001b[0m \u001b[0;32min\u001b[0m \u001b[0mrange\u001b[0m\u001b[0;34m(\u001b[0m\u001b[0mself\u001b[0m\u001b[0;34m.\u001b[0m\u001b[0mn_iter_D\u001b[0m\u001b[0;34m)\u001b[0m\u001b[0;34m:\u001b[0m\u001b[0;34m\u001b[0m\u001b[0;34m\u001b[0m\u001b[0m\n\u001b[0;32m---> 30\u001b[0;31m                 \u001b[0mdloss\u001b[0m \u001b[0;34m=\u001b[0m \u001b[0mself\u001b[0m\u001b[0;34m.\u001b[0m\u001b[0mtrain_D\u001b[0m\u001b[0;34m(\u001b[0m\u001b[0;34m)\u001b[0m\u001b[0;34m\u001b[0m\u001b[0;34m\u001b[0m\u001b[0m\n\u001b[0m\u001b[1;32m     31\u001b[0m \u001b[0;34m\u001b[0m\u001b[0m\n\u001b[1;32m     32\u001b[0m             \u001b[0;31m# train GD by generated fake data\u001b[0m\u001b[0;34m\u001b[0m\u001b[0;34m\u001b[0m\u001b[0;34m\u001b[0m\u001b[0m\n",
            "\u001b[0;32m<ipython-input-7-47c59f46e732>\u001b[0m in \u001b[0;36mtrain_D\u001b[0;34m(self)\u001b[0m\n\u001b[1;32m     59\u001b[0m         \u001b[0;31m# Generated data\u001b[0m\u001b[0;34m\u001b[0m\u001b[0;34m\u001b[0m\u001b[0;34m\u001b[0m\u001b[0m\n\u001b[1;32m     60\u001b[0m         \u001b[0mz\u001b[0m \u001b[0;34m=\u001b[0m \u001b[0mself\u001b[0m\u001b[0;34m.\u001b[0m\u001b[0mdata\u001b[0m\u001b[0;34m.\u001b[0m\u001b[0mget_z_sample\u001b[0m\u001b[0;34m(\u001b[0m\u001b[0mself\u001b[0m\u001b[0;34m.\u001b[0m\u001b[0mbatch_size\u001b[0m\u001b[0;34m)\u001b[0m\u001b[0;34m\u001b[0m\u001b[0;34m\u001b[0m\u001b[0m\n\u001b[0;32m---> 61\u001b[0;31m         \u001b[0mgenerated_images\u001b[0m \u001b[0;34m=\u001b[0m \u001b[0mself\u001b[0m\u001b[0;34m.\u001b[0m\u001b[0mgan\u001b[0m\u001b[0;34m.\u001b[0m\u001b[0mG\u001b[0m\u001b[0;34m.\u001b[0m\u001b[0mpredict\u001b[0m\u001b[0;34m(\u001b[0m\u001b[0mz\u001b[0m\u001b[0;34m)\u001b[0m\u001b[0;34m\u001b[0m\u001b[0;34m\u001b[0m\u001b[0m\n\u001b[0m\u001b[1;32m     62\u001b[0m \u001b[0;34m\u001b[0m\u001b[0m\n\u001b[1;32m     63\u001b[0m         \u001b[0;31m# labeling and concat generated, real images\u001b[0m\u001b[0;34m\u001b[0m\u001b[0;34m\u001b[0m\u001b[0;34m\u001b[0m\u001b[0m\n",
            "\u001b[0;32m~/anaconda3/envs/gan/lib/python3.8/site-packages/tensorflow/python/keras/engine/training.py\u001b[0m in \u001b[0;36m_method_wrapper\u001b[0;34m(self, *args, **kwargs)\u001b[0m\n\u001b[1;32m    128\u001b[0m       raise ValueError('{} is not supported in multi-worker mode.'.format(\n\u001b[1;32m    129\u001b[0m           method.__name__))\n\u001b[0;32m--> 130\u001b[0;31m     \u001b[0;32mreturn\u001b[0m \u001b[0mmethod\u001b[0m\u001b[0;34m(\u001b[0m\u001b[0mself\u001b[0m\u001b[0;34m,\u001b[0m \u001b[0;34m*\u001b[0m\u001b[0margs\u001b[0m\u001b[0;34m,\u001b[0m \u001b[0;34m**\u001b[0m\u001b[0mkwargs\u001b[0m\u001b[0;34m)\u001b[0m\u001b[0;34m\u001b[0m\u001b[0;34m\u001b[0m\u001b[0m\n\u001b[0m\u001b[1;32m    131\u001b[0m \u001b[0;34m\u001b[0m\u001b[0m\n\u001b[1;32m    132\u001b[0m   return tf_decorator.make_decorator(\n",
            "\u001b[0;32m~/anaconda3/envs/gan/lib/python3.8/site-packages/tensorflow/python/keras/engine/training.py\u001b[0m in \u001b[0;36mpredict\u001b[0;34m(self, x, batch_size, verbose, steps, callbacks, max_queue_size, workers, use_multiprocessing)\u001b[0m\n\u001b[1;32m   1597\u001b[0m           \u001b[0;32mfor\u001b[0m \u001b[0mstep\u001b[0m \u001b[0;32min\u001b[0m \u001b[0mdata_handler\u001b[0m\u001b[0;34m.\u001b[0m\u001b[0msteps\u001b[0m\u001b[0;34m(\u001b[0m\u001b[0;34m)\u001b[0m\u001b[0;34m:\u001b[0m\u001b[0;34m\u001b[0m\u001b[0;34m\u001b[0m\u001b[0m\n\u001b[1;32m   1598\u001b[0m             \u001b[0mcallbacks\u001b[0m\u001b[0;34m.\u001b[0m\u001b[0mon_predict_batch_begin\u001b[0m\u001b[0;34m(\u001b[0m\u001b[0mstep\u001b[0m\u001b[0;34m)\u001b[0m\u001b[0;34m\u001b[0m\u001b[0;34m\u001b[0m\u001b[0m\n\u001b[0;32m-> 1599\u001b[0;31m             \u001b[0mtmp_batch_outputs\u001b[0m \u001b[0;34m=\u001b[0m \u001b[0mpredict_function\u001b[0m\u001b[0;34m(\u001b[0m\u001b[0miterator\u001b[0m\u001b[0;34m)\u001b[0m\u001b[0;34m\u001b[0m\u001b[0;34m\u001b[0m\u001b[0m\n\u001b[0m\u001b[1;32m   1600\u001b[0m             \u001b[0;32mif\u001b[0m \u001b[0mdata_handler\u001b[0m\u001b[0;34m.\u001b[0m\u001b[0mshould_sync\u001b[0m\u001b[0;34m:\u001b[0m\u001b[0;34m\u001b[0m\u001b[0;34m\u001b[0m\u001b[0m\n\u001b[1;32m   1601\u001b[0m               \u001b[0mcontext\u001b[0m\u001b[0;34m.\u001b[0m\u001b[0masync_wait\u001b[0m\u001b[0;34m(\u001b[0m\u001b[0;34m)\u001b[0m\u001b[0;34m\u001b[0m\u001b[0;34m\u001b[0m\u001b[0m\n",
            "\u001b[0;32m~/anaconda3/envs/gan/lib/python3.8/site-packages/tensorflow/python/eager/def_function.py\u001b[0m in \u001b[0;36m__call__\u001b[0;34m(self, *args, **kwds)\u001b[0m\n\u001b[1;32m    778\u001b[0m       \u001b[0;32melse\u001b[0m\u001b[0;34m:\u001b[0m\u001b[0;34m\u001b[0m\u001b[0;34m\u001b[0m\u001b[0m\n\u001b[1;32m    779\u001b[0m         \u001b[0mcompiler\u001b[0m \u001b[0;34m=\u001b[0m \u001b[0;34m\"nonXla\"\u001b[0m\u001b[0;34m\u001b[0m\u001b[0;34m\u001b[0m\u001b[0m\n\u001b[0;32m--> 780\u001b[0;31m         \u001b[0mresult\u001b[0m \u001b[0;34m=\u001b[0m \u001b[0mself\u001b[0m\u001b[0;34m.\u001b[0m\u001b[0m_call\u001b[0m\u001b[0;34m(\u001b[0m\u001b[0;34m*\u001b[0m\u001b[0margs\u001b[0m\u001b[0;34m,\u001b[0m \u001b[0;34m**\u001b[0m\u001b[0mkwds\u001b[0m\u001b[0;34m)\u001b[0m\u001b[0;34m\u001b[0m\u001b[0;34m\u001b[0m\u001b[0m\n\u001b[0m\u001b[1;32m    781\u001b[0m \u001b[0;34m\u001b[0m\u001b[0m\n\u001b[1;32m    782\u001b[0m       \u001b[0mnew_tracing_count\u001b[0m \u001b[0;34m=\u001b[0m \u001b[0mself\u001b[0m\u001b[0;34m.\u001b[0m\u001b[0m_get_tracing_count\u001b[0m\u001b[0;34m(\u001b[0m\u001b[0;34m)\u001b[0m\u001b[0;34m\u001b[0m\u001b[0;34m\u001b[0m\u001b[0m\n",
            "\u001b[0;32m~/anaconda3/envs/gan/lib/python3.8/site-packages/tensorflow/python/eager/def_function.py\u001b[0m in \u001b[0;36m_call\u001b[0;34m(self, *args, **kwds)\u001b[0m\n\u001b[1;32m    844\u001b[0m               *args, **kwds)\n\u001b[1;32m    845\u001b[0m       \u001b[0;31m# If we did not create any variables the trace we have is good enough.\u001b[0m\u001b[0;34m\u001b[0m\u001b[0;34m\u001b[0m\u001b[0;34m\u001b[0m\u001b[0m\n\u001b[0;32m--> 846\u001b[0;31m       \u001b[0;32mreturn\u001b[0m \u001b[0mself\u001b[0m\u001b[0;34m.\u001b[0m\u001b[0m_concrete_stateful_fn\u001b[0m\u001b[0;34m.\u001b[0m\u001b[0m_filtered_call\u001b[0m\u001b[0;34m(\u001b[0m\u001b[0mcanon_args\u001b[0m\u001b[0;34m,\u001b[0m \u001b[0mcanon_kwds\u001b[0m\u001b[0;34m)\u001b[0m  \u001b[0;31m# pylint: disable=protected-access\u001b[0m\u001b[0;34m\u001b[0m\u001b[0;34m\u001b[0m\u001b[0m\n\u001b[0m\u001b[1;32m    847\u001b[0m \u001b[0;34m\u001b[0m\u001b[0m\n\u001b[1;32m    848\u001b[0m     \u001b[0;32mdef\u001b[0m \u001b[0mfn_with_cond\u001b[0m\u001b[0;34m(\u001b[0m\u001b[0;34m*\u001b[0m\u001b[0minner_args\u001b[0m\u001b[0;34m,\u001b[0m \u001b[0;34m**\u001b[0m\u001b[0minner_kwds\u001b[0m\u001b[0;34m)\u001b[0m\u001b[0;34m:\u001b[0m\u001b[0;34m\u001b[0m\u001b[0;34m\u001b[0m\u001b[0m\n",
            "\u001b[0;32m~/anaconda3/envs/gan/lib/python3.8/site-packages/tensorflow/python/eager/function.py\u001b[0m in \u001b[0;36m_filtered_call\u001b[0;34m(self, args, kwargs, cancellation_manager)\u001b[0m\n\u001b[1;32m   1841\u001b[0m       \u001b[0;31m`\u001b[0m\u001b[0margs\u001b[0m\u001b[0;31m`\u001b[0m \u001b[0;32mand\u001b[0m\u001b[0;31m \u001b[0m\u001b[0;31m`\u001b[0m\u001b[0mkwargs\u001b[0m\u001b[0;31m`\u001b[0m\u001b[0;34m.\u001b[0m\u001b[0;34m\u001b[0m\u001b[0;34m\u001b[0m\u001b[0m\n\u001b[1;32m   1842\u001b[0m     \"\"\"\n\u001b[0;32m-> 1843\u001b[0;31m     return self._call_flat(\n\u001b[0m\u001b[1;32m   1844\u001b[0m         [t for t in nest.flatten((args, kwargs), expand_composites=True)\n\u001b[1;32m   1845\u001b[0m          if isinstance(t, (ops.Tensor,\n",
            "\u001b[0;32m~/anaconda3/envs/gan/lib/python3.8/site-packages/tensorflow/python/eager/function.py\u001b[0m in \u001b[0;36m_call_flat\u001b[0;34m(self, args, captured_inputs, cancellation_manager)\u001b[0m\n\u001b[1;32m   1921\u001b[0m         and executing_eagerly):\n\u001b[1;32m   1922\u001b[0m       \u001b[0;31m# No tape is watching; skip to running the function.\u001b[0m\u001b[0;34m\u001b[0m\u001b[0;34m\u001b[0m\u001b[0;34m\u001b[0m\u001b[0m\n\u001b[0;32m-> 1923\u001b[0;31m       return self._build_call_outputs(self._inference_function.call(\n\u001b[0m\u001b[1;32m   1924\u001b[0m           ctx, args, cancellation_manager=cancellation_manager))\n\u001b[1;32m   1925\u001b[0m     forward_backward = self._select_forward_and_backward_functions(\n",
            "\u001b[0;32m~/anaconda3/envs/gan/lib/python3.8/site-packages/tensorflow/python/eager/function.py\u001b[0m in \u001b[0;36mcall\u001b[0;34m(self, ctx, args, cancellation_manager)\u001b[0m\n\u001b[1;32m    543\u001b[0m       \u001b[0;32mwith\u001b[0m \u001b[0m_InterpolateFunctionError\u001b[0m\u001b[0;34m(\u001b[0m\u001b[0mself\u001b[0m\u001b[0;34m)\u001b[0m\u001b[0;34m:\u001b[0m\u001b[0;34m\u001b[0m\u001b[0;34m\u001b[0m\u001b[0m\n\u001b[1;32m    544\u001b[0m         \u001b[0;32mif\u001b[0m \u001b[0mcancellation_manager\u001b[0m \u001b[0;32mis\u001b[0m \u001b[0;32mNone\u001b[0m\u001b[0;34m:\u001b[0m\u001b[0;34m\u001b[0m\u001b[0;34m\u001b[0m\u001b[0m\n\u001b[0;32m--> 545\u001b[0;31m           outputs = execute.execute(\n\u001b[0m\u001b[1;32m    546\u001b[0m               \u001b[0mstr\u001b[0m\u001b[0;34m(\u001b[0m\u001b[0mself\u001b[0m\u001b[0;34m.\u001b[0m\u001b[0msignature\u001b[0m\u001b[0;34m.\u001b[0m\u001b[0mname\u001b[0m\u001b[0;34m)\u001b[0m\u001b[0;34m,\u001b[0m\u001b[0;34m\u001b[0m\u001b[0;34m\u001b[0m\u001b[0m\n\u001b[1;32m    547\u001b[0m               \u001b[0mnum_outputs\u001b[0m\u001b[0;34m=\u001b[0m\u001b[0mself\u001b[0m\u001b[0;34m.\u001b[0m\u001b[0m_num_outputs\u001b[0m\u001b[0;34m,\u001b[0m\u001b[0;34m\u001b[0m\u001b[0;34m\u001b[0m\u001b[0m\n",
            "\u001b[0;32m~/anaconda3/envs/gan/lib/python3.8/site-packages/tensorflow/python/eager/execute.py\u001b[0m in \u001b[0;36mquick_execute\u001b[0;34m(op_name, num_outputs, inputs, attrs, ctx, name)\u001b[0m\n\u001b[1;32m     57\u001b[0m   \u001b[0;32mtry\u001b[0m\u001b[0;34m:\u001b[0m\u001b[0;34m\u001b[0m\u001b[0;34m\u001b[0m\u001b[0m\n\u001b[1;32m     58\u001b[0m     \u001b[0mctx\u001b[0m\u001b[0;34m.\u001b[0m\u001b[0mensure_initialized\u001b[0m\u001b[0;34m(\u001b[0m\u001b[0;34m)\u001b[0m\u001b[0;34m\u001b[0m\u001b[0;34m\u001b[0m\u001b[0m\n\u001b[0;32m---> 59\u001b[0;31m     tensors = pywrap_tfe.TFE_Py_Execute(ctx._handle, device_name, op_name,\n\u001b[0m\u001b[1;32m     60\u001b[0m                                         inputs, attrs, num_outputs)\n\u001b[1;32m     61\u001b[0m   \u001b[0;32mexcept\u001b[0m \u001b[0mcore\u001b[0m\u001b[0;34m.\u001b[0m\u001b[0m_NotOkStatusException\u001b[0m \u001b[0;32mas\u001b[0m \u001b[0me\u001b[0m\u001b[0;34m:\u001b[0m\u001b[0;34m\u001b[0m\u001b[0;34m\u001b[0m\u001b[0m\n",
            "\u001b[0;31mUnimplementedError\u001b[0m:  The Conv2D op currently only supports the NHWC tensor format on the CPU. The op was given the format: NCHW\n\t [[node sequential_5/conv2d_8/Conv2D (defined at <ipython-input-7-47c59f46e732>:61) ]] [Op:__inference_predict_function_1746]\n\nFunction call stack:\npredict_function\n"
          ]
        }
      ]
    },
    {
      "cell_type": "markdown",
      "metadata": {
        "id": "NVhN5VeLCf9w"
      },
      "source": [
        "## 참고 : 모델 시각화"
      ]
    },
    {
      "cell_type": "code",
      "metadata": {
        "id": "WUPFmJsp8AFj",
        "outputId": "f2d7f40e-2c48-4152-f2e3-aa881212361d",
        "colab": {
          "base_uri": "https://localhost:8080/",
          "height": 2985
        }
      },
      "source": [
        "!apt-get install graphviz\n",
        "!pip install -q pydot\n",
        "!pip install graphviz\n",
        "\n",
        "\n",
        "from IPython.display import SVG\n",
        "from keras.utils.vis_utils import model_to_dot"
      ],
      "execution_count": 9,
      "outputs": [
        {
          "output_type": "stream",
          "name": "stdout",
          "text": [
            "E: 잠금 파일 /var/lib/dpkg/lock-frontend 파일을 열 수 없습니다 - open (13: 허가 거부)\n",
            "E: Unable to acquire the dpkg frontend lock (/var/lib/dpkg/lock-frontend), are you root?\n",
            "Collecting graphviz\n",
            "  Downloading graphviz-0.14.2-py2.py3-none-any.whl (18 kB)\n",
            "Installing collected packages: graphviz\n",
            "Successfully installed graphviz-0.14.2\n"
          ]
        }
      ]
    },
    {
      "cell_type": "code",
      "metadata": {
        "id": "6b8MYOq9BduD",
        "outputId": "bca5818c-42a6-4137-8cdb-b23b20ee646a",
        "colab": {
          "base_uri": "https://localhost:8080/",
          "height": 1532
        }
      },
      "source": [
        "D = Sequential()\n",
        "D.add(Conv2D(256, (5, 5),\n",
        "         padding='same',\n",
        "         input_shape=(1, 28, 28),\n",
        "         kernel_initializer=initializers.RandomNormal(stddev=0.02)))\n",
        "D.add(LeakyReLU(0.2))\n",
        "D.add(MaxPooling2D(pool_size=(2, 2), strides=2))\n",
        "D.add(Dropout(0.3))\n",
        "D.add(Conv2D(512, (5, 5), padding='same'))\n",
        "D.add(LeakyReLU(0.2))\n",
        "D.add(MaxPooling2D(pool_size=(2, 2), strides=2))\n",
        "D.add(Dropout(0.3))\n",
        "D.add(Flatten())\n",
        "D.add(Dense(256))\n",
        "D.add(LeakyReLU(0.2))\n",
        "D.add(Dropout(0.3))\n",
        "D.add(Dense(1, activation='sigmoid'))\n",
        "\n",
        "adam = Adam(lr=0.0002, beta_1=0.5)\n",
        "D.compile(loss='binary_crossentropy', optimizer=adam, metrics=['accuracy'])\n",
        "\n",
        "%matplotlib inline\n",
        "\n",
        "SVG(model_to_dot(D, show_shapes=True).create(prog='dot', format='svg'))"
      ],
      "execution_count": 10,
      "outputs": [
        {
          "output_type": "stream",
          "name": "stdout",
          "text": [
            "('Failed to import pydot. You must `pip install pydot` and install graphviz (https://graphviz.gitlab.io/download/), ', 'for `pydotprint` to work.')\n"
          ]
        },
        {
          "output_type": "error",
          "ename": "AttributeError",
          "evalue": "'NoneType' object has no attribute 'create'",
          "traceback": [
            "\u001b[0;31m---------------------------------------------------------------------------\u001b[0m",
            "\u001b[0;31mAttributeError\u001b[0m                            Traceback (most recent call last)",
            "\u001b[0;32m<ipython-input-10-e11d1e275eaa>\u001b[0m in \u001b[0;36m<module>\u001b[0;34m\u001b[0m\n\u001b[1;32m     22\u001b[0m \u001b[0mget_ipython\u001b[0m\u001b[0;34m(\u001b[0m\u001b[0;34m)\u001b[0m\u001b[0;34m.\u001b[0m\u001b[0mrun_line_magic\u001b[0m\u001b[0;34m(\u001b[0m\u001b[0;34m'matplotlib'\u001b[0m\u001b[0;34m,\u001b[0m \u001b[0;34m'inline'\u001b[0m\u001b[0;34m)\u001b[0m\u001b[0;34m\u001b[0m\u001b[0;34m\u001b[0m\u001b[0m\n\u001b[1;32m     23\u001b[0m \u001b[0;34m\u001b[0m\u001b[0m\n\u001b[0;32m---> 24\u001b[0;31m \u001b[0mSVG\u001b[0m\u001b[0;34m(\u001b[0m\u001b[0mmodel_to_dot\u001b[0m\u001b[0;34m(\u001b[0m\u001b[0mD\u001b[0m\u001b[0;34m,\u001b[0m \u001b[0mshow_shapes\u001b[0m\u001b[0;34m=\u001b[0m\u001b[0;32mTrue\u001b[0m\u001b[0;34m)\u001b[0m\u001b[0;34m.\u001b[0m\u001b[0mcreate\u001b[0m\u001b[0;34m(\u001b[0m\u001b[0mprog\u001b[0m\u001b[0;34m=\u001b[0m\u001b[0;34m'dot'\u001b[0m\u001b[0;34m,\u001b[0m \u001b[0mformat\u001b[0m\u001b[0;34m=\u001b[0m\u001b[0;34m'svg'\u001b[0m\u001b[0;34m)\u001b[0m\u001b[0;34m)\u001b[0m\u001b[0;34m\u001b[0m\u001b[0;34m\u001b[0m\u001b[0m\n\u001b[0m",
            "\u001b[0;31mAttributeError\u001b[0m: 'NoneType' object has no attribute 'create'"
          ]
        }
      ]
    },
    {
      "cell_type": "code",
      "metadata": {
        "id": "VHFXDUjABono",
        "outputId": "6b9573c7-f906-4264-85ec-cd74c825d446",
        "colab": {
          "base_uri": "https://localhost:8080/",
          "height": 1200
        }
      },
      "source": [
        "G = Sequential()\n",
        "G.add(Dense(512, input_dim=100))\n",
        "G.add(LeakyReLU(0.2))\n",
        "G.add(Dense(128 * 7 * 7))\n",
        "G.add(LeakyReLU(0.2))\n",
        "G.add(BatchNormalization())\n",
        "G.add(Reshape((128, 7, 7), input_shape=(128 * 7 * 7,)))\n",
        "G.add(UpSampling2D(size=(2, 2)))\n",
        "G.add(Conv2D(64, (5, 5), padding='same', activation='tanh'))\n",
        "G.add(UpSampling2D(size=(2, 2)))\n",
        "G.add(Conv2D(1, (5, 5), padding='same', activation='tanh'))\n",
        "\n",
        "adam = Adam(lr=0.0002, beta_1=0.5)\n",
        "G.compile(loss='binary_crossentropy', optimizer=adam, metrics=['accuracy'])\n",
        "\n",
        "%matplotlib inline\n",
        "\n",
        "SVG(model_to_dot(G, show_shapes=True).create(prog='dot', format='svg'))"
      ],
      "execution_count": null,
      "outputs": [
        {
          "output_type": "execute_result",
          "data": {
            "text/plain": [
              "<IPython.core.display.SVG object>"
            ],
            "image/svg+xml": "<svg height=\"885pt\" viewBox=\"0.00 0.00 518.00 885.00\" width=\"518pt\" xmlns=\"http://www.w3.org/2000/svg\" xmlns:xlink=\"http://www.w3.org/1999/xlink\">\n<g class=\"graph\" id=\"graph0\" transform=\"scale(1 1) rotate(0) translate(4 881)\">\n<title>G</title>\n<polygon fill=\"white\" points=\"-4,4 -4,-881 514,-881 514,4 -4,4\" stroke=\"none\"/>\n<!-- 140712578888312 -->\n<g class=\"node\" id=\"node1\"><title>140712578888312</title>\n<polygon fill=\"none\" points=\"66,-830.5 66,-876.5 444,-876.5 444,-830.5 66,-830.5\" stroke=\"black\"/>\n<text font-family=\"Times,serif\" font-size=\"14.00\" text-anchor=\"middle\" x=\"170.5\" y=\"-849.8\">dense_3_input: InputLayer</text>\n<polyline fill=\"none\" points=\"275,-830.5 275,-876.5 \" stroke=\"black\"/>\n<text font-family=\"Times,serif\" font-size=\"14.00\" text-anchor=\"middle\" x=\"309\" y=\"-861.3\">input:</text>\n<polyline fill=\"none\" points=\"275,-853.5 343,-853.5 \" stroke=\"black\"/>\n<text font-family=\"Times,serif\" font-size=\"14.00\" text-anchor=\"middle\" x=\"309\" y=\"-838.3\">output:</text>\n<polyline fill=\"none\" points=\"343,-830.5 343,-876.5 \" stroke=\"black\"/>\n<text font-family=\"Times,serif\" font-size=\"14.00\" text-anchor=\"middle\" x=\"393.5\" y=\"-861.3\">(None, 100)</text>\n<polyline fill=\"none\" points=\"343,-853.5 444,-853.5 \" stroke=\"black\"/>\n<text font-family=\"Times,serif\" font-size=\"14.00\" text-anchor=\"middle\" x=\"393.5\" y=\"-838.3\">(None, 100)</text>\n</g>\n<!-- 140711383684320 -->\n<g class=\"node\" id=\"node2\"><title>140711383684320</title>\n<polygon fill=\"none\" points=\"106.5,-747.5 106.5,-793.5 403.5,-793.5 403.5,-747.5 106.5,-747.5\" stroke=\"black\"/>\n<text font-family=\"Times,serif\" font-size=\"14.00\" text-anchor=\"middle\" x=\"170.5\" y=\"-766.8\">dense_3: Dense</text>\n<polyline fill=\"none\" points=\"234.5,-747.5 234.5,-793.5 \" stroke=\"black\"/>\n<text font-family=\"Times,serif\" font-size=\"14.00\" text-anchor=\"middle\" x=\"268.5\" y=\"-778.3\">input:</text>\n<polyline fill=\"none\" points=\"234.5,-770.5 302.5,-770.5 \" stroke=\"black\"/>\n<text font-family=\"Times,serif\" font-size=\"14.00\" text-anchor=\"middle\" x=\"268.5\" y=\"-755.3\">output:</text>\n<polyline fill=\"none\" points=\"302.5,-747.5 302.5,-793.5 \" stroke=\"black\"/>\n<text font-family=\"Times,serif\" font-size=\"14.00\" text-anchor=\"middle\" x=\"353\" y=\"-778.3\">(None, 100)</text>\n<polyline fill=\"none\" points=\"302.5,-770.5 403.5,-770.5 \" stroke=\"black\"/>\n<text font-family=\"Times,serif\" font-size=\"14.00\" text-anchor=\"middle\" x=\"353\" y=\"-755.3\">(None, 512)</text>\n</g>\n<!-- 140712578888312&#45;&gt;140711383684320 -->\n<g class=\"edge\" id=\"edge1\"><title>140712578888312-&gt;140711383684320</title>\n<path d=\"M255,-830.366C255,-822.152 255,-812.658 255,-803.725\" fill=\"none\" stroke=\"black\"/>\n<polygon fill=\"black\" points=\"258.5,-803.607 255,-793.607 251.5,-803.607 258.5,-803.607\" stroke=\"black\"/>\n</g>\n<!-- 140711383684376 -->\n<g class=\"node\" id=\"node3\"><title>140711383684376</title>\n<polygon fill=\"none\" points=\"67,-664.5 67,-710.5 443,-710.5 443,-664.5 67,-664.5\" stroke=\"black\"/>\n<text font-family=\"Times,serif\" font-size=\"14.00\" text-anchor=\"middle\" x=\"170.5\" y=\"-683.8\">leaky_re_lu_4: LeakyReLU</text>\n<polyline fill=\"none\" points=\"274,-664.5 274,-710.5 \" stroke=\"black\"/>\n<text font-family=\"Times,serif\" font-size=\"14.00\" text-anchor=\"middle\" x=\"308\" y=\"-695.3\">input:</text>\n<polyline fill=\"none\" points=\"274,-687.5 342,-687.5 \" stroke=\"black\"/>\n<text font-family=\"Times,serif\" font-size=\"14.00\" text-anchor=\"middle\" x=\"308\" y=\"-672.3\">output:</text>\n<polyline fill=\"none\" points=\"342,-664.5 342,-710.5 \" stroke=\"black\"/>\n<text font-family=\"Times,serif\" font-size=\"14.00\" text-anchor=\"middle\" x=\"392.5\" y=\"-695.3\">(None, 512)</text>\n<polyline fill=\"none\" points=\"342,-687.5 443,-687.5 \" stroke=\"black\"/>\n<text font-family=\"Times,serif\" font-size=\"14.00\" text-anchor=\"middle\" x=\"392.5\" y=\"-672.3\">(None, 512)</text>\n</g>\n<!-- 140711383684320&#45;&gt;140711383684376 -->\n<g class=\"edge\" id=\"edge2\"><title>140711383684320-&gt;140711383684376</title>\n<path d=\"M255,-747.366C255,-739.152 255,-729.658 255,-720.725\" fill=\"none\" stroke=\"black\"/>\n<polygon fill=\"black\" points=\"258.5,-720.607 255,-710.607 251.5,-720.607 258.5,-720.607\" stroke=\"black\"/>\n</g>\n<!-- 140712578889432 -->\n<g class=\"node\" id=\"node4\"><title>140712578889432</title>\n<polygon fill=\"none\" points=\"102,-581.5 102,-627.5 408,-627.5 408,-581.5 102,-581.5\" stroke=\"black\"/>\n<text font-family=\"Times,serif\" font-size=\"14.00\" text-anchor=\"middle\" x=\"166\" y=\"-600.8\">dense_4: Dense</text>\n<polyline fill=\"none\" points=\"230,-581.5 230,-627.5 \" stroke=\"black\"/>\n<text font-family=\"Times,serif\" font-size=\"14.00\" text-anchor=\"middle\" x=\"264\" y=\"-612.3\">input:</text>\n<polyline fill=\"none\" points=\"230,-604.5 298,-604.5 \" stroke=\"black\"/>\n<text font-family=\"Times,serif\" font-size=\"14.00\" text-anchor=\"middle\" x=\"264\" y=\"-589.3\">output:</text>\n<polyline fill=\"none\" points=\"298,-581.5 298,-627.5 \" stroke=\"black\"/>\n<text font-family=\"Times,serif\" font-size=\"14.00\" text-anchor=\"middle\" x=\"353\" y=\"-612.3\">(None, 512)</text>\n<polyline fill=\"none\" points=\"298,-604.5 408,-604.5 \" stroke=\"black\"/>\n<text font-family=\"Times,serif\" font-size=\"14.00\" text-anchor=\"middle\" x=\"353\" y=\"-589.3\">(None, 6272)</text>\n</g>\n<!-- 140711383684376&#45;&gt;140712578889432 -->\n<g class=\"edge\" id=\"edge3\"><title>140711383684376-&gt;140712578889432</title>\n<path d=\"M255,-664.366C255,-656.152 255,-646.658 255,-637.725\" fill=\"none\" stroke=\"black\"/>\n<polygon fill=\"black\" points=\"258.5,-637.607 255,-627.607 251.5,-637.607 258.5,-637.607\" stroke=\"black\"/>\n</g>\n<!-- 140712578889320 -->\n<g class=\"node\" id=\"node5\"><title>140712578889320</title>\n<polygon fill=\"none\" points=\"62.5,-498.5 62.5,-544.5 447.5,-544.5 447.5,-498.5 62.5,-498.5\" stroke=\"black\"/>\n<text font-family=\"Times,serif\" font-size=\"14.00\" text-anchor=\"middle\" x=\"166\" y=\"-517.8\">leaky_re_lu_5: LeakyReLU</text>\n<polyline fill=\"none\" points=\"269.5,-498.5 269.5,-544.5 \" stroke=\"black\"/>\n<text font-family=\"Times,serif\" font-size=\"14.00\" text-anchor=\"middle\" x=\"303.5\" y=\"-529.3\">input:</text>\n<polyline fill=\"none\" points=\"269.5,-521.5 337.5,-521.5 \" stroke=\"black\"/>\n<text font-family=\"Times,serif\" font-size=\"14.00\" text-anchor=\"middle\" x=\"303.5\" y=\"-506.3\">output:</text>\n<polyline fill=\"none\" points=\"337.5,-498.5 337.5,-544.5 \" stroke=\"black\"/>\n<text font-family=\"Times,serif\" font-size=\"14.00\" text-anchor=\"middle\" x=\"392.5\" y=\"-529.3\">(None, 6272)</text>\n<polyline fill=\"none\" points=\"337.5,-521.5 447.5,-521.5 \" stroke=\"black\"/>\n<text font-family=\"Times,serif\" font-size=\"14.00\" text-anchor=\"middle\" x=\"392.5\" y=\"-506.3\">(None, 6272)</text>\n</g>\n<!-- 140712578889432&#45;&gt;140712578889320 -->\n<g class=\"edge\" id=\"edge4\"><title>140712578889432-&gt;140712578889320</title>\n<path d=\"M255,-581.366C255,-573.152 255,-563.658 255,-554.725\" fill=\"none\" stroke=\"black\"/>\n<polygon fill=\"black\" points=\"258.5,-554.607 255,-544.607 251.5,-554.607 258.5,-554.607\" stroke=\"black\"/>\n</g>\n<!-- 140710879554752 -->\n<g class=\"node\" id=\"node6\"><title>140710879554752</title>\n<polygon fill=\"none\" points=\"0,-415.5 0,-461.5 510,-461.5 510,-415.5 0,-415.5\" stroke=\"black\"/>\n<text font-family=\"Times,serif\" font-size=\"14.00\" text-anchor=\"middle\" x=\"166\" y=\"-434.8\">batch_normalization_1: BatchNormalization</text>\n<polyline fill=\"none\" points=\"332,-415.5 332,-461.5 \" stroke=\"black\"/>\n<text font-family=\"Times,serif\" font-size=\"14.00\" text-anchor=\"middle\" x=\"366\" y=\"-446.3\">input:</text>\n<polyline fill=\"none\" points=\"332,-438.5 400,-438.5 \" stroke=\"black\"/>\n<text font-family=\"Times,serif\" font-size=\"14.00\" text-anchor=\"middle\" x=\"366\" y=\"-423.3\">output:</text>\n<polyline fill=\"none\" points=\"400,-415.5 400,-461.5 \" stroke=\"black\"/>\n<text font-family=\"Times,serif\" font-size=\"14.00\" text-anchor=\"middle\" x=\"455\" y=\"-446.3\">(None, 6272)</text>\n<polyline fill=\"none\" points=\"400,-438.5 510,-438.5 \" stroke=\"black\"/>\n<text font-family=\"Times,serif\" font-size=\"14.00\" text-anchor=\"middle\" x=\"455\" y=\"-423.3\">(None, 6272)</text>\n</g>\n<!-- 140712578889320&#45;&gt;140710879554752 -->\n<g class=\"edge\" id=\"edge5\"><title>140712578889320-&gt;140710879554752</title>\n<path d=\"M255,-498.366C255,-490.152 255,-480.658 255,-471.725\" fill=\"none\" stroke=\"black\"/>\n<polygon fill=\"black\" points=\"258.5,-471.607 255,-461.607 251.5,-471.607 258.5,-471.607\" stroke=\"black\"/>\n</g>\n<!-- 140710879551728 -->\n<g class=\"node\" id=\"node7\"><title>140710879551728</title>\n<polygon fill=\"none\" points=\"72.5,-332.5 72.5,-378.5 437.5,-378.5 437.5,-332.5 72.5,-332.5\" stroke=\"black\"/>\n<text font-family=\"Times,serif\" font-size=\"14.00\" text-anchor=\"middle\" x=\"152.5\" y=\"-351.8\">reshape_1: Reshape</text>\n<polyline fill=\"none\" points=\"232.5,-332.5 232.5,-378.5 \" stroke=\"black\"/>\n<text font-family=\"Times,serif\" font-size=\"14.00\" text-anchor=\"middle\" x=\"266.5\" y=\"-363.3\">input:</text>\n<polyline fill=\"none\" points=\"232.5,-355.5 300.5,-355.5 \" stroke=\"black\"/>\n<text font-family=\"Times,serif\" font-size=\"14.00\" text-anchor=\"middle\" x=\"266.5\" y=\"-340.3\">output:</text>\n<polyline fill=\"none\" points=\"300.5,-332.5 300.5,-378.5 \" stroke=\"black\"/>\n<text font-family=\"Times,serif\" font-size=\"14.00\" text-anchor=\"middle\" x=\"369\" y=\"-363.3\">(None, 6272)</text>\n<polyline fill=\"none\" points=\"300.5,-355.5 437.5,-355.5 \" stroke=\"black\"/>\n<text font-family=\"Times,serif\" font-size=\"14.00\" text-anchor=\"middle\" x=\"369\" y=\"-340.3\">(None, 128, 7, 7)</text>\n</g>\n<!-- 140710879554752&#45;&gt;140710879551728 -->\n<g class=\"edge\" id=\"edge6\"><title>140710879554752-&gt;140710879551728</title>\n<path d=\"M255,-415.366C255,-407.152 255,-397.658 255,-388.725\" fill=\"none\" stroke=\"black\"/>\n<polygon fill=\"black\" points=\"258.5,-388.607 255,-378.607 251.5,-388.607 258.5,-388.607\" stroke=\"black\"/>\n</g>\n<!-- 140711383684600 -->\n<g class=\"node\" id=\"node8\"><title>140711383684600</title>\n<polygon fill=\"none\" points=\"13.5,-249.5 13.5,-295.5 496.5,-295.5 496.5,-249.5 13.5,-249.5\" stroke=\"black\"/>\n<text font-family=\"Times,serif\" font-size=\"14.00\" text-anchor=\"middle\" x=\"143.5\" y=\"-268.8\">up_sampling2d_1: UpSampling2D</text>\n<polyline fill=\"none\" points=\"273.5,-249.5 273.5,-295.5 \" stroke=\"black\"/>\n<text font-family=\"Times,serif\" font-size=\"14.00\" text-anchor=\"middle\" x=\"307.5\" y=\"-280.3\">input:</text>\n<polyline fill=\"none\" points=\"273.5,-272.5 341.5,-272.5 \" stroke=\"black\"/>\n<text font-family=\"Times,serif\" font-size=\"14.00\" text-anchor=\"middle\" x=\"307.5\" y=\"-257.3\">output:</text>\n<polyline fill=\"none\" points=\"341.5,-249.5 341.5,-295.5 \" stroke=\"black\"/>\n<text font-family=\"Times,serif\" font-size=\"14.00\" text-anchor=\"middle\" x=\"419\" y=\"-280.3\">(None, 128, 7, 7)</text>\n<polyline fill=\"none\" points=\"341.5,-272.5 496.5,-272.5 \" stroke=\"black\"/>\n<text font-family=\"Times,serif\" font-size=\"14.00\" text-anchor=\"middle\" x=\"419\" y=\"-257.3\">(None, 128, 14, 14)</text>\n</g>\n<!-- 140710879551728&#45;&gt;140711383684600 -->\n<g class=\"edge\" id=\"edge7\"><title>140710879551728-&gt;140711383684600</title>\n<path d=\"M255,-332.366C255,-324.152 255,-314.658 255,-305.725\" fill=\"none\" stroke=\"black\"/>\n<polygon fill=\"black\" points=\"258.5,-305.607 255,-295.607 251.5,-305.607 258.5,-305.607\" stroke=\"black\"/>\n</g>\n<!-- 140710879554024 -->\n<g class=\"node\" id=\"node9\"><title>140710879554024</title>\n<polygon fill=\"none\" points=\"68,-166.5 68,-212.5 442,-212.5 442,-166.5 68,-166.5\" stroke=\"black\"/>\n<text font-family=\"Times,serif\" font-size=\"14.00\" text-anchor=\"middle\" x=\"143.5\" y=\"-185.8\">conv2d_3: Conv2D</text>\n<polyline fill=\"none\" points=\"219,-166.5 219,-212.5 \" stroke=\"black\"/>\n<text font-family=\"Times,serif\" font-size=\"14.00\" text-anchor=\"middle\" x=\"253\" y=\"-197.3\">input:</text>\n<polyline fill=\"none\" points=\"219,-189.5 287,-189.5 \" stroke=\"black\"/>\n<text font-family=\"Times,serif\" font-size=\"14.00\" text-anchor=\"middle\" x=\"253\" y=\"-174.3\">output:</text>\n<polyline fill=\"none\" points=\"287,-166.5 287,-212.5 \" stroke=\"black\"/>\n<text font-family=\"Times,serif\" font-size=\"14.00\" text-anchor=\"middle\" x=\"364.5\" y=\"-197.3\">(None, 128, 14, 14)</text>\n<polyline fill=\"none\" points=\"287,-189.5 442,-189.5 \" stroke=\"black\"/>\n<text font-family=\"Times,serif\" font-size=\"14.00\" text-anchor=\"middle\" x=\"364.5\" y=\"-174.3\">(None, 64, 14, 14)</text>\n</g>\n<!-- 140711383684600&#45;&gt;140710879554024 -->\n<g class=\"edge\" id=\"edge8\"><title>140711383684600-&gt;140710879554024</title>\n<path d=\"M255,-249.366C255,-241.152 255,-231.658 255,-222.725\" fill=\"none\" stroke=\"black\"/>\n<polygon fill=\"black\" points=\"258.5,-222.607 255,-212.607 251.5,-222.607 258.5,-222.607\" stroke=\"black\"/>\n</g>\n<!-- 140710879755512 -->\n<g class=\"node\" id=\"node10\"><title>140710879755512</title>\n<polygon fill=\"none\" points=\"18,-83.5 18,-129.5 492,-129.5 492,-83.5 18,-83.5\" stroke=\"black\"/>\n<text font-family=\"Times,serif\" font-size=\"14.00\" text-anchor=\"middle\" x=\"148\" y=\"-102.8\">up_sampling2d_2: UpSampling2D</text>\n<polyline fill=\"none\" points=\"278,-83.5 278,-129.5 \" stroke=\"black\"/>\n<text font-family=\"Times,serif\" font-size=\"14.00\" text-anchor=\"middle\" x=\"312\" y=\"-114.3\">input:</text>\n<polyline fill=\"none\" points=\"278,-106.5 346,-106.5 \" stroke=\"black\"/>\n<text font-family=\"Times,serif\" font-size=\"14.00\" text-anchor=\"middle\" x=\"312\" y=\"-91.3\">output:</text>\n<polyline fill=\"none\" points=\"346,-83.5 346,-129.5 \" stroke=\"black\"/>\n<text font-family=\"Times,serif\" font-size=\"14.00\" text-anchor=\"middle\" x=\"419\" y=\"-114.3\">(None, 64, 14, 14)</text>\n<polyline fill=\"none\" points=\"346,-106.5 492,-106.5 \" stroke=\"black\"/>\n<text font-family=\"Times,serif\" font-size=\"14.00\" text-anchor=\"middle\" x=\"419\" y=\"-91.3\">(None, 64, 28, 28)</text>\n</g>\n<!-- 140710879554024&#45;&gt;140710879755512 -->\n<g class=\"edge\" id=\"edge9\"><title>140710879554024-&gt;140710879755512</title>\n<path d=\"M255,-166.366C255,-158.152 255,-148.658 255,-139.725\" fill=\"none\" stroke=\"black\"/>\n<polygon fill=\"black\" points=\"258.5,-139.607 255,-129.607 251.5,-139.607 258.5,-139.607\" stroke=\"black\"/>\n</g>\n<!-- 140710879559520 -->\n<g class=\"node\" id=\"node11\"><title>140710879559520</title>\n<polygon fill=\"none\" points=\"72.5,-0.5 72.5,-46.5 437.5,-46.5 437.5,-0.5 72.5,-0.5\" stroke=\"black\"/>\n<text font-family=\"Times,serif\" font-size=\"14.00\" text-anchor=\"middle\" x=\"148\" y=\"-19.8\">conv2d_4: Conv2D</text>\n<polyline fill=\"none\" points=\"223.5,-0.5 223.5,-46.5 \" stroke=\"black\"/>\n<text font-family=\"Times,serif\" font-size=\"14.00\" text-anchor=\"middle\" x=\"257.5\" y=\"-31.3\">input:</text>\n<polyline fill=\"none\" points=\"223.5,-23.5 291.5,-23.5 \" stroke=\"black\"/>\n<text font-family=\"Times,serif\" font-size=\"14.00\" text-anchor=\"middle\" x=\"257.5\" y=\"-8.3\">output:</text>\n<polyline fill=\"none\" points=\"291.5,-0.5 291.5,-46.5 \" stroke=\"black\"/>\n<text font-family=\"Times,serif\" font-size=\"14.00\" text-anchor=\"middle\" x=\"364.5\" y=\"-31.3\">(None, 64, 28, 28)</text>\n<polyline fill=\"none\" points=\"291.5,-23.5 437.5,-23.5 \" stroke=\"black\"/>\n<text font-family=\"Times,serif\" font-size=\"14.00\" text-anchor=\"middle\" x=\"364.5\" y=\"-8.3\">(None, 1, 28, 28)</text>\n</g>\n<!-- 140710879755512&#45;&gt;140710879559520 -->\n<g class=\"edge\" id=\"edge10\"><title>140710879755512-&gt;140710879559520</title>\n<path d=\"M255,-83.3664C255,-75.1516 255,-65.6579 255,-56.7252\" fill=\"none\" stroke=\"black\"/>\n<polygon fill=\"black\" points=\"258.5,-56.6068 255,-46.6068 251.5,-56.6069 258.5,-56.6068\" stroke=\"black\"/>\n</g>\n</g>\n</svg>"
          },
          "metadata": {
            "tags": []
          },
          "execution_count": 4
        }
      ]
    },
    {
      "cell_type": "code",
      "metadata": {
        "id": "Rg5SNjCKCjLz"
      },
      "source": [
        ""
      ],
      "execution_count": null,
      "outputs": []
    }
  ]
}